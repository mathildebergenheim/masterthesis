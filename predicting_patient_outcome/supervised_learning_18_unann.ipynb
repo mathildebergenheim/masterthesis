{
 "cells": [
  {
   "cell_type": "code",
   "execution_count": 2,
   "metadata": {},
   "outputs": [],
   "source": [
    "import numpy as np\n",
    "import pandas as pd\n",
    "from sklearn.ensemble import RandomForestClassifier\n",
    "from sklearn.model_selection import GridSearchCV, LeaveOneOut, KFold\n",
    "from sklearn.metrics import accuracy_score\n",
    "from sklearn.metrics import f1_score"
   ]
  },
  {
   "cell_type": "code",
   "execution_count": 54,
   "metadata": {},
   "outputs": [
    {
     "data": {
      "text/html": [
       "<div>\n",
       "<style scoped>\n",
       "    .dataframe tbody tr th:only-of-type {\n",
       "        vertical-align: middle;\n",
       "    }\n",
       "\n",
       "    .dataframe tbody tr th {\n",
       "        vertical-align: top;\n",
       "    }\n",
       "\n",
       "    .dataframe thead th {\n",
       "        text-align: right;\n",
       "    }\n",
       "</style>\n",
       "<table border=\"1\" class=\"dataframe\">\n",
       "  <thead>\n",
       "    <tr style=\"text-align: right;\">\n",
       "      <th></th>\n",
       "      <th>patient_number</th>\n",
       "      <th>MR4</th>\n",
       "    </tr>\n",
       "  </thead>\n",
       "  <tbody>\n",
       "    <tr>\n",
       "      <th>0</th>\n",
       "      <td>01</td>\n",
       "      <td>1</td>\n",
       "    </tr>\n",
       "    <tr>\n",
       "      <th>1</th>\n",
       "      <td>02</td>\n",
       "      <td>1</td>\n",
       "    </tr>\n",
       "    <tr>\n",
       "      <th>2</th>\n",
       "      <td>03</td>\n",
       "      <td>0</td>\n",
       "    </tr>\n",
       "    <tr>\n",
       "      <th>3</th>\n",
       "      <td>04</td>\n",
       "      <td>0</td>\n",
       "    </tr>\n",
       "    <tr>\n",
       "      <th>4</th>\n",
       "      <td>05</td>\n",
       "      <td>0</td>\n",
       "    </tr>\n",
       "    <tr>\n",
       "      <th>5</th>\n",
       "      <td>06</td>\n",
       "      <td>0</td>\n",
       "    </tr>\n",
       "    <tr>\n",
       "      <th>6</th>\n",
       "      <td>07</td>\n",
       "      <td>1</td>\n",
       "    </tr>\n",
       "    <tr>\n",
       "      <th>7</th>\n",
       "      <td>08</td>\n",
       "      <td>0</td>\n",
       "    </tr>\n",
       "    <tr>\n",
       "      <th>8</th>\n",
       "      <td>09</td>\n",
       "      <td>0</td>\n",
       "    </tr>\n",
       "    <tr>\n",
       "      <th>9</th>\n",
       "      <td>11</td>\n",
       "      <td>1</td>\n",
       "    </tr>\n",
       "    <tr>\n",
       "      <th>10</th>\n",
       "      <td>12</td>\n",
       "      <td>0</td>\n",
       "    </tr>\n",
       "    <tr>\n",
       "      <th>11</th>\n",
       "      <td>13</td>\n",
       "      <td>0</td>\n",
       "    </tr>\n",
       "    <tr>\n",
       "      <th>12</th>\n",
       "      <td>14</td>\n",
       "      <td>1</td>\n",
       "    </tr>\n",
       "    <tr>\n",
       "      <th>13</th>\n",
       "      <td>15</td>\n",
       "      <td>0</td>\n",
       "    </tr>\n",
       "    <tr>\n",
       "      <th>14</th>\n",
       "      <td>16</td>\n",
       "      <td>0</td>\n",
       "    </tr>\n",
       "    <tr>\n",
       "      <th>15</th>\n",
       "      <td>17</td>\n",
       "      <td>1</td>\n",
       "    </tr>\n",
       "    <tr>\n",
       "      <th>16</th>\n",
       "      <td>18</td>\n",
       "      <td>0</td>\n",
       "    </tr>\n",
       "    <tr>\n",
       "      <th>17</th>\n",
       "      <td>20</td>\n",
       "      <td>1</td>\n",
       "    </tr>\n",
       "    <tr>\n",
       "      <th>18</th>\n",
       "      <td>21</td>\n",
       "      <td>1</td>\n",
       "    </tr>\n",
       "    <tr>\n",
       "      <th>19</th>\n",
       "      <td>22</td>\n",
       "      <td>1</td>\n",
       "    </tr>\n",
       "    <tr>\n",
       "      <th>20</th>\n",
       "      <td>23</td>\n",
       "      <td>0</td>\n",
       "    </tr>\n",
       "    <tr>\n",
       "      <th>21</th>\n",
       "      <td>24</td>\n",
       "      <td>0</td>\n",
       "    </tr>\n",
       "    <tr>\n",
       "      <th>22</th>\n",
       "      <td>25</td>\n",
       "      <td>1</td>\n",
       "    </tr>\n",
       "    <tr>\n",
       "      <th>23</th>\n",
       "      <td>26</td>\n",
       "      <td>1</td>\n",
       "    </tr>\n",
       "    <tr>\n",
       "      <th>24</th>\n",
       "      <td>27</td>\n",
       "      <td>1</td>\n",
       "    </tr>\n",
       "    <tr>\n",
       "      <th>25</th>\n",
       "      <td>28</td>\n",
       "      <td>1</td>\n",
       "    </tr>\n",
       "    <tr>\n",
       "      <th>26</th>\n",
       "      <td>29</td>\n",
       "      <td>0</td>\n",
       "    </tr>\n",
       "    <tr>\n",
       "      <th>27</th>\n",
       "      <td>32</td>\n",
       "      <td>0</td>\n",
       "    </tr>\n",
       "    <tr>\n",
       "      <th>28</th>\n",
       "      <td>33</td>\n",
       "      <td>1</td>\n",
       "    </tr>\n",
       "    <tr>\n",
       "      <th>29</th>\n",
       "      <td>34</td>\n",
       "      <td>0</td>\n",
       "    </tr>\n",
       "    <tr>\n",
       "      <th>30</th>\n",
       "      <td>35</td>\n",
       "      <td>1</td>\n",
       "    </tr>\n",
       "    <tr>\n",
       "      <th>31</th>\n",
       "      <td>36</td>\n",
       "      <td>1</td>\n",
       "    </tr>\n",
       "    <tr>\n",
       "      <th>32</th>\n",
       "      <td>37</td>\n",
       "      <td>0</td>\n",
       "    </tr>\n",
       "    <tr>\n",
       "      <th>33</th>\n",
       "      <td>38</td>\n",
       "      <td>1</td>\n",
       "    </tr>\n",
       "  </tbody>\n",
       "</table>\n",
       "</div>"
      ],
      "text/plain": [
       "   patient_number  MR4\n",
       "0              01    1\n",
       "1              02    1\n",
       "2              03    0\n",
       "3              04    0\n",
       "4              05    0\n",
       "5              06    0\n",
       "6              07    1\n",
       "7              08    0\n",
       "8              09    0\n",
       "9              11    1\n",
       "10             12    0\n",
       "11             13    0\n",
       "12             14    1\n",
       "13             15    0\n",
       "14             16    0\n",
       "15             17    1\n",
       "16             18    0\n",
       "17             20    1\n",
       "18             21    1\n",
       "19             22    1\n",
       "20             23    0\n",
       "21             24    0\n",
       "22             25    1\n",
       "23             26    1\n",
       "24             27    1\n",
       "25             28    1\n",
       "26             29    0\n",
       "27             32    0\n",
       "28             33    1\n",
       "29             34    0\n",
       "30             35    1\n",
       "31             36    1\n",
       "32             37    0\n",
       "33             38    1"
      ]
     },
     "execution_count": 54,
     "metadata": {},
     "output_type": "execute_result"
    }
   ],
   "source": [
    "\n",
    "data = pd.read_pickle('../create_SL_data/data_18months_ua.pkl')\n",
    "\n",
    "data[['patient_number', 'MR4']]"
   ]
  },
  {
   "cell_type": "code",
   "execution_count": 4,
   "metadata": {},
   "outputs": [
    {
     "data": {
      "text/plain": [
       "array(['01', '02', '03', '04', '05', '06', '07', '08', '09', '11', '12',\n",
       "       '13', '14', '15', '16', '17', '18', '20', '21', '22', '23', '24',\n",
       "       '25', '26', '27', '28', '29', '32', '33', '34', '35', '36', '37',\n",
       "       '38'], dtype=object)"
      ]
     },
     "execution_count": 4,
     "metadata": {},
     "output_type": "execute_result"
    }
   ],
   "source": [
    "data['patient_number'].unique()"
   ]
  },
  {
   "cell_type": "code",
   "execution_count": 5,
   "metadata": {},
   "outputs": [],
   "source": [
    "X = data.drop(['MR4', 'patient_number'], axis=1)  \n",
    "y = data['MR4']                                  \n",
    "\n",
    "patient_numbers = data['patient_number']\n"
   ]
  },
  {
   "cell_type": "markdown",
   "metadata": {},
   "source": [
    "## Leave one out nested cross validation"
   ]
  },
  {
   "cell_type": "code",
   "execution_count": 24,
   "metadata": {},
   "outputs": [
    {
     "name": "stdout",
     "output_type": "stream",
     "text": [
      "fold 0\n",
      "fold 1\n",
      "fold 2\n",
      "fold 3\n",
      "fold 4\n",
      "fold 5\n",
      "fold 6\n",
      "fold 7\n",
      "fold 8\n",
      "fold 9\n",
      "fold 10\n",
      "fold 11\n",
      "fold 12\n",
      "fold 13\n",
      "fold 14\n",
      "fold 15\n",
      "fold 16\n",
      "fold 17\n",
      "fold 18\n",
      "fold 19\n",
      "fold 20\n",
      "fold 21\n",
      "fold 22\n",
      "fold 23\n",
      "fold 24\n",
      "fold 25\n",
      "fold 26\n",
      "fold 27\n",
      "fold 28\n",
      "fold 29\n",
      "fold 30\n",
      "fold 31\n",
      "fold 32\n",
      "fold 33\n",
      "RandomForest Results:\n",
      "Average F1 Score: 0.4117647058823529\n",
      "Average Accuracy: 0.4117647058823529\n",
      "Best Parameters: {'max_depth': 3, 'max_features': 'sqrt', 'n_estimators': 100}\n",
      "Feature Importances: 90th_158Gd_pSTAT3 Y705_3h_cluster_20                   0.010360\n",
      "90th_144Nd_pTyr_3h_cluster_25                          0.010016\n",
      "q90_difference_pre_3h_cluster_27_144Nd_pTyr            0.009612\n",
      "90th_151Eu_pSTAT3 S727_3h_cluster_26                   0.008578\n",
      "q90_difference_pre_3h_cluster_6_171Yb_pERK_T202Y204    0.008387\n",
      "                                                         ...   \n",
      "q90_difference_pre_3h_cluster_19_173Yb_STAT3tot        0.000000\n",
      "90th_170Er_pSRC Y418_3h_cluster_21                     0.000000\n",
      "90th_153Eu_pSTAT1 Y701_pre_cluster_5                   0.000000\n",
      "90th_170Er_pSRC Y418_3h_cluster_22                     0.000000\n",
      "q90_difference_pre_3h_cluster_9_173Yb_STAT3tot         0.000000\n",
      "Length: 2156, dtype: float64\n",
      "KNN Results:\n",
      "Average F1 Score: 0.38235294117647056\n",
      "Average Accuracy: 0.38235294117647056\n",
      "Best Parameters: {'n_neighbors': 3, 'weights': 'uniform'}\n",
      "LogisticRegression Results:\n",
      "Average F1 Score: 0.38235294117647056\n",
      "Average Accuracy: 0.38235294117647056\n",
      "Best Parameters: {'C': 0.1, 'solver': 'liblinear'}\n",
      "LDA Results:\n",
      "Average F1 Score: 0.5\n",
      "Average Accuracy: 0.5\n",
      "Best Parameters: {'solver': 'lsqr'}\n"
     ]
    }
   ],
   "source": [
    "import numpy as np\n",
    "import pandas as pd\n",
    "from sklearn.ensemble import RandomForestClassifier\n",
    "from sklearn.neighbors import KNeighborsClassifier\n",
    "from sklearn.linear_model import LogisticRegression\n",
    "from sklearn.discriminant_analysis import LinearDiscriminantAnalysis\n",
    "from sklearn.model_selection import LeaveOneOut, GridSearchCV\n",
    "from sklearn.metrics import f1_score, accuracy_score\n",
    "\n",
    "models = {\n",
    "    'RandomForest': {\n",
    "        'model': RandomForestClassifier(random_state=42),\n",
    "        'params': {'n_estimators': [50, 100, 200, 300, 500], 'max_depth': [3, 5, 10, 50], 'max_features' : ['sqrt', None]}\n",
    "\n",
    "    },\n",
    "    'KNN': {\n",
    "        'model': KNeighborsClassifier(),\n",
    "        'params': {'n_neighbors': [3, 5, 7, 10], 'weights': ['uniform', 'distance']}\n",
    "    },\n",
    "    'LogisticRegression': {\n",
    "        'model': LogisticRegression(random_state=42, max_iter=1000),\n",
    "        'params': {'C': [0.1, 1, 10], 'solver': ['liblinear', 'lbfgs']}\n",
    "    },\n",
    "    'LDA': {\n",
    "        'model': LinearDiscriminantAnalysis(),\n",
    "        'params': {'solver': ['svd', 'lsqr']}\n",
    "    }\n",
    "}\n",
    "\n",
    "feature_importances = {name: pd.DataFrame(np.zeros((X.shape[0], X.shape[1])), columns=X.columns) for name in models if name == 'RandomForest'}\n",
    "scores = {name: {'f1_scores': [], 'accuracy_scores': [], 'best_params': []} for name in models}\n",
    "\n",
    "outer_cv = LeaveOneOut()\n",
    "inner_cv = LeaveOneOut()\n",
    "\n",
    "for fold_idx, (train_idx, test_idx) in enumerate(outer_cv.split(X)):\n",
    "    X_train, X_test = X.iloc[train_idx], X.iloc[test_idx]\n",
    "    y_train, y_test = y[train_idx], y[test_idx]\n",
    "\n",
    "    for name, config in models.items():\n",
    "        grid_search = GridSearchCV(config['model'], config['params'], cv=inner_cv, scoring='accuracy')\n",
    "        grid_search.fit(X_train, y_train)\n",
    "        best_model = grid_search.best_estimator_\n",
    "        \n",
    "        y_pred = best_model.predict(X_test)\n",
    "        f1 = f1_score(y_test, y_pred, average='macro', zero_division=0)\n",
    "        accuracy = accuracy_score(y_test, y_pred)\n",
    "\n",
    "        scores[name]['f1_scores'].append(f1)\n",
    "        scores[name]['accuracy_scores'].append(accuracy)\n",
    "        scores[name]['best_params'].append(grid_search.best_params_)\n",
    "\n",
    "        if name == 'RandomForest':\n",
    "            feature_importances[name].iloc[fold_idx, :] = best_model.feature_importances_\n",
    "        \n",
    "    print('fold', fold_idx)\n",
    "\n",
    "results = {}\n",
    "for name in models:\n",
    "    average_f1 = np.mean(scores[name]['f1_scores'])\n",
    "    average_accuracy = np.mean(scores[name]['accuracy_scores'])\n",
    "    results[name] = {'Average F1 Score': average_f1, 'Average Accuracy': average_accuracy, 'Best Parameters': scores[name]['best_params'][-1]}\n",
    "\n",
    "    if name == 'RandomForest':\n",
    "        mean_fi = feature_importances[name].mean(axis=0).sort_values(ascending=False)\n",
    "        results[name]['Feature Importances'] = mean_fi\n",
    "\n",
    "for name, result in results.items():\n",
    "    print(f\"{name} Results:\")\n",
    "    for key, value in result.items():\n",
    "        print(f\"{key}: {value}\")\n"
   ]
  },
  {
   "cell_type": "code",
   "execution_count": 44,
   "metadata": {},
   "outputs": [
    {
     "data": {
      "text/html": [
       "<div>\n",
       "<style scoped>\n",
       "    .dataframe tbody tr th:only-of-type {\n",
       "        vertical-align: middle;\n",
       "    }\n",
       "\n",
       "    .dataframe tbody tr th {\n",
       "        vertical-align: top;\n",
       "    }\n",
       "\n",
       "    .dataframe thead th {\n",
       "        text-align: right;\n",
       "    }\n",
       "</style>\n",
       "<table border=\"1\" class=\"dataframe\">\n",
       "  <thead>\n",
       "    <tr style=\"text-align: right;\">\n",
       "      <th></th>\n",
       "      <th>Feature</th>\n",
       "      <th>Importance</th>\n",
       "      <th>Absolute Importance</th>\n",
       "    </tr>\n",
       "  </thead>\n",
       "  <tbody>\n",
       "    <tr>\n",
       "      <th>494</th>\n",
       "      <td>90th_142Nd_cCaspase3_3h_cluster_18</td>\n",
       "      <td>0.265054</td>\n",
       "      <td>0.265054</td>\n",
       "    </tr>\n",
       "    <tr>\n",
       "      <th>824</th>\n",
       "      <td>90th_172Yb_pS6 S235S236_3h_cluster_12</td>\n",
       "      <td>0.252507</td>\n",
       "      <td>0.252507</td>\n",
       "    </tr>\n",
       "    <tr>\n",
       "      <th>826</th>\n",
       "      <td>90th_172Yb_pS6 S235S236_3h_cluster_14</td>\n",
       "      <td>0.235535</td>\n",
       "      <td>0.235535</td>\n",
       "    </tr>\n",
       "    <tr>\n",
       "      <th>1596</th>\n",
       "      <td>q90_difference_pre_3h_cluster_0_172Yb_pS6_S235...</td>\n",
       "      <td>0.226756</td>\n",
       "      <td>0.226756</td>\n",
       "    </tr>\n",
       "    <tr>\n",
       "      <th>1606</th>\n",
       "      <td>q90_difference_pre_3h_cluster_10_172Yb_pS6_S23...</td>\n",
       "      <td>0.210826</td>\n",
       "      <td>0.210826</td>\n",
       "    </tr>\n",
       "    <tr>\n",
       "      <th>1608</th>\n",
       "      <td>q90_difference_pre_3h_cluster_12_172Yb_pS6_S23...</td>\n",
       "      <td>0.204043</td>\n",
       "      <td>0.204043</td>\n",
       "    </tr>\n",
       "    <tr>\n",
       "      <th>413</th>\n",
       "      <td>90th_172Yb_pS6 S235S236_pre_cluster_21</td>\n",
       "      <td>-0.203092</td>\n",
       "      <td>0.203092</td>\n",
       "    </tr>\n",
       "    <tr>\n",
       "      <th>830</th>\n",
       "      <td>90th_172Yb_pS6 S235S236_3h_cluster_18</td>\n",
       "      <td>0.191092</td>\n",
       "      <td>0.191092</td>\n",
       "    </tr>\n",
       "    <tr>\n",
       "      <th>2032</th>\n",
       "      <td>q90_difference_pre_7d_cluster_16_172Yb_pS6_S23...</td>\n",
       "      <td>0.186890</td>\n",
       "      <td>0.186890</td>\n",
       "    </tr>\n",
       "    <tr>\n",
       "      <th>1604</th>\n",
       "      <td>q90_difference_pre_3h_cluster_8_172Yb_pS6_S235...</td>\n",
       "      <td>0.183559</td>\n",
       "      <td>0.183559</td>\n",
       "    </tr>\n",
       "    <tr>\n",
       "      <th>828</th>\n",
       "      <td>90th_172Yb_pS6 S235S236_3h_cluster_16</td>\n",
       "      <td>-0.183038</td>\n",
       "      <td>0.183038</td>\n",
       "    </tr>\n",
       "    <tr>\n",
       "      <th>1610</th>\n",
       "      <td>q90_difference_pre_3h_cluster_14_172Yb_pS6_S23...</td>\n",
       "      <td>0.182306</td>\n",
       "      <td>0.182306</td>\n",
       "    </tr>\n",
       "    <tr>\n",
       "      <th>1635</th>\n",
       "      <td>q90_difference_pre_3h_cluster_11_150Nd_pSTAT5_...</td>\n",
       "      <td>-0.180395</td>\n",
       "      <td>0.180395</td>\n",
       "    </tr>\n",
       "    <tr>\n",
       "      <th>578</th>\n",
       "      <td>90th_150Nd_pSTAT5 Y694_3h_cluster_18</td>\n",
       "      <td>0.177169</td>\n",
       "      <td>0.177169</td>\n",
       "    </tr>\n",
       "    <tr>\n",
       "      <th>1718</th>\n",
       "      <td>q90_difference_pre_3h_cluster_10_158Gd_pSTAT3_...</td>\n",
       "      <td>0.172085</td>\n",
       "      <td>0.172085</td>\n",
       "    </tr>\n",
       "    <tr>\n",
       "      <th>1597</th>\n",
       "      <td>q90_difference_pre_3h_cluster_1_172Yb_pS6_S235...</td>\n",
       "      <td>0.168186</td>\n",
       "      <td>0.168186</td>\n",
       "    </tr>\n",
       "    <tr>\n",
       "      <th>1237</th>\n",
       "      <td>90th_172Yb_pS6 S235S236_7d_cluster_5</td>\n",
       "      <td>-0.165289</td>\n",
       "      <td>0.165289</td>\n",
       "    </tr>\n",
       "    <tr>\n",
       "      <th>2009</th>\n",
       "      <td>q90_difference_pre_7d_cluster_21_142Nd_cCaspase3</td>\n",
       "      <td>-0.160889</td>\n",
       "      <td>0.160889</td>\n",
       "    </tr>\n",
       "    <tr>\n",
       "      <th>1248</th>\n",
       "      <td>90th_172Yb_pS6 S235S236_7d_cluster_16</td>\n",
       "      <td>0.139446</td>\n",
       "      <td>0.139446</td>\n",
       "    </tr>\n",
       "    <tr>\n",
       "      <th>802</th>\n",
       "      <td>90th_171Yb_pERK T202Y204_3h_cluster_18</td>\n",
       "      <td>0.139121</td>\n",
       "      <td>0.139121</td>\n",
       "    </tr>\n",
       "    <tr>\n",
       "      <th>1412</th>\n",
       "      <td>q90_difference_pre_3h_cluster_12_151Eu_pSTAT3_...</td>\n",
       "      <td>0.138976</td>\n",
       "      <td>0.138976</td>\n",
       "    </tr>\n",
       "    <tr>\n",
       "      <th>817</th>\n",
       "      <td>90th_172Yb_pS6 S235S236_3h_cluster_5</td>\n",
       "      <td>-0.137064</td>\n",
       "      <td>0.137064</td>\n",
       "    </tr>\n",
       "    <tr>\n",
       "      <th>1235</th>\n",
       "      <td>90th_172Yb_pS6 S235S236_7d_cluster_3</td>\n",
       "      <td>-0.134777</td>\n",
       "      <td>0.134777</td>\n",
       "    </tr>\n",
       "    <tr>\n",
       "      <th>886</th>\n",
       "      <td>90th_176Yb_pS6 S240244_3h_cluster_18</td>\n",
       "      <td>0.132946</td>\n",
       "      <td>0.132946</td>\n",
       "    </tr>\n",
       "    <tr>\n",
       "      <th>1444</th>\n",
       "      <td>q90_difference_pre_3h_cluster_16_171Yb_pERK_T2...</td>\n",
       "      <td>0.128804</td>\n",
       "      <td>0.128804</td>\n",
       "    </tr>\n",
       "    <tr>\n",
       "      <th>1442</th>\n",
       "      <td>q90_difference_pre_3h_cluster_14_171Yb_pERK_T2...</td>\n",
       "      <td>-0.125726</td>\n",
       "      <td>0.125726</td>\n",
       "    </tr>\n",
       "    <tr>\n",
       "      <th>77</th>\n",
       "      <td>90th_142Nd_cCaspase3_pre_cluster_21</td>\n",
       "      <td>0.123258</td>\n",
       "      <td>0.123258</td>\n",
       "    </tr>\n",
       "    <tr>\n",
       "      <th>604</th>\n",
       "      <td>90th_151Eu_pSTAT3 S727_3h_cluster_16</td>\n",
       "      <td>-0.122016</td>\n",
       "      <td>0.122016</td>\n",
       "    </tr>\n",
       "    <tr>\n",
       "      <th>1420</th>\n",
       "      <td>q90_difference_pre_3h_cluster_20_151Eu_pSTAT3_...</td>\n",
       "      <td>0.120803</td>\n",
       "      <td>0.120803</td>\n",
       "    </tr>\n",
       "    <tr>\n",
       "      <th>397</th>\n",
       "      <td>90th_172Yb_pS6 S235S236_pre_cluster_5</td>\n",
       "      <td>-0.119415</td>\n",
       "      <td>0.119415</td>\n",
       "    </tr>\n",
       "  </tbody>\n",
       "</table>\n",
       "</div>"
      ],
      "text/plain": [
       "                                                Feature  Importance  \\\n",
       "494                  90th_142Nd_cCaspase3_3h_cluster_18    0.265054   \n",
       "824               90th_172Yb_pS6 S235S236_3h_cluster_12    0.252507   \n",
       "826               90th_172Yb_pS6 S235S236_3h_cluster_14    0.235535   \n",
       "1596  q90_difference_pre_3h_cluster_0_172Yb_pS6_S235...    0.226756   \n",
       "1606  q90_difference_pre_3h_cluster_10_172Yb_pS6_S23...    0.210826   \n",
       "1608  q90_difference_pre_3h_cluster_12_172Yb_pS6_S23...    0.204043   \n",
       "413              90th_172Yb_pS6 S235S236_pre_cluster_21   -0.203092   \n",
       "830               90th_172Yb_pS6 S235S236_3h_cluster_18    0.191092   \n",
       "2032  q90_difference_pre_7d_cluster_16_172Yb_pS6_S23...    0.186890   \n",
       "1604  q90_difference_pre_3h_cluster_8_172Yb_pS6_S235...    0.183559   \n",
       "828               90th_172Yb_pS6 S235S236_3h_cluster_16   -0.183038   \n",
       "1610  q90_difference_pre_3h_cluster_14_172Yb_pS6_S23...    0.182306   \n",
       "1635  q90_difference_pre_3h_cluster_11_150Nd_pSTAT5_...   -0.180395   \n",
       "578                90th_150Nd_pSTAT5 Y694_3h_cluster_18    0.177169   \n",
       "1718  q90_difference_pre_3h_cluster_10_158Gd_pSTAT3_...    0.172085   \n",
       "1597  q90_difference_pre_3h_cluster_1_172Yb_pS6_S235...    0.168186   \n",
       "1237               90th_172Yb_pS6 S235S236_7d_cluster_5   -0.165289   \n",
       "2009   q90_difference_pre_7d_cluster_21_142Nd_cCaspase3   -0.160889   \n",
       "1248              90th_172Yb_pS6 S235S236_7d_cluster_16    0.139446   \n",
       "802              90th_171Yb_pERK T202Y204_3h_cluster_18    0.139121   \n",
       "1412  q90_difference_pre_3h_cluster_12_151Eu_pSTAT3_...    0.138976   \n",
       "817                90th_172Yb_pS6 S235S236_3h_cluster_5   -0.137064   \n",
       "1235               90th_172Yb_pS6 S235S236_7d_cluster_3   -0.134777   \n",
       "886                90th_176Yb_pS6 S240244_3h_cluster_18    0.132946   \n",
       "1444  q90_difference_pre_3h_cluster_16_171Yb_pERK_T2...    0.128804   \n",
       "1442  q90_difference_pre_3h_cluster_14_171Yb_pERK_T2...   -0.125726   \n",
       "77                  90th_142Nd_cCaspase3_pre_cluster_21    0.123258   \n",
       "604                90th_151Eu_pSTAT3 S727_3h_cluster_16   -0.122016   \n",
       "1420  q90_difference_pre_3h_cluster_20_151Eu_pSTAT3_...    0.120803   \n",
       "397               90th_172Yb_pS6 S235S236_pre_cluster_5   -0.119415   \n",
       "\n",
       "      Absolute Importance  \n",
       "494              0.265054  \n",
       "824              0.252507  \n",
       "826              0.235535  \n",
       "1596             0.226756  \n",
       "1606             0.210826  \n",
       "1608             0.204043  \n",
       "413              0.203092  \n",
       "830              0.191092  \n",
       "2032             0.186890  \n",
       "1604             0.183559  \n",
       "828              0.183038  \n",
       "1610             0.182306  \n",
       "1635             0.180395  \n",
       "578              0.177169  \n",
       "1718             0.172085  \n",
       "1597             0.168186  \n",
       "1237             0.165289  \n",
       "2009             0.160889  \n",
       "1248             0.139446  \n",
       "802              0.139121  \n",
       "1412             0.138976  \n",
       "817              0.137064  \n",
       "1235             0.134777  \n",
       "886              0.132946  \n",
       "1444             0.128804  \n",
       "1442             0.125726  \n",
       "77               0.123258  \n",
       "604              0.122016  \n",
       "1420             0.120803  \n",
       "397              0.119415  "
      ]
     },
     "execution_count": 44,
     "metadata": {},
     "output_type": "execute_result"
    }
   ],
   "source": [
    "from sklearn.discriminant_analysis import LinearDiscriminantAnalysis\n",
    "model1 = LinearDiscriminantAnalysis(solver='svd')\n",
    "model1.fit(X, y)\n",
    "\n",
    "coefficients = model1.coef_[0]  \n",
    "\n",
    "feature_importance = pd.DataFrame(data={'Feature': X.columns, 'Importance': coefficients})\n",
    "\n",
    "feature_importance['Absolute Importance'] = feature_importance['Importance'].abs()\n",
    "feature_importance = feature_importance.sort_values(by='Absolute Importance', ascending=False)\n",
    "\n",
    "feature_importance.head(30)"
   ]
  },
  {
   "cell_type": "code",
   "execution_count": 56,
   "metadata": {},
   "outputs": [
    {
     "data": {
      "text/plain": [
       "0.8235294117647058"
      ]
     },
     "execution_count": 56,
     "metadata": {},
     "output_type": "execute_result"
    }
   ],
   "source": [
    "model1.predict(X)\n",
    "\n",
    "model1.score(X, y)\n"
   ]
  },
  {
   "cell_type": "code",
   "execution_count": 55,
   "metadata": {},
   "outputs": [
    {
     "data": {
      "text/html": [
       "<div>\n",
       "<style scoped>\n",
       "    .dataframe tbody tr th:only-of-type {\n",
       "        vertical-align: middle;\n",
       "    }\n",
       "\n",
       "    .dataframe tbody tr th {\n",
       "        vertical-align: top;\n",
       "    }\n",
       "\n",
       "    .dataframe thead th {\n",
       "        text-align: right;\n",
       "    }\n",
       "</style>\n",
       "<table border=\"1\" class=\"dataframe\">\n",
       "  <thead>\n",
       "    <tr style=\"text-align: right;\">\n",
       "      <th></th>\n",
       "      <th>patient_number</th>\n",
       "      <th>MR4</th>\n",
       "      <th>pred</th>\n",
       "    </tr>\n",
       "  </thead>\n",
       "  <tbody>\n",
       "    <tr>\n",
       "      <th>0</th>\n",
       "      <td>01</td>\n",
       "      <td>1</td>\n",
       "      <td>1</td>\n",
       "    </tr>\n",
       "    <tr>\n",
       "      <th>1</th>\n",
       "      <td>02</td>\n",
       "      <td>1</td>\n",
       "      <td>1</td>\n",
       "    </tr>\n",
       "    <tr>\n",
       "      <th>2</th>\n",
       "      <td>03</td>\n",
       "      <td>0</td>\n",
       "      <td>0</td>\n",
       "    </tr>\n",
       "    <tr>\n",
       "      <th>3</th>\n",
       "      <td>04</td>\n",
       "      <td>0</td>\n",
       "      <td>0</td>\n",
       "    </tr>\n",
       "    <tr>\n",
       "      <th>4</th>\n",
       "      <td>05</td>\n",
       "      <td>0</td>\n",
       "      <td>0</td>\n",
       "    </tr>\n",
       "    <tr>\n",
       "      <th>5</th>\n",
       "      <td>06</td>\n",
       "      <td>0</td>\n",
       "      <td>0</td>\n",
       "    </tr>\n",
       "    <tr>\n",
       "      <th>6</th>\n",
       "      <td>07</td>\n",
       "      <td>1</td>\n",
       "      <td>1</td>\n",
       "    </tr>\n",
       "    <tr>\n",
       "      <th>7</th>\n",
       "      <td>08</td>\n",
       "      <td>0</td>\n",
       "      <td>0</td>\n",
       "    </tr>\n",
       "    <tr>\n",
       "      <th>8</th>\n",
       "      <td>09</td>\n",
       "      <td>0</td>\n",
       "      <td>1</td>\n",
       "    </tr>\n",
       "    <tr>\n",
       "      <th>9</th>\n",
       "      <td>11</td>\n",
       "      <td>1</td>\n",
       "      <td>0</td>\n",
       "    </tr>\n",
       "    <tr>\n",
       "      <th>10</th>\n",
       "      <td>12</td>\n",
       "      <td>0</td>\n",
       "      <td>0</td>\n",
       "    </tr>\n",
       "    <tr>\n",
       "      <th>11</th>\n",
       "      <td>13</td>\n",
       "      <td>0</td>\n",
       "      <td>0</td>\n",
       "    </tr>\n",
       "    <tr>\n",
       "      <th>12</th>\n",
       "      <td>14</td>\n",
       "      <td>1</td>\n",
       "      <td>1</td>\n",
       "    </tr>\n",
       "    <tr>\n",
       "      <th>13</th>\n",
       "      <td>15</td>\n",
       "      <td>0</td>\n",
       "      <td>0</td>\n",
       "    </tr>\n",
       "    <tr>\n",
       "      <th>14</th>\n",
       "      <td>16</td>\n",
       "      <td>0</td>\n",
       "      <td>0</td>\n",
       "    </tr>\n",
       "    <tr>\n",
       "      <th>15</th>\n",
       "      <td>17</td>\n",
       "      <td>1</td>\n",
       "      <td>1</td>\n",
       "    </tr>\n",
       "    <tr>\n",
       "      <th>16</th>\n",
       "      <td>18</td>\n",
       "      <td>0</td>\n",
       "      <td>0</td>\n",
       "    </tr>\n",
       "    <tr>\n",
       "      <th>17</th>\n",
       "      <td>20</td>\n",
       "      <td>1</td>\n",
       "      <td>1</td>\n",
       "    </tr>\n",
       "    <tr>\n",
       "      <th>18</th>\n",
       "      <td>21</td>\n",
       "      <td>1</td>\n",
       "      <td>1</td>\n",
       "    </tr>\n",
       "    <tr>\n",
       "      <th>19</th>\n",
       "      <td>22</td>\n",
       "      <td>1</td>\n",
       "      <td>1</td>\n",
       "    </tr>\n",
       "    <tr>\n",
       "      <th>20</th>\n",
       "      <td>23</td>\n",
       "      <td>0</td>\n",
       "      <td>1</td>\n",
       "    </tr>\n",
       "    <tr>\n",
       "      <th>21</th>\n",
       "      <td>24</td>\n",
       "      <td>0</td>\n",
       "      <td>1</td>\n",
       "    </tr>\n",
       "    <tr>\n",
       "      <th>22</th>\n",
       "      <td>25</td>\n",
       "      <td>1</td>\n",
       "      <td>1</td>\n",
       "    </tr>\n",
       "    <tr>\n",
       "      <th>23</th>\n",
       "      <td>26</td>\n",
       "      <td>1</td>\n",
       "      <td>1</td>\n",
       "    </tr>\n",
       "    <tr>\n",
       "      <th>24</th>\n",
       "      <td>27</td>\n",
       "      <td>1</td>\n",
       "      <td>1</td>\n",
       "    </tr>\n",
       "    <tr>\n",
       "      <th>25</th>\n",
       "      <td>28</td>\n",
       "      <td>1</td>\n",
       "      <td>1</td>\n",
       "    </tr>\n",
       "    <tr>\n",
       "      <th>26</th>\n",
       "      <td>29</td>\n",
       "      <td>0</td>\n",
       "      <td>0</td>\n",
       "    </tr>\n",
       "    <tr>\n",
       "      <th>27</th>\n",
       "      <td>32</td>\n",
       "      <td>0</td>\n",
       "      <td>0</td>\n",
       "    </tr>\n",
       "    <tr>\n",
       "      <th>28</th>\n",
       "      <td>33</td>\n",
       "      <td>1</td>\n",
       "      <td>1</td>\n",
       "    </tr>\n",
       "    <tr>\n",
       "      <th>29</th>\n",
       "      <td>34</td>\n",
       "      <td>0</td>\n",
       "      <td>0</td>\n",
       "    </tr>\n",
       "    <tr>\n",
       "      <th>30</th>\n",
       "      <td>35</td>\n",
       "      <td>1</td>\n",
       "      <td>0</td>\n",
       "    </tr>\n",
       "    <tr>\n",
       "      <th>31</th>\n",
       "      <td>36</td>\n",
       "      <td>1</td>\n",
       "      <td>0</td>\n",
       "    </tr>\n",
       "    <tr>\n",
       "      <th>32</th>\n",
       "      <td>37</td>\n",
       "      <td>0</td>\n",
       "      <td>0</td>\n",
       "    </tr>\n",
       "    <tr>\n",
       "      <th>33</th>\n",
       "      <td>38</td>\n",
       "      <td>1</td>\n",
       "      <td>1</td>\n",
       "    </tr>\n",
       "  </tbody>\n",
       "</table>\n",
       "</div>"
      ],
      "text/plain": [
       "   patient_number  MR4  pred\n",
       "0              01    1     1\n",
       "1              02    1     1\n",
       "2              03    0     0\n",
       "3              04    0     0\n",
       "4              05    0     0\n",
       "5              06    0     0\n",
       "6              07    1     1\n",
       "7              08    0     0\n",
       "8              09    0     1\n",
       "9              11    1     0\n",
       "10             12    0     0\n",
       "11             13    0     0\n",
       "12             14    1     1\n",
       "13             15    0     0\n",
       "14             16    0     0\n",
       "15             17    1     1\n",
       "16             18    0     0\n",
       "17             20    1     1\n",
       "18             21    1     1\n",
       "19             22    1     1\n",
       "20             23    0     1\n",
       "21             24    0     1\n",
       "22             25    1     1\n",
       "23             26    1     1\n",
       "24             27    1     1\n",
       "25             28    1     1\n",
       "26             29    0     0\n",
       "27             32    0     0\n",
       "28             33    1     1\n",
       "29             34    0     0\n",
       "30             35    1     0\n",
       "31             36    1     0\n",
       "32             37    0     0\n",
       "33             38    1     1"
      ]
     },
     "execution_count": 55,
     "metadata": {},
     "output_type": "execute_result"
    }
   ],
   "source": [
    "data['pred'] = model1.predict(X)\n",
    "\n",
    "data[['patient_number', 'MR4', 'pred']]"
   ]
  },
  {
   "cell_type": "code",
   "execution_count": 8,
   "metadata": {},
   "outputs": [
    {
     "data": {
      "text/html": [
       "<div>\n",
       "<style scoped>\n",
       "    .dataframe tbody tr th:only-of-type {\n",
       "        vertical-align: middle;\n",
       "    }\n",
       "\n",
       "    .dataframe tbody tr th {\n",
       "        vertical-align: top;\n",
       "    }\n",
       "\n",
       "    .dataframe thead th {\n",
       "        text-align: right;\n",
       "    }\n",
       "</style>\n",
       "<table border=\"1\" class=\"dataframe\">\n",
       "  <thead>\n",
       "    <tr style=\"text-align: right;\">\n",
       "      <th></th>\n",
       "      <th>patient_number</th>\n",
       "      <th>cluster_0_size-diff%_pre_to_3h</th>\n",
       "      <th>cluster_1_size-diff%_pre_to_3h</th>\n",
       "      <th>cluster_2_size-diff%_pre_to_3h</th>\n",
       "      <th>cluster_3_size-diff%_pre_to_3h</th>\n",
       "      <th>cluster_4_size-diff%_pre_to_3h</th>\n",
       "      <th>cluster_5_size-diff%_pre_to_3h</th>\n",
       "      <th>cluster_6_size-diff%_pre_to_3h</th>\n",
       "      <th>cluster_7_size-diff%_pre_to_3h</th>\n",
       "      <th>cluster_8_size-diff%_pre_to_3h</th>\n",
       "      <th>...</th>\n",
       "      <th>q90_difference_pre_7d_cluster_19_158Gd_pSTAT3_Y705</th>\n",
       "      <th>q90_difference_pre_7d_cluster_20_158Gd_pSTAT3_Y705</th>\n",
       "      <th>q90_difference_pre_7d_cluster_21_158Gd_pSTAT3_Y705</th>\n",
       "      <th>q90_difference_pre_7d_cluster_22_158Gd_pSTAT3_Y705</th>\n",
       "      <th>q90_difference_pre_7d_cluster_23_158Gd_pSTAT3_Y705</th>\n",
       "      <th>q90_difference_pre_7d_cluster_24_158Gd_pSTAT3_Y705</th>\n",
       "      <th>q90_difference_pre_7d_cluster_25_158Gd_pSTAT3_Y705</th>\n",
       "      <th>q90_difference_pre_7d_cluster_26_158Gd_pSTAT3_Y705</th>\n",
       "      <th>q90_difference_pre_7d_cluster_27_158Gd_pSTAT3_Y705</th>\n",
       "      <th>MR4</th>\n",
       "    </tr>\n",
       "  </thead>\n",
       "  <tbody>\n",
       "    <tr>\n",
       "      <th>0</th>\n",
       "      <td>39</td>\n",
       "      <td>16.416486</td>\n",
       "      <td>-15.258162</td>\n",
       "      <td>-12.704969</td>\n",
       "      <td>39.847785</td>\n",
       "      <td>-47.416215</td>\n",
       "      <td>29.832593</td>\n",
       "      <td>-40.430970</td>\n",
       "      <td>-6.462319</td>\n",
       "      <td>-20.090784</td>\n",
       "      <td>...</td>\n",
       "      <td>-0.034750</td>\n",
       "      <td>0.229687</td>\n",
       "      <td>0.626132</td>\n",
       "      <td>-0.143142</td>\n",
       "      <td>0.269882</td>\n",
       "      <td>0.127092</td>\n",
       "      <td>-0.414868</td>\n",
       "      <td>-0.162613</td>\n",
       "      <td>0.344658</td>\n",
       "      <td>1</td>\n",
       "    </tr>\n",
       "    <tr>\n",
       "      <th>1</th>\n",
       "      <td>40</td>\n",
       "      <td>33.697411</td>\n",
       "      <td>-38.098859</td>\n",
       "      <td>-33.756878</td>\n",
       "      <td>-16.572408</td>\n",
       "      <td>151.489844</td>\n",
       "      <td>5.337323</td>\n",
       "      <td>21.767160</td>\n",
       "      <td>37.769784</td>\n",
       "      <td>108.013309</td>\n",
       "      <td>...</td>\n",
       "      <td>0.162496</td>\n",
       "      <td>0.146796</td>\n",
       "      <td>0.336546</td>\n",
       "      <td>0.141476</td>\n",
       "      <td>0.291373</td>\n",
       "      <td>0.019660</td>\n",
       "      <td>0.473581</td>\n",
       "      <td>0.296404</td>\n",
       "      <td>0.200563</td>\n",
       "      <td>0</td>\n",
       "    </tr>\n",
       "    <tr>\n",
       "      <th>2</th>\n",
       "      <td>41</td>\n",
       "      <td>75.056549</td>\n",
       "      <td>29.892304</td>\n",
       "      <td>-13.179238</td>\n",
       "      <td>14.746350</td>\n",
       "      <td>-15.490797</td>\n",
       "      <td>116.753585</td>\n",
       "      <td>-32.000788</td>\n",
       "      <td>20.803497</td>\n",
       "      <td>1.773736</td>\n",
       "      <td>...</td>\n",
       "      <td>0.150947</td>\n",
       "      <td>0.164894</td>\n",
       "      <td>0.102656</td>\n",
       "      <td>-0.010701</td>\n",
       "      <td>0.244866</td>\n",
       "      <td>0.093848</td>\n",
       "      <td>0.049281</td>\n",
       "      <td>0.102392</td>\n",
       "      <td>0.073677</td>\n",
       "      <td>1</td>\n",
       "    </tr>\n",
       "    <tr>\n",
       "      <th>3</th>\n",
       "      <td>42</td>\n",
       "      <td>-15.042893</td>\n",
       "      <td>0.351732</td>\n",
       "      <td>476.272447</td>\n",
       "      <td>-49.591160</td>\n",
       "      <td>4.334499</td>\n",
       "      <td>-29.583006</td>\n",
       "      <td>111.763230</td>\n",
       "      <td>-37.308348</td>\n",
       "      <td>80.698489</td>\n",
       "      <td>...</td>\n",
       "      <td>0.217287</td>\n",
       "      <td>0.145196</td>\n",
       "      <td>0.203353</td>\n",
       "      <td>0.312019</td>\n",
       "      <td>0.170165</td>\n",
       "      <td>0.373296</td>\n",
       "      <td>0.028158</td>\n",
       "      <td>0.007622</td>\n",
       "      <td>0.169976</td>\n",
       "      <td>0</td>\n",
       "    </tr>\n",
       "    <tr>\n",
       "      <th>4</th>\n",
       "      <td>44</td>\n",
       "      <td>-14.167202</td>\n",
       "      <td>-5.072256</td>\n",
       "      <td>-8.444902</td>\n",
       "      <td>-35.541849</td>\n",
       "      <td>-29.277969</td>\n",
       "      <td>-4.662283</td>\n",
       "      <td>-29.259460</td>\n",
       "      <td>-1.496026</td>\n",
       "      <td>-39.068100</td>\n",
       "      <td>...</td>\n",
       "      <td>-0.138324</td>\n",
       "      <td>0.269469</td>\n",
       "      <td>0.262736</td>\n",
       "      <td>-0.093967</td>\n",
       "      <td>0.256280</td>\n",
       "      <td>0.731239</td>\n",
       "      <td>0.057086</td>\n",
       "      <td>-0.675778</td>\n",
       "      <td>0.042646</td>\n",
       "      <td>1</td>\n",
       "    </tr>\n",
       "    <tr>\n",
       "      <th>5</th>\n",
       "      <td>45</td>\n",
       "      <td>-78.603544</td>\n",
       "      <td>-74.292453</td>\n",
       "      <td>-67.766057</td>\n",
       "      <td>-90.645443</td>\n",
       "      <td>-80.858884</td>\n",
       "      <td>-77.694407</td>\n",
       "      <td>-89.154766</td>\n",
       "      <td>-91.366303</td>\n",
       "      <td>-66.321848</td>\n",
       "      <td>...</td>\n",
       "      <td>0.135182</td>\n",
       "      <td>0.199715</td>\n",
       "      <td>-0.054174</td>\n",
       "      <td>-0.007470</td>\n",
       "      <td>0.303452</td>\n",
       "      <td>0.045522</td>\n",
       "      <td>-0.074229</td>\n",
       "      <td>0.019787</td>\n",
       "      <td>0.214555</td>\n",
       "      <td>1</td>\n",
       "    </tr>\n",
       "    <tr>\n",
       "      <th>6</th>\n",
       "      <td>54</td>\n",
       "      <td>136.809511</td>\n",
       "      <td>-43.131385</td>\n",
       "      <td>393.671498</td>\n",
       "      <td>18.703976</td>\n",
       "      <td>474.972437</td>\n",
       "      <td>-28.269485</td>\n",
       "      <td>14.847162</td>\n",
       "      <td>-38.888889</td>\n",
       "      <td>341.708543</td>\n",
       "      <td>...</td>\n",
       "      <td>-0.079955</td>\n",
       "      <td>0.216909</td>\n",
       "      <td>-0.031118</td>\n",
       "      <td>0.229611</td>\n",
       "      <td>0.237155</td>\n",
       "      <td>0.264866</td>\n",
       "      <td>-0.325678</td>\n",
       "      <td>-0.115524</td>\n",
       "      <td>-0.180931</td>\n",
       "      <td>0</td>\n",
       "    </tr>\n",
       "    <tr>\n",
       "      <th>7</th>\n",
       "      <td>56</td>\n",
       "      <td>69.042896</td>\n",
       "      <td>41.197290</td>\n",
       "      <td>49.608696</td>\n",
       "      <td>22.457699</td>\n",
       "      <td>-13.900000</td>\n",
       "      <td>46.903421</td>\n",
       "      <td>30.276817</td>\n",
       "      <td>195.238095</td>\n",
       "      <td>37.743191</td>\n",
       "      <td>...</td>\n",
       "      <td>0.000000</td>\n",
       "      <td>-0.165315</td>\n",
       "      <td>-0.136707</td>\n",
       "      <td>0.520155</td>\n",
       "      <td>0.653959</td>\n",
       "      <td>-0.102344</td>\n",
       "      <td>0.000000</td>\n",
       "      <td>0.000000</td>\n",
       "      <td>0.747554</td>\n",
       "      <td>0</td>\n",
       "    </tr>\n",
       "    <tr>\n",
       "      <th>8</th>\n",
       "      <td>57</td>\n",
       "      <td>147.835751</td>\n",
       "      <td>169.122898</td>\n",
       "      <td>234.382022</td>\n",
       "      <td>79.677250</td>\n",
       "      <td>86.383929</td>\n",
       "      <td>123.604466</td>\n",
       "      <td>176.710930</td>\n",
       "      <td>219.607843</td>\n",
       "      <td>53.720508</td>\n",
       "      <td>...</td>\n",
       "      <td>0.293582</td>\n",
       "      <td>0.331262</td>\n",
       "      <td>0.329223</td>\n",
       "      <td>-0.431109</td>\n",
       "      <td>0.219175</td>\n",
       "      <td>0.000000</td>\n",
       "      <td>0.000000</td>\n",
       "      <td>-0.637334</td>\n",
       "      <td>-0.049941</td>\n",
       "      <td>1</td>\n",
       "    </tr>\n",
       "  </tbody>\n",
       "</table>\n",
       "<p>9 rows × 2158 columns</p>\n",
       "</div>"
      ],
      "text/plain": [
       "  patient_number  cluster_0_size-diff%_pre_to_3h  \\\n",
       "0             39                       16.416486   \n",
       "1             40                       33.697411   \n",
       "2             41                       75.056549   \n",
       "3             42                      -15.042893   \n",
       "4             44                      -14.167202   \n",
       "5             45                      -78.603544   \n",
       "6             54                      136.809511   \n",
       "7             56                       69.042896   \n",
       "8             57                      147.835751   \n",
       "\n",
       "   cluster_1_size-diff%_pre_to_3h  cluster_2_size-diff%_pre_to_3h  \\\n",
       "0                      -15.258162                      -12.704969   \n",
       "1                      -38.098859                      -33.756878   \n",
       "2                       29.892304                      -13.179238   \n",
       "3                        0.351732                      476.272447   \n",
       "4                       -5.072256                       -8.444902   \n",
       "5                      -74.292453                      -67.766057   \n",
       "6                      -43.131385                      393.671498   \n",
       "7                       41.197290                       49.608696   \n",
       "8                      169.122898                      234.382022   \n",
       "\n",
       "   cluster_3_size-diff%_pre_to_3h  cluster_4_size-diff%_pre_to_3h  \\\n",
       "0                       39.847785                      -47.416215   \n",
       "1                      -16.572408                      151.489844   \n",
       "2                       14.746350                      -15.490797   \n",
       "3                      -49.591160                        4.334499   \n",
       "4                      -35.541849                      -29.277969   \n",
       "5                      -90.645443                      -80.858884   \n",
       "6                       18.703976                      474.972437   \n",
       "7                       22.457699                      -13.900000   \n",
       "8                       79.677250                       86.383929   \n",
       "\n",
       "   cluster_5_size-diff%_pre_to_3h  cluster_6_size-diff%_pre_to_3h  \\\n",
       "0                       29.832593                      -40.430970   \n",
       "1                        5.337323                       21.767160   \n",
       "2                      116.753585                      -32.000788   \n",
       "3                      -29.583006                      111.763230   \n",
       "4                       -4.662283                      -29.259460   \n",
       "5                      -77.694407                      -89.154766   \n",
       "6                      -28.269485                       14.847162   \n",
       "7                       46.903421                       30.276817   \n",
       "8                      123.604466                      176.710930   \n",
       "\n",
       "   cluster_7_size-diff%_pre_to_3h  cluster_8_size-diff%_pre_to_3h  ...  \\\n",
       "0                       -6.462319                      -20.090784  ...   \n",
       "1                       37.769784                      108.013309  ...   \n",
       "2                       20.803497                        1.773736  ...   \n",
       "3                      -37.308348                       80.698489  ...   \n",
       "4                       -1.496026                      -39.068100  ...   \n",
       "5                      -91.366303                      -66.321848  ...   \n",
       "6                      -38.888889                      341.708543  ...   \n",
       "7                      195.238095                       37.743191  ...   \n",
       "8                      219.607843                       53.720508  ...   \n",
       "\n",
       "   q90_difference_pre_7d_cluster_19_158Gd_pSTAT3_Y705  \\\n",
       "0                                          -0.034750    \n",
       "1                                           0.162496    \n",
       "2                                           0.150947    \n",
       "3                                           0.217287    \n",
       "4                                          -0.138324    \n",
       "5                                           0.135182    \n",
       "6                                          -0.079955    \n",
       "7                                           0.000000    \n",
       "8                                           0.293582    \n",
       "\n",
       "   q90_difference_pre_7d_cluster_20_158Gd_pSTAT3_Y705  \\\n",
       "0                                           0.229687    \n",
       "1                                           0.146796    \n",
       "2                                           0.164894    \n",
       "3                                           0.145196    \n",
       "4                                           0.269469    \n",
       "5                                           0.199715    \n",
       "6                                           0.216909    \n",
       "7                                          -0.165315    \n",
       "8                                           0.331262    \n",
       "\n",
       "   q90_difference_pre_7d_cluster_21_158Gd_pSTAT3_Y705  \\\n",
       "0                                           0.626132    \n",
       "1                                           0.336546    \n",
       "2                                           0.102656    \n",
       "3                                           0.203353    \n",
       "4                                           0.262736    \n",
       "5                                          -0.054174    \n",
       "6                                          -0.031118    \n",
       "7                                          -0.136707    \n",
       "8                                           0.329223    \n",
       "\n",
       "   q90_difference_pre_7d_cluster_22_158Gd_pSTAT3_Y705  \\\n",
       "0                                          -0.143142    \n",
       "1                                           0.141476    \n",
       "2                                          -0.010701    \n",
       "3                                           0.312019    \n",
       "4                                          -0.093967    \n",
       "5                                          -0.007470    \n",
       "6                                           0.229611    \n",
       "7                                           0.520155    \n",
       "8                                          -0.431109    \n",
       "\n",
       "   q90_difference_pre_7d_cluster_23_158Gd_pSTAT3_Y705  \\\n",
       "0                                           0.269882    \n",
       "1                                           0.291373    \n",
       "2                                           0.244866    \n",
       "3                                           0.170165    \n",
       "4                                           0.256280    \n",
       "5                                           0.303452    \n",
       "6                                           0.237155    \n",
       "7                                           0.653959    \n",
       "8                                           0.219175    \n",
       "\n",
       "   q90_difference_pre_7d_cluster_24_158Gd_pSTAT3_Y705  \\\n",
       "0                                           0.127092    \n",
       "1                                           0.019660    \n",
       "2                                           0.093848    \n",
       "3                                           0.373296    \n",
       "4                                           0.731239    \n",
       "5                                           0.045522    \n",
       "6                                           0.264866    \n",
       "7                                          -0.102344    \n",
       "8                                           0.000000    \n",
       "\n",
       "   q90_difference_pre_7d_cluster_25_158Gd_pSTAT3_Y705  \\\n",
       "0                                          -0.414868    \n",
       "1                                           0.473581    \n",
       "2                                           0.049281    \n",
       "3                                           0.028158    \n",
       "4                                           0.057086    \n",
       "5                                          -0.074229    \n",
       "6                                          -0.325678    \n",
       "7                                           0.000000    \n",
       "8                                           0.000000    \n",
       "\n",
       "   q90_difference_pre_7d_cluster_26_158Gd_pSTAT3_Y705  \\\n",
       "0                                          -0.162613    \n",
       "1                                           0.296404    \n",
       "2                                           0.102392    \n",
       "3                                           0.007622    \n",
       "4                                          -0.675778    \n",
       "5                                           0.019787    \n",
       "6                                          -0.115524    \n",
       "7                                           0.000000    \n",
       "8                                          -0.637334    \n",
       "\n",
       "   q90_difference_pre_7d_cluster_27_158Gd_pSTAT3_Y705  MR4  \n",
       "0                                           0.344658     1  \n",
       "1                                           0.200563     0  \n",
       "2                                           0.073677     1  \n",
       "3                                           0.169976     0  \n",
       "4                                           0.042646     1  \n",
       "5                                           0.214555     1  \n",
       "6                                          -0.180931     0  \n",
       "7                                           0.747554     0  \n",
       "8                                          -0.049941     1  \n",
       "\n",
       "[9 rows x 2158 columns]"
      ]
     },
     "execution_count": 8,
     "metadata": {},
     "output_type": "execute_result"
    }
   ],
   "source": [
    "data_pool2 = pd.read_pickle('../create_SL_data_pool2/data_18months_ua_pool2.pkl')\n",
    "data_pool2"
   ]
  },
  {
   "cell_type": "code",
   "execution_count": 9,
   "metadata": {},
   "outputs": [
    {
     "data": {
      "text/plain": [
       "0    1\n",
       "1    0\n",
       "2    1\n",
       "3    0\n",
       "4    1\n",
       "5    1\n",
       "6    0\n",
       "7    0\n",
       "8    1\n",
       "Name: MR4, dtype: int64"
      ]
     },
     "execution_count": 9,
     "metadata": {},
     "output_type": "execute_result"
    }
   ],
   "source": [
    "X_test = data_pool2.drop(['MR4', 'patient_number'], axis=1)  \n",
    "y_test = data_pool2['MR4']  \n",
    "\n",
    "y_test                               "
   ]
  },
  {
   "cell_type": "code",
   "execution_count": 16,
   "metadata": {},
   "outputs": [],
   "source": [
    "pred = model1.predict(X_test)"
   ]
  },
  {
   "cell_type": "code",
   "execution_count": 19,
   "metadata": {},
   "outputs": [
    {
     "data": {
      "text/html": [
       "<div>\n",
       "<style scoped>\n",
       "    .dataframe tbody tr th:only-of-type {\n",
       "        vertical-align: middle;\n",
       "    }\n",
       "\n",
       "    .dataframe tbody tr th {\n",
       "        vertical-align: top;\n",
       "    }\n",
       "\n",
       "    .dataframe thead th {\n",
       "        text-align: right;\n",
       "    }\n",
       "</style>\n",
       "<table border=\"1\" class=\"dataframe\">\n",
       "  <thead>\n",
       "    <tr style=\"text-align: right;\">\n",
       "      <th></th>\n",
       "      <th>pred</th>\n",
       "      <th>patient_numbers</th>\n",
       "    </tr>\n",
       "  </thead>\n",
       "  <tbody>\n",
       "    <tr>\n",
       "      <th>0</th>\n",
       "      <td>1</td>\n",
       "      <td>39</td>\n",
       "    </tr>\n",
       "    <tr>\n",
       "      <th>1</th>\n",
       "      <td>1</td>\n",
       "      <td>40</td>\n",
       "    </tr>\n",
       "    <tr>\n",
       "      <th>2</th>\n",
       "      <td>1</td>\n",
       "      <td>41</td>\n",
       "    </tr>\n",
       "    <tr>\n",
       "      <th>3</th>\n",
       "      <td>0</td>\n",
       "      <td>42</td>\n",
       "    </tr>\n",
       "    <tr>\n",
       "      <th>4</th>\n",
       "      <td>1</td>\n",
       "      <td>44</td>\n",
       "    </tr>\n",
       "    <tr>\n",
       "      <th>5</th>\n",
       "      <td>1</td>\n",
       "      <td>45</td>\n",
       "    </tr>\n",
       "    <tr>\n",
       "      <th>6</th>\n",
       "      <td>1</td>\n",
       "      <td>54</td>\n",
       "    </tr>\n",
       "    <tr>\n",
       "      <th>7</th>\n",
       "      <td>1</td>\n",
       "      <td>56</td>\n",
       "    </tr>\n",
       "    <tr>\n",
       "      <th>8</th>\n",
       "      <td>0</td>\n",
       "      <td>57</td>\n",
       "    </tr>\n",
       "  </tbody>\n",
       "</table>\n",
       "</div>"
      ],
      "text/plain": [
       "   pred  patient_numbers\n",
       "0     1               39\n",
       "1     1               40\n",
       "2     1               41\n",
       "3     0               42\n",
       "4     1               44\n",
       "5     1               45\n",
       "6     1               54\n",
       "7     1               56\n",
       "8     0               57"
      ]
     },
     "execution_count": 19,
     "metadata": {},
     "output_type": "execute_result"
    }
   ],
   "source": [
    "\n",
    "patient_numbers_pool2 = data_pool2['patient_number'].astype(int)\n",
    "patient_numbers_pool2\n",
    "\n",
    "pred = pd.DataFrame(pred, columns=['pred'])\n",
    "pred['patient_numbers'] = patient_numbers_pool2\n",
    "pred"
   ]
  },
  {
   "cell_type": "code",
   "execution_count": 20,
   "metadata": {},
   "outputs": [
    {
     "data": {
      "text/html": [
       "<div>\n",
       "<style scoped>\n",
       "    .dataframe tbody tr th:only-of-type {\n",
       "        vertical-align: middle;\n",
       "    }\n",
       "\n",
       "    .dataframe tbody tr th {\n",
       "        vertical-align: top;\n",
       "    }\n",
       "\n",
       "    .dataframe thead th {\n",
       "        text-align: right;\n",
       "    }\n",
       "</style>\n",
       "<table border=\"1\" class=\"dataframe\">\n",
       "  <thead>\n",
       "    <tr style=\"text-align: right;\">\n",
       "      <th></th>\n",
       "      <th>patient_number</th>\n",
       "      <th>patient_id</th>\n",
       "      <th>batch</th>\n",
       "      <th>month</th>\n",
       "      <th>BCRABL</th>\n",
       "      <th>pred</th>\n",
       "      <th>patient_numbers</th>\n",
       "    </tr>\n",
       "  </thead>\n",
       "  <tbody>\n",
       "    <tr>\n",
       "      <th>0</th>\n",
       "      <td>39</td>\n",
       "      <td>4810_00009</td>\n",
       "      <td>5</td>\n",
       "      <td>3</td>\n",
       "      <td>0.070</td>\n",
       "      <td>1</td>\n",
       "      <td>39</td>\n",
       "    </tr>\n",
       "    <tr>\n",
       "      <th>1</th>\n",
       "      <td>39</td>\n",
       "      <td>4810_00009</td>\n",
       "      <td>5</td>\n",
       "      <td>6</td>\n",
       "      <td>0.020</td>\n",
       "      <td>1</td>\n",
       "      <td>39</td>\n",
       "    </tr>\n",
       "    <tr>\n",
       "      <th>2</th>\n",
       "      <td>39</td>\n",
       "      <td>4810_00009</td>\n",
       "      <td>5</td>\n",
       "      <td>9</td>\n",
       "      <td>0.020</td>\n",
       "      <td>1</td>\n",
       "      <td>39</td>\n",
       "    </tr>\n",
       "    <tr>\n",
       "      <th>3</th>\n",
       "      <td>39</td>\n",
       "      <td>4810_00009</td>\n",
       "      <td>5</td>\n",
       "      <td>12</td>\n",
       "      <td>0.007</td>\n",
       "      <td>1</td>\n",
       "      <td>39</td>\n",
       "    </tr>\n",
       "    <tr>\n",
       "      <th>4</th>\n",
       "      <td>39</td>\n",
       "      <td>4810_00009</td>\n",
       "      <td>5</td>\n",
       "      <td>15</td>\n",
       "      <td>0.009</td>\n",
       "      <td>1</td>\n",
       "      <td>39</td>\n",
       "    </tr>\n",
       "    <tr>\n",
       "      <th>...</th>\n",
       "      <td>...</td>\n",
       "      <td>...</td>\n",
       "      <td>...</td>\n",
       "      <td>...</td>\n",
       "      <td>...</td>\n",
       "      <td>...</td>\n",
       "      <td>...</td>\n",
       "    </tr>\n",
       "    <tr>\n",
       "      <th>58</th>\n",
       "      <td>57</td>\n",
       "      <td>4306_00004</td>\n",
       "      <td>6</td>\n",
       "      <td>9</td>\n",
       "      <td>0.025</td>\n",
       "      <td>0</td>\n",
       "      <td>57</td>\n",
       "    </tr>\n",
       "    <tr>\n",
       "      <th>59</th>\n",
       "      <td>57</td>\n",
       "      <td>4306_00004</td>\n",
       "      <td>6</td>\n",
       "      <td>12</td>\n",
       "      <td>NaN</td>\n",
       "      <td>0</td>\n",
       "      <td>57</td>\n",
       "    </tr>\n",
       "    <tr>\n",
       "      <th>60</th>\n",
       "      <td>57</td>\n",
       "      <td>4306_00004</td>\n",
       "      <td>6</td>\n",
       "      <td>15</td>\n",
       "      <td>NaN</td>\n",
       "      <td>0</td>\n",
       "      <td>57</td>\n",
       "    </tr>\n",
       "    <tr>\n",
       "      <th>61</th>\n",
       "      <td>57</td>\n",
       "      <td>4306_00004</td>\n",
       "      <td>6</td>\n",
       "      <td>17</td>\n",
       "      <td>0.007</td>\n",
       "      <td>0</td>\n",
       "      <td>57</td>\n",
       "    </tr>\n",
       "    <tr>\n",
       "      <th>62</th>\n",
       "      <td>57</td>\n",
       "      <td>4306_00004</td>\n",
       "      <td>6</td>\n",
       "      <td>18</td>\n",
       "      <td>0.005</td>\n",
       "      <td>0</td>\n",
       "      <td>57</td>\n",
       "    </tr>\n",
       "  </tbody>\n",
       "</table>\n",
       "<p>63 rows × 7 columns</p>\n",
       "</div>"
      ],
      "text/plain": [
       "    patient_number  patient_id  batch  month  BCRABL  pred  patient_numbers\n",
       "0               39  4810_00009      5      3   0.070     1               39\n",
       "1               39  4810_00009      5      6   0.020     1               39\n",
       "2               39  4810_00009      5      9   0.020     1               39\n",
       "3               39  4810_00009      5     12   0.007     1               39\n",
       "4               39  4810_00009      5     15   0.009     1               39\n",
       "..             ...         ...    ...    ...     ...   ...              ...\n",
       "58              57  4306_00004      6      9   0.025     0               57\n",
       "59              57  4306_00004      6     12     NaN     0               57\n",
       "60              57  4306_00004      6     15     NaN     0               57\n",
       "61              57  4306_00004      6     17   0.007     0               57\n",
       "62              57  4306_00004      6     18   0.005     0               57\n",
       "\n",
       "[63 rows x 7 columns]"
      ]
     },
     "execution_count": 20,
     "metadata": {},
     "output_type": "execute_result"
    }
   ],
   "source": [
    "response = pd.read_csv('../response/responses_all.csv')\n",
    "response = response[response['patient_number'].isin(patient_numbers_pool2)]\n",
    "\n",
    "response = pd.merge(response, pred, left_on='patient_number', right_on='patient_numbers', how='left')\n",
    "response"
   ]
  },
  {
   "cell_type": "code",
   "execution_count": 42,
   "metadata": {},
   "outputs": [
    {
     "data": {
      "application/vnd.plotly.v1+json": {
       "config": {
        "plotlyServerURL": "https://plot.ly"
       },
       "data": [
        {
         "connectgaps": true,
         "hovertemplate": "patient_numbers=39<br>Symbol=bowtie<br>month=%{x}<br>BCRABL=%{y}<extra></extra>",
         "legendgroup": "39, bowtie",
         "line": {
          "color": "green",
          "dash": "solid"
         },
         "marker": {
          "symbol": "circle"
         },
         "mode": "markers+lines",
         "name": "39, bowtie",
         "orientation": "v",
         "showlegend": true,
         "type": "scatter",
         "x": [
          3,
          6,
          9,
          12,
          15,
          17,
          18
         ],
         "xaxis": "x",
         "y": [
          0.07,
          0.02,
          0.02,
          0.007,
          0.009,
          0.002,
          0.007
         ],
         "yaxis": "y"
        },
        {
         "connectgaps": true,
         "hovertemplate": "patient_numbers=40<br>Symbol=circle<br>month=%{x}<br>BCRABL=%{y}<extra></extra>",
         "legendgroup": "40, circle",
         "line": {
          "color": "green",
          "dash": "solid"
         },
         "marker": {
          "symbol": "diamond"
         },
         "mode": "markers+lines",
         "name": "40, circle",
         "orientation": "v",
         "showlegend": true,
         "type": "scatter",
         "x": [
          3,
          6,
          9,
          12,
          15,
          17,
          18
         ],
         "xaxis": "x",
         "y": [
          2.5,
          2.11,
          0.53,
          0.44,
          0.58,
          0.47,
          0.83
         ],
         "yaxis": "y"
        },
        {
         "connectgaps": true,
         "hovertemplate": "patient_numbers=41<br>Symbol=square<br>month=%{x}<br>BCRABL=%{y}<extra></extra>",
         "legendgroup": "41, square",
         "line": {
          "color": "green",
          "dash": "solid"
         },
         "marker": {
          "symbol": "square"
         },
         "mode": "markers+lines",
         "name": "41, square",
         "orientation": "v",
         "showlegend": true,
         "type": "scatter",
         "x": [
          3,
          6,
          9,
          12,
          15,
          17,
          18
         ],
         "xaxis": "x",
         "y": [
          0.38,
          0.002,
          0.0005,
          null,
          0.0005,
          null,
          null
         ],
         "yaxis": "y"
        },
        {
         "connectgaps": true,
         "hovertemplate": "patient_numbers=42<br>Symbol=diamond<br>month=%{x}<br>BCRABL=%{y}<extra></extra>",
         "legendgroup": "42, diamond",
         "line": {
          "color": "red",
          "dash": "solid"
         },
         "marker": {
          "symbol": "x"
         },
         "mode": "markers+lines",
         "name": "42, diamond",
         "orientation": "v",
         "showlegend": true,
         "type": "scatter",
         "x": [
          3,
          6,
          9,
          12,
          15,
          17,
          18
         ],
         "xaxis": "x",
         "y": [
          1.4,
          1.04,
          0.95,
          0.22,
          0.15,
          0.24,
          0.15
         ],
         "yaxis": "y"
        },
        {
         "connectgaps": true,
         "hovertemplate": "patient_numbers=44<br>Symbol=hourglass<br>month=%{x}<br>BCRABL=%{y}<extra></extra>",
         "legendgroup": "44, hourglass",
         "line": {
          "color": "green",
          "dash": "solid"
         },
         "marker": {
          "symbol": "cross"
         },
         "mode": "markers+lines",
         "name": "44, hourglass",
         "orientation": "v",
         "showlegend": true,
         "type": "scatter",
         "x": [
          3,
          6,
          9,
          12,
          15,
          17,
          18
         ],
         "xaxis": "x",
         "y": [
          2.571,
          0.222,
          0.021,
          0.008,
          0.015,
          0.013,
          0.003
         ],
         "yaxis": "y"
        },
        {
         "connectgaps": true,
         "hovertemplate": "patient_numbers=45<br>Symbol=triangle-up<br>month=%{x}<br>BCRABL=%{y}<extra></extra>",
         "legendgroup": "45, triangle-up",
         "line": {
          "color": "green",
          "dash": "solid"
         },
         "marker": {
          "symbol": "circle"
         },
         "mode": "markers+lines",
         "name": "45, triangle-up",
         "orientation": "v",
         "showlegend": true,
         "type": "scatter",
         "x": [
          3,
          6,
          9,
          12,
          15,
          17,
          18
         ],
         "xaxis": "x",
         "y": [
          0.06,
          0.01,
          0.01,
          0.004,
          0.002,
          null,
          0.002
         ],
         "yaxis": "y"
        },
        {
         "connectgaps": true,
         "hovertemplate": "patient_numbers=54<br>Symbol=hourglass<br>month=%{x}<br>BCRABL=%{y}<extra></extra>",
         "legendgroup": "54, hourglass",
         "line": {
          "color": "green",
          "dash": "solid"
         },
         "marker": {
          "symbol": "cross"
         },
         "mode": "markers+lines",
         "name": "54, hourglass",
         "orientation": "v",
         "showlegend": true,
         "type": "scatter",
         "x": [
          3,
          6,
          9,
          12,
          15,
          17,
          18
         ],
         "xaxis": "x",
         "y": [
          null,
          5.4,
          1.5,
          1.6,
          1.7,
          1.8,
          1.1
         ],
         "yaxis": "y"
        },
        {
         "connectgaps": true,
         "hovertemplate": "patient_numbers=56<br>Symbol=hexagon<br>month=%{x}<br>BCRABL=%{y}<extra></extra>",
         "legendgroup": "56, hexagon",
         "line": {
          "color": "green",
          "dash": "solid"
         },
         "marker": {
          "symbol": "diamond"
         },
         "mode": "markers+lines",
         "name": "56, hexagon",
         "orientation": "v",
         "showlegend": true,
         "type": "scatter",
         "x": [
          3,
          6,
          9,
          12,
          15,
          17,
          18
         ],
         "xaxis": "x",
         "y": [
          0.669,
          0.044,
          0.045,
          0.023,
          0.02,
          0.011,
          0.02
         ],
         "yaxis": "y"
        },
        {
         "connectgaps": true,
         "hovertemplate": "patient_numbers=57<br>Symbol=star<br>month=%{x}<br>BCRABL=%{y}<extra></extra>",
         "legendgroup": "57, star",
         "line": {
          "color": "red",
          "dash": "solid"
         },
         "marker": {
          "symbol": "square"
         },
         "mode": "markers+lines",
         "name": "57, star",
         "orientation": "v",
         "showlegend": true,
         "type": "scatter",
         "x": [
          3,
          6,
          9,
          12,
          15,
          17,
          18
         ],
         "xaxis": "x",
         "y": [
          0.0269,
          0.0026,
          0.025,
          null,
          null,
          0.007,
          0.005
         ],
         "yaxis": "y"
        }
       ],
       "layout": {
        "legend": {
         "title": {
          "text": "Patient Number"
         },
         "tracegroupgap": 0
        },
        "shapes": [
         {
          "type": "line",
          "x0": 0,
          "x1": 1,
          "xref": "x domain",
          "y0": 0.01,
          "y1": 0.01,
          "yref": "y"
         }
        ],
        "template": {
         "data": {
          "bar": [
           {
            "error_x": {
             "color": "#2a3f5f"
            },
            "error_y": {
             "color": "#2a3f5f"
            },
            "marker": {
             "line": {
              "color": "#E5ECF6",
              "width": 0.5
             },
             "pattern": {
              "fillmode": "overlay",
              "size": 10,
              "solidity": 0.2
             }
            },
            "type": "bar"
           }
          ],
          "barpolar": [
           {
            "marker": {
             "line": {
              "color": "#E5ECF6",
              "width": 0.5
             },
             "pattern": {
              "fillmode": "overlay",
              "size": 10,
              "solidity": 0.2
             }
            },
            "type": "barpolar"
           }
          ],
          "carpet": [
           {
            "aaxis": {
             "endlinecolor": "#2a3f5f",
             "gridcolor": "white",
             "linecolor": "white",
             "minorgridcolor": "white",
             "startlinecolor": "#2a3f5f"
            },
            "baxis": {
             "endlinecolor": "#2a3f5f",
             "gridcolor": "white",
             "linecolor": "white",
             "minorgridcolor": "white",
             "startlinecolor": "#2a3f5f"
            },
            "type": "carpet"
           }
          ],
          "choropleth": [
           {
            "colorbar": {
             "outlinewidth": 0,
             "ticks": ""
            },
            "type": "choropleth"
           }
          ],
          "contour": [
           {
            "colorbar": {
             "outlinewidth": 0,
             "ticks": ""
            },
            "colorscale": [
             [
              0,
              "#0d0887"
             ],
             [
              0.1111111111111111,
              "#46039f"
             ],
             [
              0.2222222222222222,
              "#7201a8"
             ],
             [
              0.3333333333333333,
              "#9c179e"
             ],
             [
              0.4444444444444444,
              "#bd3786"
             ],
             [
              0.5555555555555556,
              "#d8576b"
             ],
             [
              0.6666666666666666,
              "#ed7953"
             ],
             [
              0.7777777777777778,
              "#fb9f3a"
             ],
             [
              0.8888888888888888,
              "#fdca26"
             ],
             [
              1,
              "#f0f921"
             ]
            ],
            "type": "contour"
           }
          ],
          "contourcarpet": [
           {
            "colorbar": {
             "outlinewidth": 0,
             "ticks": ""
            },
            "type": "contourcarpet"
           }
          ],
          "heatmap": [
           {
            "colorbar": {
             "outlinewidth": 0,
             "ticks": ""
            },
            "colorscale": [
             [
              0,
              "#0d0887"
             ],
             [
              0.1111111111111111,
              "#46039f"
             ],
             [
              0.2222222222222222,
              "#7201a8"
             ],
             [
              0.3333333333333333,
              "#9c179e"
             ],
             [
              0.4444444444444444,
              "#bd3786"
             ],
             [
              0.5555555555555556,
              "#d8576b"
             ],
             [
              0.6666666666666666,
              "#ed7953"
             ],
             [
              0.7777777777777778,
              "#fb9f3a"
             ],
             [
              0.8888888888888888,
              "#fdca26"
             ],
             [
              1,
              "#f0f921"
             ]
            ],
            "type": "heatmap"
           }
          ],
          "heatmapgl": [
           {
            "colorbar": {
             "outlinewidth": 0,
             "ticks": ""
            },
            "colorscale": [
             [
              0,
              "#0d0887"
             ],
             [
              0.1111111111111111,
              "#46039f"
             ],
             [
              0.2222222222222222,
              "#7201a8"
             ],
             [
              0.3333333333333333,
              "#9c179e"
             ],
             [
              0.4444444444444444,
              "#bd3786"
             ],
             [
              0.5555555555555556,
              "#d8576b"
             ],
             [
              0.6666666666666666,
              "#ed7953"
             ],
             [
              0.7777777777777778,
              "#fb9f3a"
             ],
             [
              0.8888888888888888,
              "#fdca26"
             ],
             [
              1,
              "#f0f921"
             ]
            ],
            "type": "heatmapgl"
           }
          ],
          "histogram": [
           {
            "marker": {
             "pattern": {
              "fillmode": "overlay",
              "size": 10,
              "solidity": 0.2
             }
            },
            "type": "histogram"
           }
          ],
          "histogram2d": [
           {
            "colorbar": {
             "outlinewidth": 0,
             "ticks": ""
            },
            "colorscale": [
             [
              0,
              "#0d0887"
             ],
             [
              0.1111111111111111,
              "#46039f"
             ],
             [
              0.2222222222222222,
              "#7201a8"
             ],
             [
              0.3333333333333333,
              "#9c179e"
             ],
             [
              0.4444444444444444,
              "#bd3786"
             ],
             [
              0.5555555555555556,
              "#d8576b"
             ],
             [
              0.6666666666666666,
              "#ed7953"
             ],
             [
              0.7777777777777778,
              "#fb9f3a"
             ],
             [
              0.8888888888888888,
              "#fdca26"
             ],
             [
              1,
              "#f0f921"
             ]
            ],
            "type": "histogram2d"
           }
          ],
          "histogram2dcontour": [
           {
            "colorbar": {
             "outlinewidth": 0,
             "ticks": ""
            },
            "colorscale": [
             [
              0,
              "#0d0887"
             ],
             [
              0.1111111111111111,
              "#46039f"
             ],
             [
              0.2222222222222222,
              "#7201a8"
             ],
             [
              0.3333333333333333,
              "#9c179e"
             ],
             [
              0.4444444444444444,
              "#bd3786"
             ],
             [
              0.5555555555555556,
              "#d8576b"
             ],
             [
              0.6666666666666666,
              "#ed7953"
             ],
             [
              0.7777777777777778,
              "#fb9f3a"
             ],
             [
              0.8888888888888888,
              "#fdca26"
             ],
             [
              1,
              "#f0f921"
             ]
            ],
            "type": "histogram2dcontour"
           }
          ],
          "mesh3d": [
           {
            "colorbar": {
             "outlinewidth": 0,
             "ticks": ""
            },
            "type": "mesh3d"
           }
          ],
          "parcoords": [
           {
            "line": {
             "colorbar": {
              "outlinewidth": 0,
              "ticks": ""
             }
            },
            "type": "parcoords"
           }
          ],
          "pie": [
           {
            "automargin": true,
            "type": "pie"
           }
          ],
          "scatter": [
           {
            "fillpattern": {
             "fillmode": "overlay",
             "size": 10,
             "solidity": 0.2
            },
            "type": "scatter"
           }
          ],
          "scatter3d": [
           {
            "line": {
             "colorbar": {
              "outlinewidth": 0,
              "ticks": ""
             }
            },
            "marker": {
             "colorbar": {
              "outlinewidth": 0,
              "ticks": ""
             }
            },
            "type": "scatter3d"
           }
          ],
          "scattercarpet": [
           {
            "marker": {
             "colorbar": {
              "outlinewidth": 0,
              "ticks": ""
             }
            },
            "type": "scattercarpet"
           }
          ],
          "scattergeo": [
           {
            "marker": {
             "colorbar": {
              "outlinewidth": 0,
              "ticks": ""
             }
            },
            "type": "scattergeo"
           }
          ],
          "scattergl": [
           {
            "marker": {
             "colorbar": {
              "outlinewidth": 0,
              "ticks": ""
             }
            },
            "type": "scattergl"
           }
          ],
          "scattermapbox": [
           {
            "marker": {
             "colorbar": {
              "outlinewidth": 0,
              "ticks": ""
             }
            },
            "type": "scattermapbox"
           }
          ],
          "scatterpolar": [
           {
            "marker": {
             "colorbar": {
              "outlinewidth": 0,
              "ticks": ""
             }
            },
            "type": "scatterpolar"
           }
          ],
          "scatterpolargl": [
           {
            "marker": {
             "colorbar": {
              "outlinewidth": 0,
              "ticks": ""
             }
            },
            "type": "scatterpolargl"
           }
          ],
          "scatterternary": [
           {
            "marker": {
             "colorbar": {
              "outlinewidth": 0,
              "ticks": ""
             }
            },
            "type": "scatterternary"
           }
          ],
          "surface": [
           {
            "colorbar": {
             "outlinewidth": 0,
             "ticks": ""
            },
            "colorscale": [
             [
              0,
              "#0d0887"
             ],
             [
              0.1111111111111111,
              "#46039f"
             ],
             [
              0.2222222222222222,
              "#7201a8"
             ],
             [
              0.3333333333333333,
              "#9c179e"
             ],
             [
              0.4444444444444444,
              "#bd3786"
             ],
             [
              0.5555555555555556,
              "#d8576b"
             ],
             [
              0.6666666666666666,
              "#ed7953"
             ],
             [
              0.7777777777777778,
              "#fb9f3a"
             ],
             [
              0.8888888888888888,
              "#fdca26"
             ],
             [
              1,
              "#f0f921"
             ]
            ],
            "type": "surface"
           }
          ],
          "table": [
           {
            "cells": {
             "fill": {
              "color": "#EBF0F8"
             },
             "line": {
              "color": "white"
             }
            },
            "header": {
             "fill": {
              "color": "#C8D4E3"
             },
             "line": {
              "color": "white"
             }
            },
            "type": "table"
           }
          ]
         },
         "layout": {
          "annotationdefaults": {
           "arrowcolor": "#2a3f5f",
           "arrowhead": 0,
           "arrowwidth": 1
          },
          "autotypenumbers": "strict",
          "coloraxis": {
           "colorbar": {
            "outlinewidth": 0,
            "ticks": ""
           }
          },
          "colorscale": {
           "diverging": [
            [
             0,
             "#8e0152"
            ],
            [
             0.1,
             "#c51b7d"
            ],
            [
             0.2,
             "#de77ae"
            ],
            [
             0.3,
             "#f1b6da"
            ],
            [
             0.4,
             "#fde0ef"
            ],
            [
             0.5,
             "#f7f7f7"
            ],
            [
             0.6,
             "#e6f5d0"
            ],
            [
             0.7,
             "#b8e186"
            ],
            [
             0.8,
             "#7fbc41"
            ],
            [
             0.9,
             "#4d9221"
            ],
            [
             1,
             "#276419"
            ]
           ],
           "sequential": [
            [
             0,
             "#0d0887"
            ],
            [
             0.1111111111111111,
             "#46039f"
            ],
            [
             0.2222222222222222,
             "#7201a8"
            ],
            [
             0.3333333333333333,
             "#9c179e"
            ],
            [
             0.4444444444444444,
             "#bd3786"
            ],
            [
             0.5555555555555556,
             "#d8576b"
            ],
            [
             0.6666666666666666,
             "#ed7953"
            ],
            [
             0.7777777777777778,
             "#fb9f3a"
            ],
            [
             0.8888888888888888,
             "#fdca26"
            ],
            [
             1,
             "#f0f921"
            ]
           ],
           "sequentialminus": [
            [
             0,
             "#0d0887"
            ],
            [
             0.1111111111111111,
             "#46039f"
            ],
            [
             0.2222222222222222,
             "#7201a8"
            ],
            [
             0.3333333333333333,
             "#9c179e"
            ],
            [
             0.4444444444444444,
             "#bd3786"
            ],
            [
             0.5555555555555556,
             "#d8576b"
            ],
            [
             0.6666666666666666,
             "#ed7953"
            ],
            [
             0.7777777777777778,
             "#fb9f3a"
            ],
            [
             0.8888888888888888,
             "#fdca26"
            ],
            [
             1,
             "#f0f921"
            ]
           ]
          },
          "colorway": [
           "#636efa",
           "#EF553B",
           "#00cc96",
           "#ab63fa",
           "#FFA15A",
           "#19d3f3",
           "#FF6692",
           "#B6E880",
           "#FF97FF",
           "#FECB52"
          ],
          "font": {
           "color": "#2a3f5f"
          },
          "geo": {
           "bgcolor": "white",
           "lakecolor": "white",
           "landcolor": "#E5ECF6",
           "showlakes": true,
           "showland": true,
           "subunitcolor": "white"
          },
          "hoverlabel": {
           "align": "left"
          },
          "hovermode": "closest",
          "mapbox": {
           "style": "light"
          },
          "paper_bgcolor": "white",
          "plot_bgcolor": "#E5ECF6",
          "polar": {
           "angularaxis": {
            "gridcolor": "white",
            "linecolor": "white",
            "ticks": ""
           },
           "bgcolor": "#E5ECF6",
           "radialaxis": {
            "gridcolor": "white",
            "linecolor": "white",
            "ticks": ""
           }
          },
          "scene": {
           "xaxis": {
            "backgroundcolor": "#E5ECF6",
            "gridcolor": "white",
            "gridwidth": 2,
            "linecolor": "white",
            "showbackground": true,
            "ticks": "",
            "zerolinecolor": "white"
           },
           "yaxis": {
            "backgroundcolor": "#E5ECF6",
            "gridcolor": "white",
            "gridwidth": 2,
            "linecolor": "white",
            "showbackground": true,
            "ticks": "",
            "zerolinecolor": "white"
           },
           "zaxis": {
            "backgroundcolor": "#E5ECF6",
            "gridcolor": "white",
            "gridwidth": 2,
            "linecolor": "white",
            "showbackground": true,
            "ticks": "",
            "zerolinecolor": "white"
           }
          },
          "shapedefaults": {
           "line": {
            "color": "#2a3f5f"
           }
          },
          "ternary": {
           "aaxis": {
            "gridcolor": "white",
            "linecolor": "white",
            "ticks": ""
           },
           "baxis": {
            "gridcolor": "white",
            "linecolor": "white",
            "ticks": ""
           },
           "bgcolor": "#E5ECF6",
           "caxis": {
            "gridcolor": "white",
            "linecolor": "white",
            "ticks": ""
           }
          },
          "title": {
           "x": 0.05
          },
          "xaxis": {
           "automargin": true,
           "gridcolor": "white",
           "linecolor": "white",
           "ticks": "",
           "title": {
            "standoff": 15
           },
           "zerolinecolor": "white",
           "zerolinewidth": 2
          },
          "yaxis": {
           "automargin": true,
           "gridcolor": "white",
           "linecolor": "white",
           "ticks": "",
           "title": {
            "standoff": 15
           },
           "zerolinecolor": "white",
           "zerolinewidth": 2
          }
         }
        },
        "title": {
         "text": "BCR-ABL% over Time by Patient"
        },
        "xaxis": {
         "anchor": "y",
         "domain": [
          0,
          1
         ],
         "title": {
          "text": "Test Time (Months)"
         }
        },
        "yaxis": {
         "anchor": "x",
         "domain": [
          0,
          1
         ],
         "title": {
          "text": "BCR-ABL%"
         },
         "type": "log"
        }
       }
      },
      "text/html": [
       "<div>                            <div id=\"aca61666-fe49-4cdd-a851-cdb3e766ea50\" class=\"plotly-graph-div\" style=\"height:525px; width:100%;\"></div>            <script type=\"text/javascript\">                require([\"plotly\"], function(Plotly) {                    window.PLOTLYENV=window.PLOTLYENV || {};                                    if (document.getElementById(\"aca61666-fe49-4cdd-a851-cdb3e766ea50\")) {                    Plotly.newPlot(                        \"aca61666-fe49-4cdd-a851-cdb3e766ea50\",                        [{\"hovertemplate\":\"patient_numbers=39\\u003cbr\\u003eSymbol=bowtie\\u003cbr\\u003emonth=%{x}\\u003cbr\\u003eBCRABL=%{y}\\u003cextra\\u003e\\u003c\\u002fextra\\u003e\",\"legendgroup\":\"39, bowtie\",\"line\":{\"color\":\"green\",\"dash\":\"solid\"},\"marker\":{\"symbol\":\"circle\"},\"mode\":\"markers+lines\",\"name\":\"39, bowtie\",\"orientation\":\"v\",\"showlegend\":true,\"x\":[3,6,9,12,15,17,18],\"xaxis\":\"x\",\"y\":[0.07,0.02,0.02,0.007,0.009,0.002,0.007],\"yaxis\":\"y\",\"type\":\"scatter\",\"connectgaps\":true},{\"hovertemplate\":\"patient_numbers=40\\u003cbr\\u003eSymbol=circle\\u003cbr\\u003emonth=%{x}\\u003cbr\\u003eBCRABL=%{y}\\u003cextra\\u003e\\u003c\\u002fextra\\u003e\",\"legendgroup\":\"40, circle\",\"line\":{\"color\":\"green\",\"dash\":\"solid\"},\"marker\":{\"symbol\":\"diamond\"},\"mode\":\"markers+lines\",\"name\":\"40, circle\",\"orientation\":\"v\",\"showlegend\":true,\"x\":[3,6,9,12,15,17,18],\"xaxis\":\"x\",\"y\":[2.5,2.11,0.53,0.44,0.58,0.47,0.83],\"yaxis\":\"y\",\"type\":\"scatter\",\"connectgaps\":true},{\"hovertemplate\":\"patient_numbers=41\\u003cbr\\u003eSymbol=square\\u003cbr\\u003emonth=%{x}\\u003cbr\\u003eBCRABL=%{y}\\u003cextra\\u003e\\u003c\\u002fextra\\u003e\",\"legendgroup\":\"41, square\",\"line\":{\"color\":\"green\",\"dash\":\"solid\"},\"marker\":{\"symbol\":\"square\"},\"mode\":\"markers+lines\",\"name\":\"41, square\",\"orientation\":\"v\",\"showlegend\":true,\"x\":[3,6,9,12,15,17,18],\"xaxis\":\"x\",\"y\":[0.38,0.002,0.0005,null,0.0005,null,null],\"yaxis\":\"y\",\"type\":\"scatter\",\"connectgaps\":true},{\"hovertemplate\":\"patient_numbers=42\\u003cbr\\u003eSymbol=diamond\\u003cbr\\u003emonth=%{x}\\u003cbr\\u003eBCRABL=%{y}\\u003cextra\\u003e\\u003c\\u002fextra\\u003e\",\"legendgroup\":\"42, diamond\",\"line\":{\"color\":\"red\",\"dash\":\"solid\"},\"marker\":{\"symbol\":\"x\"},\"mode\":\"markers+lines\",\"name\":\"42, diamond\",\"orientation\":\"v\",\"showlegend\":true,\"x\":[3,6,9,12,15,17,18],\"xaxis\":\"x\",\"y\":[1.4,1.04,0.95,0.22,0.15,0.24,0.15],\"yaxis\":\"y\",\"type\":\"scatter\",\"connectgaps\":true},{\"hovertemplate\":\"patient_numbers=44\\u003cbr\\u003eSymbol=hourglass\\u003cbr\\u003emonth=%{x}\\u003cbr\\u003eBCRABL=%{y}\\u003cextra\\u003e\\u003c\\u002fextra\\u003e\",\"legendgroup\":\"44, hourglass\",\"line\":{\"color\":\"green\",\"dash\":\"solid\"},\"marker\":{\"symbol\":\"cross\"},\"mode\":\"markers+lines\",\"name\":\"44, hourglass\",\"orientation\":\"v\",\"showlegend\":true,\"x\":[3,6,9,12,15,17,18],\"xaxis\":\"x\",\"y\":[2.571,0.222,0.021,0.008,0.015,0.013,0.003],\"yaxis\":\"y\",\"type\":\"scatter\",\"connectgaps\":true},{\"hovertemplate\":\"patient_numbers=45\\u003cbr\\u003eSymbol=triangle-up\\u003cbr\\u003emonth=%{x}\\u003cbr\\u003eBCRABL=%{y}\\u003cextra\\u003e\\u003c\\u002fextra\\u003e\",\"legendgroup\":\"45, triangle-up\",\"line\":{\"color\":\"green\",\"dash\":\"solid\"},\"marker\":{\"symbol\":\"circle\"},\"mode\":\"markers+lines\",\"name\":\"45, triangle-up\",\"orientation\":\"v\",\"showlegend\":true,\"x\":[3,6,9,12,15,17,18],\"xaxis\":\"x\",\"y\":[0.06,0.01,0.01,0.004,0.002,null,0.002],\"yaxis\":\"y\",\"type\":\"scatter\",\"connectgaps\":true},{\"hovertemplate\":\"patient_numbers=54\\u003cbr\\u003eSymbol=hourglass\\u003cbr\\u003emonth=%{x}\\u003cbr\\u003eBCRABL=%{y}\\u003cextra\\u003e\\u003c\\u002fextra\\u003e\",\"legendgroup\":\"54, hourglass\",\"line\":{\"color\":\"green\",\"dash\":\"solid\"},\"marker\":{\"symbol\":\"cross\"},\"mode\":\"markers+lines\",\"name\":\"54, hourglass\",\"orientation\":\"v\",\"showlegend\":true,\"x\":[3,6,9,12,15,17,18],\"xaxis\":\"x\",\"y\":[null,5.4,1.5,1.6,1.7,1.8,1.1],\"yaxis\":\"y\",\"type\":\"scatter\",\"connectgaps\":true},{\"hovertemplate\":\"patient_numbers=56\\u003cbr\\u003eSymbol=hexagon\\u003cbr\\u003emonth=%{x}\\u003cbr\\u003eBCRABL=%{y}\\u003cextra\\u003e\\u003c\\u002fextra\\u003e\",\"legendgroup\":\"56, hexagon\",\"line\":{\"color\":\"green\",\"dash\":\"solid\"},\"marker\":{\"symbol\":\"diamond\"},\"mode\":\"markers+lines\",\"name\":\"56, hexagon\",\"orientation\":\"v\",\"showlegend\":true,\"x\":[3,6,9,12,15,17,18],\"xaxis\":\"x\",\"y\":[0.669,0.044,0.045,0.023,0.02,0.011,0.02],\"yaxis\":\"y\",\"type\":\"scatter\",\"connectgaps\":true},{\"hovertemplate\":\"patient_numbers=57\\u003cbr\\u003eSymbol=star\\u003cbr\\u003emonth=%{x}\\u003cbr\\u003eBCRABL=%{y}\\u003cextra\\u003e\\u003c\\u002fextra\\u003e\",\"legendgroup\":\"57, star\",\"line\":{\"color\":\"red\",\"dash\":\"solid\"},\"marker\":{\"symbol\":\"square\"},\"mode\":\"markers+lines\",\"name\":\"57, star\",\"orientation\":\"v\",\"showlegend\":true,\"x\":[3,6,9,12,15,17,18],\"xaxis\":\"x\",\"y\":[0.0269,0.0026,0.025,null,null,0.007,0.005],\"yaxis\":\"y\",\"type\":\"scatter\",\"connectgaps\":true}],                        {\"template\":{\"data\":{\"histogram2dcontour\":[{\"type\":\"histogram2dcontour\",\"colorbar\":{\"outlinewidth\":0,\"ticks\":\"\"},\"colorscale\":[[0.0,\"#0d0887\"],[0.1111111111111111,\"#46039f\"],[0.2222222222222222,\"#7201a8\"],[0.3333333333333333,\"#9c179e\"],[0.4444444444444444,\"#bd3786\"],[0.5555555555555556,\"#d8576b\"],[0.6666666666666666,\"#ed7953\"],[0.7777777777777778,\"#fb9f3a\"],[0.8888888888888888,\"#fdca26\"],[1.0,\"#f0f921\"]]}],\"choropleth\":[{\"type\":\"choropleth\",\"colorbar\":{\"outlinewidth\":0,\"ticks\":\"\"}}],\"histogram2d\":[{\"type\":\"histogram2d\",\"colorbar\":{\"outlinewidth\":0,\"ticks\":\"\"},\"colorscale\":[[0.0,\"#0d0887\"],[0.1111111111111111,\"#46039f\"],[0.2222222222222222,\"#7201a8\"],[0.3333333333333333,\"#9c179e\"],[0.4444444444444444,\"#bd3786\"],[0.5555555555555556,\"#d8576b\"],[0.6666666666666666,\"#ed7953\"],[0.7777777777777778,\"#fb9f3a\"],[0.8888888888888888,\"#fdca26\"],[1.0,\"#f0f921\"]]}],\"heatmap\":[{\"type\":\"heatmap\",\"colorbar\":{\"outlinewidth\":0,\"ticks\":\"\"},\"colorscale\":[[0.0,\"#0d0887\"],[0.1111111111111111,\"#46039f\"],[0.2222222222222222,\"#7201a8\"],[0.3333333333333333,\"#9c179e\"],[0.4444444444444444,\"#bd3786\"],[0.5555555555555556,\"#d8576b\"],[0.6666666666666666,\"#ed7953\"],[0.7777777777777778,\"#fb9f3a\"],[0.8888888888888888,\"#fdca26\"],[1.0,\"#f0f921\"]]}],\"heatmapgl\":[{\"type\":\"heatmapgl\",\"colorbar\":{\"outlinewidth\":0,\"ticks\":\"\"},\"colorscale\":[[0.0,\"#0d0887\"],[0.1111111111111111,\"#46039f\"],[0.2222222222222222,\"#7201a8\"],[0.3333333333333333,\"#9c179e\"],[0.4444444444444444,\"#bd3786\"],[0.5555555555555556,\"#d8576b\"],[0.6666666666666666,\"#ed7953\"],[0.7777777777777778,\"#fb9f3a\"],[0.8888888888888888,\"#fdca26\"],[1.0,\"#f0f921\"]]}],\"contourcarpet\":[{\"type\":\"contourcarpet\",\"colorbar\":{\"outlinewidth\":0,\"ticks\":\"\"}}],\"contour\":[{\"type\":\"contour\",\"colorbar\":{\"outlinewidth\":0,\"ticks\":\"\"},\"colorscale\":[[0.0,\"#0d0887\"],[0.1111111111111111,\"#46039f\"],[0.2222222222222222,\"#7201a8\"],[0.3333333333333333,\"#9c179e\"],[0.4444444444444444,\"#bd3786\"],[0.5555555555555556,\"#d8576b\"],[0.6666666666666666,\"#ed7953\"],[0.7777777777777778,\"#fb9f3a\"],[0.8888888888888888,\"#fdca26\"],[1.0,\"#f0f921\"]]}],\"surface\":[{\"type\":\"surface\",\"colorbar\":{\"outlinewidth\":0,\"ticks\":\"\"},\"colorscale\":[[0.0,\"#0d0887\"],[0.1111111111111111,\"#46039f\"],[0.2222222222222222,\"#7201a8\"],[0.3333333333333333,\"#9c179e\"],[0.4444444444444444,\"#bd3786\"],[0.5555555555555556,\"#d8576b\"],[0.6666666666666666,\"#ed7953\"],[0.7777777777777778,\"#fb9f3a\"],[0.8888888888888888,\"#fdca26\"],[1.0,\"#f0f921\"]]}],\"mesh3d\":[{\"type\":\"mesh3d\",\"colorbar\":{\"outlinewidth\":0,\"ticks\":\"\"}}],\"scatter\":[{\"fillpattern\":{\"fillmode\":\"overlay\",\"size\":10,\"solidity\":0.2},\"type\":\"scatter\"}],\"parcoords\":[{\"type\":\"parcoords\",\"line\":{\"colorbar\":{\"outlinewidth\":0,\"ticks\":\"\"}}}],\"scatterpolargl\":[{\"type\":\"scatterpolargl\",\"marker\":{\"colorbar\":{\"outlinewidth\":0,\"ticks\":\"\"}}}],\"bar\":[{\"error_x\":{\"color\":\"#2a3f5f\"},\"error_y\":{\"color\":\"#2a3f5f\"},\"marker\":{\"line\":{\"color\":\"#E5ECF6\",\"width\":0.5},\"pattern\":{\"fillmode\":\"overlay\",\"size\":10,\"solidity\":0.2}},\"type\":\"bar\"}],\"scattergeo\":[{\"type\":\"scattergeo\",\"marker\":{\"colorbar\":{\"outlinewidth\":0,\"ticks\":\"\"}}}],\"scatterpolar\":[{\"type\":\"scatterpolar\",\"marker\":{\"colorbar\":{\"outlinewidth\":0,\"ticks\":\"\"}}}],\"histogram\":[{\"marker\":{\"pattern\":{\"fillmode\":\"overlay\",\"size\":10,\"solidity\":0.2}},\"type\":\"histogram\"}],\"scattergl\":[{\"type\":\"scattergl\",\"marker\":{\"colorbar\":{\"outlinewidth\":0,\"ticks\":\"\"}}}],\"scatter3d\":[{\"type\":\"scatter3d\",\"line\":{\"colorbar\":{\"outlinewidth\":0,\"ticks\":\"\"}},\"marker\":{\"colorbar\":{\"outlinewidth\":0,\"ticks\":\"\"}}}],\"scattermapbox\":[{\"type\":\"scattermapbox\",\"marker\":{\"colorbar\":{\"outlinewidth\":0,\"ticks\":\"\"}}}],\"scatterternary\":[{\"type\":\"scatterternary\",\"marker\":{\"colorbar\":{\"outlinewidth\":0,\"ticks\":\"\"}}}],\"scattercarpet\":[{\"type\":\"scattercarpet\",\"marker\":{\"colorbar\":{\"outlinewidth\":0,\"ticks\":\"\"}}}],\"carpet\":[{\"aaxis\":{\"endlinecolor\":\"#2a3f5f\",\"gridcolor\":\"white\",\"linecolor\":\"white\",\"minorgridcolor\":\"white\",\"startlinecolor\":\"#2a3f5f\"},\"baxis\":{\"endlinecolor\":\"#2a3f5f\",\"gridcolor\":\"white\",\"linecolor\":\"white\",\"minorgridcolor\":\"white\",\"startlinecolor\":\"#2a3f5f\"},\"type\":\"carpet\"}],\"table\":[{\"cells\":{\"fill\":{\"color\":\"#EBF0F8\"},\"line\":{\"color\":\"white\"}},\"header\":{\"fill\":{\"color\":\"#C8D4E3\"},\"line\":{\"color\":\"white\"}},\"type\":\"table\"}],\"barpolar\":[{\"marker\":{\"line\":{\"color\":\"#E5ECF6\",\"width\":0.5},\"pattern\":{\"fillmode\":\"overlay\",\"size\":10,\"solidity\":0.2}},\"type\":\"barpolar\"}],\"pie\":[{\"automargin\":true,\"type\":\"pie\"}]},\"layout\":{\"autotypenumbers\":\"strict\",\"colorway\":[\"#636efa\",\"#EF553B\",\"#00cc96\",\"#ab63fa\",\"#FFA15A\",\"#19d3f3\",\"#FF6692\",\"#B6E880\",\"#FF97FF\",\"#FECB52\"],\"font\":{\"color\":\"#2a3f5f\"},\"hovermode\":\"closest\",\"hoverlabel\":{\"align\":\"left\"},\"paper_bgcolor\":\"white\",\"plot_bgcolor\":\"#E5ECF6\",\"polar\":{\"bgcolor\":\"#E5ECF6\",\"angularaxis\":{\"gridcolor\":\"white\",\"linecolor\":\"white\",\"ticks\":\"\"},\"radialaxis\":{\"gridcolor\":\"white\",\"linecolor\":\"white\",\"ticks\":\"\"}},\"ternary\":{\"bgcolor\":\"#E5ECF6\",\"aaxis\":{\"gridcolor\":\"white\",\"linecolor\":\"white\",\"ticks\":\"\"},\"baxis\":{\"gridcolor\":\"white\",\"linecolor\":\"white\",\"ticks\":\"\"},\"caxis\":{\"gridcolor\":\"white\",\"linecolor\":\"white\",\"ticks\":\"\"}},\"coloraxis\":{\"colorbar\":{\"outlinewidth\":0,\"ticks\":\"\"}},\"colorscale\":{\"sequential\":[[0.0,\"#0d0887\"],[0.1111111111111111,\"#46039f\"],[0.2222222222222222,\"#7201a8\"],[0.3333333333333333,\"#9c179e\"],[0.4444444444444444,\"#bd3786\"],[0.5555555555555556,\"#d8576b\"],[0.6666666666666666,\"#ed7953\"],[0.7777777777777778,\"#fb9f3a\"],[0.8888888888888888,\"#fdca26\"],[1.0,\"#f0f921\"]],\"sequentialminus\":[[0.0,\"#0d0887\"],[0.1111111111111111,\"#46039f\"],[0.2222222222222222,\"#7201a8\"],[0.3333333333333333,\"#9c179e\"],[0.4444444444444444,\"#bd3786\"],[0.5555555555555556,\"#d8576b\"],[0.6666666666666666,\"#ed7953\"],[0.7777777777777778,\"#fb9f3a\"],[0.8888888888888888,\"#fdca26\"],[1.0,\"#f0f921\"]],\"diverging\":[[0,\"#8e0152\"],[0.1,\"#c51b7d\"],[0.2,\"#de77ae\"],[0.3,\"#f1b6da\"],[0.4,\"#fde0ef\"],[0.5,\"#f7f7f7\"],[0.6,\"#e6f5d0\"],[0.7,\"#b8e186\"],[0.8,\"#7fbc41\"],[0.9,\"#4d9221\"],[1,\"#276419\"]]},\"xaxis\":{\"gridcolor\":\"white\",\"linecolor\":\"white\",\"ticks\":\"\",\"title\":{\"standoff\":15},\"zerolinecolor\":\"white\",\"automargin\":true,\"zerolinewidth\":2},\"yaxis\":{\"gridcolor\":\"white\",\"linecolor\":\"white\",\"ticks\":\"\",\"title\":{\"standoff\":15},\"zerolinecolor\":\"white\",\"automargin\":true,\"zerolinewidth\":2},\"scene\":{\"xaxis\":{\"backgroundcolor\":\"#E5ECF6\",\"gridcolor\":\"white\",\"linecolor\":\"white\",\"showbackground\":true,\"ticks\":\"\",\"zerolinecolor\":\"white\",\"gridwidth\":2},\"yaxis\":{\"backgroundcolor\":\"#E5ECF6\",\"gridcolor\":\"white\",\"linecolor\":\"white\",\"showbackground\":true,\"ticks\":\"\",\"zerolinecolor\":\"white\",\"gridwidth\":2},\"zaxis\":{\"backgroundcolor\":\"#E5ECF6\",\"gridcolor\":\"white\",\"linecolor\":\"white\",\"showbackground\":true,\"ticks\":\"\",\"zerolinecolor\":\"white\",\"gridwidth\":2}},\"shapedefaults\":{\"line\":{\"color\":\"#2a3f5f\"}},\"annotationdefaults\":{\"arrowcolor\":\"#2a3f5f\",\"arrowhead\":0,\"arrowwidth\":1},\"geo\":{\"bgcolor\":\"white\",\"landcolor\":\"#E5ECF6\",\"subunitcolor\":\"white\",\"showland\":true,\"showlakes\":true,\"lakecolor\":\"white\"},\"title\":{\"x\":0.05},\"mapbox\":{\"style\":\"light\"}}},\"xaxis\":{\"anchor\":\"y\",\"domain\":[0.0,1.0],\"title\":{\"text\":\"Test Time (Months)\"}},\"yaxis\":{\"anchor\":\"x\",\"domain\":[0.0,1.0],\"title\":{\"text\":\"BCR-ABL%\"},\"type\":\"log\"},\"legend\":{\"title\":{\"text\":\"Patient Number\"},\"tracegroupgap\":0},\"title\":{\"text\":\"BCR-ABL% over Time by Patient\"},\"shapes\":[{\"type\":\"line\",\"x0\":0,\"x1\":1,\"xref\":\"x domain\",\"y0\":0.01,\"y1\":0.01,\"yref\":\"y\"}]},                        {\"responsive\": true}                    ).then(function(){\n",
       "                            \n",
       "var gd = document.getElementById('aca61666-fe49-4cdd-a851-cdb3e766ea50');\n",
       "var x = new MutationObserver(function (mutations, observer) {{\n",
       "        var display = window.getComputedStyle(gd).display;\n",
       "        if (!display || display === 'none') {{\n",
       "            console.log([gd, 'removed!']);\n",
       "            Plotly.purge(gd);\n",
       "            observer.disconnect();\n",
       "        }}\n",
       "}});\n",
       "\n",
       "// Listen for the removal of the full notebook cells\n",
       "var notebookContainer = gd.closest('#notebook-container');\n",
       "if (notebookContainer) {{\n",
       "    x.observe(notebookContainer, {childList: true});\n",
       "}}\n",
       "\n",
       "// Listen for the clearing of the current output cell\n",
       "var outputEl = gd.closest('.output');\n",
       "if (outputEl) {{\n",
       "    x.observe(outputEl, {childList: true});\n",
       "}}\n",
       "\n",
       "                        })                };                });            </script>        </div>"
      ]
     },
     "metadata": {},
     "output_type": "display_data"
    }
   ],
   "source": [
    "import plotly.express as px\n",
    "\n",
    "response['BCRABL'] = response['BCRABL'].replace(0, 0.001)\n",
    "\n",
    "symbols = ['circle', 'square', 'diamond', 'cross', 'hourglass', 'triangle-up', 'hexagon', 'star', 'hexagram', 'bowtie']\n",
    "\n",
    "response['Symbol'] = response['patient_numbers'].apply(lambda x: symbols[x % len(symbols)])\n",
    "\n",
    "\n",
    "response['BCRABL'] = response['BCRABL'].replace(0, 0.001)\n",
    "response['Color'] = response['pred'].map({0: 'red', 1: 'green'})\n",
    "\n",
    "color_discrete_map = {num: 'green' if response.loc[response['patient_numbers'] == num, 'pred'].iloc[0] == 1 else 'red'\n",
    "                      for num in response['patient_numbers'].unique()}\n",
    "\n",
    "fig = px.line(\n",
    "    response,\n",
    "    x='month',\n",
    "    y='BCRABL',\n",
    "    color='patient_numbers',  \n",
    "    symbol='Symbol',  \n",
    "    log_y=True,\n",
    "    title='BCR-ABL% over Time by Patient',\n",
    "    markers=True,\n",
    "    color_discrete_map=color_discrete_map\n",
    ")\n",
    "\n",
    "fig.update_layout(\n",
    "    yaxis_title='BCR-ABL%',\n",
    "    xaxis_title='Test Time (Months)',\n",
    "    yaxis_type='log',\n",
    "    legend_title=\"Patient Number\"\n",
    ")\n",
    "\n",
    "fig.update_traces(connectgaps=True, line=dict(dash='solid'))\n",
    "\n",
    "fig.add_hline(y=0.01)\n",
    "\n",
    "fig.show()\n"
   ]
  },
  {
   "cell_type": "code",
   "execution_count": null,
   "metadata": {},
   "outputs": [],
   "source": []
  }
 ],
 "metadata": {
  "kernelspec": {
   "display_name": "master",
   "language": "python",
   "name": "python3"
  },
  "language_info": {
   "codemirror_mode": {
    "name": "ipython",
    "version": 3
   },
   "file_extension": ".py",
   "mimetype": "text/x-python",
   "name": "python",
   "nbconvert_exporter": "python",
   "pygments_lexer": "ipython3",
   "version": "3.10.13"
  }
 },
 "nbformat": 4,
 "nbformat_minor": 2
}
