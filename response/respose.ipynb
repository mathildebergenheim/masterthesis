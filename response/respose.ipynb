{
 "cells": [
  {
   "cell_type": "code",
   "execution_count": null,
   "metadata": {},
   "outputs": [],
   "source": [
    "import pandas as pd\n",
    "import numpy as np\n",
    "\n",
    "import plotly.express as px"
   ]
  },
  {
   "cell_type": "markdown",
   "metadata": {},
   "source": [
    "### Reading file where levesl of BCR::ABL1 is measured : "
   ]
  },
  {
   "cell_type": "code",
   "execution_count": null,
   "metadata": {},
   "outputs": [],
   "source": [
    "pcr  =  pd.read_excel(\"../mergedPCR_0713.xls\")\n",
    "\n",
    "pcr.columns"
   ]
  },
  {
   "cell_type": "markdown",
   "metadata": {},
   "source": [
    "Changing column names "
   ]
  },
  {
   "cell_type": "code",
   "execution_count": null,
   "metadata": {},
   "outputs": [],
   "source": [
    "data = pcr[['SID1A', 'VISNAM1A', 'BCRIS1N']]\n",
    "\n",
    "data.rename(columns = {'SID1A':'patient_id', 'VISNAM1A' : 'month', 'BCRIS1N' : 'BCRABL' }, inplace = True) \n",
    "\n",
    "data['month'].value_counts()"
   ]
  },
  {
   "cell_type": "markdown",
   "metadata": {},
   "source": [
    "Changing the time values"
   ]
  },
  {
   "cell_type": "code",
   "execution_count": null,
   "metadata": {},
   "outputs": [],
   "source": [
    "data"
   ]
  },
  {
   "cell_type": "code",
   "execution_count": null,
   "metadata": {},
   "outputs": [],
   "source": [
    "replacements = {\n",
    "    'V04- END OF M.03'      : '3',\n",
    "    'V05- END OF M.06'      : '6',\n",
    "    'V06- END OF M.09'      : '9', \n",
    "    'V07- END OF M.12'      : '12',\n",
    "    'V08- END OF M.15'      : '15',\n",
    "    'V09- END OF M.17'      : '17', \n",
    "    'V10- END OF M.18'      : '18', \n",
    "    'V11- END OF M.21'      : '21'\n",
    "}\n",
    "\n",
    "data['month'] = data['month'].replace(replacements)\n",
    "\n",
    "data = data[data.month != 'V01- SCREENING']\n",
    "data = data[data.month != 'UNSCHEDULED']\n",
    "data = data[data.month != 'V12- EOS']\n",
    "data = data[data.month != '21']\n"
   ]
  },
  {
   "cell_type": "markdown",
   "metadata": {},
   "source": [
    "### Find patients we have cytof data from"
   ]
  },
  {
   "cell_type": "code",
   "execution_count": null,
   "metadata": {},
   "outputs": [],
   "source": [
    "data"
   ]
  },
  {
   "cell_type": "code",
   "execution_count": null,
   "metadata": {},
   "outputs": [],
   "source": [
    "cytof_patients = pd.read_csv(\"../patients.csv\", header=None, names=['patient_number', 'patient_id', 'batch'])"
   ]
  },
  {
   "cell_type": "markdown",
   "metadata": {},
   "source": [
    "Removing patients without cytofdata"
   ]
  },
  {
   "cell_type": "code",
   "execution_count": null,
   "metadata": {},
   "outputs": [],
   "source": [
    "cytof_patients"
   ]
  },
  {
   "cell_type": "code",
   "execution_count": null,
   "metadata": {},
   "outputs": [],
   "source": [
    "patient_ids = list(cytof_patients['patient_id'].unique())\n",
    "data = data[data['patient_id'].isin(patient_ids)]\n"
   ]
  },
  {
   "cell_type": "markdown",
   "metadata": {},
   "source": [
    "## Mapping patient ids to patient number"
   ]
  },
  {
   "cell_type": "code",
   "execution_count": null,
   "metadata": {},
   "outputs": [],
   "source": [
    "data = pd.merge(cytof_patients, data, on='patient_id' )\n",
    "\n",
    "data\n"
   ]
  },
  {
   "cell_type": "markdown",
   "metadata": {},
   "source": [
    "Removing patients that does not haveBCR::ABL measures at 18 months:"
   ]
  },
  {
   "cell_type": "markdown",
   "metadata": {},
   "source": [
    "### INkluder de som er med til og med måned 3 og måned 6, for da kan du gjøre SL på de også "
   ]
  },
  {
   "cell_type": "code",
   "execution_count": null,
   "metadata": {},
   "outputs": [],
   "source": [
    "unique_patients = data[['patient_id', 'patient_number']].drop_duplicates()\n",
    "unique_patients"
   ]
  },
  {
   "cell_type": "code",
   "execution_count": null,
   "metadata": {},
   "outputs": [],
   "source": [
    "data_with_18_months = data[data['month']  == '18']\n",
    "\n",
    "patients_18 = data_with_18_months['patient_id'].unique()\n",
    "\n",
    "data = data[data['patient_id'].isin(patients_18)]"
   ]
  },
  {
   "cell_type": "markdown",
   "metadata": {},
   "source": [
    "Setting month and response to numerical values "
   ]
  },
  {
   "cell_type": "code",
   "execution_count": null,
   "metadata": {},
   "outputs": [],
   "source": [
    "data['BCRABL'] = pd.to_numeric(data['BCRABL'], errors='coerce')\n",
    "data['month'] = pd.to_numeric(data['month'], errors='coerce')"
   ]
  },
  {
   "cell_type": "code",
   "execution_count": null,
   "metadata": {},
   "outputs": [],
   "source": [
    "data.to_csv(\"responses_all.csv\", index=False)"
   ]
  },
  {
   "cell_type": "markdown",
   "metadata": {},
   "source": [
    "### Plotting the response and the MR-4"
   ]
  },
  {
   "cell_type": "code",
   "execution_count": null,
   "metadata": {},
   "outputs": [],
   "source": [
    "import plotly.express as px\n",
    "\n",
    "unique_batches = data['batch'].unique()\n",
    "figures = []\n",
    "\n",
    "# Create a scatter plot for each batch\n",
    "for batch in unique_batches:\n",
    "    df_subset = data[data['batch'] == batch]\n",
    "    df_subset['BCRABL'] = df_subset['BCRABL'].replace(0, 0.001)\n",
    "    \n",
    "    # Create the line plot\n",
    "    fig = px.line(df_subset, x='month', y='BCRABL', color='patient_number', log_y=True,\n",
    "                  title=f'BCR-ABL% over Time by Patient for Batch {batch}', markers=True)\n",
    "    \n",
    "    # Update layout with custom axis titles and set y-axis to logarithmic\n",
    "    fig.update_layout(\n",
    "        yaxis_title='BCR-ABL%',\n",
    "        xaxis_title='Test Time (Months)',\n",
    "        yaxis_type='log',\n",
    "        xaxis=dict(\n",
    "            tickmode='array',\n",
    "            tickvals=[3, 6, 9, 12, 15, 18],  # Explicitly set ticks for months 6 and 18\n",
    "            ticktext=['3', '6', '9', '12', '15', '18']  # Custom labels for these ticks\n",
    "        )\n",
    "    )\n",
    "\n",
    "    # Update traces to connect gaps\n",
    "    fig.update_traces(connectgaps=True)\n",
    "    \n",
    "    # Add a horizontal line at y = 0.01 with annotation above the line\n",
    "    fig.add_hline(y=0.01)\n",
    "    \n",
    "    # Add a horizontal line at y = 1 with annotation above the line\n",
    "    fig.add_hline(y=1, line_dash=\"dash\")\n",
    "\n",
    "    figures.append(fig)\n"
   ]
  },
  {
   "cell_type": "code",
   "execution_count": null,
   "metadata": {},
   "outputs": [],
   "source": [
    "figures[0].show()"
   ]
  },
  {
   "cell_type": "code",
   "execution_count": null,
   "metadata": {},
   "outputs": [],
   "source": [
    "figures[1].show()"
   ]
  },
  {
   "cell_type": "code",
   "execution_count": null,
   "metadata": {},
   "outputs": [],
   "source": [
    "figures[2].show()"
   ]
  },
  {
   "cell_type": "code",
   "execution_count": null,
   "metadata": {},
   "outputs": [],
   "source": [
    "figures[3].show()"
   ]
  },
  {
   "cell_type": "code",
   "execution_count": null,
   "metadata": {},
   "outputs": [],
   "source": [
    "figures[4].show()"
   ]
  },
  {
   "cell_type": "code",
   "execution_count": null,
   "metadata": {},
   "outputs": [],
   "source": [
    "figures[5].show()"
   ]
  },
  {
   "cell_type": "markdown",
   "metadata": {},
   "source": [
    "## Saving the response to plot into dataset"
   ]
  },
  {
   "cell_type": "code",
   "execution_count": null,
   "metadata": {},
   "outputs": [],
   "source": [
    "df_response_18 = data[data['month'] == 18]\n",
    "\n",
    "df_response_18['BCRABL'].isna().sum()"
   ]
  },
  {
   "cell_type": "code",
   "execution_count": null,
   "metadata": {},
   "outputs": [],
   "source": [
    "df_response_6 = data[data['month'] == 6]\n",
    "\n",
    "df_response_6\n",
    "df_response_6 = df_response_6[['patient_number', 'BCRABL']]\n",
    "\n",
    "df_response_6['CHR'] = df_response_6['BCRABL'].apply(lambda x: 0 if x > 1 else 1)\n",
    "\n",
    "df_response_6['patient_number'].astype(str)\n",
    "\n",
    "df_response_6.to_pickle('CHR_6months.pkl')"
   ]
  },
  {
   "cell_type": "code",
   "execution_count": null,
   "metadata": {},
   "outputs": [],
   "source": [
    "df_response_18 = data[data['month'] == 18]\n",
    "\n",
    "df_response_18\n",
    "df_response_18 = df_response_18[['patient_number', 'BCRABL']]\n",
    "\n",
    "df_response_18['MR4'] = df_response_18['BCRABL'].apply(lambda x: 0 if x > 0.01 else 1)\n",
    "\n",
    "df_response_18['patient_number'].astype(str)\n",
    "\n",
    "df_response_18.to_pickle('MR4_18months.pkl')"
   ]
  },
  {
   "cell_type": "code",
   "execution_count": null,
   "metadata": {},
   "outputs": [],
   "source": [
    "df_response_6"
   ]
  },
  {
   "cell_type": "code",
   "execution_count": null,
   "metadata": {},
   "outputs": [],
   "source": []
  }
 ],
 "metadata": {
  "kernelspec": {
   "display_name": "master",
   "language": "python",
   "name": "python3"
  },
  "language_info": {
   "codemirror_mode": {
    "name": "ipython",
    "version": 3
   },
   "file_extension": ".py",
   "mimetype": "text/x-python",
   "name": "python",
   "nbconvert_exporter": "python",
   "pygments_lexer": "ipython3",
   "version": "3.10.13"
  }
 },
 "nbformat": 4,
 "nbformat_minor": 2
}
