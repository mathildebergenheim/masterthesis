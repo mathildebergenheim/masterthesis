{
 "cells": [
  {
   "cell_type": "code",
   "execution_count": null,
   "metadata": {},
   "outputs": [],
   "source": [
    "import pandas as pd\n",
    "import numpy as np"
   ]
  },
  {
   "cell_type": "markdown",
   "metadata": {},
   "source": [
    "# Creating the supervised learning dataframe\n",
    "Features evaluated in the model:\n",
    "- the changes in all MC sizes (% of total), from pre to 3h and pre to 7d. \n",
    "- in each MC the 90th percentile dual count measured for all the functional markers at all three timepoints (pre-treatment, 3h, and 7d h), and \n",
    "- in all MCs the change in all functional markers from pre to 3h \n",
    "- in all MCs the change in all functional markers from pre to 7d\n"
   ]
  },
  {
   "cell_type": "markdown",
   "metadata": {},
   "source": [
    "## Reading response after 6 and 18 months"
   ]
  },
  {
   "cell_type": "code",
   "execution_count": null,
   "metadata": {},
   "outputs": [],
   "source": [
    "response_6 = pd.read_pickle('../response/CHR_6months.pkl')\n",
    "response_6.replace('nan', np.nan)\n",
    "response_6.dropna()\n"
   ]
  },
  {
   "cell_type": "code",
   "execution_count": null,
   "metadata": {},
   "outputs": [],
   "source": [
    "response_18 = pd.read_pickle('../response/MR4_18months.pkl')\n",
    "response_18.replace('nan', np.nan)\n",
    "response_18.dropna()"
   ]
  },
  {
   "cell_type": "markdown",
   "metadata": {},
   "source": [
    "## External and internal markers:"
   ]
  },
  {
   "cell_type": "code",
   "execution_count": null,
   "metadata": {},
   "outputs": [],
   "source": [
    "\n",
    "all_markers = ['89Y_CD45', \n",
    "                #'102Pd_BC1', \n",
    "                #'103Rh', \n",
    "                #'104Pd_BC2', \n",
    "                #'105Pd_BC3',\n",
    "                # '106Pd_BC4', \n",
    "                # '108Pd_BC5', \n",
    "                # '110Pd_BC6', \n",
    "                '111Cd_CD3', \n",
    "                '112Cd_CD34',\n",
    "                '113Cd_CD123', \n",
    "                '114Cd_CD66b', \n",
    "                #'115In', \n",
    "                '116Cd_HLA-DR', \n",
    "                # '120Sn', \n",
    "                # '127I',\n",
    "                # '131Xe', \n",
    "                # '133Cs', \n",
    "                # '136Ba', \n",
    "                # '137Ba', \n",
    "                # '138Ba', \n",
    "                # '139La', \n",
    "                # '140Ce',\n",
    "                '141Pr_CD38', \n",
    "                '142Nd_cCaspase3', \n",
    "                '143Nd_pCRKL Y207', \n",
    "                '144Nd_pTyr',\n",
    "                '145Nd_CD4', \n",
    "                '146Nd_CD49d', \n",
    "                '147Sm_CD20', \n",
    "                '148Nd_CD16', \n",
    "                '149Sm_CD25',\n",
    "                '150Nd_pSTAT5 Y694', \n",
    "                '151Eu_pSTAT3 S727', \n",
    "                '152Sm_CD13',\n",
    "                '153Eu_pSTAT1 Y701', \n",
    "                '154Sm_CD45RA', \n",
    "                '155Gd_CD27',\n",
    "                '156Gd_pp38 T180Y182', \n",
    "                '157Gd_CD8a', \n",
    "                '158Gd_pSTAT3 Y705',\n",
    "                '159Tb_pMAPKAPK T334', \n",
    "                '160Gd_CD14', \n",
    "                '161Dy_CD26', \n",
    "                '162Dy_FoxP3',\n",
    "                '163Dy_CD56', \n",
    "                '164Dy_CD15', \n",
    "                '165Ho_pCREB S133', \n",
    "                '166Er_MPO',\n",
    "                '167Er_IL1-RAP', \n",
    "                '168Er_CD117', \n",
    "                '169Tm_CD33', \n",
    "                '170Er_pSRC Y418',\n",
    "                '171Yb_pERK T202Y204', \n",
    "                '172Yb_pS6 S235S236', \n",
    "                '173Yb_STAT3tot',\n",
    "                '174Yb_CD11c', \n",
    "                '175Lu_CXCR4', \n",
    "                '176Yb_pS6 S240244', \n",
    "                #'191Ir_DNA1',\n",
    "                #'193Ir_DNA2', \n",
    "                #'194Pt_mBC1', \n",
    "                '195Pt_mBC2', \n",
    "                #'196Pt_mBC3', \n",
    "                #'198Pt_mBC4',\n",
    "                #'208Pb', \n",
    "                '209Bi_CD11b']    \n",
    "\n",
    "internal_and_external = ['89Y_CD45',\n",
    "                '111Cd_CD3', \n",
    "                '112Cd_CD34',\n",
    "                '113Cd_CD123', \n",
    "                '114Cd_CD66b', \n",
    "                '116Cd_HLA-DR', \n",
    "                '141Pr_CD38', \n",
    "                '142Nd_cCaspase3', \n",
    "                '143Nd_pCRKL Y207', \n",
    "                '144Nd_pTyr',\n",
    "                '145Nd_CD4', \n",
    "                '146Nd_CD49d', \n",
    "                '147Sm_CD20', \n",
    "                '148Nd_CD16', \n",
    "                '149Sm_CD25',\n",
    "                '150Nd_pSTAT5 Y694', \n",
    "                '151Eu_pSTAT3 S727', \n",
    "                '152Sm_CD13',\n",
    "                '153Eu_pSTAT1 Y701', \n",
    "                '154Sm_CD45RA', \n",
    "                '155Gd_CD27',\n",
    "                '156Gd_pp38 T180Y182', \n",
    "                '157Gd_CD8a', \n",
    "                '158Gd_pSTAT3 Y705',\n",
    "                '159Tb_pMAPKAPK T334', \n",
    "                '160Gd_CD14', \n",
    "                '161Dy_CD26', \n",
    "                '162Dy_FoxP3',\n",
    "                '163Dy_CD56', \n",
    "                '164Dy_CD15', \n",
    "                '165Ho_pCREB S133', \n",
    "                '166Er_MPO',\n",
    "                '167Er_IL1-RAP', \n",
    "                '168Er_CD117', \n",
    "                '169Tm_CD33', \n",
    "                '170Er_pSRC Y418',\n",
    "                '171Yb_pERK T202Y204', \n",
    "                '172Yb_pS6 S235S236', \n",
    "                '173Yb_STAT3tot',\n",
    "                '174Yb_CD11c', \n",
    "                '175Lu_CXCR4', \n",
    "                '176Yb_pS6 S240244', \n",
    "                '195Pt_mBC2', \n",
    "                '209Bi_CD11b']    \n",
    "        \n",
    "\n",
    "external = ['89Y_CD45', \n",
    "                '111Cd_CD3', \n",
    "                '112Cd_CD34',\n",
    "                '113Cd_CD123', \n",
    "                '114Cd_CD66b', \n",
    "                '116Cd_HLA-DR', \n",
    "                '141Pr_CD38', \n",
    "                '145Nd_CD4', \n",
    "                '146Nd_CD49d', \n",
    "                '147Sm_CD20', \n",
    "                '148Nd_CD16', \n",
    "                '149Sm_CD25',\n",
    "                '152Sm_CD13',\n",
    "                '154Sm_CD45RA', \n",
    "                '155Gd_CD27',\n",
    "                '157Gd_CD8a',  \n",
    "                '160Gd_CD14', \n",
    "                '161Dy_CD26', \n",
    "                '162Dy_FoxP3',\n",
    "                '163Dy_CD56', \n",
    "                '164Dy_CD15', \n",
    "                '166Er_MPO',\n",
    "                '167Er_IL1-RAP', \n",
    "                '168Er_CD117', \n",
    "                '169Tm_CD33', \n",
    "                '174Yb_CD11c', \n",
    "                '175Lu_CXCR4', \n",
    "                '195Pt_mBC2', \n",
    "                '209Bi_CD11b']\n",
    "\n",
    "internal = list(set(internal_and_external) - set(external))\n",
    "\n",
    "\n",
    "internal = [\n",
    "    '165Ho_pCREB S133',\n",
    "    '144Nd_pTyr',\n",
    "    '176Yb_pS6 S240244',\n",
    "    '151Eu_pSTAT3 S727',\n",
    "    '171Yb_pERK T202Y204',\n",
    "    '173Yb_STAT3tot',\n",
    "    '170Er_pSRC Y418',\n",
    "    '159Tb_pMAPKAPK T334',\n",
    "    '156Gd_pp38 T180Y182',\n",
    "    '142Nd_cCaspase3',\n",
    "    '172Yb_pS6 S235S236',\n",
    "    '150Nd_pSTAT5 Y694',\n",
    "    '153Eu_pSTAT1 Y701',\n",
    "    '143Nd_pCRKL Y207',\n",
    "    '158Gd_pSTAT3 Y705'\n",
    "]"
   ]
  },
  {
   "cell_type": "markdown",
   "metadata": {},
   "source": [
    "## Reading the clustered data"
   ]
  },
  {
   "cell_type": "code",
   "execution_count": null,
   "metadata": {},
   "outputs": [],
   "source": [
    "patients_18 = response_18['patient_number'].unique().tolist()\n",
    "patients_6 = response_6['patient_number'].unique().tolist()\n",
    "\n",
    "all_patients = list(set(patients_18) | set(patients_6))"
   ]
  },
  {
   "cell_type": "code",
   "execution_count": null,
   "metadata": {},
   "outputs": [],
   "source": [
    "data = pd.read_pickle('../predicitng_cell_populations/data_clusters_batch_5_6_unannotated_model.pkl')\n",
    "\n",
    "data"
   ]
  },
  {
   "cell_type": "code",
   "execution_count": null,
   "metadata": {},
   "outputs": [],
   "source": [
    "donors = ['HDBM_184', \n",
    "          'HDBM_263', \n",
    "          'HDBM_446',\n",
    "          'HDBM_436', \n",
    "          'HDBM_525', \n",
    "          'HDBM_532', \n",
    "          'HDBM_578', \n",
    "          'HDBM_630',\n",
    "          'HDBM_663', \n",
    "          'HDPB_259', \n",
    "          'HDPB_416', \n",
    "          'HDPB_424', \n",
    "          'HDPB_433',\n",
    "          'HDPB_439', \n",
    "          'HDPB_518', \n",
    "          'HDPB_522', \n",
    "          'HDPB_597', \n",
    "          'HDPB_625',\n",
    "          'HDPB_656', \n",
    "          'HDBM_180'\n",
    "        ]\n",
    "\n",
    "data_donors = data[data['file_id'].isin(donors)]\n",
    "data_patients = data[~data['file_id'].isin(donors)]\n",
    "\n",
    "data_donors['test_time'] = None\n",
    "data_donors['patient_number'] = data_donors['file_id']\n",
    "\n",
    "data_patients[['patient_number', 'test_time']] = data['file_id'].str.split('_', expand=True)\n",
    "data_patients['test_time'] = data_patients['test_time'].str.replace('t', '').astype(str)\n",
    "\n",
    "data = pd.concat([data_patients, data_donors])\n",
    "\n",
    "data.drop('file_id', axis=1, inplace=True)\n",
    "\n",
    "data"
   ]
  },
  {
   "cell_type": "code",
   "execution_count": null,
   "metadata": {},
   "outputs": [],
   "source": [
    "data = data[data['patient_number'].isin(all_patients)]\n",
    "data"
   ]
  },
  {
   "cell_type": "code",
   "execution_count": null,
   "metadata": {},
   "outputs": [],
   "source": [
    "print(len(internal))\n",
    "print(len(list(data['cluster'].unique())))"
   ]
  },
  {
   "cell_type": "markdown",
   "metadata": {},
   "source": [
    "# Creating SL dataframe: \n",
    "\n",
    "Change in size in all MC: \n",
    "\n",
    "- num_clusters * 2 = 28 * 2 = 56 \n",
    "\n",
    "90th percentile value in each MC for all functional markers at all three timepoints:\n",
    "\n",
    "- num_internal_markers * num_clusters * 3times =  15 * 28 * 3 = 1260\n",
    "\n",
    "Calculate in all clusters the change in all functional markers between timepoints(pre to 3h and 3h to 7d) in clusters: \n",
    "\n",
    "- num clusters * num internal markers * 2 = 28 * 15 * 2 = 840\n",
    "\n",
    "\n",
    "\n",
    "\n"
   ]
  },
  {
   "cell_type": "markdown",
   "metadata": {},
   "source": [
    "## Calculating the change in size in all MC"
   ]
  },
  {
   "cell_type": "code",
   "execution_count": null,
   "metadata": {},
   "outputs": [],
   "source": [
    "cluster_counts = data.groupby(['patient_number', 'cluster', 'test_time']).size().reset_index(name='count')\n",
    "\n",
    "cluster_counts['test_time'] = cluster_counts['test_time'].astype(str)\n",
    "\n",
    "pivoted_data = cluster_counts.pivot(index=['patient_number', 'cluster'], columns='test_time', values='count')\n",
    "\n",
    "pivoted_data['perc_diff_0_to_1'] = ((pivoted_data['1'] - pivoted_data['0']) / pivoted_data['0']) * 100\n",
    "pivoted_data['perc_diff_0_to_2'] = ((pivoted_data['2'] - pivoted_data['0']) / pivoted_data['0']) * 100\n",
    "\n",
    "perc_diff_0_to_1 = pivoted_data[['perc_diff_0_to_1']].reset_index()\n",
    "perc_diff_0_to_2 = pivoted_data[['perc_diff_0_to_2']].reset_index()\n",
    "\n",
    "perc_diff_0_to_1_pivot = perc_diff_0_to_1.pivot(index='patient_number', columns='cluster', values='perc_diff_0_to_1')\n",
    "perc_diff_0_to_2_pivot = perc_diff_0_to_2.pivot(index='patient_number', columns='cluster', values='perc_diff_0_to_2')\n",
    "\n",
    "perc_diff_0_to_1_pivot.columns = ['cluster_' + str(col) + '_size-diff%_pre_to_3h' for col in perc_diff_0_to_1_pivot.columns]\n",
    "perc_diff_0_to_2_pivot.columns = ['cluster_' + str(col) + '_size-diff%_time_pre_to_7d' for col in perc_diff_0_to_2_pivot.columns]\n",
    "\n",
    "mc_changes_insert = pd.merge(perc_diff_0_to_1_pivot, perc_diff_0_to_2_pivot, left_index=True, right_index=True)\n",
    "\n",
    "mc_changes_insert.fillna(value=0, inplace=True)\n",
    "\n",
    "mc_changes_insert.reset_index(inplace=True)\n",
    "mc_changes_insert"
   ]
  },
  {
   "cell_type": "markdown",
   "metadata": {},
   "source": [
    "## Calculate the 90th percentile value in each MC for all functional markers at all three timepoints"
   ]
  },
  {
   "cell_type": "code",
   "execution_count": null,
   "metadata": {},
   "outputs": [],
   "source": [
    "data_internal = data[internal + ['patient_number', 'cluster', 'test_time']]\n",
    "data_internal"
   ]
  },
  {
   "cell_type": "code",
   "execution_count": null,
   "metadata": {},
   "outputs": [],
   "source": [
    "data_pre = data_internal[data_internal['test_time'] == '0'].drop(columns=['test_time'])\n",
    "data_3h = data_internal[data_internal['test_time'] == '1'].drop(columns=['test_time'])\n",
    "data_7d = data_internal[data_internal['test_time'] == '2'].drop(columns=['test_time'])\n",
    "\n",
    "percentile_90_pre = data_pre.groupby(['patient_number', 'cluster']).quantile(0.9).reset_index()\n",
    "percentile_90_3h = data_3h.groupby(['patient_number', 'cluster']).quantile(0.9).reset_index()\n",
    "percentile_90_7d = data_7d.groupby(['patient_number', 'cluster']).quantile(0.9).reset_index()\n",
    "\n",
    "percentile_90_pre = percentile_90_pre.pivot_table(index='patient_number', columns='cluster', values= internal)\n",
    "percentile_90_3h = percentile_90_3h.pivot_table(index='patient_number', columns='cluster', values= internal)\n",
    "percentile_90_7d = percentile_90_7d.pivot_table(index='patient_number', columns='cluster', values= internal)\n",
    "\n",
    "percentile_90_pre.columns = ['90th_{}_pre_cluster_{}'.format(*col) for col in percentile_90_pre.columns]\n",
    "percentile_90_3h.columns = ['90th_{}_3h_cluster_{}'.format(*col) for col in percentile_90_3h.columns]\n",
    "percentile_90_7d.columns = ['90th_{}_7d_cluster_{}'.format(*col) for col in percentile_90_7d.columns]\n",
    "\n",
    "percentile_90 = pd.concat([percentile_90_pre, percentile_90_3h, percentile_90_7d], axis=1)\n",
    "percentile_90.fillna(value=0, inplace=True)\n",
    "\n",
    "percentile_90"
   ]
  },
  {
   "cell_type": "markdown",
   "metadata": {},
   "source": [
    "## Calculate the change in all functional markers between timepoints, change measured in = (quantile(0.9) timepoint k) - (quantile(0.9) in timepoint (k-1))"
   ]
  },
  {
   "cell_type": "code",
   "execution_count": null,
   "metadata": {},
   "outputs": [],
   "source": [
    "data_pre = data_internal[data_internal['test_time'] == '0'].drop(columns=['test_time'])\n",
    "data_3h = data_internal[data_internal['test_time'] == '1'].drop(columns=['test_time'])\n",
    "data_7d = data_internal[data_internal['test_time'] == '2'].drop(columns=['test_time'])\n",
    "\n",
    "median_pre = data_pre.groupby(['patient_number', 'cluster']).quantile(0.9).fillna(0)\n",
    "median_3h = data_3h.groupby(['patient_number', 'cluster']).quantile(0.9).fillna(0)\n",
    "median_7d = data_7d.groupby(['patient_number', 'cluster']).quantile(0.9).fillna(0)\n",
    "\n",
    "change_in_medians_pre_to_3h = median_3h.subtract(median_pre).fillna(0)\n",
    "change_in_medians_pre_to_7d = median_7d.subtract(median_pre).fillna(0)\n",
    "\n",
    "change_in_medians_pre_to_3h = change_in_medians_pre_to_3h.unstack('cluster')\n",
    "change_in_medians_pre_to_7d = change_in_medians_pre_to_7d.unstack('cluster')\n",
    "\n",
    "change_in_medians_pre_to_3h.columns = [f'q90_difference_pre_3h_cluster_{cluster}_{marker.replace(\" \", \"_\")}' for marker, cluster in change_in_medians_pre_to_3h.columns]\n",
    "change_in_medians_pre_to_7d.columns = [f'q90_difference_pre_7d_cluster_{cluster}_{marker.replace(\" \", \"_\")}' for marker, cluster in change_in_medians_pre_to_7d.columns]\n",
    "\n",
    "change_functional_markers = pd.concat([change_in_medians_pre_to_3h, change_in_medians_pre_to_7d], axis=1)\n",
    "\n",
    "change_functional_markers.fillna(value=0, inplace=True)\n",
    "\n",
    "change_functional_markers"
   ]
  },
  {
   "cell_type": "markdown",
   "metadata": {},
   "source": [
    "# Concatinate all comlumns to SL dataframes"
   ]
  },
  {
   "cell_type": "code",
   "execution_count": null,
   "metadata": {},
   "outputs": [],
   "source": [
    "merged_df = pd.merge(mc_changes_insert, percentile_90, on='patient_number', how='inner')\n",
    "sl = pd.merge(merged_df, change_functional_markers, on='patient_number', how='inner')\n",
    "sl"
   ]
  },
  {
   "cell_type": "code",
   "execution_count": null,
   "metadata": {},
   "outputs": [],
   "source": [
    "response_6 = pd.read_pickle('../response/CHR_6months.pkl')\n",
    "response_18 = pd.read_pickle('../response/MR4_18months.pkl')\n",
    "\n",
    "\n",
    "sl_6 = pd.merge(sl, response_6, on='patient_number', how='inner')\n",
    "sl_18 = pd.merge(sl, response_18, on='patient_number', how='inner')"
   ]
  },
  {
   "cell_type": "code",
   "execution_count": null,
   "metadata": {},
   "outputs": [],
   "source": [
    "sl_18"
   ]
  },
  {
   "cell_type": "markdown",
   "metadata": {},
   "source": [
    "## Saving datasets"
   ]
  },
  {
   "cell_type": "code",
   "execution_count": null,
   "metadata": {},
   "outputs": [],
   "source": [
    "sl_response_6 = sl_6.drop('BCRABL', axis=1)\n",
    "sl_levels_6 = sl_6.drop('CHR', axis=1)\n",
    "\n",
    "sl_response_6.to_pickle('data_6months_ua_pool2.pkl')\n",
    "sl_levels_6.to_pickle('data_6months_levels_ua_pool2.pkl')"
   ]
  },
  {
   "cell_type": "code",
   "execution_count": null,
   "metadata": {},
   "outputs": [],
   "source": [
    "sl_response_18 = sl_18.drop('BCRABL', axis=1)\n",
    "sl_levels_18 = sl_18.drop('MR4', axis=1)\n",
    "\n",
    "sl_response_18.to_pickle('data_18months_ua_pool2.pkl')\n",
    "sl_levels_18.to_pickle('data_18months_levels_ua_pool2.pkl')"
   ]
  },
  {
   "cell_type": "code",
   "execution_count": null,
   "metadata": {},
   "outputs": [],
   "source": []
  }
 ],
 "metadata": {
  "kernelspec": {
   "display_name": "master",
   "language": "python",
   "name": "python3"
  },
  "language_info": {
   "codemirror_mode": {
    "name": "ipython",
    "version": 3
   },
   "file_extension": ".py",
   "mimetype": "text/x-python",
   "name": "python",
   "nbconvert_exporter": "python",
   "pygments_lexer": "ipython3",
   "version": "3.10.13"
  }
 },
 "nbformat": 4,
 "nbformat_minor": 2
}
