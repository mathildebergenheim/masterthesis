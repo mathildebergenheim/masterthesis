{
 "cells": [
  {
   "cell_type": "code",
   "execution_count": 2,
   "metadata": {},
   "outputs": [],
   "source": [
    "import pandas as pd\n",
    "\n",
    "import numpy as np\n",
    "import pandas as pd\n",
    "from sklearn.discriminant_analysis import LinearDiscriminantAnalysis\n",
    "from sklearn.model_selection import GridSearchCV, GroupKFold, KFold\n",
    "from sklearn.metrics import accuracy_score\n",
    "from sklearn.metrics import f1_score\n",
    "from sklearn.ensemble import RandomForestClassifier\n"
   ]
  },
  {
   "cell_type": "code",
   "execution_count": 3,
   "metadata": {},
   "outputs": [
    {
     "data": {
      "text/html": [
       "<div>\n",
       "<style scoped>\n",
       "    .dataframe tbody tr th:only-of-type {\n",
       "        vertical-align: middle;\n",
       "    }\n",
       "\n",
       "    .dataframe tbody tr th {\n",
       "        vertical-align: top;\n",
       "    }\n",
       "\n",
       "    .dataframe thead th {\n",
       "        text-align: right;\n",
       "    }\n",
       "</style>\n",
       "<table border=\"1\" class=\"dataframe\">\n",
       "  <thead>\n",
       "    <tr style=\"text-align: right;\">\n",
       "      <th></th>\n",
       "      <th>89Y_CD45</th>\n",
       "      <th>111Cd_CD3</th>\n",
       "      <th>112Cd_CD34</th>\n",
       "      <th>113Cd_CD123</th>\n",
       "      <th>114Cd_CD66b</th>\n",
       "      <th>116Cd_HLA-DR</th>\n",
       "      <th>141Pr_CD38</th>\n",
       "      <th>142Nd_cCaspase3</th>\n",
       "      <th>143Nd_pCRKL Y207</th>\n",
       "      <th>144Nd_pTyr</th>\n",
       "      <th>...</th>\n",
       "      <th>173Yb_STAT3tot</th>\n",
       "      <th>174Yb_CD11c</th>\n",
       "      <th>175Lu_CXCR4</th>\n",
       "      <th>176Yb_pS6 S240244</th>\n",
       "      <th>195Pt_mBC2</th>\n",
       "      <th>209Bi_CD11b</th>\n",
       "      <th>patient_number</th>\n",
       "      <th>test_time</th>\n",
       "      <th>cluster</th>\n",
       "      <th>sample</th>\n",
       "    </tr>\n",
       "  </thead>\n",
       "  <tbody>\n",
       "    <tr>\n",
       "      <th>0</th>\n",
       "      <td>2.217051</td>\n",
       "      <td>0.113545</td>\n",
       "      <td>3.317439</td>\n",
       "      <td>0.381279</td>\n",
       "      <td>1.590146</td>\n",
       "      <td>2.885046</td>\n",
       "      <td>3.629630</td>\n",
       "      <td>0.186837</td>\n",
       "      <td>0.327056</td>\n",
       "      <td>0.842817</td>\n",
       "      <td>...</td>\n",
       "      <td>2.558300</td>\n",
       "      <td>0.000000</td>\n",
       "      <td>0.953744</td>\n",
       "      <td>0.000000</td>\n",
       "      <td>3.512650</td>\n",
       "      <td>0.531857</td>\n",
       "      <td>01</td>\n",
       "      <td>0</td>\n",
       "      <td>17</td>\n",
       "      <td>01_0</td>\n",
       "    </tr>\n",
       "    <tr>\n",
       "      <th>1</th>\n",
       "      <td>3.963797</td>\n",
       "      <td>0.000000</td>\n",
       "      <td>0.311732</td>\n",
       "      <td>0.000000</td>\n",
       "      <td>4.716617</td>\n",
       "      <td>0.714334</td>\n",
       "      <td>0.808533</td>\n",
       "      <td>0.152932</td>\n",
       "      <td>0.676452</td>\n",
       "      <td>0.183566</td>\n",
       "      <td>...</td>\n",
       "      <td>2.994078</td>\n",
       "      <td>1.007841</td>\n",
       "      <td>1.161596</td>\n",
       "      <td>0.040417</td>\n",
       "      <td>3.752279</td>\n",
       "      <td>3.391960</td>\n",
       "      <td>01</td>\n",
       "      <td>0</td>\n",
       "      <td>11</td>\n",
       "      <td>01_0</td>\n",
       "    </tr>\n",
       "    <tr>\n",
       "      <th>2</th>\n",
       "      <td>2.961751</td>\n",
       "      <td>0.231498</td>\n",
       "      <td>0.041203</td>\n",
       "      <td>0.275047</td>\n",
       "      <td>4.226237</td>\n",
       "      <td>0.250043</td>\n",
       "      <td>0.766132</td>\n",
       "      <td>0.000000</td>\n",
       "      <td>0.075735</td>\n",
       "      <td>1.489841</td>\n",
       "      <td>...</td>\n",
       "      <td>3.148486</td>\n",
       "      <td>0.135580</td>\n",
       "      <td>0.000000</td>\n",
       "      <td>0.749384</td>\n",
       "      <td>3.559952</td>\n",
       "      <td>2.233353</td>\n",
       "      <td>01</td>\n",
       "      <td>0</td>\n",
       "      <td>11</td>\n",
       "      <td>01_0</td>\n",
       "    </tr>\n",
       "    <tr>\n",
       "      <th>3</th>\n",
       "      <td>3.951971</td>\n",
       "      <td>0.391544</td>\n",
       "      <td>0.030235</td>\n",
       "      <td>1.911737</td>\n",
       "      <td>1.914248</td>\n",
       "      <td>0.196068</td>\n",
       "      <td>4.125344</td>\n",
       "      <td>0.238149</td>\n",
       "      <td>0.496188</td>\n",
       "      <td>0.466622</td>\n",
       "      <td>...</td>\n",
       "      <td>2.985532</td>\n",
       "      <td>0.909775</td>\n",
       "      <td>2.843206</td>\n",
       "      <td>1.296746</td>\n",
       "      <td>3.968642</td>\n",
       "      <td>0.490613</td>\n",
       "      <td>01</td>\n",
       "      <td>0</td>\n",
       "      <td>12</td>\n",
       "      <td>01_0</td>\n",
       "    </tr>\n",
       "    <tr>\n",
       "      <th>4</th>\n",
       "      <td>3.204973</td>\n",
       "      <td>0.000000</td>\n",
       "      <td>0.002475</td>\n",
       "      <td>0.400668</td>\n",
       "      <td>4.130337</td>\n",
       "      <td>0.454735</td>\n",
       "      <td>0.448444</td>\n",
       "      <td>0.079543</td>\n",
       "      <td>0.328764</td>\n",
       "      <td>1.208815</td>\n",
       "      <td>...</td>\n",
       "      <td>3.489844</td>\n",
       "      <td>0.758197</td>\n",
       "      <td>0.813311</td>\n",
       "      <td>0.877981</td>\n",
       "      <td>2.142285</td>\n",
       "      <td>2.659254</td>\n",
       "      <td>01</td>\n",
       "      <td>0</td>\n",
       "      <td>11</td>\n",
       "      <td>01_0</td>\n",
       "    </tr>\n",
       "    <tr>\n",
       "      <th>...</th>\n",
       "      <td>...</td>\n",
       "      <td>...</td>\n",
       "      <td>...</td>\n",
       "      <td>...</td>\n",
       "      <td>...</td>\n",
       "      <td>...</td>\n",
       "      <td>...</td>\n",
       "      <td>...</td>\n",
       "      <td>...</td>\n",
       "      <td>...</td>\n",
       "      <td>...</td>\n",
       "      <td>...</td>\n",
       "      <td>...</td>\n",
       "      <td>...</td>\n",
       "      <td>...</td>\n",
       "      <td>...</td>\n",
       "      <td>...</td>\n",
       "      <td>...</td>\n",
       "      <td>...</td>\n",
       "      <td>...</td>\n",
       "      <td>...</td>\n",
       "    </tr>\n",
       "    <tr>\n",
       "      <th>26288919</th>\n",
       "      <td>1.693280</td>\n",
       "      <td>0.348215</td>\n",
       "      <td>0.502324</td>\n",
       "      <td>0.185988</td>\n",
       "      <td>3.035682</td>\n",
       "      <td>0.350522</td>\n",
       "      <td>2.593030</td>\n",
       "      <td>0.211198</td>\n",
       "      <td>1.259692</td>\n",
       "      <td>0.766676</td>\n",
       "      <td>...</td>\n",
       "      <td>4.092850</td>\n",
       "      <td>0.000000</td>\n",
       "      <td>0.000000</td>\n",
       "      <td>3.178231</td>\n",
       "      <td>4.793082</td>\n",
       "      <td>0.000000</td>\n",
       "      <td>HDBM_532</td>\n",
       "      <td>None</td>\n",
       "      <td>7</td>\n",
       "      <td>HDBM_532_None</td>\n",
       "    </tr>\n",
       "    <tr>\n",
       "      <th>26520713</th>\n",
       "      <td>0.729598</td>\n",
       "      <td>0.485712</td>\n",
       "      <td>0.172502</td>\n",
       "      <td>0.000000</td>\n",
       "      <td>0.772020</td>\n",
       "      <td>0.000000</td>\n",
       "      <td>0.719245</td>\n",
       "      <td>0.417552</td>\n",
       "      <td>1.475494</td>\n",
       "      <td>1.154216</td>\n",
       "      <td>...</td>\n",
       "      <td>3.757267</td>\n",
       "      <td>0.099147</td>\n",
       "      <td>0.294973</td>\n",
       "      <td>0.936303</td>\n",
       "      <td>4.438051</td>\n",
       "      <td>0.384407</td>\n",
       "      <td>HDBM_630</td>\n",
       "      <td>None</td>\n",
       "      <td>4</td>\n",
       "      <td>HDBM_630_None</td>\n",
       "    </tr>\n",
       "    <tr>\n",
       "      <th>26031470</th>\n",
       "      <td>2.254079</td>\n",
       "      <td>0.862573</td>\n",
       "      <td>0.441509</td>\n",
       "      <td>0.498153</td>\n",
       "      <td>3.449804</td>\n",
       "      <td>0.328851</td>\n",
       "      <td>1.732715</td>\n",
       "      <td>0.144498</td>\n",
       "      <td>0.869975</td>\n",
       "      <td>1.309697</td>\n",
       "      <td>...</td>\n",
       "      <td>4.134409</td>\n",
       "      <td>0.090517</td>\n",
       "      <td>0.929077</td>\n",
       "      <td>1.499913</td>\n",
       "      <td>5.032999</td>\n",
       "      <td>1.446886</td>\n",
       "      <td>HDBM_436</td>\n",
       "      <td>None</td>\n",
       "      <td>0</td>\n",
       "      <td>HDBM_436_None</td>\n",
       "    </tr>\n",
       "    <tr>\n",
       "      <th>27498207</th>\n",
       "      <td>4.621356</td>\n",
       "      <td>3.484828</td>\n",
       "      <td>0.077849</td>\n",
       "      <td>0.097483</td>\n",
       "      <td>0.373927</td>\n",
       "      <td>0.000000</td>\n",
       "      <td>0.195959</td>\n",
       "      <td>0.000000</td>\n",
       "      <td>0.244078</td>\n",
       "      <td>0.420155</td>\n",
       "      <td>...</td>\n",
       "      <td>1.483905</td>\n",
       "      <td>0.000000</td>\n",
       "      <td>1.437943</td>\n",
       "      <td>0.186262</td>\n",
       "      <td>3.698609</td>\n",
       "      <td>0.000000</td>\n",
       "      <td>HDPB_625</td>\n",
       "      <td>None</td>\n",
       "      <td>14</td>\n",
       "      <td>HDPB_625_None</td>\n",
       "    </tr>\n",
       "    <tr>\n",
       "      <th>27436372</th>\n",
       "      <td>4.823808</td>\n",
       "      <td>3.420130</td>\n",
       "      <td>0.238911</td>\n",
       "      <td>0.181229</td>\n",
       "      <td>0.054774</td>\n",
       "      <td>0.000000</td>\n",
       "      <td>0.000000</td>\n",
       "      <td>0.243584</td>\n",
       "      <td>0.764766</td>\n",
       "      <td>0.069657</td>\n",
       "      <td>...</td>\n",
       "      <td>3.226203</td>\n",
       "      <td>0.000000</td>\n",
       "      <td>0.058953</td>\n",
       "      <td>1.324713</td>\n",
       "      <td>3.528227</td>\n",
       "      <td>0.068169</td>\n",
       "      <td>HDPB_597</td>\n",
       "      <td>None</td>\n",
       "      <td>15</td>\n",
       "      <td>HDPB_597_None</td>\n",
       "    </tr>\n",
       "  </tbody>\n",
       "</table>\n",
       "<p>20353774 rows × 48 columns</p>\n",
       "</div>"
      ],
      "text/plain": [
       "          89Y_CD45  111Cd_CD3  112Cd_CD34  113Cd_CD123  114Cd_CD66b  \\\n",
       "0         2.217051   0.113545    3.317439     0.381279     1.590146   \n",
       "1         3.963797   0.000000    0.311732     0.000000     4.716617   \n",
       "2         2.961751   0.231498    0.041203     0.275047     4.226237   \n",
       "3         3.951971   0.391544    0.030235     1.911737     1.914248   \n",
       "4         3.204973   0.000000    0.002475     0.400668     4.130337   \n",
       "...            ...        ...         ...          ...          ...   \n",
       "26288919  1.693280   0.348215    0.502324     0.185988     3.035682   \n",
       "26520713  0.729598   0.485712    0.172502     0.000000     0.772020   \n",
       "26031470  2.254079   0.862573    0.441509     0.498153     3.449804   \n",
       "27498207  4.621356   3.484828    0.077849     0.097483     0.373927   \n",
       "27436372  4.823808   3.420130    0.238911     0.181229     0.054774   \n",
       "\n",
       "          116Cd_HLA-DR  141Pr_CD38  142Nd_cCaspase3  143Nd_pCRKL Y207  \\\n",
       "0             2.885046    3.629630         0.186837          0.327056   \n",
       "1             0.714334    0.808533         0.152932          0.676452   \n",
       "2             0.250043    0.766132         0.000000          0.075735   \n",
       "3             0.196068    4.125344         0.238149          0.496188   \n",
       "4             0.454735    0.448444         0.079543          0.328764   \n",
       "...                ...         ...              ...               ...   \n",
       "26288919      0.350522    2.593030         0.211198          1.259692   \n",
       "26520713      0.000000    0.719245         0.417552          1.475494   \n",
       "26031470      0.328851    1.732715         0.144498          0.869975   \n",
       "27498207      0.000000    0.195959         0.000000          0.244078   \n",
       "27436372      0.000000    0.000000         0.243584          0.764766   \n",
       "\n",
       "          144Nd_pTyr  ...  173Yb_STAT3tot  174Yb_CD11c  175Lu_CXCR4  \\\n",
       "0           0.842817  ...        2.558300     0.000000     0.953744   \n",
       "1           0.183566  ...        2.994078     1.007841     1.161596   \n",
       "2           1.489841  ...        3.148486     0.135580     0.000000   \n",
       "3           0.466622  ...        2.985532     0.909775     2.843206   \n",
       "4           1.208815  ...        3.489844     0.758197     0.813311   \n",
       "...              ...  ...             ...          ...          ...   \n",
       "26288919    0.766676  ...        4.092850     0.000000     0.000000   \n",
       "26520713    1.154216  ...        3.757267     0.099147     0.294973   \n",
       "26031470    1.309697  ...        4.134409     0.090517     0.929077   \n",
       "27498207    0.420155  ...        1.483905     0.000000     1.437943   \n",
       "27436372    0.069657  ...        3.226203     0.000000     0.058953   \n",
       "\n",
       "          176Yb_pS6 S240244  195Pt_mBC2  209Bi_CD11b  patient_number  \\\n",
       "0                  0.000000    3.512650     0.531857              01   \n",
       "1                  0.040417    3.752279     3.391960              01   \n",
       "2                  0.749384    3.559952     2.233353              01   \n",
       "3                  1.296746    3.968642     0.490613              01   \n",
       "4                  0.877981    2.142285     2.659254              01   \n",
       "...                     ...         ...          ...             ...   \n",
       "26288919           3.178231    4.793082     0.000000        HDBM_532   \n",
       "26520713           0.936303    4.438051     0.384407        HDBM_630   \n",
       "26031470           1.499913    5.032999     1.446886        HDBM_436   \n",
       "27498207           0.186262    3.698609     0.000000        HDPB_625   \n",
       "27436372           1.324713    3.528227     0.068169        HDPB_597   \n",
       "\n",
       "          test_time  cluster         sample  \n",
       "0                 0       17           01_0  \n",
       "1                 0       11           01_0  \n",
       "2                 0       11           01_0  \n",
       "3                 0       12           01_0  \n",
       "4                 0       11           01_0  \n",
       "...             ...      ...            ...  \n",
       "26288919       None        7  HDBM_532_None  \n",
       "26520713       None        4  HDBM_630_None  \n",
       "26031470       None        0  HDBM_436_None  \n",
       "27498207       None       14  HDPB_625_None  \n",
       "27436372       None       15  HDPB_597_None  \n",
       "\n",
       "[20353774 rows x 48 columns]"
      ]
     },
     "execution_count": 3,
     "metadata": {},
     "output_type": "execute_result"
    }
   ],
   "source": [
    "data = pd.read_pickle('../create_clusters/clusters/data_clusters_t0_batch_1_4_075.pkl')\n",
    "\n",
    "data.drop('batch', axis=1, inplace=True)\n",
    "\n",
    "data['sample'] = data['patient_number'].astype(str) + \"_\" + data['test_time'].astype(str)\n",
    "data"
   ]
  },
  {
   "cell_type": "code",
   "execution_count": 4,
   "metadata": {},
   "outputs": [],
   "source": [
    "\n",
    "internal_and_external = ['89Y_CD45', \n",
    "                '111Cd_CD3', \n",
    "                '112Cd_CD34',\n",
    "                '113Cd_CD123', \n",
    "                '114Cd_CD66b', \n",
    "                '116Cd_HLA-DR', \n",
    "                '141Pr_CD38', \n",
    "                '142Nd_cCaspase3', \n",
    "                '143Nd_pCRKL Y207', \n",
    "                '144Nd_pTyr',\n",
    "                '145Nd_CD4', \n",
    "                '146Nd_CD49d', \n",
    "                '147Sm_CD20', \n",
    "                '148Nd_CD16', \n",
    "                '149Sm_CD25',\n",
    "                '150Nd_pSTAT5 Y694', \n",
    "                '151Eu_pSTAT3 S727', \n",
    "                '152Sm_CD13',\n",
    "                '153Eu_pSTAT1 Y701', \n",
    "                '154Sm_CD45RA', \n",
    "                '155Gd_CD27',\n",
    "                '156Gd_pp38 T180Y182', \n",
    "                '157Gd_CD8a', \n",
    "                '158Gd_pSTAT3 Y705',\n",
    "                '159Tb_pMAPKAPK T334', \n",
    "                '160Gd_CD14', \n",
    "                '161Dy_CD26', \n",
    "                '162Dy_FoxP3',\n",
    "                '163Dy_CD56', \n",
    "                '164Dy_CD15', \n",
    "                '165Ho_pCREB S133', \n",
    "                '166Er_MPO',\n",
    "                '167Er_IL1-RAP', \n",
    "                '168Er_CD117', \n",
    "                '169Tm_CD33', \n",
    "                '170Er_pSRC Y418',\n",
    "                '171Yb_pERK T202Y204', \n",
    "                '172Yb_pS6 S235S236', \n",
    "                '173Yb_STAT3tot',\n",
    "                '174Yb_CD11c', \n",
    "                '175Lu_CXCR4', \n",
    "                '176Yb_pS6 S240244', \n",
    "                '195Pt_mBC2', \n",
    "                '209Bi_CD11b']    \n",
    "        \n",
    "\n",
    "external = ['89Y_CD45', \n",
    "                '111Cd_CD3', \n",
    "                '112Cd_CD34',\n",
    "                '113Cd_CD123', \n",
    "                '114Cd_CD66b', \n",
    "                '116Cd_HLA-DR', \n",
    "                '141Pr_CD38', \n",
    "                '145Nd_CD4', \n",
    "                '146Nd_CD49d', \n",
    "                '147Sm_CD20', \n",
    "                '148Nd_CD16', \n",
    "                '149Sm_CD25',\n",
    "                '152Sm_CD13',\n",
    "                '154Sm_CD45RA', \n",
    "                '155Gd_CD27',\n",
    "                '157Gd_CD8a', \n",
    "                '160Gd_CD14', \n",
    "                '161Dy_CD26', \n",
    "                '162Dy_FoxP3',\n",
    "                '163Dy_CD56', \n",
    "                '164Dy_CD15', \n",
    "                '166Er_MPO',\n",
    "                '167Er_IL1-RAP', \n",
    "                '168Er_CD117', \n",
    "                '169Tm_CD33', \n",
    "                '174Yb_CD11c', \n",
    "                '175Lu_CXCR4', \n",
    "                '195Pt_mBC2', \n",
    "                '209Bi_CD11b']\n",
    "\n",
    "internal = list(set(internal_and_external) - set(external))"
   ]
  },
  {
   "cell_type": "code",
   "execution_count": 5,
   "metadata": {},
   "outputs": [],
   "source": [
    "X = data[external]\n",
    "y = data['cluster']\n",
    "groups = data['sample']\n"
   ]
  },
  {
   "cell_type": "code",
   "execution_count": 17,
   "metadata": {},
   "outputs": [
    {
     "name": "stdout",
     "output_type": "stream",
     "text": [
      "One round completed\n",
      "One round completed\n",
      "One round completed\n",
      "One round completed\n",
      "One round completed\n",
      "   accuracy  median_f1  max_diff      rsse       est  \\\n",
      "0  0.857738   0.853752  0.018920  0.032343  0.868246   \n",
      "1  0.859640   0.863023  0.017040  0.028528  0.869144   \n",
      "2  0.880109   0.884127  0.009938  0.014800  0.865585   \n",
      "3  0.863400   0.850453  0.013803  0.017486  0.861835   \n",
      "4  0.887306   0.875203  0.010501  0.016446  0.863062   \n",
      "\n",
      "                                    cfg  \n",
      "0  {'shrinkage': 0.9, 'solver': 'lsqr'}  \n",
      "1  {'shrinkage': 0.9, 'solver': 'lsqr'}  \n",
      "2  {'shrinkage': 0.9, 'solver': 'lsqr'}  \n",
      "3  {'shrinkage': 0.9, 'solver': 'lsqr'}  \n",
      "4  {'shrinkage': 0.9, 'solver': 'lsqr'}  \n"
     ]
    }
   ],
   "source": [
    "# Initialize the classifier\n",
    "model = LinearDiscriminantAnalysis()\n",
    "\n",
    "# Hyperparameters for LDA could include different solvers and shrinkage\n",
    "param_grid = [\n",
    "    {'solver': ['svd'], 'shrinkage': [None]},  # SVD does not support shrinkage\n",
    "    {'solver': ['lsqr', 'eigen'], 'shrinkage': [None, 'auto', 0.1, 0.5, 0.9]}\n",
    "]\n",
    "\n",
    "\n",
    "# Setup for K-Fold Cross-Validation\n",
    "outer_cv = GroupKFold(n_splits=5)\n",
    "inner_cv = GroupKFold(n_splits=3) # Inner loop for hyperparameter tuning\n",
    "\n",
    "results = []\n",
    "\n",
    "for train_idx, test_idx in outer_cv.split(X, y, groups):\n",
    "    X_train, X_test = X.iloc[train_idx], X.iloc[test_idx]\n",
    "    y_train, y_test = y.iloc[train_idx], y.iloc[test_idx]\n",
    "    groups_train = groups.iloc[train_idx]\n",
    "\n",
    "    # Set up GridSearchCV\n",
    "    grid_search = GridSearchCV(\n",
    "        estimator=model,\n",
    "        param_grid=param_grid,\n",
    "        cv=inner_cv,\n",
    "        scoring='accuracy'\n",
    "    )\n",
    "\n",
    "    # Fit the model\n",
    "    grid_search.fit(X_train, y_train, groups=groups_train)\n",
    "    best_model = grid_search.best_estimator_\n",
    "    predictions = best_model.predict(X_test)\n",
    "    accuracy = accuracy_score(y_test, predictions)\n",
    "    f1_scores = f1_score(y_test, predictions, average=None)\n",
    "    median_f1 = np.median(f1_scores)\n",
    "\n",
    "    # # Weight calculation\n",
    "    # class_counts = np.bincount(y_train)\n",
    "    # sample_weights = np.array([1.0 / class_counts[label] if label < len(class_counts) else 0 for label in y_test])\n",
    "    # weighted_f1 = np.average(f1_scores, weights=sample_weights)\n",
    "\n",
    "    # Additional metrics\n",
    "    true_frequencies = np.bincount(y_test) / len(y_test)\n",
    "    predicted_frequencies = np.bincount(predictions, minlength=len(np.unique(y))) / len(predictions)\n",
    "    max_diff = np.max(np.abs(true_frequencies - predicted_frequencies))\n",
    "    rsse = np.sqrt(np.sum((true_frequencies - predicted_frequencies) ** 2))\n",
    "\n",
    "    results.append({\n",
    "        'accuracy': accuracy,\n",
    "        'median_f1': median_f1,\n",
    "        # 'weighted_f1': weighted_f1,\n",
    "        'max_diff': max_diff,\n",
    "        'rsse': rsse,\n",
    "        'est': grid_search.best_score_,\n",
    "        'cfg': grid_search.best_params_\n",
    "    })\n",
    "\n",
    "    print('One round completed')\n",
    "\n",
    "# Print results\n",
    "results_df = pd.DataFrame(results)\n",
    "print(results_df)\n"
   ]
  },
  {
   "cell_type": "code",
   "execution_count": 18,
   "metadata": {},
   "outputs": [
    {
     "name": "stdout",
     "output_type": "stream",
     "text": [
      "One round completed\n",
      "One round completed\n",
      "One round completed\n",
      "One round completed\n",
      "One round completed\n",
      "   accuracy  median_f1  max_diff      rsse\n",
      "0  0.848446   0.832118  0.009814  0.017105\n",
      "1  0.850503   0.844898  0.012764  0.024750\n",
      "2  0.864270   0.851744  0.015521  0.018986\n",
      "3  0.859898   0.846153  0.008132  0.015112\n",
      "4  0.863014   0.858457  0.011444  0.017120\n"
     ]
    }
   ],
   "source": [
    "model_1 = RandomForestClassifier(n_estimators=100)\n",
    "\n",
    "# Setup for K-Fold Cross-Validation\n",
    "outer_cv = GroupKFold(n_splits=5)\n",
    "\n",
    "results_1 = []\n",
    "\n",
    "for train_idx, test_idx in outer_cv.split(X, y, groups):\n",
    "    X_train, X_test = X.iloc[train_idx], X.iloc[test_idx]\n",
    "    y_train, y_test = y.iloc[train_idx], y.iloc[test_idx]\n",
    "    groups_train = groups.iloc[train_idx]\n",
    "\n",
    "    # Fit the model\n",
    "    model_1.fit(X_train, y_train)\n",
    "    predictions = model_1.predict(X_test)\n",
    "    accuracy = accuracy_score(y_test, predictions)\n",
    "    f1_scores = f1_score(y_test, predictions, average=None) \n",
    "    median_f1 = np.median(f1_scores)\n",
    "\n",
    "    # Additional metrics\n",
    "    true_frequencies = np.bincount(y_test) / len(y_test)\n",
    "    predicted_frequencies = np.bincount(predictions, minlength=len(np.unique(y))) / len(predictions)\n",
    "    max_diff = np.max(np.abs(true_frequencies - predicted_frequencies))\n",
    "    rsse = np.sqrt(np.sum((true_frequencies - predicted_frequencies) ** 2))\n",
    "\n",
    "    results_1.append({\n",
    "        'accuracy': accuracy,\n",
    "        'median_f1': median_f1,\n",
    "        'max_diff': max_diff,\n",
    "        'rsse': rsse\n",
    "    })\n",
    "\n",
    "    print('One round completed')\n",
    "\n",
    "# Print results\n",
    "results_df_rfc = pd.DataFrame(results_1)\n",
    "print(results_df_rfc)"
   ]
  },
  {
   "cell_type": "markdown",
   "metadata": {},
   "source": [
    "## Training LDA on all cells"
   ]
  },
  {
   "cell_type": "code",
   "execution_count": 6,
   "metadata": {},
   "outputs": [
    {
     "data": {
      "text/html": [
       "<style>#sk-container-id-1 {color: black;}#sk-container-id-1 pre{padding: 0;}#sk-container-id-1 div.sk-toggleable {background-color: white;}#sk-container-id-1 label.sk-toggleable__label {cursor: pointer;display: block;width: 100%;margin-bottom: 0;padding: 0.3em;box-sizing: border-box;text-align: center;}#sk-container-id-1 label.sk-toggleable__label-arrow:before {content: \"▸\";float: left;margin-right: 0.25em;color: #696969;}#sk-container-id-1 label.sk-toggleable__label-arrow:hover:before {color: black;}#sk-container-id-1 div.sk-estimator:hover label.sk-toggleable__label-arrow:before {color: black;}#sk-container-id-1 div.sk-toggleable__content {max-height: 0;max-width: 0;overflow: hidden;text-align: left;background-color: #f0f8ff;}#sk-container-id-1 div.sk-toggleable__content pre {margin: 0.2em;color: black;border-radius: 0.25em;background-color: #f0f8ff;}#sk-container-id-1 input.sk-toggleable__control:checked~div.sk-toggleable__content {max-height: 200px;max-width: 100%;overflow: auto;}#sk-container-id-1 input.sk-toggleable__control:checked~label.sk-toggleable__label-arrow:before {content: \"▾\";}#sk-container-id-1 div.sk-estimator input.sk-toggleable__control:checked~label.sk-toggleable__label {background-color: #d4ebff;}#sk-container-id-1 div.sk-label input.sk-toggleable__control:checked~label.sk-toggleable__label {background-color: #d4ebff;}#sk-container-id-1 input.sk-hidden--visually {border: 0;clip: rect(1px 1px 1px 1px);clip: rect(1px, 1px, 1px, 1px);height: 1px;margin: -1px;overflow: hidden;padding: 0;position: absolute;width: 1px;}#sk-container-id-1 div.sk-estimator {font-family: monospace;background-color: #f0f8ff;border: 1px dotted black;border-radius: 0.25em;box-sizing: border-box;margin-bottom: 0.5em;}#sk-container-id-1 div.sk-estimator:hover {background-color: #d4ebff;}#sk-container-id-1 div.sk-parallel-item::after {content: \"\";width: 100%;border-bottom: 1px solid gray;flex-grow: 1;}#sk-container-id-1 div.sk-label:hover label.sk-toggleable__label {background-color: #d4ebff;}#sk-container-id-1 div.sk-serial::before {content: \"\";position: absolute;border-left: 1px solid gray;box-sizing: border-box;top: 0;bottom: 0;left: 50%;z-index: 0;}#sk-container-id-1 div.sk-serial {display: flex;flex-direction: column;align-items: center;background-color: white;padding-right: 0.2em;padding-left: 0.2em;position: relative;}#sk-container-id-1 div.sk-item {position: relative;z-index: 1;}#sk-container-id-1 div.sk-parallel {display: flex;align-items: stretch;justify-content: center;background-color: white;position: relative;}#sk-container-id-1 div.sk-item::before, #sk-container-id-1 div.sk-parallel-item::before {content: \"\";position: absolute;border-left: 1px solid gray;box-sizing: border-box;top: 0;bottom: 0;left: 50%;z-index: -1;}#sk-container-id-1 div.sk-parallel-item {display: flex;flex-direction: column;z-index: 1;position: relative;background-color: white;}#sk-container-id-1 div.sk-parallel-item:first-child::after {align-self: flex-end;width: 50%;}#sk-container-id-1 div.sk-parallel-item:last-child::after {align-self: flex-start;width: 50%;}#sk-container-id-1 div.sk-parallel-item:only-child::after {width: 0;}#sk-container-id-1 div.sk-dashed-wrapped {border: 1px dashed gray;margin: 0 0.4em 0.5em 0.4em;box-sizing: border-box;padding-bottom: 0.4em;background-color: white;}#sk-container-id-1 div.sk-label label {font-family: monospace;font-weight: bold;display: inline-block;line-height: 1.2em;}#sk-container-id-1 div.sk-label-container {text-align: center;}#sk-container-id-1 div.sk-container {/* jupyter's `normalize.less` sets `[hidden] { display: none; }` but bootstrap.min.css set `[hidden] { display: none !important; }` so we also need the `!important` here to be able to override the default hidden behavior on the sphinx rendered scikit-learn.org. See: https://github.com/scikit-learn/scikit-learn/issues/21755 */display: inline-block !important;position: relative;}#sk-container-id-1 div.sk-text-repr-fallback {display: none;}</style><div id=\"sk-container-id-1\" class=\"sk-top-container\"><div class=\"sk-text-repr-fallback\"><pre>LinearDiscriminantAnalysis(shrinkage=0.9, solver=&#x27;lsqr&#x27;)</pre><b>In a Jupyter environment, please rerun this cell to show the HTML representation or trust the notebook. <br />On GitHub, the HTML representation is unable to render, please try loading this page with nbviewer.org.</b></div><div class=\"sk-container\" hidden><div class=\"sk-item\"><div class=\"sk-estimator sk-toggleable\"><input class=\"sk-toggleable__control sk-hidden--visually\" id=\"sk-estimator-id-1\" type=\"checkbox\" checked><label for=\"sk-estimator-id-1\" class=\"sk-toggleable__label sk-toggleable__label-arrow\">LinearDiscriminantAnalysis</label><div class=\"sk-toggleable__content\"><pre>LinearDiscriminantAnalysis(shrinkage=0.9, solver=&#x27;lsqr&#x27;)</pre></div></div></div></div></div>"
      ],
      "text/plain": [
       "LinearDiscriminantAnalysis(shrinkage=0.9, solver='lsqr')"
      ]
     },
     "execution_count": 6,
     "metadata": {},
     "output_type": "execute_result"
    }
   ],
   "source": [
    "model = LinearDiscriminantAnalysis(solver='lsqr', shrinkage=0.9)\n",
    "\n",
    "model.fit(X, y)"
   ]
  },
  {
   "cell_type": "markdown",
   "metadata": {},
   "source": [
    "### Predicting cell clusters in pool 2"
   ]
  },
  {
   "cell_type": "code",
   "execution_count": 7,
   "metadata": {},
   "outputs": [],
   "source": [
    "data_pool_2 = pd.read_pickle('../cytofdata/uncorrected_batch_5_6.pkl')"
   ]
  },
  {
   "cell_type": "code",
   "execution_count": 8,
   "metadata": {},
   "outputs": [],
   "source": [
    "data_pool_2 = data_pool_2[~data_pool_2['file_id'].isin(['RT', 'RJ'])]"
   ]
  },
  {
   "cell_type": "code",
   "execution_count": 9,
   "metadata": {},
   "outputs": [],
   "source": [
    "X_pool_2 = data_pool_2[external]\n",
    "y_pool_2 = model.predict(X_pool_2)\n",
    "\n",
    "data_pool_2['cluster'] = y_pool_2"
   ]
  },
  {
   "cell_type": "code",
   "execution_count": 10,
   "metadata": {},
   "outputs": [
    {
     "data": {
      "text/plain": [
       "cluster\n",
       "1     1474253\n",
       "4     1066346\n",
       "2      912618\n",
       "0      738782\n",
       "3      466230\n",
       "13     434541\n",
       "11     417629\n",
       "6      266657\n",
       "10     240362\n",
       "12     190952\n",
       "8      189398\n",
       "5      171043\n",
       "14     159074\n",
       "15     114965\n",
       "9      107291\n",
       "7       64551\n",
       "16      60572\n",
       "27      48658\n",
       "21      41689\n",
       "19      39883\n",
       "20      37040\n",
       "18      29896\n",
       "23      26609\n",
       "25      23231\n",
       "24      15319\n",
       "17      11946\n",
       "26      10159\n",
       "22       4256\n",
       "Name: count, dtype: int64"
      ]
     },
     "execution_count": 10,
     "metadata": {},
     "output_type": "execute_result"
    }
   ],
   "source": [
    "data_pool_2['cluster'].value_counts()"
   ]
  },
  {
   "cell_type": "code",
   "execution_count": 11,
   "metadata": {},
   "outputs": [],
   "source": [
    "data_pool_2.to_pickle('../cytofdata/data_clusters_batch_5_6_unannotated_model.pkl')"
   ]
  },
  {
   "cell_type": "code",
   "execution_count": 12,
   "metadata": {},
   "outputs": [],
   "source": [
    "data_test = data[data['sample'].isin(['01_0', '01_1', '01_2',\n",
    "                                   '12_0', '12_1', '12_2',\n",
    "                                   '08_0', '08_1', '08_2',\n",
    "                                   '15_0', '15_1', '15_2',\n",
    "                                   '20_0', '20_1', '20_2',\n",
    "                                   '28_0', '28_1', '28_2',\n",
    "                                   '35_0', '35_1', '35_2',\n",
    "                                   'HDBM_663_None', 'HDPB_597_None', 'HDBM_578_None',])]\n",
    "\n",
    "data_train = data[~data['sample'].isin(['01_0', '01_1', '01_2',\n",
    "                                   '12_0', '12_1', '12_2',\n",
    "                                   '08_0', '08_1', '08_2',\n",
    "                                   '15_0', '15_1', '15_2',\n",
    "                                   '20_0', '20_1', '20_2',\n",
    "                                   '28_0', '28_1', '28_2',\n",
    "                                   '35_0', '35_1', '35_2',\n",
    "                                   'HDBM_663_None', 'HDPB_597_None', 'HDBM_578_None',])]\n",
    "\n"
   ]
  },
  {
   "cell_type": "code",
   "execution_count": 13,
   "metadata": {},
   "outputs": [
    {
     "data": {
      "text/html": [
       "<style>#sk-container-id-2 {color: black;}#sk-container-id-2 pre{padding: 0;}#sk-container-id-2 div.sk-toggleable {background-color: white;}#sk-container-id-2 label.sk-toggleable__label {cursor: pointer;display: block;width: 100%;margin-bottom: 0;padding: 0.3em;box-sizing: border-box;text-align: center;}#sk-container-id-2 label.sk-toggleable__label-arrow:before {content: \"▸\";float: left;margin-right: 0.25em;color: #696969;}#sk-container-id-2 label.sk-toggleable__label-arrow:hover:before {color: black;}#sk-container-id-2 div.sk-estimator:hover label.sk-toggleable__label-arrow:before {color: black;}#sk-container-id-2 div.sk-toggleable__content {max-height: 0;max-width: 0;overflow: hidden;text-align: left;background-color: #f0f8ff;}#sk-container-id-2 div.sk-toggleable__content pre {margin: 0.2em;color: black;border-radius: 0.25em;background-color: #f0f8ff;}#sk-container-id-2 input.sk-toggleable__control:checked~div.sk-toggleable__content {max-height: 200px;max-width: 100%;overflow: auto;}#sk-container-id-2 input.sk-toggleable__control:checked~label.sk-toggleable__label-arrow:before {content: \"▾\";}#sk-container-id-2 div.sk-estimator input.sk-toggleable__control:checked~label.sk-toggleable__label {background-color: #d4ebff;}#sk-container-id-2 div.sk-label input.sk-toggleable__control:checked~label.sk-toggleable__label {background-color: #d4ebff;}#sk-container-id-2 input.sk-hidden--visually {border: 0;clip: rect(1px 1px 1px 1px);clip: rect(1px, 1px, 1px, 1px);height: 1px;margin: -1px;overflow: hidden;padding: 0;position: absolute;width: 1px;}#sk-container-id-2 div.sk-estimator {font-family: monospace;background-color: #f0f8ff;border: 1px dotted black;border-radius: 0.25em;box-sizing: border-box;margin-bottom: 0.5em;}#sk-container-id-2 div.sk-estimator:hover {background-color: #d4ebff;}#sk-container-id-2 div.sk-parallel-item::after {content: \"\";width: 100%;border-bottom: 1px solid gray;flex-grow: 1;}#sk-container-id-2 div.sk-label:hover label.sk-toggleable__label {background-color: #d4ebff;}#sk-container-id-2 div.sk-serial::before {content: \"\";position: absolute;border-left: 1px solid gray;box-sizing: border-box;top: 0;bottom: 0;left: 50%;z-index: 0;}#sk-container-id-2 div.sk-serial {display: flex;flex-direction: column;align-items: center;background-color: white;padding-right: 0.2em;padding-left: 0.2em;position: relative;}#sk-container-id-2 div.sk-item {position: relative;z-index: 1;}#sk-container-id-2 div.sk-parallel {display: flex;align-items: stretch;justify-content: center;background-color: white;position: relative;}#sk-container-id-2 div.sk-item::before, #sk-container-id-2 div.sk-parallel-item::before {content: \"\";position: absolute;border-left: 1px solid gray;box-sizing: border-box;top: 0;bottom: 0;left: 50%;z-index: -1;}#sk-container-id-2 div.sk-parallel-item {display: flex;flex-direction: column;z-index: 1;position: relative;background-color: white;}#sk-container-id-2 div.sk-parallel-item:first-child::after {align-self: flex-end;width: 50%;}#sk-container-id-2 div.sk-parallel-item:last-child::after {align-self: flex-start;width: 50%;}#sk-container-id-2 div.sk-parallel-item:only-child::after {width: 0;}#sk-container-id-2 div.sk-dashed-wrapped {border: 1px dashed gray;margin: 0 0.4em 0.5em 0.4em;box-sizing: border-box;padding-bottom: 0.4em;background-color: white;}#sk-container-id-2 div.sk-label label {font-family: monospace;font-weight: bold;display: inline-block;line-height: 1.2em;}#sk-container-id-2 div.sk-label-container {text-align: center;}#sk-container-id-2 div.sk-container {/* jupyter's `normalize.less` sets `[hidden] { display: none; }` but bootstrap.min.css set `[hidden] { display: none !important; }` so we also need the `!important` here to be able to override the default hidden behavior on the sphinx rendered scikit-learn.org. See: https://github.com/scikit-learn/scikit-learn/issues/21755 */display: inline-block !important;position: relative;}#sk-container-id-2 div.sk-text-repr-fallback {display: none;}</style><div id=\"sk-container-id-2\" class=\"sk-top-container\"><div class=\"sk-text-repr-fallback\"><pre>LinearDiscriminantAnalysis(shrinkage=0.9, solver=&#x27;lsqr&#x27;)</pre><b>In a Jupyter environment, please rerun this cell to show the HTML representation or trust the notebook. <br />On GitHub, the HTML representation is unable to render, please try loading this page with nbviewer.org.</b></div><div class=\"sk-container\" hidden><div class=\"sk-item\"><div class=\"sk-estimator sk-toggleable\"><input class=\"sk-toggleable__control sk-hidden--visually\" id=\"sk-estimator-id-2\" type=\"checkbox\" checked><label for=\"sk-estimator-id-2\" class=\"sk-toggleable__label sk-toggleable__label-arrow\">LinearDiscriminantAnalysis</label><div class=\"sk-toggleable__content\"><pre>LinearDiscriminantAnalysis(shrinkage=0.9, solver=&#x27;lsqr&#x27;)</pre></div></div></div></div></div>"
      ],
      "text/plain": [
       "LinearDiscriminantAnalysis(shrinkage=0.9, solver='lsqr')"
      ]
     },
     "execution_count": 13,
     "metadata": {},
     "output_type": "execute_result"
    }
   ],
   "source": [
    "\n",
    "X = data_train[external]\n",
    "y = data_train['cluster']\n",
    "\n",
    "model.fit(X, y)"
   ]
  },
  {
   "cell_type": "code",
   "execution_count": 14,
   "metadata": {},
   "outputs": [],
   "source": [
    "X_test = data_test[external]\n",
    "y_test = data_test['cluster']"
   ]
  },
  {
   "cell_type": "code",
   "execution_count": 15,
   "metadata": {},
   "outputs": [
    {
     "data": {
      "text/plain": [
       "cluster\n",
       "1     2801940\n",
       "0     2422551\n",
       "2     1910623\n",
       "5     1480151\n",
       "3     1430020\n",
       "4     1032687\n",
       "6      854764\n",
       "8      678331\n",
       "7      611163\n",
       "9      587310\n",
       "10     448990\n",
       "11     444290\n",
       "12     357445\n",
       "13     323213\n",
       "14     141641\n",
       "19     140586\n",
       "15     104153\n",
       "16      80176\n",
       "17      44503\n",
       "21      39523\n",
       "18      38636\n",
       "22      36411\n",
       "23      20014\n",
       "25      17297\n",
       "20      14493\n",
       "24       8391\n",
       "27       5056\n",
       "26       2526\n",
       "Name: count, dtype: int64"
      ]
     },
     "execution_count": 15,
     "metadata": {},
     "output_type": "execute_result"
    }
   ],
   "source": [
    "data_train['cluster'].value_counts()"
   ]
  },
  {
   "cell_type": "code",
   "execution_count": 13,
   "metadata": {},
   "outputs": [
    {
     "data": {
      "text/plain": [
       "0.8728267502788241"
      ]
     },
     "execution_count": 13,
     "metadata": {},
     "output_type": "execute_result"
    }
   ],
   "source": [
    "model.score(X_test, y_test)"
   ]
  },
  {
   "cell_type": "code",
   "execution_count": 20,
   "metadata": {},
   "outputs": [],
   "source": [
    "import plotly.express as px\n",
    "from sklearn.metrics import confusion_matrix\n"
   ]
  },
  {
   "cell_type": "code",
   "execution_count": 21,
   "metadata": {},
   "outputs": [],
   "source": [
    "y_pred = model.predict(X_test)"
   ]
  },
  {
   "cell_type": "code",
   "execution_count": 27,
   "metadata": {},
   "outputs": [],
   "source": [
    "class_labels = [str(i) for i in range(28)]"
   ]
  },
  {
   "cell_type": "markdown",
   "metadata": {},
   "source": [
    "## Making confusion matrix"
   ]
  },
  {
   "cell_type": "code",
   "execution_count": 29,
   "metadata": {},
   "outputs": [],
   "source": [
    "cm = confusion_matrix(y_test, y_pred)\n",
    "\n",
    "# Normalize the confusion matrix\n",
    "cm_normalized = cm.astype('float') / cm.sum(axis=1)[:, np.newaxis]"
   ]
  },
  {
   "cell_type": "code",
   "execution_count": 31,
   "metadata": {},
   "outputs": [
    {
     "data": {
      "application/vnd.plotly.v1+json": {
       "config": {
        "plotlyServerURL": "https://plot.ly"
       },
       "data": [
        {
         "coloraxis": "coloraxis",
         "hovertemplate": "Predicted Class: %{x}<br>Actual Class: %{y}<br>Normalized Count: %{z}<extra></extra>",
         "name": "0",
         "texttemplate": "%{z}",
         "type": "heatmap",
         "x": [
          "0",
          "1",
          "2",
          "3",
          "4",
          "5",
          "6",
          "7",
          "8",
          "9",
          "10",
          "11",
          "12",
          "13",
          "14",
          "15",
          "16",
          "17",
          "18",
          "19",
          "20",
          "21",
          "22",
          "23",
          "24",
          "25",
          "26",
          "27"
         ],
         "xaxis": "x",
         "y": [
          "0",
          "1",
          "2",
          "3",
          "4",
          "5",
          "6",
          "7",
          "8",
          "9",
          "10",
          "11",
          "12",
          "13",
          "14",
          "15",
          "16",
          "17",
          "18",
          "19",
          "20",
          "21",
          "22",
          "23",
          "24",
          "25",
          "26",
          "27"
         ],
         "yaxis": "y",
         "z": [
          [
           0.8722732006642835,
           0.03986404706279731,
           0.019520364792974358,
           0.010382948180257269,
           0.0017486700256143216,
           0.030107383117065893,
           0.0018225574914853492,
           0.00008444281813831734,
           0.011698848762912713,
           0.0004257325414473499,
           0.00005629521209221156,
           0.008433726461564444,
           0,
           0,
           0,
           0,
           0,
           0,
           0,
           0.0029379063810622908,
           0.0000035184507557632225,
           0,
           0.0002498100036591888,
           0.0003131421172629268,
           0.0000035184507557632225,
           0.000007036901511526445,
           0,
           0.00006685056435950123
          ],
          [
           0.04851951676415491,
           0.9137133463317659,
           0.007732155828267768,
           0.006967542149329052,
           0.00007646136789387162,
           0.0046880376189930035,
           0.00015292273578774323,
           0,
           0.000047788354933669766,
           0,
           0.000019115341973467904,
           0.008988989563023282,
           0,
           0,
           0,
           0,
           0,
           0,
           0,
           0.005682035401613335,
           0,
           0,
           0.00035363382650915626,
           0.0012902855832090836,
           0.0002198264326948809,
           0,
           0,
           0.0015483426998509004
          ],
          [
           0.02409235685639609,
           0.0028655174967990435,
           0.8587536903590363,
           0.000010581674655831032,
           0.016151868194660485,
           0.020655428928182173,
           0.0007153212067341777,
           0.0000042326698623324125,
           0.0028464704824185476,
           0.0165455064918574,
           0.00012698009586997237,
           0.050169835878226085,
           0,
           0.000014814344518163444,
           0,
           0,
           0,
           0.0000042326698623324125,
           0,
           0.00588552744357322,
           0,
           0.0006222024697628647,
           0.0005015713786863909,
           0.00001693067944932965,
           0,
           0.000012698009586997238,
           0,
           0.0000042326698623324125
          ],
          [
           0.02847243662310041,
           0.001109167209815558,
           0.00006860828101951906,
           0.8911586795192846,
           0.014847975483974249,
           0.015316798737607629,
           0.030473511486169714,
           0.009147770802602541,
           0.004665363109327296,
           0.001011972145037906,
           0.00005145621076463929,
           0,
           0,
           0,
           0,
           0,
           0,
           0,
           0,
           0.002801504808297028,
           0,
           0,
           0.000011434713503253177,
           0.0006860828101951905,
           0,
           0.000097195064777652,
           0,
           0.00008004299452277223
          ],
          [
           0.00674493544528493,
           0.00004469663753581052,
           0.012014881851888114,
           0.0021390533677852178,
           0.9111856528050333,
           0.0018304337276570022,
           0.0017538109204527556,
           0.0009513998561193953,
           0.004761256103219435,
           0.013936837265927966,
           0.0001851717840769293,
           0,
           0.00007449439589301753,
           0.0000021284113112290723,
           0,
           0,
           0,
           0.00001915570180106165,
           0,
           0.005899956154726989,
           0,
           0.03794957367921436,
           0.00000851364524491629,
           0,
           0,
           0.0004980482468276029,
           0,
           0
          ],
          [
           0.043462248982757024,
           0.004880371027961831,
           0.01680284798093362,
           0.002230599028117524,
           0.004206700180543787,
           0.8718648107284328,
           0.0029641517286393944,
           0.001461117215733358,
           0.004024060528577117,
           0.01786275678087134,
           0.0000808405016901653,
           0.027443853277483526,
           0,
           0,
           0,
           0,
           0,
           0,
           0,
           0.0025150378303606985,
           0,
           0,
           0.00018862783727705237,
           0.000008982277965573923,
           0.0000029940926551913075,
           0,
           0,
           0
          ],
          [
           0.011380759634827594,
           0,
           0.009415152466889929,
           0.038578128473778374,
           0.0852798255303081,
           0.02354141008494105,
           0.6750960747848243,
           0.04069195018579752,
           0.02292032056688534,
           0.07852194810373607,
           0.00004940484802715855,
           0.00008116510747318905,
           0.00006704943660828661,
           0.000017644588581128052,
           0.0000035289177162256107,
           0,
           0,
           0.0036136117414150254,
           0,
           0.0036877190134557633,
           0.000010586753148676832,
           0.00013762779093279883,
           0.000021173506297353663,
           0.0009739812896782685,
           0,
           0.005879176915231868,
           0.000024702424013579275,
           0.0000070578354324512214
          ],
          [
           0.0000323240681779246,
           0,
           0,
           0.011070993350939176,
           0.0184344160818704,
           0.0019814653793067782,
           0.018583106795488854,
           0.924009348120517,
           0.0010149757407868325,
           0.01977586491125427,
           0.00004202128863130198,
           0,
           0.00000323240681779246,
           0,
           0,
           0,
           0,
           0.00030384624087249126,
           0,
           0.00005495091590247182,
           0,
           0.0002424305113344345,
           0,
           0.00001292962727116984,
           0,
           0.004438094560829047,
           0,
           0
          ],
          [
           0.049238308414464534,
           0.000005432892906815021,
           0.03494980006954103,
           0.006992133171070932,
           0.13221488178025034,
           0.009627086230876217,
           0.04546788073713491,
           0.005644775730180807,
           0.672934414116829,
           0.03702516515994437,
           0.000043463143254520165,
           0.00015212100139082058,
           0.000027164464534075106,
           0,
           0,
           0,
           0,
           0.000027164464534075106,
           0,
           0.000793202364394993,
           0,
           0.0012549982614742698,
           0.000010865785813630041,
           0.00011952364394993046,
           0,
           0.0034716185674547985,
           0,
           0
          ],
          [
           0.00008050089445438283,
           0,
           0.009035778175313059,
           0.00013059033989266548,
           0.04591234347048301,
           0.02950268336314848,
           0.0012325581395348838,
           0.014338103756708407,
           0.003148479427549195,
           0.8810214669051878,
           0.0004257602862254025,
           0.00047584973166368513,
           0.0000017889087656529517,
           0.0000017889087656529517,
           0,
           0,
           0,
           0.000030411449016100178,
           0,
           0.00032737030411449016,
           0,
           0.014162790697674418,
           0.00002325581395348837,
           0,
           0,
           0.000148479427549195,
           0,
           0
          ],
          [
           0.00021323585408575127,
           0.00027416038382453733,
           0.0015916533394257863,
           0.00020562028786840302,
           0.005323280785926434,
           0.0004493184068235473,
           0.0001523113243469652,
           0.0009824080420379256,
           0.0006092452973878608,
           0.004150483588454801,
           0.9618003198537811,
           0.00012184905947757215,
           0.00033508491356332344,
           0.0000076155662173482594,
           0,
           0,
           0,
           0.0010052547406899702,
           0,
           0.00015992689056431347,
           0,
           0.003845860939760871,
           0,
           0.0008377122839083085,
           0.0000076155662173482594,
           0.012146828116670474,
           0.000015231132434696519,
           0.005764983626532633
          ],
          [
           0.008122694401915025,
           0.01340823364704392,
           0.015207937918939048,
           0.0000021841071260863205,
           0,
           0.04960980926192468,
           0.00028611803351730793,
           0.00001528874988260424,
           0.0002599087480042721,
           0.00804188243824983,
           0.00007207553516084857,
           0.9043994469840757,
           0,
           0,
           0,
           0,
           0.0000021841071260863205,
           0.000004368214252172641,
           0,
           0,
           0.0000021841071260863205,
           0,
           0.00014196696319561082,
           0.00031451142615643014,
           0.0000327616068912948,
           0.00001528874988260424,
           0,
           0.00006115499953041696
          ],
          [
           0,
           0,
           0.00003167213010911049,
           0,
           0.0011401966839279776,
           0,
           0.0003642294962547706,
           0.00006334426021822098,
           0.000419655723945714,
           0.0003167213010911049,
           0.0010293442285460909,
           0,
           0.9771881482889132,
           0.000023754097581832866,
           0.000007918032527277622,
           0,
           0,
           0.0019636720667648502,
           0,
           0,
           0,
           0.0018369835463284082,
           0,
           0.0003325573661456601,
           0,
           0.015163032289736646,
           0.00011877048790916433,
           0
          ],
          [
           0,
           0.000010597373970730053,
           0.0015154244778143977,
           0.000010597373970730053,
           0.00040270021088774203,
           0,
           0.00034971334103409173,
           0.0003179212191219016,
           0.0012822822504583364,
           0.0014624376079607473,
           0.0033487701747506966,
           0.0030944331994531755,
           0.0015154244778143977,
           0.9368290537604782,
           0.000010597373970730053,
           0,
           0.004302533832116402,
           0.014698557697402583,
           0.002363214395472802,
           0,
           0.00004238949588292021,
           0.0003391159670633617,
           0.00004238949588292021,
           0.0033381728007799666,
           0,
           0.005457647594925978,
           0.01605502156565603,
           0.0032110043131312062
          ],
          [
           0,
           0,
           0,
           0,
           0.000057434954913560395,
           0,
           0,
           0,
           0.00008615243237034059,
           0,
           0,
           0,
           0,
           0,
           0.9987651484693585,
           0.0002584572971110218,
           0,
           0,
           0,
           0,
           0.00011486990982712079,
           0.0006605019815059445,
           0,
           0,
           0,
           0.000057434954913560395,
           0,
           0
          ],
          [
           0,
           0,
           0.00007207466935745433,
           0,
           0.00003603733467872716,
           0,
           0,
           0,
           0.00003603733467872716,
           0.00003603733467872716,
           0,
           0,
           0,
           0,
           0.02198277415402357,
           0.9728638869869185,
           0.0026307254315470828,
           0.00003603733467872716,
           0.00018018667339363581,
           0,
           0.0005405600201809074,
           0.0015135680565065408,
           0,
           0,
           0,
           0.00003603733467872716,
           0.00003603733467872716,
           0
          ],
          [
           0,
           0.00034444750620005513,
           0.00013777900248002206,
           0,
           0.00020666850372003307,
           0.00006888950124001103,
           0.00006888950124001103,
           0,
           0.0006888950124001103,
           0.00013777900248002206,
           0.0006888950124001103,
           0.0011022320198401765,
           0.00048222650868007716,
           0.00013777900248002206,
           0.00013777900248002206,
           0.0005511160099200882,
           0.9798842656379168,
           0.0010333425186001654,
           0.003306696059520529,
           0,
           0.00034444750620005513,
           0.003788922568200606,
           0,
           0.002755580049600441,
           0,
           0.0017222375310002756,
           0.0013089005235602095,
           0.0011022320198401765
          ],
          [
           0.00007693491306354824,
           0.00007693491306354824,
           0,
           0.00007693491306354824,
           0.007578088936759502,
           0,
           0.003231266348669026,
           0.0027696568702877365,
           0.00007693491306354824,
           0.0018079704569933836,
           0.00011540236959532236,
           0.00026927219572241883,
           0.0027696568702877365,
           0.00011540236959532236,
           0.00007693491306354824,
           0.00003846745653177412,
           0.00003846745653177412,
           0.8662101861824896,
           0.00007693491306354824,
           0,
           0,
           0.09232189567625788,
           0.0014617633482074165,
           0.0007693491306354824,
           0.0002308047391906447,
           0.012771195568549007,
           0.006462532697338052,
           0.0005770118479766118
          ],
          [
           0.00027329871549603714,
           0.00040994807324405577,
           0.00013664935774801857,
           0,
           0.00040994807324405577,
           0,
           0.0008198961464881115,
           0,
           0.00027329871549603714,
           0,
           0.000683246788740093,
           0.0009565455042361301,
           0.00040994807324405577,
           0,
           0,
           0.00013664935774801857,
           0.0034162339437004644,
           0.0031429352282044275,
           0.9641978682700191,
           0,
           0.0008198961464881115,
           0.003006285870456409,
           0.0031429352282044275,
           0.0012298442197321673,
           0,
           0.0012298442197321673,
           0.01352828641705384,
           0.0017764416507242415
          ],
          [
           0.01096322666774546,
           0.001294550750434888,
           0.07540758121283224,
           0.0012540960394837979,
           0.11040090618552531,
           0.03390104777701363,
           0.0009304583518750758,
           0.000647275375217444,
           0.00020227355475545126,
           0.03462923257413326,
           0.0000809094219021805,
           0.00020227355475545126,
           0,
           0,
           0,
           0,
           0,
           0,
           0,
           0.7253125126420972,
           0,
           0.00473320118127756,
           0.00004045471095109025,
           0,
           0,
           0,
           0,
           0
          ],
          [
           0.008333333333333333,
           0.005416666666666667,
           0.00625,
           0,
           0.0008333333333333334,
           0.002916666666666667,
           0.0020833333333333333,
           0,
           0.005833333333333334,
           0.0004166666666666667,
           0.0016666666666666668,
           0.006666666666666667,
           0.0033333333333333335,
           0.00875,
           0.02875,
           0.0275,
           0.0016666666666666668,
           0.0004166666666666667,
           0,
           0,
           0.88,
           0,
           0.0004166666666666667,
           0.005416666666666667,
           0,
           0.0004166666666666667,
           0.0008333333333333334,
           0.0020833333333333333
          ],
          [
           0,
           0,
           0.009316366941504901,
           0,
           0.015711225086022202,
           0,
           0,
           0,
           0.00029215087969876,
           0.03418165292475492,
           0.007336233201324417,
           0,
           0.00016230604427708889,
           0,
           0,
           0,
           0,
           0,
           0.000032461208855417776,
           0.00006492241771083555,
           0,
           0.9329026812958514,
           0,
           0,
           0,
           0,
           0,
           0
          ],
          [
           0.18315853473172214,
           0.09104727162182702,
           0.17008663930688556,
           0.005319957440340477,
           0.008815929472564219,
           0.09287125702994375,
           0.0103359173126615,
           0.00045599635202918376,
           0.01808785529715762,
           0.007447940416476668,
           0.0001519987840097279,
           0.06824745402036783,
           0,
           0,
           0,
           0,
           0,
           0.003343973248214014,
           0.0007599939200486396,
           0.003799969600243198,
           0,
           0,
           0.3266453868369053,
           0.003951968384252926,
           0.0003039975680194558,
           0,
           0.0009119927040583675,
           0.004255965952272382
          ],
          [
           0.000286368843069874,
           0.000572737686139748,
           0.000286368843069874,
           0.000286368843069874,
           0,
           0,
           0.0014318442153493699,
           0,
           0.000572737686139748,
           0,
           0.001718213058419244,
           0.000286368843069874,
           0.03980526918671248,
           0.000572737686139748,
           0,
           0,
           0,
           0.0014318442153493699,
           0,
           0,
           0,
           0,
           0,
           0.9083619702176403,
           0.000572737686139748,
           0.0037227949599083618,
           0.001145475372279496,
           0.038946162657502864
          ],
          [
           0.02877697841726619,
           0.2014388489208633,
           0.02158273381294964,
           0,
           0,
           0,
           0,
           0,
           0,
           0,
           0,
           0.07194244604316546,
           0,
           0,
           0,
           0,
           0,
           0.007194244604316547,
           0.007194244604316547,
           0,
           0,
           0,
           0.007194244604316547,
           0.014388489208633094,
           0.5539568345323741,
           0,
           0,
           0.08633093525179857
          ],
          [
           0,
           0,
           0.0003022061045633122,
           0,
           0.013448171653067392,
           0,
           0.006497431248111212,
           0.006346328195829556,
           0.009519492293744334,
           0.009368389241462678,
           0.0001511030522816561,
           0.0001511030522816561,
           0.005741915986702931,
           0,
           0,
           0,
           0,
           0.0037775763070414022,
           0.0001511030522816561,
           0,
           0,
           0.0030220610456331218,
           0,
           0.004684194620731339,
           0,
           0.9344212753097613,
           0.0024176488365064974,
           0
          ],
          [
           0,
           0,
           0,
           0,
           0,
           0,
           0,
           0,
           0,
           0,
           0,
           0,
           0.007173601147776184,
           0,
           0,
           0,
           0.0014347202295552368,
           0.0014347202295552368,
           0,
           0,
           0,
           0,
           0,
           0,
           0,
           0,
           0.9899569583931134,
           0
          ],
          [
           0.00860832137733142,
           0.015781922525107604,
           0.01291248206599713,
           0.015781922525107604,
           0.010043041606886656,
           0.027259684361549498,
           0,
           0.010043041606886656,
           0.011477761836441894,
           0.0014347202295552368,
           0.010043041606886656,
           0.011477761836441894,
           0,
           0.0014347202295552368,
           0,
           0,
           0,
           0.0014347202295552368,
           0,
           0.00430416068866571,
           0,
           0,
           0,
           0.00430416068866571,
           0,
           0.0014347202295552368,
           0,
           0.8522238163558106
          ]
         ]
        }
       ],
       "layout": {
        "coloraxis": {
         "colorbar": {
          "title": {
           "text": "Normalized Count"
          }
         },
         "colorscale": [
          [
           0,
           "rgb(247,251,255)"
          ],
          [
           0.125,
           "rgb(222,235,247)"
          ],
          [
           0.25,
           "rgb(198,219,239)"
          ],
          [
           0.375,
           "rgb(158,202,225)"
          ],
          [
           0.5,
           "rgb(107,174,214)"
          ],
          [
           0.625,
           "rgb(66,146,198)"
          ],
          [
           0.75,
           "rgb(33,113,181)"
          ],
          [
           0.875,
           "rgb(8,81,156)"
          ],
          [
           1,
           "rgb(8,48,107)"
          ]
         ]
        },
        "margin": {
         "t": 60
        },
        "template": {
         "data": {
          "bar": [
           {
            "error_x": {
             "color": "#2a3f5f"
            },
            "error_y": {
             "color": "#2a3f5f"
            },
            "marker": {
             "line": {
              "color": "#E5ECF6",
              "width": 0.5
             },
             "pattern": {
              "fillmode": "overlay",
              "size": 10,
              "solidity": 0.2
             }
            },
            "type": "bar"
           }
          ],
          "barpolar": [
           {
            "marker": {
             "line": {
              "color": "#E5ECF6",
              "width": 0.5
             },
             "pattern": {
              "fillmode": "overlay",
              "size": 10,
              "solidity": 0.2
             }
            },
            "type": "barpolar"
           }
          ],
          "carpet": [
           {
            "aaxis": {
             "endlinecolor": "#2a3f5f",
             "gridcolor": "white",
             "linecolor": "white",
             "minorgridcolor": "white",
             "startlinecolor": "#2a3f5f"
            },
            "baxis": {
             "endlinecolor": "#2a3f5f",
             "gridcolor": "white",
             "linecolor": "white",
             "minorgridcolor": "white",
             "startlinecolor": "#2a3f5f"
            },
            "type": "carpet"
           }
          ],
          "choropleth": [
           {
            "colorbar": {
             "outlinewidth": 0,
             "ticks": ""
            },
            "type": "choropleth"
           }
          ],
          "contour": [
           {
            "colorbar": {
             "outlinewidth": 0,
             "ticks": ""
            },
            "colorscale": [
             [
              0,
              "#0d0887"
             ],
             [
              0.1111111111111111,
              "#46039f"
             ],
             [
              0.2222222222222222,
              "#7201a8"
             ],
             [
              0.3333333333333333,
              "#9c179e"
             ],
             [
              0.4444444444444444,
              "#bd3786"
             ],
             [
              0.5555555555555556,
              "#d8576b"
             ],
             [
              0.6666666666666666,
              "#ed7953"
             ],
             [
              0.7777777777777778,
              "#fb9f3a"
             ],
             [
              0.8888888888888888,
              "#fdca26"
             ],
             [
              1,
              "#f0f921"
             ]
            ],
            "type": "contour"
           }
          ],
          "contourcarpet": [
           {
            "colorbar": {
             "outlinewidth": 0,
             "ticks": ""
            },
            "type": "contourcarpet"
           }
          ],
          "heatmap": [
           {
            "colorbar": {
             "outlinewidth": 0,
             "ticks": ""
            },
            "colorscale": [
             [
              0,
              "#0d0887"
             ],
             [
              0.1111111111111111,
              "#46039f"
             ],
             [
              0.2222222222222222,
              "#7201a8"
             ],
             [
              0.3333333333333333,
              "#9c179e"
             ],
             [
              0.4444444444444444,
              "#bd3786"
             ],
             [
              0.5555555555555556,
              "#d8576b"
             ],
             [
              0.6666666666666666,
              "#ed7953"
             ],
             [
              0.7777777777777778,
              "#fb9f3a"
             ],
             [
              0.8888888888888888,
              "#fdca26"
             ],
             [
              1,
              "#f0f921"
             ]
            ],
            "type": "heatmap"
           }
          ],
          "heatmapgl": [
           {
            "colorbar": {
             "outlinewidth": 0,
             "ticks": ""
            },
            "colorscale": [
             [
              0,
              "#0d0887"
             ],
             [
              0.1111111111111111,
              "#46039f"
             ],
             [
              0.2222222222222222,
              "#7201a8"
             ],
             [
              0.3333333333333333,
              "#9c179e"
             ],
             [
              0.4444444444444444,
              "#bd3786"
             ],
             [
              0.5555555555555556,
              "#d8576b"
             ],
             [
              0.6666666666666666,
              "#ed7953"
             ],
             [
              0.7777777777777778,
              "#fb9f3a"
             ],
             [
              0.8888888888888888,
              "#fdca26"
             ],
             [
              1,
              "#f0f921"
             ]
            ],
            "type": "heatmapgl"
           }
          ],
          "histogram": [
           {
            "marker": {
             "pattern": {
              "fillmode": "overlay",
              "size": 10,
              "solidity": 0.2
             }
            },
            "type": "histogram"
           }
          ],
          "histogram2d": [
           {
            "colorbar": {
             "outlinewidth": 0,
             "ticks": ""
            },
            "colorscale": [
             [
              0,
              "#0d0887"
             ],
             [
              0.1111111111111111,
              "#46039f"
             ],
             [
              0.2222222222222222,
              "#7201a8"
             ],
             [
              0.3333333333333333,
              "#9c179e"
             ],
             [
              0.4444444444444444,
              "#bd3786"
             ],
             [
              0.5555555555555556,
              "#d8576b"
             ],
             [
              0.6666666666666666,
              "#ed7953"
             ],
             [
              0.7777777777777778,
              "#fb9f3a"
             ],
             [
              0.8888888888888888,
              "#fdca26"
             ],
             [
              1,
              "#f0f921"
             ]
            ],
            "type": "histogram2d"
           }
          ],
          "histogram2dcontour": [
           {
            "colorbar": {
             "outlinewidth": 0,
             "ticks": ""
            },
            "colorscale": [
             [
              0,
              "#0d0887"
             ],
             [
              0.1111111111111111,
              "#46039f"
             ],
             [
              0.2222222222222222,
              "#7201a8"
             ],
             [
              0.3333333333333333,
              "#9c179e"
             ],
             [
              0.4444444444444444,
              "#bd3786"
             ],
             [
              0.5555555555555556,
              "#d8576b"
             ],
             [
              0.6666666666666666,
              "#ed7953"
             ],
             [
              0.7777777777777778,
              "#fb9f3a"
             ],
             [
              0.8888888888888888,
              "#fdca26"
             ],
             [
              1,
              "#f0f921"
             ]
            ],
            "type": "histogram2dcontour"
           }
          ],
          "mesh3d": [
           {
            "colorbar": {
             "outlinewidth": 0,
             "ticks": ""
            },
            "type": "mesh3d"
           }
          ],
          "parcoords": [
           {
            "line": {
             "colorbar": {
              "outlinewidth": 0,
              "ticks": ""
             }
            },
            "type": "parcoords"
           }
          ],
          "pie": [
           {
            "automargin": true,
            "type": "pie"
           }
          ],
          "scatter": [
           {
            "fillpattern": {
             "fillmode": "overlay",
             "size": 10,
             "solidity": 0.2
            },
            "type": "scatter"
           }
          ],
          "scatter3d": [
           {
            "line": {
             "colorbar": {
              "outlinewidth": 0,
              "ticks": ""
             }
            },
            "marker": {
             "colorbar": {
              "outlinewidth": 0,
              "ticks": ""
             }
            },
            "type": "scatter3d"
           }
          ],
          "scattercarpet": [
           {
            "marker": {
             "colorbar": {
              "outlinewidth": 0,
              "ticks": ""
             }
            },
            "type": "scattercarpet"
           }
          ],
          "scattergeo": [
           {
            "marker": {
             "colorbar": {
              "outlinewidth": 0,
              "ticks": ""
             }
            },
            "type": "scattergeo"
           }
          ],
          "scattergl": [
           {
            "marker": {
             "colorbar": {
              "outlinewidth": 0,
              "ticks": ""
             }
            },
            "type": "scattergl"
           }
          ],
          "scattermapbox": [
           {
            "marker": {
             "colorbar": {
              "outlinewidth": 0,
              "ticks": ""
             }
            },
            "type": "scattermapbox"
           }
          ],
          "scatterpolar": [
           {
            "marker": {
             "colorbar": {
              "outlinewidth": 0,
              "ticks": ""
             }
            },
            "type": "scatterpolar"
           }
          ],
          "scatterpolargl": [
           {
            "marker": {
             "colorbar": {
              "outlinewidth": 0,
              "ticks": ""
             }
            },
            "type": "scatterpolargl"
           }
          ],
          "scatterternary": [
           {
            "marker": {
             "colorbar": {
              "outlinewidth": 0,
              "ticks": ""
             }
            },
            "type": "scatterternary"
           }
          ],
          "surface": [
           {
            "colorbar": {
             "outlinewidth": 0,
             "ticks": ""
            },
            "colorscale": [
             [
              0,
              "#0d0887"
             ],
             [
              0.1111111111111111,
              "#46039f"
             ],
             [
              0.2222222222222222,
              "#7201a8"
             ],
             [
              0.3333333333333333,
              "#9c179e"
             ],
             [
              0.4444444444444444,
              "#bd3786"
             ],
             [
              0.5555555555555556,
              "#d8576b"
             ],
             [
              0.6666666666666666,
              "#ed7953"
             ],
             [
              0.7777777777777778,
              "#fb9f3a"
             ],
             [
              0.8888888888888888,
              "#fdca26"
             ],
             [
              1,
              "#f0f921"
             ]
            ],
            "type": "surface"
           }
          ],
          "table": [
           {
            "cells": {
             "fill": {
              "color": "#EBF0F8"
             },
             "line": {
              "color": "white"
             }
            },
            "header": {
             "fill": {
              "color": "#C8D4E3"
             },
             "line": {
              "color": "white"
             }
            },
            "type": "table"
           }
          ]
         },
         "layout": {
          "annotationdefaults": {
           "arrowcolor": "#2a3f5f",
           "arrowhead": 0,
           "arrowwidth": 1
          },
          "autotypenumbers": "strict",
          "coloraxis": {
           "colorbar": {
            "outlinewidth": 0,
            "ticks": ""
           }
          },
          "colorscale": {
           "diverging": [
            [
             0,
             "#8e0152"
            ],
            [
             0.1,
             "#c51b7d"
            ],
            [
             0.2,
             "#de77ae"
            ],
            [
             0.3,
             "#f1b6da"
            ],
            [
             0.4,
             "#fde0ef"
            ],
            [
             0.5,
             "#f7f7f7"
            ],
            [
             0.6,
             "#e6f5d0"
            ],
            [
             0.7,
             "#b8e186"
            ],
            [
             0.8,
             "#7fbc41"
            ],
            [
             0.9,
             "#4d9221"
            ],
            [
             1,
             "#276419"
            ]
           ],
           "sequential": [
            [
             0,
             "#0d0887"
            ],
            [
             0.1111111111111111,
             "#46039f"
            ],
            [
             0.2222222222222222,
             "#7201a8"
            ],
            [
             0.3333333333333333,
             "#9c179e"
            ],
            [
             0.4444444444444444,
             "#bd3786"
            ],
            [
             0.5555555555555556,
             "#d8576b"
            ],
            [
             0.6666666666666666,
             "#ed7953"
            ],
            [
             0.7777777777777778,
             "#fb9f3a"
            ],
            [
             0.8888888888888888,
             "#fdca26"
            ],
            [
             1,
             "#f0f921"
            ]
           ],
           "sequentialminus": [
            [
             0,
             "#0d0887"
            ],
            [
             0.1111111111111111,
             "#46039f"
            ],
            [
             0.2222222222222222,
             "#7201a8"
            ],
            [
             0.3333333333333333,
             "#9c179e"
            ],
            [
             0.4444444444444444,
             "#bd3786"
            ],
            [
             0.5555555555555556,
             "#d8576b"
            ],
            [
             0.6666666666666666,
             "#ed7953"
            ],
            [
             0.7777777777777778,
             "#fb9f3a"
            ],
            [
             0.8888888888888888,
             "#fdca26"
            ],
            [
             1,
             "#f0f921"
            ]
           ]
          },
          "colorway": [
           "#636efa",
           "#EF553B",
           "#00cc96",
           "#ab63fa",
           "#FFA15A",
           "#19d3f3",
           "#FF6692",
           "#B6E880",
           "#FF97FF",
           "#FECB52"
          ],
          "font": {
           "color": "#2a3f5f"
          },
          "geo": {
           "bgcolor": "white",
           "lakecolor": "white",
           "landcolor": "#E5ECF6",
           "showlakes": true,
           "showland": true,
           "subunitcolor": "white"
          },
          "hoverlabel": {
           "align": "left"
          },
          "hovermode": "closest",
          "mapbox": {
           "style": "light"
          },
          "paper_bgcolor": "white",
          "plot_bgcolor": "#E5ECF6",
          "polar": {
           "angularaxis": {
            "gridcolor": "white",
            "linecolor": "white",
            "ticks": ""
           },
           "bgcolor": "#E5ECF6",
           "radialaxis": {
            "gridcolor": "white",
            "linecolor": "white",
            "ticks": ""
           }
          },
          "scene": {
           "xaxis": {
            "backgroundcolor": "#E5ECF6",
            "gridcolor": "white",
            "gridwidth": 2,
            "linecolor": "white",
            "showbackground": true,
            "ticks": "",
            "zerolinecolor": "white"
           },
           "yaxis": {
            "backgroundcolor": "#E5ECF6",
            "gridcolor": "white",
            "gridwidth": 2,
            "linecolor": "white",
            "showbackground": true,
            "ticks": "",
            "zerolinecolor": "white"
           },
           "zaxis": {
            "backgroundcolor": "#E5ECF6",
            "gridcolor": "white",
            "gridwidth": 2,
            "linecolor": "white",
            "showbackground": true,
            "ticks": "",
            "zerolinecolor": "white"
           }
          },
          "shapedefaults": {
           "line": {
            "color": "#2a3f5f"
           }
          },
          "ternary": {
           "aaxis": {
            "gridcolor": "white",
            "linecolor": "white",
            "ticks": ""
           },
           "baxis": {
            "gridcolor": "white",
            "linecolor": "white",
            "ticks": ""
           },
           "bgcolor": "#E5ECF6",
           "caxis": {
            "gridcolor": "white",
            "linecolor": "white",
            "ticks": ""
           }
          },
          "title": {
           "x": 0.05
          },
          "xaxis": {
           "automargin": true,
           "gridcolor": "white",
           "linecolor": "white",
           "ticks": "",
           "title": {
            "standoff": 15
           },
           "zerolinecolor": "white",
           "zerolinewidth": 2
          },
          "yaxis": {
           "automargin": true,
           "gridcolor": "white",
           "linecolor": "white",
           "ticks": "",
           "title": {
            "standoff": 15
           },
           "zerolinecolor": "white",
           "zerolinewidth": 2
          }
         }
        },
        "title": {
         "text": "Normalized Confusion  for the unannotated model"
        },
        "xaxis": {
         "anchor": "y",
         "constrain": "domain",
         "domain": [
          0,
          1
         ],
         "scaleanchor": "y",
         "title": {
          "text": "Predicted Class"
         }
        },
        "yaxis": {
         "anchor": "x",
         "autorange": "reversed",
         "constrain": "domain",
         "domain": [
          0,
          1
         ],
         "title": {
          "text": "Actual Class"
         }
        }
       }
      },
      "text/html": [
       "<div>                            <div id=\"52a7bcee-8bfa-4637-881b-6839eee82489\" class=\"plotly-graph-div\" style=\"height:525px; width:100%;\"></div>            <script type=\"text/javascript\">                require([\"plotly\"], function(Plotly) {                    window.PLOTLYENV=window.PLOTLYENV || {};                                    if (document.getElementById(\"52a7bcee-8bfa-4637-881b-6839eee82489\")) {                    Plotly.newPlot(                        \"52a7bcee-8bfa-4637-881b-6839eee82489\",                        [{\"coloraxis\":\"coloraxis\",\"name\":\"0\",\"texttemplate\":\"%{z}\",\"x\":[\"0\",\"1\",\"2\",\"3\",\"4\",\"5\",\"6\",\"7\",\"8\",\"9\",\"10\",\"11\",\"12\",\"13\",\"14\",\"15\",\"16\",\"17\",\"18\",\"19\",\"20\",\"21\",\"22\",\"23\",\"24\",\"25\",\"26\",\"27\"],\"y\":[\"0\",\"1\",\"2\",\"3\",\"4\",\"5\",\"6\",\"7\",\"8\",\"9\",\"10\",\"11\",\"12\",\"13\",\"14\",\"15\",\"16\",\"17\",\"18\",\"19\",\"20\",\"21\",\"22\",\"23\",\"24\",\"25\",\"26\",\"27\"],\"z\":[[0.8722732006642835,0.03986404706279731,0.019520364792974358,0.010382948180257269,0.0017486700256143216,0.030107383117065893,0.0018225574914853492,8.444281813831734e-05,0.011698848762912713,0.0004257325414473499,5.629521209221156e-05,0.008433726461564444,0.0,0.0,0.0,0.0,0.0,0.0,0.0,0.0029379063810622908,3.5184507557632225e-06,0.0,0.0002498100036591888,0.0003131421172629268,3.5184507557632225e-06,7.036901511526445e-06,0.0,6.685056435950123e-05],[0.04851951676415491,0.9137133463317659,0.007732155828267768,0.006967542149329052,7.646136789387162e-05,0.0046880376189930035,0.00015292273578774323,0.0,4.7788354933669766e-05,0.0,1.9115341973467904e-05,0.008988989563023282,0.0,0.0,0.0,0.0,0.0,0.0,0.0,0.005682035401613335,0.0,0.0,0.00035363382650915626,0.0012902855832090836,0.0002198264326948809,0.0,0.0,0.0015483426998509004],[0.02409235685639609,0.0028655174967990435,0.8587536903590363,1.0581674655831032e-05,0.016151868194660485,0.020655428928182173,0.0007153212067341777,4.2326698623324125e-06,0.0028464704824185476,0.0165455064918574,0.00012698009586997237,0.050169835878226085,0.0,1.4814344518163444e-05,0.0,0.0,0.0,4.2326698623324125e-06,0.0,0.00588552744357322,0.0,0.0006222024697628647,0.0005015713786863909,1.693067944932965e-05,0.0,1.2698009586997238e-05,0.0,4.2326698623324125e-06],[0.02847243662310041,0.001109167209815558,6.860828101951906e-05,0.8911586795192846,0.014847975483974249,0.015316798737607629,0.030473511486169714,0.009147770802602541,0.004665363109327296,0.001011972145037906,5.145621076463929e-05,0.0,0.0,0.0,0.0,0.0,0.0,0.0,0.0,0.002801504808297028,0.0,0.0,1.1434713503253177e-05,0.0006860828101951905,0.0,9.7195064777652e-05,0.0,8.004299452277223e-05],[0.00674493544528493,4.469663753581052e-05,0.012014881851888114,0.0021390533677852178,0.9111856528050333,0.0018304337276570022,0.0017538109204527556,0.0009513998561193953,0.004761256103219435,0.013936837265927966,0.0001851717840769293,0.0,7.449439589301753e-05,2.1284113112290723e-06,0.0,0.0,0.0,1.915570180106165e-05,0.0,0.005899956154726989,0.0,0.03794957367921436,8.51364524491629e-06,0.0,0.0,0.0004980482468276029,0.0,0.0],[0.043462248982757024,0.004880371027961831,0.01680284798093362,0.002230599028117524,0.004206700180543787,0.8718648107284328,0.0029641517286393944,0.001461117215733358,0.004024060528577117,0.01786275678087134,8.08405016901653e-05,0.027443853277483526,0.0,0.0,0.0,0.0,0.0,0.0,0.0,0.0025150378303606985,0.0,0.0,0.00018862783727705237,8.982277965573923e-06,2.9940926551913075e-06,0.0,0.0,0.0],[0.011380759634827594,0.0,0.009415152466889929,0.038578128473778374,0.0852798255303081,0.02354141008494105,0.6750960747848243,0.04069195018579752,0.02292032056688534,0.07852194810373607,4.940484802715855e-05,8.116510747318905e-05,6.704943660828661e-05,1.7644588581128052e-05,3.5289177162256107e-06,0.0,0.0,0.0036136117414150254,0.0,0.0036877190134557633,1.0586753148676832e-05,0.00013762779093279883,2.1173506297353663e-05,0.0009739812896782685,0.0,0.005879176915231868,2.4702424013579275e-05,7.0578354324512214e-06],[3.23240681779246e-05,0.0,0.0,0.011070993350939176,0.0184344160818704,0.0019814653793067782,0.018583106795488854,0.924009348120517,0.0010149757407868325,0.01977586491125427,4.202128863130198e-05,0.0,3.23240681779246e-06,0.0,0.0,0.0,0.0,0.00030384624087249126,0.0,5.495091590247182e-05,0.0,0.0002424305113344345,0.0,1.292962727116984e-05,0.0,0.004438094560829047,0.0,0.0],[0.049238308414464534,5.432892906815021e-06,0.03494980006954103,0.006992133171070932,0.13221488178025034,0.009627086230876217,0.04546788073713491,0.005644775730180807,0.672934414116829,0.03702516515994437,4.3463143254520165e-05,0.00015212100139082058,2.7164464534075106e-05,0.0,0.0,0.0,0.0,2.7164464534075106e-05,0.0,0.000793202364394993,0.0,0.0012549982614742698,1.0865785813630041e-05,0.00011952364394993046,0.0,0.0034716185674547985,0.0,0.0],[8.050089445438283e-05,0.0,0.009035778175313059,0.00013059033989266548,0.04591234347048301,0.02950268336314848,0.0012325581395348838,0.014338103756708407,0.003148479427549195,0.8810214669051878,0.0004257602862254025,0.00047584973166368513,1.7889087656529517e-06,1.7889087656529517e-06,0.0,0.0,0.0,3.0411449016100178e-05,0.0,0.00032737030411449016,0.0,0.014162790697674418,2.325581395348837e-05,0.0,0.0,0.000148479427549195,0.0,0.0],[0.00021323585408575127,0.00027416038382453733,0.0015916533394257863,0.00020562028786840302,0.005323280785926434,0.0004493184068235473,0.0001523113243469652,0.0009824080420379256,0.0006092452973878608,0.004150483588454801,0.9618003198537811,0.00012184905947757215,0.00033508491356332344,7.6155662173482594e-06,0.0,0.0,0.0,0.0010052547406899702,0.0,0.00015992689056431347,0.0,0.003845860939760871,0.0,0.0008377122839083085,7.6155662173482594e-06,0.012146828116670474,1.5231132434696519e-05,0.005764983626532633],[0.008122694401915025,0.01340823364704392,0.015207937918939048,2.1841071260863205e-06,0.0,0.04960980926192468,0.00028611803351730793,1.528874988260424e-05,0.0002599087480042721,0.00804188243824983,7.207553516084857e-05,0.9043994469840757,0.0,0.0,0.0,0.0,2.1841071260863205e-06,4.368214252172641e-06,0.0,0.0,2.1841071260863205e-06,0.0,0.00014196696319561082,0.00031451142615643014,3.27616068912948e-05,1.528874988260424e-05,0.0,6.115499953041696e-05],[0.0,0.0,3.167213010911049e-05,0.0,0.0011401966839279776,0.0,0.0003642294962547706,6.334426021822098e-05,0.000419655723945714,0.0003167213010911049,0.0010293442285460909,0.0,0.9771881482889132,2.3754097581832866e-05,7.918032527277622e-06,0.0,0.0,0.0019636720667648502,0.0,0.0,0.0,0.0018369835463284082,0.0,0.0003325573661456601,0.0,0.015163032289736646,0.00011877048790916433,0.0],[0.0,1.0597373970730053e-05,0.0015154244778143977,1.0597373970730053e-05,0.00040270021088774203,0.0,0.00034971334103409173,0.0003179212191219016,0.0012822822504583364,0.0014624376079607473,0.0033487701747506966,0.0030944331994531755,0.0015154244778143977,0.9368290537604782,1.0597373970730053e-05,0.0,0.004302533832116402,0.014698557697402583,0.002363214395472802,0.0,4.238949588292021e-05,0.0003391159670633617,4.238949588292021e-05,0.0033381728007799666,0.0,0.005457647594925978,0.01605502156565603,0.0032110043131312062],[0.0,0.0,0.0,0.0,5.7434954913560395e-05,0.0,0.0,0.0,8.615243237034059e-05,0.0,0.0,0.0,0.0,0.0,0.9987651484693585,0.0002584572971110218,0.0,0.0,0.0,0.0,0.00011486990982712079,0.0006605019815059445,0.0,0.0,0.0,5.7434954913560395e-05,0.0,0.0],[0.0,0.0,7.207466935745433e-05,0.0,3.603733467872716e-05,0.0,0.0,0.0,3.603733467872716e-05,3.603733467872716e-05,0.0,0.0,0.0,0.0,0.02198277415402357,0.9728638869869185,0.0026307254315470828,3.603733467872716e-05,0.00018018667339363581,0.0,0.0005405600201809074,0.0015135680565065408,0.0,0.0,0.0,3.603733467872716e-05,3.603733467872716e-05,0.0],[0.0,0.00034444750620005513,0.00013777900248002206,0.0,0.00020666850372003307,6.888950124001103e-05,6.888950124001103e-05,0.0,0.0006888950124001103,0.00013777900248002206,0.0006888950124001103,0.0011022320198401765,0.00048222650868007716,0.00013777900248002206,0.00013777900248002206,0.0005511160099200882,0.9798842656379168,0.0010333425186001654,0.003306696059520529,0.0,0.00034444750620005513,0.003788922568200606,0.0,0.002755580049600441,0.0,0.0017222375310002756,0.0013089005235602095,0.0011022320198401765],[7.693491306354824e-05,7.693491306354824e-05,0.0,7.693491306354824e-05,0.007578088936759502,0.0,0.003231266348669026,0.0027696568702877365,7.693491306354824e-05,0.0018079704569933836,0.00011540236959532236,0.00026927219572241883,0.0027696568702877365,0.00011540236959532236,7.693491306354824e-05,3.846745653177412e-05,3.846745653177412e-05,0.8662101861824896,7.693491306354824e-05,0.0,0.0,0.09232189567625788,0.0014617633482074165,0.0007693491306354824,0.0002308047391906447,0.012771195568549007,0.006462532697338052,0.0005770118479766118],[0.00027329871549603714,0.00040994807324405577,0.00013664935774801857,0.0,0.00040994807324405577,0.0,0.0008198961464881115,0.0,0.00027329871549603714,0.0,0.000683246788740093,0.0009565455042361301,0.00040994807324405577,0.0,0.0,0.00013664935774801857,0.0034162339437004644,0.0031429352282044275,0.9641978682700191,0.0,0.0008198961464881115,0.003006285870456409,0.0031429352282044275,0.0012298442197321673,0.0,0.0012298442197321673,0.01352828641705384,0.0017764416507242415],[0.01096322666774546,0.001294550750434888,0.07540758121283224,0.0012540960394837979,0.11040090618552531,0.03390104777701363,0.0009304583518750758,0.000647275375217444,0.00020227355475545126,0.03462923257413326,8.09094219021805e-05,0.00020227355475545126,0.0,0.0,0.0,0.0,0.0,0.0,0.0,0.7253125126420972,0.0,0.00473320118127756,4.045471095109025e-05,0.0,0.0,0.0,0.0,0.0],[0.008333333333333333,0.005416666666666667,0.00625,0.0,0.0008333333333333334,0.002916666666666667,0.0020833333333333333,0.0,0.005833333333333334,0.0004166666666666667,0.0016666666666666668,0.006666666666666667,0.0033333333333333335,0.00875,0.02875,0.0275,0.0016666666666666668,0.0004166666666666667,0.0,0.0,0.88,0.0,0.0004166666666666667,0.005416666666666667,0.0,0.0004166666666666667,0.0008333333333333334,0.0020833333333333333],[0.0,0.0,0.009316366941504901,0.0,0.015711225086022202,0.0,0.0,0.0,0.00029215087969876,0.03418165292475492,0.007336233201324417,0.0,0.00016230604427708889,0.0,0.0,0.0,0.0,0.0,3.2461208855417776e-05,6.492241771083555e-05,0.0,0.9329026812958514,0.0,0.0,0.0,0.0,0.0,0.0],[0.18315853473172214,0.09104727162182702,0.17008663930688556,0.005319957440340477,0.008815929472564219,0.09287125702994375,0.0103359173126615,0.00045599635202918376,0.01808785529715762,0.007447940416476668,0.0001519987840097279,0.06824745402036783,0.0,0.0,0.0,0.0,0.0,0.003343973248214014,0.0007599939200486396,0.003799969600243198,0.0,0.0,0.3266453868369053,0.003951968384252926,0.0003039975680194558,0.0,0.0009119927040583675,0.004255965952272382],[0.000286368843069874,0.000572737686139748,0.000286368843069874,0.000286368843069874,0.0,0.0,0.0014318442153493699,0.0,0.000572737686139748,0.0,0.001718213058419244,0.000286368843069874,0.03980526918671248,0.000572737686139748,0.0,0.0,0.0,0.0014318442153493699,0.0,0.0,0.0,0.0,0.0,0.9083619702176403,0.000572737686139748,0.0037227949599083618,0.001145475372279496,0.038946162657502864],[0.02877697841726619,0.2014388489208633,0.02158273381294964,0.0,0.0,0.0,0.0,0.0,0.0,0.0,0.0,0.07194244604316546,0.0,0.0,0.0,0.0,0.0,0.007194244604316547,0.007194244604316547,0.0,0.0,0.0,0.007194244604316547,0.014388489208633094,0.5539568345323741,0.0,0.0,0.08633093525179857],[0.0,0.0,0.0003022061045633122,0.0,0.013448171653067392,0.0,0.006497431248111212,0.006346328195829556,0.009519492293744334,0.009368389241462678,0.0001511030522816561,0.0001511030522816561,0.005741915986702931,0.0,0.0,0.0,0.0,0.0037775763070414022,0.0001511030522816561,0.0,0.0,0.0030220610456331218,0.0,0.004684194620731339,0.0,0.9344212753097613,0.0024176488365064974,0.0],[0.0,0.0,0.0,0.0,0.0,0.0,0.0,0.0,0.0,0.0,0.0,0.0,0.007173601147776184,0.0,0.0,0.0,0.0014347202295552368,0.0014347202295552368,0.0,0.0,0.0,0.0,0.0,0.0,0.0,0.0,0.9899569583931134,0.0],[0.00860832137733142,0.015781922525107604,0.01291248206599713,0.015781922525107604,0.010043041606886656,0.027259684361549498,0.0,0.010043041606886656,0.011477761836441894,0.0014347202295552368,0.010043041606886656,0.011477761836441894,0.0,0.0014347202295552368,0.0,0.0,0.0,0.0014347202295552368,0.0,0.00430416068866571,0.0,0.0,0.0,0.00430416068866571,0.0,0.0014347202295552368,0.0,0.8522238163558106]],\"type\":\"heatmap\",\"xaxis\":\"x\",\"yaxis\":\"y\",\"hovertemplate\":\"Predicted Class: %{x}\\u003cbr\\u003eActual Class: %{y}\\u003cbr\\u003eNormalized Count: %{z}\\u003cextra\\u003e\\u003c\\u002fextra\\u003e\"}],                        {\"template\":{\"data\":{\"histogram2dcontour\":[{\"type\":\"histogram2dcontour\",\"colorbar\":{\"outlinewidth\":0,\"ticks\":\"\"},\"colorscale\":[[0.0,\"#0d0887\"],[0.1111111111111111,\"#46039f\"],[0.2222222222222222,\"#7201a8\"],[0.3333333333333333,\"#9c179e\"],[0.4444444444444444,\"#bd3786\"],[0.5555555555555556,\"#d8576b\"],[0.6666666666666666,\"#ed7953\"],[0.7777777777777778,\"#fb9f3a\"],[0.8888888888888888,\"#fdca26\"],[1.0,\"#f0f921\"]]}],\"choropleth\":[{\"type\":\"choropleth\",\"colorbar\":{\"outlinewidth\":0,\"ticks\":\"\"}}],\"histogram2d\":[{\"type\":\"histogram2d\",\"colorbar\":{\"outlinewidth\":0,\"ticks\":\"\"},\"colorscale\":[[0.0,\"#0d0887\"],[0.1111111111111111,\"#46039f\"],[0.2222222222222222,\"#7201a8\"],[0.3333333333333333,\"#9c179e\"],[0.4444444444444444,\"#bd3786\"],[0.5555555555555556,\"#d8576b\"],[0.6666666666666666,\"#ed7953\"],[0.7777777777777778,\"#fb9f3a\"],[0.8888888888888888,\"#fdca26\"],[1.0,\"#f0f921\"]]}],\"heatmap\":[{\"type\":\"heatmap\",\"colorbar\":{\"outlinewidth\":0,\"ticks\":\"\"},\"colorscale\":[[0.0,\"#0d0887\"],[0.1111111111111111,\"#46039f\"],[0.2222222222222222,\"#7201a8\"],[0.3333333333333333,\"#9c179e\"],[0.4444444444444444,\"#bd3786\"],[0.5555555555555556,\"#d8576b\"],[0.6666666666666666,\"#ed7953\"],[0.7777777777777778,\"#fb9f3a\"],[0.8888888888888888,\"#fdca26\"],[1.0,\"#f0f921\"]]}],\"heatmapgl\":[{\"type\":\"heatmapgl\",\"colorbar\":{\"outlinewidth\":0,\"ticks\":\"\"},\"colorscale\":[[0.0,\"#0d0887\"],[0.1111111111111111,\"#46039f\"],[0.2222222222222222,\"#7201a8\"],[0.3333333333333333,\"#9c179e\"],[0.4444444444444444,\"#bd3786\"],[0.5555555555555556,\"#d8576b\"],[0.6666666666666666,\"#ed7953\"],[0.7777777777777778,\"#fb9f3a\"],[0.8888888888888888,\"#fdca26\"],[1.0,\"#f0f921\"]]}],\"contourcarpet\":[{\"type\":\"contourcarpet\",\"colorbar\":{\"outlinewidth\":0,\"ticks\":\"\"}}],\"contour\":[{\"type\":\"contour\",\"colorbar\":{\"outlinewidth\":0,\"ticks\":\"\"},\"colorscale\":[[0.0,\"#0d0887\"],[0.1111111111111111,\"#46039f\"],[0.2222222222222222,\"#7201a8\"],[0.3333333333333333,\"#9c179e\"],[0.4444444444444444,\"#bd3786\"],[0.5555555555555556,\"#d8576b\"],[0.6666666666666666,\"#ed7953\"],[0.7777777777777778,\"#fb9f3a\"],[0.8888888888888888,\"#fdca26\"],[1.0,\"#f0f921\"]]}],\"surface\":[{\"type\":\"surface\",\"colorbar\":{\"outlinewidth\":0,\"ticks\":\"\"},\"colorscale\":[[0.0,\"#0d0887\"],[0.1111111111111111,\"#46039f\"],[0.2222222222222222,\"#7201a8\"],[0.3333333333333333,\"#9c179e\"],[0.4444444444444444,\"#bd3786\"],[0.5555555555555556,\"#d8576b\"],[0.6666666666666666,\"#ed7953\"],[0.7777777777777778,\"#fb9f3a\"],[0.8888888888888888,\"#fdca26\"],[1.0,\"#f0f921\"]]}],\"mesh3d\":[{\"type\":\"mesh3d\",\"colorbar\":{\"outlinewidth\":0,\"ticks\":\"\"}}],\"scatter\":[{\"fillpattern\":{\"fillmode\":\"overlay\",\"size\":10,\"solidity\":0.2},\"type\":\"scatter\"}],\"parcoords\":[{\"type\":\"parcoords\",\"line\":{\"colorbar\":{\"outlinewidth\":0,\"ticks\":\"\"}}}],\"scatterpolargl\":[{\"type\":\"scatterpolargl\",\"marker\":{\"colorbar\":{\"outlinewidth\":0,\"ticks\":\"\"}}}],\"bar\":[{\"error_x\":{\"color\":\"#2a3f5f\"},\"error_y\":{\"color\":\"#2a3f5f\"},\"marker\":{\"line\":{\"color\":\"#E5ECF6\",\"width\":0.5},\"pattern\":{\"fillmode\":\"overlay\",\"size\":10,\"solidity\":0.2}},\"type\":\"bar\"}],\"scattergeo\":[{\"type\":\"scattergeo\",\"marker\":{\"colorbar\":{\"outlinewidth\":0,\"ticks\":\"\"}}}],\"scatterpolar\":[{\"type\":\"scatterpolar\",\"marker\":{\"colorbar\":{\"outlinewidth\":0,\"ticks\":\"\"}}}],\"histogram\":[{\"marker\":{\"pattern\":{\"fillmode\":\"overlay\",\"size\":10,\"solidity\":0.2}},\"type\":\"histogram\"}],\"scattergl\":[{\"type\":\"scattergl\",\"marker\":{\"colorbar\":{\"outlinewidth\":0,\"ticks\":\"\"}}}],\"scatter3d\":[{\"type\":\"scatter3d\",\"line\":{\"colorbar\":{\"outlinewidth\":0,\"ticks\":\"\"}},\"marker\":{\"colorbar\":{\"outlinewidth\":0,\"ticks\":\"\"}}}],\"scattermapbox\":[{\"type\":\"scattermapbox\",\"marker\":{\"colorbar\":{\"outlinewidth\":0,\"ticks\":\"\"}}}],\"scatterternary\":[{\"type\":\"scatterternary\",\"marker\":{\"colorbar\":{\"outlinewidth\":0,\"ticks\":\"\"}}}],\"scattercarpet\":[{\"type\":\"scattercarpet\",\"marker\":{\"colorbar\":{\"outlinewidth\":0,\"ticks\":\"\"}}}],\"carpet\":[{\"aaxis\":{\"endlinecolor\":\"#2a3f5f\",\"gridcolor\":\"white\",\"linecolor\":\"white\",\"minorgridcolor\":\"white\",\"startlinecolor\":\"#2a3f5f\"},\"baxis\":{\"endlinecolor\":\"#2a3f5f\",\"gridcolor\":\"white\",\"linecolor\":\"white\",\"minorgridcolor\":\"white\",\"startlinecolor\":\"#2a3f5f\"},\"type\":\"carpet\"}],\"table\":[{\"cells\":{\"fill\":{\"color\":\"#EBF0F8\"},\"line\":{\"color\":\"white\"}},\"header\":{\"fill\":{\"color\":\"#C8D4E3\"},\"line\":{\"color\":\"white\"}},\"type\":\"table\"}],\"barpolar\":[{\"marker\":{\"line\":{\"color\":\"#E5ECF6\",\"width\":0.5},\"pattern\":{\"fillmode\":\"overlay\",\"size\":10,\"solidity\":0.2}},\"type\":\"barpolar\"}],\"pie\":[{\"automargin\":true,\"type\":\"pie\"}]},\"layout\":{\"autotypenumbers\":\"strict\",\"colorway\":[\"#636efa\",\"#EF553B\",\"#00cc96\",\"#ab63fa\",\"#FFA15A\",\"#19d3f3\",\"#FF6692\",\"#B6E880\",\"#FF97FF\",\"#FECB52\"],\"font\":{\"color\":\"#2a3f5f\"},\"hovermode\":\"closest\",\"hoverlabel\":{\"align\":\"left\"},\"paper_bgcolor\":\"white\",\"plot_bgcolor\":\"#E5ECF6\",\"polar\":{\"bgcolor\":\"#E5ECF6\",\"angularaxis\":{\"gridcolor\":\"white\",\"linecolor\":\"white\",\"ticks\":\"\"},\"radialaxis\":{\"gridcolor\":\"white\",\"linecolor\":\"white\",\"ticks\":\"\"}},\"ternary\":{\"bgcolor\":\"#E5ECF6\",\"aaxis\":{\"gridcolor\":\"white\",\"linecolor\":\"white\",\"ticks\":\"\"},\"baxis\":{\"gridcolor\":\"white\",\"linecolor\":\"white\",\"ticks\":\"\"},\"caxis\":{\"gridcolor\":\"white\",\"linecolor\":\"white\",\"ticks\":\"\"}},\"coloraxis\":{\"colorbar\":{\"outlinewidth\":0,\"ticks\":\"\"}},\"colorscale\":{\"sequential\":[[0.0,\"#0d0887\"],[0.1111111111111111,\"#46039f\"],[0.2222222222222222,\"#7201a8\"],[0.3333333333333333,\"#9c179e\"],[0.4444444444444444,\"#bd3786\"],[0.5555555555555556,\"#d8576b\"],[0.6666666666666666,\"#ed7953\"],[0.7777777777777778,\"#fb9f3a\"],[0.8888888888888888,\"#fdca26\"],[1.0,\"#f0f921\"]],\"sequentialminus\":[[0.0,\"#0d0887\"],[0.1111111111111111,\"#46039f\"],[0.2222222222222222,\"#7201a8\"],[0.3333333333333333,\"#9c179e\"],[0.4444444444444444,\"#bd3786\"],[0.5555555555555556,\"#d8576b\"],[0.6666666666666666,\"#ed7953\"],[0.7777777777777778,\"#fb9f3a\"],[0.8888888888888888,\"#fdca26\"],[1.0,\"#f0f921\"]],\"diverging\":[[0,\"#8e0152\"],[0.1,\"#c51b7d\"],[0.2,\"#de77ae\"],[0.3,\"#f1b6da\"],[0.4,\"#fde0ef\"],[0.5,\"#f7f7f7\"],[0.6,\"#e6f5d0\"],[0.7,\"#b8e186\"],[0.8,\"#7fbc41\"],[0.9,\"#4d9221\"],[1,\"#276419\"]]},\"xaxis\":{\"gridcolor\":\"white\",\"linecolor\":\"white\",\"ticks\":\"\",\"title\":{\"standoff\":15},\"zerolinecolor\":\"white\",\"automargin\":true,\"zerolinewidth\":2},\"yaxis\":{\"gridcolor\":\"white\",\"linecolor\":\"white\",\"ticks\":\"\",\"title\":{\"standoff\":15},\"zerolinecolor\":\"white\",\"automargin\":true,\"zerolinewidth\":2},\"scene\":{\"xaxis\":{\"backgroundcolor\":\"#E5ECF6\",\"gridcolor\":\"white\",\"linecolor\":\"white\",\"showbackground\":true,\"ticks\":\"\",\"zerolinecolor\":\"white\",\"gridwidth\":2},\"yaxis\":{\"backgroundcolor\":\"#E5ECF6\",\"gridcolor\":\"white\",\"linecolor\":\"white\",\"showbackground\":true,\"ticks\":\"\",\"zerolinecolor\":\"white\",\"gridwidth\":2},\"zaxis\":{\"backgroundcolor\":\"#E5ECF6\",\"gridcolor\":\"white\",\"linecolor\":\"white\",\"showbackground\":true,\"ticks\":\"\",\"zerolinecolor\":\"white\",\"gridwidth\":2}},\"shapedefaults\":{\"line\":{\"color\":\"#2a3f5f\"}},\"annotationdefaults\":{\"arrowcolor\":\"#2a3f5f\",\"arrowhead\":0,\"arrowwidth\":1},\"geo\":{\"bgcolor\":\"white\",\"landcolor\":\"#E5ECF6\",\"subunitcolor\":\"white\",\"showland\":true,\"showlakes\":true,\"lakecolor\":\"white\"},\"title\":{\"x\":0.05},\"mapbox\":{\"style\":\"light\"}}},\"xaxis\":{\"anchor\":\"y\",\"domain\":[0.0,1.0],\"scaleanchor\":\"y\",\"constrain\":\"domain\",\"title\":{\"text\":\"Predicted Class\"}},\"yaxis\":{\"anchor\":\"x\",\"domain\":[0.0,1.0],\"autorange\":\"reversed\",\"constrain\":\"domain\",\"title\":{\"text\":\"Actual Class\"}},\"coloraxis\":{\"colorbar\":{\"title\":{\"text\":\"Normalized Count\"}},\"colorscale\":[[0.0,\"rgb(247,251,255)\"],[0.125,\"rgb(222,235,247)\"],[0.25,\"rgb(198,219,239)\"],[0.375,\"rgb(158,202,225)\"],[0.5,\"rgb(107,174,214)\"],[0.625,\"rgb(66,146,198)\"],[0.75,\"rgb(33,113,181)\"],[0.875,\"rgb(8,81,156)\"],[1.0,\"rgb(8,48,107)\"]]},\"margin\":{\"t\":60},\"title\":{\"text\":\"Normalized Confusion  for the unannotated model\"}},                        {\"responsive\": true}                    ).then(function(){\n",
       "                            \n",
       "var gd = document.getElementById('52a7bcee-8bfa-4637-881b-6839eee82489');\n",
       "var x = new MutationObserver(function (mutations, observer) {{\n",
       "        var display = window.getComputedStyle(gd).display;\n",
       "        if (!display || display === 'none') {{\n",
       "            console.log([gd, 'removed!']);\n",
       "            Plotly.purge(gd);\n",
       "            observer.disconnect();\n",
       "        }}\n",
       "}});\n",
       "\n",
       "// Listen for the removal of the full notebook cells\n",
       "var notebookContainer = gd.closest('#notebook-container');\n",
       "if (notebookContainer) {{\n",
       "    x.observe(notebookContainer, {childList: true});\n",
       "}}\n",
       "\n",
       "// Listen for the clearing of the current output cell\n",
       "var outputEl = gd.closest('.output');\n",
       "if (outputEl) {{\n",
       "    x.observe(outputEl, {childList: true});\n",
       "}}\n",
       "\n",
       "                        })                };                });            </script>        </div>"
      ]
     },
     "metadata": {},
     "output_type": "display_data"
    }
   ],
   "source": [
    "fig = px.imshow(\n",
    "    cm_normalized,\n",
    "    text_auto=True,\n",
    "    labels=dict(x=\"Predicted Class\", y=\"Actual Class\", color=\"Normalized Count\"),\n",
    "    x=class_labels,\n",
    "    y=class_labels,\n",
    "    color_continuous_scale='Blues'\n",
    ")\n",
    "\n",
    "# Update layout to add titles and adjust other aspects of the layout if necessary\n",
    "fig.update_layout(\n",
    "    title=\"Normalized Confusion for the unannotated model\",\n",
    "    xaxis_title=\"Predicted Class\",\n",
    "    yaxis_title=\"Actual Class\"\n",
    ")\n",
    "\n",
    "# Show the figure\n",
    "fig.show()\n"
   ]
  },
  {
   "cell_type": "code",
   "execution_count": 35,
   "metadata": {},
   "outputs": [
    {
     "data": {
      "application/vnd.plotly.v1+json": {
       "config": {
        "plotlyServerURL": "https://plot.ly"
       },
       "data": [
        {
         "colorscale": [
          [
           0,
           "rgb(247,251,255)"
          ],
          [
           0.125,
           "rgb(222,235,247)"
          ],
          [
           0.25,
           "rgb(198,219,239)"
          ],
          [
           0.375,
           "rgb(158,202,225)"
          ],
          [
           0.5,
           "rgb(107,174,214)"
          ],
          [
           0.625,
           "rgb(66,146,198)"
          ],
          [
           0.75,
           "rgb(33,113,181)"
          ],
          [
           0.875,
           "rgb(8,81,156)"
          ],
          [
           1,
           "rgb(8,48,107)"
          ]
         ],
         "showscale": true,
         "text": [
          [
           247914,
           11330,
           5548,
           2951,
           497,
           8557,
           518,
           24,
           3325,
           121,
           16,
           2397,
           0,
           0,
           0,
           0,
           0,
           0,
           0,
           835,
           1,
           0,
           71,
           89,
           1,
           2,
           0,
           19
          ],
          [
           10153,
           191200,
           1618,
           1458,
           16,
           981,
           32,
           0,
           10,
           0,
           4,
           1881,
           0,
           0,
           0,
           0,
           0,
           0,
           0,
           1189,
           0,
           0,
           74,
           270,
           46,
           0,
           0,
           324
          ],
          [
           11384,
           1354,
           405774,
           5,
           7632,
           9760,
           338,
           2,
           1345,
           7818,
           60,
           23706,
           0,
           7,
           0,
           0,
           0,
           2,
           0,
           2781,
           0,
           294,
           237,
           8,
           0,
           6,
           0,
           2
          ],
          [
           4980,
           194,
           12,
           155869,
           2597,
           2679,
           5330,
           1600,
           816,
           177,
           9,
           0,
           0,
           0,
           0,
           0,
           0,
           0,
           0,
           490,
           0,
           0,
           2,
           120,
           0,
           17,
           0,
           14
          ],
          [
           3169,
           21,
           5645,
           1005,
           428106,
           860,
           824,
           447,
           2237,
           6548,
           87,
           0,
           35,
           1,
           0,
           0,
           0,
           9,
           0,
           2772,
           0,
           17830,
           4,
           0,
           0,
           234,
           0,
           0
          ],
          [
           14516,
           1630,
           5612,
           745,
           1405,
           291195,
           990,
           488,
           1344,
           5966,
           27,
           9166,
           0,
           0,
           0,
           0,
           0,
           0,
           0,
           840,
           0,
           0,
           63,
           3,
           1,
           0,
           0,
           0
          ],
          [
           3225,
           0,
           2668,
           10932,
           24166,
           6671,
           191304,
           11531,
           6495,
           22251,
           14,
           23,
           19,
           5,
           1,
           0,
           0,
           1024,
           0,
           1045,
           3,
           39,
           6,
           276,
           0,
           1666,
           7,
           2
          ],
          [
           10,
           0,
           0,
           3425,
           5703,
           613,
           5749,
           285858,
           314,
           6118,
           13,
           0,
           1,
           0,
           0,
           0,
           0,
           94,
           0,
           17,
           0,
           75,
           0,
           4,
           0,
           1373,
           0,
           0
          ],
          [
           9063,
           1,
           6433,
           1287,
           24336,
           1772,
           8369,
           1039,
           123863,
           6815,
           8,
           28,
           5,
           0,
           0,
           0,
           0,
           5,
           0,
           146,
           0,
           231,
           2,
           22,
           0,
           639,
           0,
           0
          ],
          [
           45,
           0,
           5051,
           73,
           25665,
           16492,
           689,
           8015,
           1760,
           492491,
           238,
           266,
           1,
           1,
           0,
           0,
           0,
           17,
           0,
           183,
           0,
           7917,
           13,
           0,
           0,
           83,
           0,
           0
          ],
          [
           28,
           36,
           209,
           27,
           699,
           59,
           20,
           129,
           80,
           545,
           126294,
           16,
           44,
           1,
           0,
           0,
           0,
           132,
           0,
           21,
           0,
           505,
           0,
           110,
           1,
           1595,
           2,
           757
          ],
          [
           3719,
           6139,
           6963,
           1,
           0,
           22714,
           131,
           7,
           119,
           3682,
           33,
           414082,
           0,
           0,
           0,
           0,
           1,
           2,
           0,
           0,
           1,
           0,
           65,
           144,
           15,
           7,
           0,
           28
          ],
          [
           0,
           0,
           4,
           0,
           144,
           0,
           46,
           8,
           53,
           40,
           130,
           0,
           123413,
           3,
           1,
           0,
           0,
           248,
           0,
           0,
           0,
           232,
           0,
           42,
           0,
           1915,
           15,
           0
          ],
          [
           0,
           1,
           143,
           1,
           38,
           0,
           33,
           30,
           121,
           138,
           316,
           292,
           143,
           88402,
           1,
           0,
           406,
           1387,
           223,
           0,
           4,
           32,
           4,
           315,
           0,
           515,
           1515,
           303
          ],
          [
           0,
           0,
           0,
           0,
           2,
           0,
           0,
           0,
           3,
           0,
           0,
           0,
           0,
           0,
           34779,
           9,
           0,
           0,
           0,
           0,
           4,
           23,
           0,
           0,
           0,
           2,
           0,
           0
          ],
          [
           0,
           0,
           2,
           0,
           1,
           0,
           0,
           0,
           1,
           1,
           0,
           0,
           0,
           0,
           610,
           26996,
           73,
           1,
           5,
           0,
           15,
           42,
           0,
           0,
           0,
           1,
           1,
           0
          ],
          [
           0,
           5,
           2,
           0,
           3,
           1,
           1,
           0,
           10,
           2,
           10,
           16,
           7,
           2,
           2,
           8,
           14224,
           15,
           48,
           0,
           5,
           55,
           0,
           40,
           0,
           25,
           19,
           16
          ],
          [
           2,
           2,
           0,
           2,
           197,
           0,
           84,
           72,
           2,
           47,
           3,
           7,
           72,
           3,
           2,
           1,
           1,
           22518,
           2,
           0,
           0,
           2400,
           38,
           20,
           6,
           332,
           168,
           15
          ],
          [
           2,
           3,
           1,
           0,
           3,
           0,
           6,
           0,
           2,
           0,
           5,
           7,
           3,
           0,
           0,
           1,
           25,
           23,
           7056,
           0,
           6,
           22,
           23,
           9,
           0,
           9,
           99,
           13
          ],
          [
           271,
           32,
           1864,
           31,
           2729,
           838,
           23,
           16,
           5,
           856,
           2,
           5,
           0,
           0,
           0,
           0,
           0,
           0,
           0,
           17929,
           0,
           117,
           1,
           0,
           0,
           0,
           0,
           0
          ],
          [
           20,
           13,
           15,
           0,
           2,
           7,
           5,
           0,
           14,
           1,
           4,
           16,
           8,
           21,
           69,
           66,
           4,
           1,
           0,
           0,
           2112,
           0,
           1,
           13,
           0,
           1,
           2,
           5
          ],
          [
           0,
           0,
           287,
           0,
           484,
           0,
           0,
           0,
           9,
           1053,
           226,
           0,
           5,
           0,
           0,
           0,
           0,
           0,
           1,
           2,
           0,
           28739,
           0,
           0,
           0,
           0,
           0,
           0
          ],
          [
           1205,
           599,
           1119,
           35,
           58,
           611,
           68,
           3,
           119,
           49,
           1,
           449,
           0,
           0,
           0,
           0,
           0,
           22,
           5,
           25,
           0,
           0,
           2149,
           26,
           2,
           0,
           6,
           28
          ],
          [
           1,
           2,
           1,
           1,
           0,
           0,
           5,
           0,
           2,
           0,
           6,
           1,
           139,
           2,
           0,
           0,
           0,
           5,
           0,
           0,
           0,
           0,
           0,
           3172,
           2,
           13,
           4,
           136
          ],
          [
           4,
           28,
           3,
           0,
           0,
           0,
           0,
           0,
           0,
           0,
           0,
           10,
           0,
           0,
           0,
           0,
           0,
           1,
           1,
           0,
           0,
           0,
           1,
           2,
           77,
           0,
           0,
           12
          ],
          [
           0,
           0,
           2,
           0,
           89,
           0,
           43,
           42,
           63,
           62,
           1,
           1,
           38,
           0,
           0,
           0,
           0,
           25,
           1,
           0,
           0,
           20,
           0,
           31,
           0,
           6184,
           16,
           0
          ],
          [
           0,
           0,
           0,
           0,
           0,
           0,
           0,
           0,
           0,
           0,
           0,
           0,
           5,
           0,
           0,
           0,
           1,
           1,
           0,
           0,
           0,
           0,
           0,
           0,
           0,
           0,
           690,
           0
          ],
          [
           6,
           11,
           9,
           11,
           7,
           19,
           0,
           7,
           8,
           1,
           7,
           8,
           0,
           1,
           0,
           0,
           0,
           1,
           0,
           3,
           0,
           0,
           0,
           3,
           0,
           1,
           0,
           594
          ]
         ],
         "texttemplate": "%{text}",
         "type": "heatmap",
         "x": [
          "0",
          "1",
          "2",
          "3",
          "4",
          "5",
          "6",
          "7",
          "8",
          "9",
          "10",
          "11",
          "12",
          "13",
          "14",
          "15",
          "16",
          "17",
          "18",
          "19",
          "20",
          "21",
          "22",
          "23",
          "24",
          "25",
          "26",
          "27"
         ],
         "xaxis": "x",
         "y": [
          "0",
          "1",
          "2",
          "3",
          "4",
          "5",
          "6",
          "7",
          "8",
          "9",
          "10",
          "11",
          "12",
          "13",
          "14",
          "15",
          "16",
          "17",
          "18",
          "19",
          "20",
          "21",
          "22",
          "23",
          "24",
          "25",
          "26",
          "27"
         ],
         "yaxis": "y",
         "z": [
          [
           247914,
           11330,
           5548,
           2951,
           497,
           8557,
           518,
           24,
           3325,
           121,
           16,
           2397,
           0,
           0,
           0,
           0,
           0,
           0,
           0,
           835,
           1,
           0,
           71,
           89,
           1,
           2,
           0,
           19
          ],
          [
           10153,
           191200,
           1618,
           1458,
           16,
           981,
           32,
           0,
           10,
           0,
           4,
           1881,
           0,
           0,
           0,
           0,
           0,
           0,
           0,
           1189,
           0,
           0,
           74,
           270,
           46,
           0,
           0,
           324
          ],
          [
           11384,
           1354,
           405774,
           5,
           7632,
           9760,
           338,
           2,
           1345,
           7818,
           60,
           23706,
           0,
           7,
           0,
           0,
           0,
           2,
           0,
           2781,
           0,
           294,
           237,
           8,
           0,
           6,
           0,
           2
          ],
          [
           4980,
           194,
           12,
           155869,
           2597,
           2679,
           5330,
           1600,
           816,
           177,
           9,
           0,
           0,
           0,
           0,
           0,
           0,
           0,
           0,
           490,
           0,
           0,
           2,
           120,
           0,
           17,
           0,
           14
          ],
          [
           3169,
           21,
           5645,
           1005,
           428106,
           860,
           824,
           447,
           2237,
           6548,
           87,
           0,
           35,
           1,
           0,
           0,
           0,
           9,
           0,
           2772,
           0,
           17830,
           4,
           0,
           0,
           234,
           0,
           0
          ],
          [
           14516,
           1630,
           5612,
           745,
           1405,
           291195,
           990,
           488,
           1344,
           5966,
           27,
           9166,
           0,
           0,
           0,
           0,
           0,
           0,
           0,
           840,
           0,
           0,
           63,
           3,
           1,
           0,
           0,
           0
          ],
          [
           3225,
           0,
           2668,
           10932,
           24166,
           6671,
           191304,
           11531,
           6495,
           22251,
           14,
           23,
           19,
           5,
           1,
           0,
           0,
           1024,
           0,
           1045,
           3,
           39,
           6,
           276,
           0,
           1666,
           7,
           2
          ],
          [
           10,
           0,
           0,
           3425,
           5703,
           613,
           5749,
           285858,
           314,
           6118,
           13,
           0,
           1,
           0,
           0,
           0,
           0,
           94,
           0,
           17,
           0,
           75,
           0,
           4,
           0,
           1373,
           0,
           0
          ],
          [
           9063,
           1,
           6433,
           1287,
           24336,
           1772,
           8369,
           1039,
           123863,
           6815,
           8,
           28,
           5,
           0,
           0,
           0,
           0,
           5,
           0,
           146,
           0,
           231,
           2,
           22,
           0,
           639,
           0,
           0
          ],
          [
           45,
           0,
           5051,
           73,
           25665,
           16492,
           689,
           8015,
           1760,
           492491,
           238,
           266,
           1,
           1,
           0,
           0,
           0,
           17,
           0,
           183,
           0,
           7917,
           13,
           0,
           0,
           83,
           0,
           0
          ],
          [
           28,
           36,
           209,
           27,
           699,
           59,
           20,
           129,
           80,
           545,
           126294,
           16,
           44,
           1,
           0,
           0,
           0,
           132,
           0,
           21,
           0,
           505,
           0,
           110,
           1,
           1595,
           2,
           757
          ],
          [
           3719,
           6139,
           6963,
           1,
           0,
           22714,
           131,
           7,
           119,
           3682,
           33,
           414082,
           0,
           0,
           0,
           0,
           1,
           2,
           0,
           0,
           1,
           0,
           65,
           144,
           15,
           7,
           0,
           28
          ],
          [
           0,
           0,
           4,
           0,
           144,
           0,
           46,
           8,
           53,
           40,
           130,
           0,
           123413,
           3,
           1,
           0,
           0,
           248,
           0,
           0,
           0,
           232,
           0,
           42,
           0,
           1915,
           15,
           0
          ],
          [
           0,
           1,
           143,
           1,
           38,
           0,
           33,
           30,
           121,
           138,
           316,
           292,
           143,
           88402,
           1,
           0,
           406,
           1387,
           223,
           0,
           4,
           32,
           4,
           315,
           0,
           515,
           1515,
           303
          ],
          [
           0,
           0,
           0,
           0,
           2,
           0,
           0,
           0,
           3,
           0,
           0,
           0,
           0,
           0,
           34779,
           9,
           0,
           0,
           0,
           0,
           4,
           23,
           0,
           0,
           0,
           2,
           0,
           0
          ],
          [
           0,
           0,
           2,
           0,
           1,
           0,
           0,
           0,
           1,
           1,
           0,
           0,
           0,
           0,
           610,
           26996,
           73,
           1,
           5,
           0,
           15,
           42,
           0,
           0,
           0,
           1,
           1,
           0
          ],
          [
           0,
           5,
           2,
           0,
           3,
           1,
           1,
           0,
           10,
           2,
           10,
           16,
           7,
           2,
           2,
           8,
           14224,
           15,
           48,
           0,
           5,
           55,
           0,
           40,
           0,
           25,
           19,
           16
          ],
          [
           2,
           2,
           0,
           2,
           197,
           0,
           84,
           72,
           2,
           47,
           3,
           7,
           72,
           3,
           2,
           1,
           1,
           22518,
           2,
           0,
           0,
           2400,
           38,
           20,
           6,
           332,
           168,
           15
          ],
          [
           2,
           3,
           1,
           0,
           3,
           0,
           6,
           0,
           2,
           0,
           5,
           7,
           3,
           0,
           0,
           1,
           25,
           23,
           7056,
           0,
           6,
           22,
           23,
           9,
           0,
           9,
           99,
           13
          ],
          [
           271,
           32,
           1864,
           31,
           2729,
           838,
           23,
           16,
           5,
           856,
           2,
           5,
           0,
           0,
           0,
           0,
           0,
           0,
           0,
           17929,
           0,
           117,
           1,
           0,
           0,
           0,
           0,
           0
          ],
          [
           20,
           13,
           15,
           0,
           2,
           7,
           5,
           0,
           14,
           1,
           4,
           16,
           8,
           21,
           69,
           66,
           4,
           1,
           0,
           0,
           2112,
           0,
           1,
           13,
           0,
           1,
           2,
           5
          ],
          [
           0,
           0,
           287,
           0,
           484,
           0,
           0,
           0,
           9,
           1053,
           226,
           0,
           5,
           0,
           0,
           0,
           0,
           0,
           1,
           2,
           0,
           28739,
           0,
           0,
           0,
           0,
           0,
           0
          ],
          [
           1205,
           599,
           1119,
           35,
           58,
           611,
           68,
           3,
           119,
           49,
           1,
           449,
           0,
           0,
           0,
           0,
           0,
           22,
           5,
           25,
           0,
           0,
           2149,
           26,
           2,
           0,
           6,
           28
          ],
          [
           1,
           2,
           1,
           1,
           0,
           0,
           5,
           0,
           2,
           0,
           6,
           1,
           139,
           2,
           0,
           0,
           0,
           5,
           0,
           0,
           0,
           0,
           0,
           3172,
           2,
           13,
           4,
           136
          ],
          [
           4,
           28,
           3,
           0,
           0,
           0,
           0,
           0,
           0,
           0,
           0,
           10,
           0,
           0,
           0,
           0,
           0,
           1,
           1,
           0,
           0,
           0,
           1,
           2,
           77,
           0,
           0,
           12
          ],
          [
           0,
           0,
           2,
           0,
           89,
           0,
           43,
           42,
           63,
           62,
           1,
           1,
           38,
           0,
           0,
           0,
           0,
           25,
           1,
           0,
           0,
           20,
           0,
           31,
           0,
           6184,
           16,
           0
          ],
          [
           0,
           0,
           0,
           0,
           0,
           0,
           0,
           0,
           0,
           0,
           0,
           0,
           5,
           0,
           0,
           0,
           1,
           1,
           0,
           0,
           0,
           0,
           0,
           0,
           0,
           0,
           690,
           0
          ],
          [
           6,
           11,
           9,
           11,
           7,
           19,
           0,
           7,
           8,
           1,
           7,
           8,
           0,
           1,
           0,
           0,
           0,
           1,
           0,
           3,
           0,
           0,
           0,
           3,
           0,
           1,
           0,
           594
          ]
         ]
        },
        {
         "colorscale": [
          [
           0,
           "rgb(247,251,255)"
          ],
          [
           0.125,
           "rgb(222,235,247)"
          ],
          [
           0.25,
           "rgb(198,219,239)"
          ],
          [
           0.375,
           "rgb(158,202,225)"
          ],
          [
           0.5,
           "rgb(107,174,214)"
          ],
          [
           0.625,
           "rgb(66,146,198)"
          ],
          [
           0.75,
           "rgb(33,113,181)"
          ],
          [
           0.875,
           "rgb(8,81,156)"
          ],
          [
           1,
           "rgb(8,48,107)"
          ]
         ],
         "showscale": true,
         "text": [
          [
           0.87,
           0.04,
           0.02,
           0.01,
           0,
           0.03,
           0,
           0,
           0.01,
           0,
           0,
           0.01,
           0,
           0,
           0,
           0,
           0,
           0,
           0,
           0,
           0,
           0,
           0,
           0,
           0,
           0,
           0,
           0
          ],
          [
           0.05,
           0.91,
           0.01,
           0.01,
           0,
           0,
           0,
           0,
           0,
           0,
           0,
           0.01,
           0,
           0,
           0,
           0,
           0,
           0,
           0,
           0.01,
           0,
           0,
           0,
           0,
           0,
           0,
           0,
           0
          ],
          [
           0.02,
           0,
           0.86,
           0,
           0.02,
           0.02,
           0,
           0,
           0,
           0.02,
           0,
           0.05,
           0,
           0,
           0,
           0,
           0,
           0,
           0,
           0.01,
           0,
           0,
           0,
           0,
           0,
           0,
           0,
           0
          ],
          [
           0.03,
           0,
           0,
           0.89,
           0.01,
           0.02,
           0.03,
           0.01,
           0,
           0,
           0,
           0,
           0,
           0,
           0,
           0,
           0,
           0,
           0,
           0,
           0,
           0,
           0,
           0,
           0,
           0,
           0,
           0
          ],
          [
           0.01,
           0,
           0.01,
           0,
           0.91,
           0,
           0,
           0,
           0,
           0.01,
           0,
           0,
           0,
           0,
           0,
           0,
           0,
           0,
           0,
           0.01,
           0,
           0.04,
           0,
           0,
           0,
           0,
           0,
           0
          ],
          [
           0.04,
           0,
           0.02,
           0,
           0,
           0.87,
           0,
           0,
           0,
           0.02,
           0,
           0.03,
           0,
           0,
           0,
           0,
           0,
           0,
           0,
           0,
           0,
           0,
           0,
           0,
           0,
           0,
           0,
           0
          ],
          [
           0.01,
           0,
           0.01,
           0.04,
           0.09,
           0.02,
           0.68,
           0.04,
           0.02,
           0.08,
           0,
           0,
           0,
           0,
           0,
           0,
           0,
           0,
           0,
           0,
           0,
           0,
           0,
           0,
           0,
           0.01,
           0,
           0
          ],
          [
           0,
           0,
           0,
           0.01,
           0.02,
           0,
           0.02,
           0.92,
           0,
           0.02,
           0,
           0,
           0,
           0,
           0,
           0,
           0,
           0,
           0,
           0,
           0,
           0,
           0,
           0,
           0,
           0,
           0,
           0
          ],
          [
           0.05,
           0,
           0.03,
           0.01,
           0.13,
           0.01,
           0.05,
           0.01,
           0.67,
           0.04,
           0,
           0,
           0,
           0,
           0,
           0,
           0,
           0,
           0,
           0,
           0,
           0,
           0,
           0,
           0,
           0,
           0,
           0
          ],
          [
           0,
           0,
           0.01,
           0,
           0.05,
           0.03,
           0,
           0.01,
           0,
           0.88,
           0,
           0,
           0,
           0,
           0,
           0,
           0,
           0,
           0,
           0,
           0,
           0.01,
           0,
           0,
           0,
           0,
           0,
           0
          ],
          [
           0,
           0,
           0,
           0,
           0.01,
           0,
           0,
           0,
           0,
           0,
           0.96,
           0,
           0,
           0,
           0,
           0,
           0,
           0,
           0,
           0,
           0,
           0,
           0,
           0,
           0,
           0.01,
           0,
           0.01
          ],
          [
           0.01,
           0.01,
           0.02,
           0,
           0,
           0.05,
           0,
           0,
           0,
           0.01,
           0,
           0.9,
           0,
           0,
           0,
           0,
           0,
           0,
           0,
           0,
           0,
           0,
           0,
           0,
           0,
           0,
           0,
           0
          ],
          [
           0,
           0,
           0,
           0,
           0,
           0,
           0,
           0,
           0,
           0,
           0,
           0,
           0.98,
           0,
           0,
           0,
           0,
           0,
           0,
           0,
           0,
           0,
           0,
           0,
           0,
           0.02,
           0,
           0
          ],
          [
           0,
           0,
           0,
           0,
           0,
           0,
           0,
           0,
           0,
           0,
           0,
           0,
           0,
           0.94,
           0,
           0,
           0,
           0.01,
           0,
           0,
           0,
           0,
           0,
           0,
           0,
           0.01,
           0.02,
           0
          ],
          [
           0,
           0,
           0,
           0,
           0,
           0,
           0,
           0,
           0,
           0,
           0,
           0,
           0,
           0,
           1,
           0,
           0,
           0,
           0,
           0,
           0,
           0,
           0,
           0,
           0,
           0,
           0,
           0
          ],
          [
           0,
           0,
           0,
           0,
           0,
           0,
           0,
           0,
           0,
           0,
           0,
           0,
           0,
           0,
           0.02,
           0.97,
           0,
           0,
           0,
           0,
           0,
           0,
           0,
           0,
           0,
           0,
           0,
           0
          ],
          [
           0,
           0,
           0,
           0,
           0,
           0,
           0,
           0,
           0,
           0,
           0,
           0,
           0,
           0,
           0,
           0,
           0.98,
           0,
           0,
           0,
           0,
           0,
           0,
           0,
           0,
           0,
           0,
           0
          ],
          [
           0,
           0,
           0,
           0,
           0.01,
           0,
           0,
           0,
           0,
           0,
           0,
           0,
           0,
           0,
           0,
           0,
           0,
           0.87,
           0,
           0,
           0,
           0.09,
           0,
           0,
           0,
           0.01,
           0.01,
           0
          ],
          [
           0,
           0,
           0,
           0,
           0,
           0,
           0,
           0,
           0,
           0,
           0,
           0,
           0,
           0,
           0,
           0,
           0,
           0,
           0.96,
           0,
           0,
           0,
           0,
           0,
           0,
           0,
           0.01,
           0
          ],
          [
           0.01,
           0,
           0.08,
           0,
           0.11,
           0.03,
           0,
           0,
           0,
           0.03,
           0,
           0,
           0,
           0,
           0,
           0,
           0,
           0,
           0,
           0.73,
           0,
           0,
           0,
           0,
           0,
           0,
           0,
           0
          ],
          [
           0.01,
           0.01,
           0.01,
           0,
           0,
           0,
           0,
           0,
           0.01,
           0,
           0,
           0.01,
           0,
           0.01,
           0.03,
           0.03,
           0,
           0,
           0,
           0,
           0.88,
           0,
           0,
           0.01,
           0,
           0,
           0,
           0
          ],
          [
           0,
           0,
           0.01,
           0,
           0.02,
           0,
           0,
           0,
           0,
           0.03,
           0.01,
           0,
           0,
           0,
           0,
           0,
           0,
           0,
           0,
           0,
           0,
           0.93,
           0,
           0,
           0,
           0,
           0,
           0
          ],
          [
           0.18,
           0.09,
           0.17,
           0.01,
           0.01,
           0.09,
           0.01,
           0,
           0.02,
           0.01,
           0,
           0.07,
           0,
           0,
           0,
           0,
           0,
           0,
           0,
           0,
           0,
           0,
           0.33,
           0,
           0,
           0,
           0,
           0
          ],
          [
           0,
           0,
           0,
           0,
           0,
           0,
           0,
           0,
           0,
           0,
           0,
           0,
           0.04,
           0,
           0,
           0,
           0,
           0,
           0,
           0,
           0,
           0,
           0,
           0.91,
           0,
           0,
           0,
           0.04
          ],
          [
           0.03,
           0.2,
           0.02,
           0,
           0,
           0,
           0,
           0,
           0,
           0,
           0,
           0.07,
           0,
           0,
           0,
           0,
           0,
           0.01,
           0.01,
           0,
           0,
           0,
           0.01,
           0.01,
           0.55,
           0,
           0,
           0.09
          ],
          [
           0,
           0,
           0,
           0,
           0.01,
           0,
           0.01,
           0.01,
           0.01,
           0.01,
           0,
           0,
           0.01,
           0,
           0,
           0,
           0,
           0,
           0,
           0,
           0,
           0,
           0,
           0,
           0,
           0.93,
           0,
           0
          ],
          [
           0,
           0,
           0,
           0,
           0,
           0,
           0,
           0,
           0,
           0,
           0,
           0,
           0.01,
           0,
           0,
           0,
           0,
           0,
           0,
           0,
           0,
           0,
           0,
           0,
           0,
           0,
           0.99,
           0
          ],
          [
           0.01,
           0.02,
           0.01,
           0.02,
           0.01,
           0.03,
           0,
           0.01,
           0.01,
           0,
           0.01,
           0.01,
           0,
           0,
           0,
           0,
           0,
           0,
           0,
           0,
           0,
           0,
           0,
           0,
           0,
           0,
           0,
           0.85
          ]
         ],
         "texttemplate": "%{text}",
         "type": "heatmap",
         "x": [
          "0",
          "1",
          "2",
          "3",
          "4",
          "5",
          "6",
          "7",
          "8",
          "9",
          "10",
          "11",
          "12",
          "13",
          "14",
          "15",
          "16",
          "17",
          "18",
          "19",
          "20",
          "21",
          "22",
          "23",
          "24",
          "25",
          "26",
          "27"
         ],
         "xaxis": "x2",
         "y": [
          "0",
          "1",
          "2",
          "3",
          "4",
          "5",
          "6",
          "7",
          "8",
          "9",
          "10",
          "11",
          "12",
          "13",
          "14",
          "15",
          "16",
          "17",
          "18",
          "19",
          "20",
          "21",
          "22",
          "23",
          "24",
          "25",
          "26",
          "27"
         ],
         "yaxis": "y2",
         "z": [
          [
           0.8722732006642835,
           0.03986404706279731,
           0.019520364792974358,
           0.010382948180257269,
           0.0017486700256143216,
           0.030107383117065893,
           0.0018225574914853492,
           0.00008444281813831734,
           0.011698848762912713,
           0.0004257325414473499,
           0.00005629521209221156,
           0.008433726461564444,
           0,
           0,
           0,
           0,
           0,
           0,
           0,
           0.0029379063810622908,
           0.0000035184507557632225,
           0,
           0.0002498100036591888,
           0.0003131421172629268,
           0.0000035184507557632225,
           0.000007036901511526445,
           0,
           0.00006685056435950123
          ],
          [
           0.04851951676415491,
           0.9137133463317659,
           0.007732155828267768,
           0.006967542149329052,
           0.00007646136789387162,
           0.0046880376189930035,
           0.00015292273578774323,
           0,
           0.000047788354933669766,
           0,
           0.000019115341973467904,
           0.008988989563023282,
           0,
           0,
           0,
           0,
           0,
           0,
           0,
           0.005682035401613335,
           0,
           0,
           0.00035363382650915626,
           0.0012902855832090836,
           0.0002198264326948809,
           0,
           0,
           0.0015483426998509004
          ],
          [
           0.02409235685639609,
           0.0028655174967990435,
           0.8587536903590363,
           0.000010581674655831032,
           0.016151868194660485,
           0.020655428928182173,
           0.0007153212067341777,
           0.0000042326698623324125,
           0.0028464704824185476,
           0.0165455064918574,
           0.00012698009586997237,
           0.050169835878226085,
           0,
           0.000014814344518163444,
           0,
           0,
           0,
           0.0000042326698623324125,
           0,
           0.00588552744357322,
           0,
           0.0006222024697628647,
           0.0005015713786863909,
           0.00001693067944932965,
           0,
           0.000012698009586997238,
           0,
           0.0000042326698623324125
          ],
          [
           0.02847243662310041,
           0.001109167209815558,
           0.00006860828101951906,
           0.8911586795192846,
           0.014847975483974249,
           0.015316798737607629,
           0.030473511486169714,
           0.009147770802602541,
           0.004665363109327296,
           0.001011972145037906,
           0.00005145621076463929,
           0,
           0,
           0,
           0,
           0,
           0,
           0,
           0,
           0.002801504808297028,
           0,
           0,
           0.000011434713503253177,
           0.0006860828101951905,
           0,
           0.000097195064777652,
           0,
           0.00008004299452277223
          ],
          [
           0.00674493544528493,
           0.00004469663753581052,
           0.012014881851888114,
           0.0021390533677852178,
           0.9111856528050333,
           0.0018304337276570022,
           0.0017538109204527556,
           0.0009513998561193953,
           0.004761256103219435,
           0.013936837265927966,
           0.0001851717840769293,
           0,
           0.00007449439589301753,
           0.0000021284113112290723,
           0,
           0,
           0,
           0.00001915570180106165,
           0,
           0.005899956154726989,
           0,
           0.03794957367921436,
           0.00000851364524491629,
           0,
           0,
           0.0004980482468276029,
           0,
           0
          ],
          [
           0.043462248982757024,
           0.004880371027961831,
           0.01680284798093362,
           0.002230599028117524,
           0.004206700180543787,
           0.8718648107284328,
           0.0029641517286393944,
           0.001461117215733358,
           0.004024060528577117,
           0.01786275678087134,
           0.0000808405016901653,
           0.027443853277483526,
           0,
           0,
           0,
           0,
           0,
           0,
           0,
           0.0025150378303606985,
           0,
           0,
           0.00018862783727705237,
           0.000008982277965573923,
           0.0000029940926551913075,
           0,
           0,
           0
          ],
          [
           0.011380759634827594,
           0,
           0.009415152466889929,
           0.038578128473778374,
           0.0852798255303081,
           0.02354141008494105,
           0.6750960747848243,
           0.04069195018579752,
           0.02292032056688534,
           0.07852194810373607,
           0.00004940484802715855,
           0.00008116510747318905,
           0.00006704943660828661,
           0.000017644588581128052,
           0.0000035289177162256107,
           0,
           0,
           0.0036136117414150254,
           0,
           0.0036877190134557633,
           0.000010586753148676832,
           0.00013762779093279883,
           0.000021173506297353663,
           0.0009739812896782685,
           0,
           0.005879176915231868,
           0.000024702424013579275,
           0.0000070578354324512214
          ],
          [
           0.0000323240681779246,
           0,
           0,
           0.011070993350939176,
           0.0184344160818704,
           0.0019814653793067782,
           0.018583106795488854,
           0.924009348120517,
           0.0010149757407868325,
           0.01977586491125427,
           0.00004202128863130198,
           0,
           0.00000323240681779246,
           0,
           0,
           0,
           0,
           0.00030384624087249126,
           0,
           0.00005495091590247182,
           0,
           0.0002424305113344345,
           0,
           0.00001292962727116984,
           0,
           0.004438094560829047,
           0,
           0
          ],
          [
           0.049238308414464534,
           0.000005432892906815021,
           0.03494980006954103,
           0.006992133171070932,
           0.13221488178025034,
           0.009627086230876217,
           0.04546788073713491,
           0.005644775730180807,
           0.672934414116829,
           0.03702516515994437,
           0.000043463143254520165,
           0.00015212100139082058,
           0.000027164464534075106,
           0,
           0,
           0,
           0,
           0.000027164464534075106,
           0,
           0.000793202364394993,
           0,
           0.0012549982614742698,
           0.000010865785813630041,
           0.00011952364394993046,
           0,
           0.0034716185674547985,
           0,
           0
          ],
          [
           0.00008050089445438283,
           0,
           0.009035778175313059,
           0.00013059033989266548,
           0.04591234347048301,
           0.02950268336314848,
           0.0012325581395348838,
           0.014338103756708407,
           0.003148479427549195,
           0.8810214669051878,
           0.0004257602862254025,
           0.00047584973166368513,
           0.0000017889087656529517,
           0.0000017889087656529517,
           0,
           0,
           0,
           0.000030411449016100178,
           0,
           0.00032737030411449016,
           0,
           0.014162790697674418,
           0.00002325581395348837,
           0,
           0,
           0.000148479427549195,
           0,
           0
          ],
          [
           0.00021323585408575127,
           0.00027416038382453733,
           0.0015916533394257863,
           0.00020562028786840302,
           0.005323280785926434,
           0.0004493184068235473,
           0.0001523113243469652,
           0.0009824080420379256,
           0.0006092452973878608,
           0.004150483588454801,
           0.9618003198537811,
           0.00012184905947757215,
           0.00033508491356332344,
           0.0000076155662173482594,
           0,
           0,
           0,
           0.0010052547406899702,
           0,
           0.00015992689056431347,
           0,
           0.003845860939760871,
           0,
           0.0008377122839083085,
           0.0000076155662173482594,
           0.012146828116670474,
           0.000015231132434696519,
           0.005764983626532633
          ],
          [
           0.008122694401915025,
           0.01340823364704392,
           0.015207937918939048,
           0.0000021841071260863205,
           0,
           0.04960980926192468,
           0.00028611803351730793,
           0.00001528874988260424,
           0.0002599087480042721,
           0.00804188243824983,
           0.00007207553516084857,
           0.9043994469840757,
           0,
           0,
           0,
           0,
           0.0000021841071260863205,
           0.000004368214252172641,
           0,
           0,
           0.0000021841071260863205,
           0,
           0.00014196696319561082,
           0.00031451142615643014,
           0.0000327616068912948,
           0.00001528874988260424,
           0,
           0.00006115499953041696
          ],
          [
           0,
           0,
           0.00003167213010911049,
           0,
           0.0011401966839279776,
           0,
           0.0003642294962547706,
           0.00006334426021822098,
           0.000419655723945714,
           0.0003167213010911049,
           0.0010293442285460909,
           0,
           0.9771881482889132,
           0.000023754097581832866,
           0.000007918032527277622,
           0,
           0,
           0.0019636720667648502,
           0,
           0,
           0,
           0.0018369835463284082,
           0,
           0.0003325573661456601,
           0,
           0.015163032289736646,
           0.00011877048790916433,
           0
          ],
          [
           0,
           0.000010597373970730053,
           0.0015154244778143977,
           0.000010597373970730053,
           0.00040270021088774203,
           0,
           0.00034971334103409173,
           0.0003179212191219016,
           0.0012822822504583364,
           0.0014624376079607473,
           0.0033487701747506966,
           0.0030944331994531755,
           0.0015154244778143977,
           0.9368290537604782,
           0.000010597373970730053,
           0,
           0.004302533832116402,
           0.014698557697402583,
           0.002363214395472802,
           0,
           0.00004238949588292021,
           0.0003391159670633617,
           0.00004238949588292021,
           0.0033381728007799666,
           0,
           0.005457647594925978,
           0.01605502156565603,
           0.0032110043131312062
          ],
          [
           0,
           0,
           0,
           0,
           0.000057434954913560395,
           0,
           0,
           0,
           0.00008615243237034059,
           0,
           0,
           0,
           0,
           0,
           0.9987651484693585,
           0.0002584572971110218,
           0,
           0,
           0,
           0,
           0.00011486990982712079,
           0.0006605019815059445,
           0,
           0,
           0,
           0.000057434954913560395,
           0,
           0
          ],
          [
           0,
           0,
           0.00007207466935745433,
           0,
           0.00003603733467872716,
           0,
           0,
           0,
           0.00003603733467872716,
           0.00003603733467872716,
           0,
           0,
           0,
           0,
           0.02198277415402357,
           0.9728638869869185,
           0.0026307254315470828,
           0.00003603733467872716,
           0.00018018667339363581,
           0,
           0.0005405600201809074,
           0.0015135680565065408,
           0,
           0,
           0,
           0.00003603733467872716,
           0.00003603733467872716,
           0
          ],
          [
           0,
           0.00034444750620005513,
           0.00013777900248002206,
           0,
           0.00020666850372003307,
           0.00006888950124001103,
           0.00006888950124001103,
           0,
           0.0006888950124001103,
           0.00013777900248002206,
           0.0006888950124001103,
           0.0011022320198401765,
           0.00048222650868007716,
           0.00013777900248002206,
           0.00013777900248002206,
           0.0005511160099200882,
           0.9798842656379168,
           0.0010333425186001654,
           0.003306696059520529,
           0,
           0.00034444750620005513,
           0.003788922568200606,
           0,
           0.002755580049600441,
           0,
           0.0017222375310002756,
           0.0013089005235602095,
           0.0011022320198401765
          ],
          [
           0.00007693491306354824,
           0.00007693491306354824,
           0,
           0.00007693491306354824,
           0.007578088936759502,
           0,
           0.003231266348669026,
           0.0027696568702877365,
           0.00007693491306354824,
           0.0018079704569933836,
           0.00011540236959532236,
           0.00026927219572241883,
           0.0027696568702877365,
           0.00011540236959532236,
           0.00007693491306354824,
           0.00003846745653177412,
           0.00003846745653177412,
           0.8662101861824896,
           0.00007693491306354824,
           0,
           0,
           0.09232189567625788,
           0.0014617633482074165,
           0.0007693491306354824,
           0.0002308047391906447,
           0.012771195568549007,
           0.006462532697338052,
           0.0005770118479766118
          ],
          [
           0.00027329871549603714,
           0.00040994807324405577,
           0.00013664935774801857,
           0,
           0.00040994807324405577,
           0,
           0.0008198961464881115,
           0,
           0.00027329871549603714,
           0,
           0.000683246788740093,
           0.0009565455042361301,
           0.00040994807324405577,
           0,
           0,
           0.00013664935774801857,
           0.0034162339437004644,
           0.0031429352282044275,
           0.9641978682700191,
           0,
           0.0008198961464881115,
           0.003006285870456409,
           0.0031429352282044275,
           0.0012298442197321673,
           0,
           0.0012298442197321673,
           0.01352828641705384,
           0.0017764416507242415
          ],
          [
           0.01096322666774546,
           0.001294550750434888,
           0.07540758121283224,
           0.0012540960394837979,
           0.11040090618552531,
           0.03390104777701363,
           0.0009304583518750758,
           0.000647275375217444,
           0.00020227355475545126,
           0.03462923257413326,
           0.0000809094219021805,
           0.00020227355475545126,
           0,
           0,
           0,
           0,
           0,
           0,
           0,
           0.7253125126420972,
           0,
           0.00473320118127756,
           0.00004045471095109025,
           0,
           0,
           0,
           0,
           0
          ],
          [
           0.008333333333333333,
           0.005416666666666667,
           0.00625,
           0,
           0.0008333333333333334,
           0.002916666666666667,
           0.0020833333333333333,
           0,
           0.005833333333333334,
           0.0004166666666666667,
           0.0016666666666666668,
           0.006666666666666667,
           0.0033333333333333335,
           0.00875,
           0.02875,
           0.0275,
           0.0016666666666666668,
           0.0004166666666666667,
           0,
           0,
           0.88,
           0,
           0.0004166666666666667,
           0.005416666666666667,
           0,
           0.0004166666666666667,
           0.0008333333333333334,
           0.0020833333333333333
          ],
          [
           0,
           0,
           0.009316366941504901,
           0,
           0.015711225086022202,
           0,
           0,
           0,
           0.00029215087969876,
           0.03418165292475492,
           0.007336233201324417,
           0,
           0.00016230604427708889,
           0,
           0,
           0,
           0,
           0,
           0.000032461208855417776,
           0.00006492241771083555,
           0,
           0.9329026812958514,
           0,
           0,
           0,
           0,
           0,
           0
          ],
          [
           0.18315853473172214,
           0.09104727162182702,
           0.17008663930688556,
           0.005319957440340477,
           0.008815929472564219,
           0.09287125702994375,
           0.0103359173126615,
           0.00045599635202918376,
           0.01808785529715762,
           0.007447940416476668,
           0.0001519987840097279,
           0.06824745402036783,
           0,
           0,
           0,
           0,
           0,
           0.003343973248214014,
           0.0007599939200486396,
           0.003799969600243198,
           0,
           0,
           0.3266453868369053,
           0.003951968384252926,
           0.0003039975680194558,
           0,
           0.0009119927040583675,
           0.004255965952272382
          ],
          [
           0.000286368843069874,
           0.000572737686139748,
           0.000286368843069874,
           0.000286368843069874,
           0,
           0,
           0.0014318442153493699,
           0,
           0.000572737686139748,
           0,
           0.001718213058419244,
           0.000286368843069874,
           0.03980526918671248,
           0.000572737686139748,
           0,
           0,
           0,
           0.0014318442153493699,
           0,
           0,
           0,
           0,
           0,
           0.9083619702176403,
           0.000572737686139748,
           0.0037227949599083618,
           0.001145475372279496,
           0.038946162657502864
          ],
          [
           0.02877697841726619,
           0.2014388489208633,
           0.02158273381294964,
           0,
           0,
           0,
           0,
           0,
           0,
           0,
           0,
           0.07194244604316546,
           0,
           0,
           0,
           0,
           0,
           0.007194244604316547,
           0.007194244604316547,
           0,
           0,
           0,
           0.007194244604316547,
           0.014388489208633094,
           0.5539568345323741,
           0,
           0,
           0.08633093525179857
          ],
          [
           0,
           0,
           0.0003022061045633122,
           0,
           0.013448171653067392,
           0,
           0.006497431248111212,
           0.006346328195829556,
           0.009519492293744334,
           0.009368389241462678,
           0.0001511030522816561,
           0.0001511030522816561,
           0.005741915986702931,
           0,
           0,
           0,
           0,
           0.0037775763070414022,
           0.0001511030522816561,
           0,
           0,
           0.0030220610456331218,
           0,
           0.004684194620731339,
           0,
           0.9344212753097613,
           0.0024176488365064974,
           0
          ],
          [
           0,
           0,
           0,
           0,
           0,
           0,
           0,
           0,
           0,
           0,
           0,
           0,
           0.007173601147776184,
           0,
           0,
           0,
           0.0014347202295552368,
           0.0014347202295552368,
           0,
           0,
           0,
           0,
           0,
           0,
           0,
           0,
           0.9899569583931134,
           0
          ],
          [
           0.00860832137733142,
           0.015781922525107604,
           0.01291248206599713,
           0.015781922525107604,
           0.010043041606886656,
           0.027259684361549498,
           0,
           0.010043041606886656,
           0.011477761836441894,
           0.0014347202295552368,
           0.010043041606886656,
           0.011477761836441894,
           0,
           0.0014347202295552368,
           0,
           0,
           0,
           0.0014347202295552368,
           0,
           0.00430416068866571,
           0,
           0,
           0,
           0.00430416068866571,
           0,
           0.0014347202295552368,
           0,
           0.8522238163558106
          ]
         ]
        }
       ],
       "layout": {
        "annotations": [
         {
          "font": {
           "size": 16
          },
          "showarrow": false,
          "text": "Original Confusion Matrix",
          "x": 0.2125,
          "xanchor": "center",
          "xref": "paper",
          "y": 1,
          "yanchor": "bottom",
          "yref": "paper"
         },
         {
          "font": {
           "size": 16
          },
          "showarrow": false,
          "text": "Normalized Confusion Matrix",
          "x": 0.7875,
          "xanchor": "center",
          "xref": "paper",
          "y": 1,
          "yanchor": "bottom",
          "yref": "paper"
         }
        ],
        "template": {
         "data": {
          "bar": [
           {
            "error_x": {
             "color": "#2a3f5f"
            },
            "error_y": {
             "color": "#2a3f5f"
            },
            "marker": {
             "line": {
              "color": "#E5ECF6",
              "width": 0.5
             },
             "pattern": {
              "fillmode": "overlay",
              "size": 10,
              "solidity": 0.2
             }
            },
            "type": "bar"
           }
          ],
          "barpolar": [
           {
            "marker": {
             "line": {
              "color": "#E5ECF6",
              "width": 0.5
             },
             "pattern": {
              "fillmode": "overlay",
              "size": 10,
              "solidity": 0.2
             }
            },
            "type": "barpolar"
           }
          ],
          "carpet": [
           {
            "aaxis": {
             "endlinecolor": "#2a3f5f",
             "gridcolor": "white",
             "linecolor": "white",
             "minorgridcolor": "white",
             "startlinecolor": "#2a3f5f"
            },
            "baxis": {
             "endlinecolor": "#2a3f5f",
             "gridcolor": "white",
             "linecolor": "white",
             "minorgridcolor": "white",
             "startlinecolor": "#2a3f5f"
            },
            "type": "carpet"
           }
          ],
          "choropleth": [
           {
            "colorbar": {
             "outlinewidth": 0,
             "ticks": ""
            },
            "type": "choropleth"
           }
          ],
          "contour": [
           {
            "colorbar": {
             "outlinewidth": 0,
             "ticks": ""
            },
            "colorscale": [
             [
              0,
              "#0d0887"
             ],
             [
              0.1111111111111111,
              "#46039f"
             ],
             [
              0.2222222222222222,
              "#7201a8"
             ],
             [
              0.3333333333333333,
              "#9c179e"
             ],
             [
              0.4444444444444444,
              "#bd3786"
             ],
             [
              0.5555555555555556,
              "#d8576b"
             ],
             [
              0.6666666666666666,
              "#ed7953"
             ],
             [
              0.7777777777777778,
              "#fb9f3a"
             ],
             [
              0.8888888888888888,
              "#fdca26"
             ],
             [
              1,
              "#f0f921"
             ]
            ],
            "type": "contour"
           }
          ],
          "contourcarpet": [
           {
            "colorbar": {
             "outlinewidth": 0,
             "ticks": ""
            },
            "type": "contourcarpet"
           }
          ],
          "heatmap": [
           {
            "colorbar": {
             "outlinewidth": 0,
             "ticks": ""
            },
            "colorscale": [
             [
              0,
              "#0d0887"
             ],
             [
              0.1111111111111111,
              "#46039f"
             ],
             [
              0.2222222222222222,
              "#7201a8"
             ],
             [
              0.3333333333333333,
              "#9c179e"
             ],
             [
              0.4444444444444444,
              "#bd3786"
             ],
             [
              0.5555555555555556,
              "#d8576b"
             ],
             [
              0.6666666666666666,
              "#ed7953"
             ],
             [
              0.7777777777777778,
              "#fb9f3a"
             ],
             [
              0.8888888888888888,
              "#fdca26"
             ],
             [
              1,
              "#f0f921"
             ]
            ],
            "type": "heatmap"
           }
          ],
          "heatmapgl": [
           {
            "colorbar": {
             "outlinewidth": 0,
             "ticks": ""
            },
            "colorscale": [
             [
              0,
              "#0d0887"
             ],
             [
              0.1111111111111111,
              "#46039f"
             ],
             [
              0.2222222222222222,
              "#7201a8"
             ],
             [
              0.3333333333333333,
              "#9c179e"
             ],
             [
              0.4444444444444444,
              "#bd3786"
             ],
             [
              0.5555555555555556,
              "#d8576b"
             ],
             [
              0.6666666666666666,
              "#ed7953"
             ],
             [
              0.7777777777777778,
              "#fb9f3a"
             ],
             [
              0.8888888888888888,
              "#fdca26"
             ],
             [
              1,
              "#f0f921"
             ]
            ],
            "type": "heatmapgl"
           }
          ],
          "histogram": [
           {
            "marker": {
             "pattern": {
              "fillmode": "overlay",
              "size": 10,
              "solidity": 0.2
             }
            },
            "type": "histogram"
           }
          ],
          "histogram2d": [
           {
            "colorbar": {
             "outlinewidth": 0,
             "ticks": ""
            },
            "colorscale": [
             [
              0,
              "#0d0887"
             ],
             [
              0.1111111111111111,
              "#46039f"
             ],
             [
              0.2222222222222222,
              "#7201a8"
             ],
             [
              0.3333333333333333,
              "#9c179e"
             ],
             [
              0.4444444444444444,
              "#bd3786"
             ],
             [
              0.5555555555555556,
              "#d8576b"
             ],
             [
              0.6666666666666666,
              "#ed7953"
             ],
             [
              0.7777777777777778,
              "#fb9f3a"
             ],
             [
              0.8888888888888888,
              "#fdca26"
             ],
             [
              1,
              "#f0f921"
             ]
            ],
            "type": "histogram2d"
           }
          ],
          "histogram2dcontour": [
           {
            "colorbar": {
             "outlinewidth": 0,
             "ticks": ""
            },
            "colorscale": [
             [
              0,
              "#0d0887"
             ],
             [
              0.1111111111111111,
              "#46039f"
             ],
             [
              0.2222222222222222,
              "#7201a8"
             ],
             [
              0.3333333333333333,
              "#9c179e"
             ],
             [
              0.4444444444444444,
              "#bd3786"
             ],
             [
              0.5555555555555556,
              "#d8576b"
             ],
             [
              0.6666666666666666,
              "#ed7953"
             ],
             [
              0.7777777777777778,
              "#fb9f3a"
             ],
             [
              0.8888888888888888,
              "#fdca26"
             ],
             [
              1,
              "#f0f921"
             ]
            ],
            "type": "histogram2dcontour"
           }
          ],
          "mesh3d": [
           {
            "colorbar": {
             "outlinewidth": 0,
             "ticks": ""
            },
            "type": "mesh3d"
           }
          ],
          "parcoords": [
           {
            "line": {
             "colorbar": {
              "outlinewidth": 0,
              "ticks": ""
             }
            },
            "type": "parcoords"
           }
          ],
          "pie": [
           {
            "automargin": true,
            "type": "pie"
           }
          ],
          "scatter": [
           {
            "fillpattern": {
             "fillmode": "overlay",
             "size": 10,
             "solidity": 0.2
            },
            "type": "scatter"
           }
          ],
          "scatter3d": [
           {
            "line": {
             "colorbar": {
              "outlinewidth": 0,
              "ticks": ""
             }
            },
            "marker": {
             "colorbar": {
              "outlinewidth": 0,
              "ticks": ""
             }
            },
            "type": "scatter3d"
           }
          ],
          "scattercarpet": [
           {
            "marker": {
             "colorbar": {
              "outlinewidth": 0,
              "ticks": ""
             }
            },
            "type": "scattercarpet"
           }
          ],
          "scattergeo": [
           {
            "marker": {
             "colorbar": {
              "outlinewidth": 0,
              "ticks": ""
             }
            },
            "type": "scattergeo"
           }
          ],
          "scattergl": [
           {
            "marker": {
             "colorbar": {
              "outlinewidth": 0,
              "ticks": ""
             }
            },
            "type": "scattergl"
           }
          ],
          "scattermapbox": [
           {
            "marker": {
             "colorbar": {
              "outlinewidth": 0,
              "ticks": ""
             }
            },
            "type": "scattermapbox"
           }
          ],
          "scatterpolar": [
           {
            "marker": {
             "colorbar": {
              "outlinewidth": 0,
              "ticks": ""
             }
            },
            "type": "scatterpolar"
           }
          ],
          "scatterpolargl": [
           {
            "marker": {
             "colorbar": {
              "outlinewidth": 0,
              "ticks": ""
             }
            },
            "type": "scatterpolargl"
           }
          ],
          "scatterternary": [
           {
            "marker": {
             "colorbar": {
              "outlinewidth": 0,
              "ticks": ""
             }
            },
            "type": "scatterternary"
           }
          ],
          "surface": [
           {
            "colorbar": {
             "outlinewidth": 0,
             "ticks": ""
            },
            "colorscale": [
             [
              0,
              "#0d0887"
             ],
             [
              0.1111111111111111,
              "#46039f"
             ],
             [
              0.2222222222222222,
              "#7201a8"
             ],
             [
              0.3333333333333333,
              "#9c179e"
             ],
             [
              0.4444444444444444,
              "#bd3786"
             ],
             [
              0.5555555555555556,
              "#d8576b"
             ],
             [
              0.6666666666666666,
              "#ed7953"
             ],
             [
              0.7777777777777778,
              "#fb9f3a"
             ],
             [
              0.8888888888888888,
              "#fdca26"
             ],
             [
              1,
              "#f0f921"
             ]
            ],
            "type": "surface"
           }
          ],
          "table": [
           {
            "cells": {
             "fill": {
              "color": "#EBF0F8"
             },
             "line": {
              "color": "white"
             }
            },
            "header": {
             "fill": {
              "color": "#C8D4E3"
             },
             "line": {
              "color": "white"
             }
            },
            "type": "table"
           }
          ]
         },
         "layout": {
          "annotationdefaults": {
           "arrowcolor": "#2a3f5f",
           "arrowhead": 0,
           "arrowwidth": 1
          },
          "autotypenumbers": "strict",
          "coloraxis": {
           "colorbar": {
            "outlinewidth": 0,
            "ticks": ""
           }
          },
          "colorscale": {
           "diverging": [
            [
             0,
             "#8e0152"
            ],
            [
             0.1,
             "#c51b7d"
            ],
            [
             0.2,
             "#de77ae"
            ],
            [
             0.3,
             "#f1b6da"
            ],
            [
             0.4,
             "#fde0ef"
            ],
            [
             0.5,
             "#f7f7f7"
            ],
            [
             0.6,
             "#e6f5d0"
            ],
            [
             0.7,
             "#b8e186"
            ],
            [
             0.8,
             "#7fbc41"
            ],
            [
             0.9,
             "#4d9221"
            ],
            [
             1,
             "#276419"
            ]
           ],
           "sequential": [
            [
             0,
             "#0d0887"
            ],
            [
             0.1111111111111111,
             "#46039f"
            ],
            [
             0.2222222222222222,
             "#7201a8"
            ],
            [
             0.3333333333333333,
             "#9c179e"
            ],
            [
             0.4444444444444444,
             "#bd3786"
            ],
            [
             0.5555555555555556,
             "#d8576b"
            ],
            [
             0.6666666666666666,
             "#ed7953"
            ],
            [
             0.7777777777777778,
             "#fb9f3a"
            ],
            [
             0.8888888888888888,
             "#fdca26"
            ],
            [
             1,
             "#f0f921"
            ]
           ],
           "sequentialminus": [
            [
             0,
             "#0d0887"
            ],
            [
             0.1111111111111111,
             "#46039f"
            ],
            [
             0.2222222222222222,
             "#7201a8"
            ],
            [
             0.3333333333333333,
             "#9c179e"
            ],
            [
             0.4444444444444444,
             "#bd3786"
            ],
            [
             0.5555555555555556,
             "#d8576b"
            ],
            [
             0.6666666666666666,
             "#ed7953"
            ],
            [
             0.7777777777777778,
             "#fb9f3a"
            ],
            [
             0.8888888888888888,
             "#fdca26"
            ],
            [
             1,
             "#f0f921"
            ]
           ]
          },
          "colorway": [
           "#636efa",
           "#EF553B",
           "#00cc96",
           "#ab63fa",
           "#FFA15A",
           "#19d3f3",
           "#FF6692",
           "#B6E880",
           "#FF97FF",
           "#FECB52"
          ],
          "font": {
           "color": "#2a3f5f"
          },
          "geo": {
           "bgcolor": "white",
           "lakecolor": "white",
           "landcolor": "#E5ECF6",
           "showlakes": true,
           "showland": true,
           "subunitcolor": "white"
          },
          "hoverlabel": {
           "align": "left"
          },
          "hovermode": "closest",
          "mapbox": {
           "style": "light"
          },
          "paper_bgcolor": "white",
          "plot_bgcolor": "#E5ECF6",
          "polar": {
           "angularaxis": {
            "gridcolor": "white",
            "linecolor": "white",
            "ticks": ""
           },
           "bgcolor": "#E5ECF6",
           "radialaxis": {
            "gridcolor": "white",
            "linecolor": "white",
            "ticks": ""
           }
          },
          "scene": {
           "xaxis": {
            "backgroundcolor": "#E5ECF6",
            "gridcolor": "white",
            "gridwidth": 2,
            "linecolor": "white",
            "showbackground": true,
            "ticks": "",
            "zerolinecolor": "white"
           },
           "yaxis": {
            "backgroundcolor": "#E5ECF6",
            "gridcolor": "white",
            "gridwidth": 2,
            "linecolor": "white",
            "showbackground": true,
            "ticks": "",
            "zerolinecolor": "white"
           },
           "zaxis": {
            "backgroundcolor": "#E5ECF6",
            "gridcolor": "white",
            "gridwidth": 2,
            "linecolor": "white",
            "showbackground": true,
            "ticks": "",
            "zerolinecolor": "white"
           }
          },
          "shapedefaults": {
           "line": {
            "color": "#2a3f5f"
           }
          },
          "ternary": {
           "aaxis": {
            "gridcolor": "white",
            "linecolor": "white",
            "ticks": ""
           },
           "baxis": {
            "gridcolor": "white",
            "linecolor": "white",
            "ticks": ""
           },
           "bgcolor": "#E5ECF6",
           "caxis": {
            "gridcolor": "white",
            "linecolor": "white",
            "ticks": ""
           }
          },
          "title": {
           "x": 0.05
          },
          "xaxis": {
           "automargin": true,
           "gridcolor": "white",
           "linecolor": "white",
           "ticks": "",
           "title": {
            "standoff": 15
           },
           "zerolinecolor": "white",
           "zerolinewidth": 2
          },
          "yaxis": {
           "automargin": true,
           "gridcolor": "white",
           "linecolor": "white",
           "ticks": "",
           "title": {
            "standoff": 15
           },
           "zerolinecolor": "white",
           "zerolinewidth": 2
          }
         }
        },
        "title": {
         "text": "Confusion for the unannotated model"
        },
        "xaxis": {
         "anchor": "y",
         "domain": [
          0,
          0.425
         ],
         "title": {
          "text": "Predicted Class"
         }
        },
        "xaxis2": {
         "anchor": "y2",
         "domain": [
          0.575,
          1
         ],
         "title": {
          "text": "Predicted Class"
         }
        },
        "yaxis": {
         "anchor": "x",
         "domain": [
          0,
          1
         ],
         "title": {
          "text": "Actual Class"
         }
        },
        "yaxis2": {
         "anchor": "x2",
         "domain": [
          0,
          1
         ],
         "title": {
          "text": "Actual Class"
         }
        }
       }
      },
      "text/html": [
       "<div>                            <div id=\"57d0afef-6b42-44df-a43b-13b4a082566b\" class=\"plotly-graph-div\" style=\"height:525px; width:100%;\"></div>            <script type=\"text/javascript\">                require([\"plotly\"], function(Plotly) {                    window.PLOTLYENV=window.PLOTLYENV || {};                                    if (document.getElementById(\"57d0afef-6b42-44df-a43b-13b4a082566b\")) {                    Plotly.newPlot(                        \"57d0afef-6b42-44df-a43b-13b4a082566b\",                        [{\"colorscale\":[[0.0,\"rgb(247,251,255)\"],[0.125,\"rgb(222,235,247)\"],[0.25,\"rgb(198,219,239)\"],[0.375,\"rgb(158,202,225)\"],[0.5,\"rgb(107,174,214)\"],[0.625,\"rgb(66,146,198)\"],[0.75,\"rgb(33,113,181)\"],[0.875,\"rgb(8,81,156)\"],[1.0,\"rgb(8,48,107)\"]],\"showscale\":true,\"text\":[[247914,11330,5548,2951,497,8557,518,24,3325,121,16,2397,0,0,0,0,0,0,0,835,1,0,71,89,1,2,0,19],[10153,191200,1618,1458,16,981,32,0,10,0,4,1881,0,0,0,0,0,0,0,1189,0,0,74,270,46,0,0,324],[11384,1354,405774,5,7632,9760,338,2,1345,7818,60,23706,0,7,0,0,0,2,0,2781,0,294,237,8,0,6,0,2],[4980,194,12,155869,2597,2679,5330,1600,816,177,9,0,0,0,0,0,0,0,0,490,0,0,2,120,0,17,0,14],[3169,21,5645,1005,428106,860,824,447,2237,6548,87,0,35,1,0,0,0,9,0,2772,0,17830,4,0,0,234,0,0],[14516,1630,5612,745,1405,291195,990,488,1344,5966,27,9166,0,0,0,0,0,0,0,840,0,0,63,3,1,0,0,0],[3225,0,2668,10932,24166,6671,191304,11531,6495,22251,14,23,19,5,1,0,0,1024,0,1045,3,39,6,276,0,1666,7,2],[10,0,0,3425,5703,613,5749,285858,314,6118,13,0,1,0,0,0,0,94,0,17,0,75,0,4,0,1373,0,0],[9063,1,6433,1287,24336,1772,8369,1039,123863,6815,8,28,5,0,0,0,0,5,0,146,0,231,2,22,0,639,0,0],[45,0,5051,73,25665,16492,689,8015,1760,492491,238,266,1,1,0,0,0,17,0,183,0,7917,13,0,0,83,0,0],[28,36,209,27,699,59,20,129,80,545,126294,16,44,1,0,0,0,132,0,21,0,505,0,110,1,1595,2,757],[3719,6139,6963,1,0,22714,131,7,119,3682,33,414082,0,0,0,0,1,2,0,0,1,0,65,144,15,7,0,28],[0,0,4,0,144,0,46,8,53,40,130,0,123413,3,1,0,0,248,0,0,0,232,0,42,0,1915,15,0],[0,1,143,1,38,0,33,30,121,138,316,292,143,88402,1,0,406,1387,223,0,4,32,4,315,0,515,1515,303],[0,0,0,0,2,0,0,0,3,0,0,0,0,0,34779,9,0,0,0,0,4,23,0,0,0,2,0,0],[0,0,2,0,1,0,0,0,1,1,0,0,0,0,610,26996,73,1,5,0,15,42,0,0,0,1,1,0],[0,5,2,0,3,1,1,0,10,2,10,16,7,2,2,8,14224,15,48,0,5,55,0,40,0,25,19,16],[2,2,0,2,197,0,84,72,2,47,3,7,72,3,2,1,1,22518,2,0,0,2400,38,20,6,332,168,15],[2,3,1,0,3,0,6,0,2,0,5,7,3,0,0,1,25,23,7056,0,6,22,23,9,0,9,99,13],[271,32,1864,31,2729,838,23,16,5,856,2,5,0,0,0,0,0,0,0,17929,0,117,1,0,0,0,0,0],[20,13,15,0,2,7,5,0,14,1,4,16,8,21,69,66,4,1,0,0,2112,0,1,13,0,1,2,5],[0,0,287,0,484,0,0,0,9,1053,226,0,5,0,0,0,0,0,1,2,0,28739,0,0,0,0,0,0],[1205,599,1119,35,58,611,68,3,119,49,1,449,0,0,0,0,0,22,5,25,0,0,2149,26,2,0,6,28],[1,2,1,1,0,0,5,0,2,0,6,1,139,2,0,0,0,5,0,0,0,0,0,3172,2,13,4,136],[4,28,3,0,0,0,0,0,0,0,0,10,0,0,0,0,0,1,1,0,0,0,1,2,77,0,0,12],[0,0,2,0,89,0,43,42,63,62,1,1,38,0,0,0,0,25,1,0,0,20,0,31,0,6184,16,0],[0,0,0,0,0,0,0,0,0,0,0,0,5,0,0,0,1,1,0,0,0,0,0,0,0,0,690,0],[6,11,9,11,7,19,0,7,8,1,7,8,0,1,0,0,0,1,0,3,0,0,0,3,0,1,0,594]],\"texttemplate\":\"%{text}\",\"x\":[\"0\",\"1\",\"2\",\"3\",\"4\",\"5\",\"6\",\"7\",\"8\",\"9\",\"10\",\"11\",\"12\",\"13\",\"14\",\"15\",\"16\",\"17\",\"18\",\"19\",\"20\",\"21\",\"22\",\"23\",\"24\",\"25\",\"26\",\"27\"],\"y\":[\"0\",\"1\",\"2\",\"3\",\"4\",\"5\",\"6\",\"7\",\"8\",\"9\",\"10\",\"11\",\"12\",\"13\",\"14\",\"15\",\"16\",\"17\",\"18\",\"19\",\"20\",\"21\",\"22\",\"23\",\"24\",\"25\",\"26\",\"27\"],\"z\":[[247914,11330,5548,2951,497,8557,518,24,3325,121,16,2397,0,0,0,0,0,0,0,835,1,0,71,89,1,2,0,19],[10153,191200,1618,1458,16,981,32,0,10,0,4,1881,0,0,0,0,0,0,0,1189,0,0,74,270,46,0,0,324],[11384,1354,405774,5,7632,9760,338,2,1345,7818,60,23706,0,7,0,0,0,2,0,2781,0,294,237,8,0,6,0,2],[4980,194,12,155869,2597,2679,5330,1600,816,177,9,0,0,0,0,0,0,0,0,490,0,0,2,120,0,17,0,14],[3169,21,5645,1005,428106,860,824,447,2237,6548,87,0,35,1,0,0,0,9,0,2772,0,17830,4,0,0,234,0,0],[14516,1630,5612,745,1405,291195,990,488,1344,5966,27,9166,0,0,0,0,0,0,0,840,0,0,63,3,1,0,0,0],[3225,0,2668,10932,24166,6671,191304,11531,6495,22251,14,23,19,5,1,0,0,1024,0,1045,3,39,6,276,0,1666,7,2],[10,0,0,3425,5703,613,5749,285858,314,6118,13,0,1,0,0,0,0,94,0,17,0,75,0,4,0,1373,0,0],[9063,1,6433,1287,24336,1772,8369,1039,123863,6815,8,28,5,0,0,0,0,5,0,146,0,231,2,22,0,639,0,0],[45,0,5051,73,25665,16492,689,8015,1760,492491,238,266,1,1,0,0,0,17,0,183,0,7917,13,0,0,83,0,0],[28,36,209,27,699,59,20,129,80,545,126294,16,44,1,0,0,0,132,0,21,0,505,0,110,1,1595,2,757],[3719,6139,6963,1,0,22714,131,7,119,3682,33,414082,0,0,0,0,1,2,0,0,1,0,65,144,15,7,0,28],[0,0,4,0,144,0,46,8,53,40,130,0,123413,3,1,0,0,248,0,0,0,232,0,42,0,1915,15,0],[0,1,143,1,38,0,33,30,121,138,316,292,143,88402,1,0,406,1387,223,0,4,32,4,315,0,515,1515,303],[0,0,0,0,2,0,0,0,3,0,0,0,0,0,34779,9,0,0,0,0,4,23,0,0,0,2,0,0],[0,0,2,0,1,0,0,0,1,1,0,0,0,0,610,26996,73,1,5,0,15,42,0,0,0,1,1,0],[0,5,2,0,3,1,1,0,10,2,10,16,7,2,2,8,14224,15,48,0,5,55,0,40,0,25,19,16],[2,2,0,2,197,0,84,72,2,47,3,7,72,3,2,1,1,22518,2,0,0,2400,38,20,6,332,168,15],[2,3,1,0,3,0,6,0,2,0,5,7,3,0,0,1,25,23,7056,0,6,22,23,9,0,9,99,13],[271,32,1864,31,2729,838,23,16,5,856,2,5,0,0,0,0,0,0,0,17929,0,117,1,0,0,0,0,0],[20,13,15,0,2,7,5,0,14,1,4,16,8,21,69,66,4,1,0,0,2112,0,1,13,0,1,2,5],[0,0,287,0,484,0,0,0,9,1053,226,0,5,0,0,0,0,0,1,2,0,28739,0,0,0,0,0,0],[1205,599,1119,35,58,611,68,3,119,49,1,449,0,0,0,0,0,22,5,25,0,0,2149,26,2,0,6,28],[1,2,1,1,0,0,5,0,2,0,6,1,139,2,0,0,0,5,0,0,0,0,0,3172,2,13,4,136],[4,28,3,0,0,0,0,0,0,0,0,10,0,0,0,0,0,1,1,0,0,0,1,2,77,0,0,12],[0,0,2,0,89,0,43,42,63,62,1,1,38,0,0,0,0,25,1,0,0,20,0,31,0,6184,16,0],[0,0,0,0,0,0,0,0,0,0,0,0,5,0,0,0,1,1,0,0,0,0,0,0,0,0,690,0],[6,11,9,11,7,19,0,7,8,1,7,8,0,1,0,0,0,1,0,3,0,0,0,3,0,1,0,594]],\"type\":\"heatmap\",\"xaxis\":\"x\",\"yaxis\":\"y\"},{\"colorscale\":[[0.0,\"rgb(247,251,255)\"],[0.125,\"rgb(222,235,247)\"],[0.25,\"rgb(198,219,239)\"],[0.375,\"rgb(158,202,225)\"],[0.5,\"rgb(107,174,214)\"],[0.625,\"rgb(66,146,198)\"],[0.75,\"rgb(33,113,181)\"],[0.875,\"rgb(8,81,156)\"],[1.0,\"rgb(8,48,107)\"]],\"showscale\":true,\"text\":[[0.87,0.04,0.02,0.01,0.0,0.03,0.0,0.0,0.01,0.0,0.0,0.01,0.0,0.0,0.0,0.0,0.0,0.0,0.0,0.0,0.0,0.0,0.0,0.0,0.0,0.0,0.0,0.0],[0.05,0.91,0.01,0.01,0.0,0.0,0.0,0.0,0.0,0.0,0.0,0.01,0.0,0.0,0.0,0.0,0.0,0.0,0.0,0.01,0.0,0.0,0.0,0.0,0.0,0.0,0.0,0.0],[0.02,0.0,0.86,0.0,0.02,0.02,0.0,0.0,0.0,0.02,0.0,0.05,0.0,0.0,0.0,0.0,0.0,0.0,0.0,0.01,0.0,0.0,0.0,0.0,0.0,0.0,0.0,0.0],[0.03,0.0,0.0,0.89,0.01,0.02,0.03,0.01,0.0,0.0,0.0,0.0,0.0,0.0,0.0,0.0,0.0,0.0,0.0,0.0,0.0,0.0,0.0,0.0,0.0,0.0,0.0,0.0],[0.01,0.0,0.01,0.0,0.91,0.0,0.0,0.0,0.0,0.01,0.0,0.0,0.0,0.0,0.0,0.0,0.0,0.0,0.0,0.01,0.0,0.04,0.0,0.0,0.0,0.0,0.0,0.0],[0.04,0.0,0.02,0.0,0.0,0.87,0.0,0.0,0.0,0.02,0.0,0.03,0.0,0.0,0.0,0.0,0.0,0.0,0.0,0.0,0.0,0.0,0.0,0.0,0.0,0.0,0.0,0.0],[0.01,0.0,0.01,0.04,0.09,0.02,0.68,0.04,0.02,0.08,0.0,0.0,0.0,0.0,0.0,0.0,0.0,0.0,0.0,0.0,0.0,0.0,0.0,0.0,0.0,0.01,0.0,0.0],[0.0,0.0,0.0,0.01,0.02,0.0,0.02,0.92,0.0,0.02,0.0,0.0,0.0,0.0,0.0,0.0,0.0,0.0,0.0,0.0,0.0,0.0,0.0,0.0,0.0,0.0,0.0,0.0],[0.05,0.0,0.03,0.01,0.13,0.01,0.05,0.01,0.67,0.04,0.0,0.0,0.0,0.0,0.0,0.0,0.0,0.0,0.0,0.0,0.0,0.0,0.0,0.0,0.0,0.0,0.0,0.0],[0.0,0.0,0.01,0.0,0.05,0.03,0.0,0.01,0.0,0.88,0.0,0.0,0.0,0.0,0.0,0.0,0.0,0.0,0.0,0.0,0.0,0.01,0.0,0.0,0.0,0.0,0.0,0.0],[0.0,0.0,0.0,0.0,0.01,0.0,0.0,0.0,0.0,0.0,0.96,0.0,0.0,0.0,0.0,0.0,0.0,0.0,0.0,0.0,0.0,0.0,0.0,0.0,0.0,0.01,0.0,0.01],[0.01,0.01,0.02,0.0,0.0,0.05,0.0,0.0,0.0,0.01,0.0,0.9,0.0,0.0,0.0,0.0,0.0,0.0,0.0,0.0,0.0,0.0,0.0,0.0,0.0,0.0,0.0,0.0],[0.0,0.0,0.0,0.0,0.0,0.0,0.0,0.0,0.0,0.0,0.0,0.0,0.98,0.0,0.0,0.0,0.0,0.0,0.0,0.0,0.0,0.0,0.0,0.0,0.0,0.02,0.0,0.0],[0.0,0.0,0.0,0.0,0.0,0.0,0.0,0.0,0.0,0.0,0.0,0.0,0.0,0.94,0.0,0.0,0.0,0.01,0.0,0.0,0.0,0.0,0.0,0.0,0.0,0.01,0.02,0.0],[0.0,0.0,0.0,0.0,0.0,0.0,0.0,0.0,0.0,0.0,0.0,0.0,0.0,0.0,1.0,0.0,0.0,0.0,0.0,0.0,0.0,0.0,0.0,0.0,0.0,0.0,0.0,0.0],[0.0,0.0,0.0,0.0,0.0,0.0,0.0,0.0,0.0,0.0,0.0,0.0,0.0,0.0,0.02,0.97,0.0,0.0,0.0,0.0,0.0,0.0,0.0,0.0,0.0,0.0,0.0,0.0],[0.0,0.0,0.0,0.0,0.0,0.0,0.0,0.0,0.0,0.0,0.0,0.0,0.0,0.0,0.0,0.0,0.98,0.0,0.0,0.0,0.0,0.0,0.0,0.0,0.0,0.0,0.0,0.0],[0.0,0.0,0.0,0.0,0.01,0.0,0.0,0.0,0.0,0.0,0.0,0.0,0.0,0.0,0.0,0.0,0.0,0.87,0.0,0.0,0.0,0.09,0.0,0.0,0.0,0.01,0.01,0.0],[0.0,0.0,0.0,0.0,0.0,0.0,0.0,0.0,0.0,0.0,0.0,0.0,0.0,0.0,0.0,0.0,0.0,0.0,0.96,0.0,0.0,0.0,0.0,0.0,0.0,0.0,0.01,0.0],[0.01,0.0,0.08,0.0,0.11,0.03,0.0,0.0,0.0,0.03,0.0,0.0,0.0,0.0,0.0,0.0,0.0,0.0,0.0,0.73,0.0,0.0,0.0,0.0,0.0,0.0,0.0,0.0],[0.01,0.01,0.01,0.0,0.0,0.0,0.0,0.0,0.01,0.0,0.0,0.01,0.0,0.01,0.03,0.03,0.0,0.0,0.0,0.0,0.88,0.0,0.0,0.01,0.0,0.0,0.0,0.0],[0.0,0.0,0.01,0.0,0.02,0.0,0.0,0.0,0.0,0.03,0.01,0.0,0.0,0.0,0.0,0.0,0.0,0.0,0.0,0.0,0.0,0.93,0.0,0.0,0.0,0.0,0.0,0.0],[0.18,0.09,0.17,0.01,0.01,0.09,0.01,0.0,0.02,0.01,0.0,0.07,0.0,0.0,0.0,0.0,0.0,0.0,0.0,0.0,0.0,0.0,0.33,0.0,0.0,0.0,0.0,0.0],[0.0,0.0,0.0,0.0,0.0,0.0,0.0,0.0,0.0,0.0,0.0,0.0,0.04,0.0,0.0,0.0,0.0,0.0,0.0,0.0,0.0,0.0,0.0,0.91,0.0,0.0,0.0,0.04],[0.03,0.2,0.02,0.0,0.0,0.0,0.0,0.0,0.0,0.0,0.0,0.07,0.0,0.0,0.0,0.0,0.0,0.01,0.01,0.0,0.0,0.0,0.01,0.01,0.55,0.0,0.0,0.09],[0.0,0.0,0.0,0.0,0.01,0.0,0.01,0.01,0.01,0.01,0.0,0.0,0.01,0.0,0.0,0.0,0.0,0.0,0.0,0.0,0.0,0.0,0.0,0.0,0.0,0.93,0.0,0.0],[0.0,0.0,0.0,0.0,0.0,0.0,0.0,0.0,0.0,0.0,0.0,0.0,0.01,0.0,0.0,0.0,0.0,0.0,0.0,0.0,0.0,0.0,0.0,0.0,0.0,0.0,0.99,0.0],[0.01,0.02,0.01,0.02,0.01,0.03,0.0,0.01,0.01,0.0,0.01,0.01,0.0,0.0,0.0,0.0,0.0,0.0,0.0,0.0,0.0,0.0,0.0,0.0,0.0,0.0,0.0,0.85]],\"texttemplate\":\"%{text}\",\"x\":[\"0\",\"1\",\"2\",\"3\",\"4\",\"5\",\"6\",\"7\",\"8\",\"9\",\"10\",\"11\",\"12\",\"13\",\"14\",\"15\",\"16\",\"17\",\"18\",\"19\",\"20\",\"21\",\"22\",\"23\",\"24\",\"25\",\"26\",\"27\"],\"y\":[\"0\",\"1\",\"2\",\"3\",\"4\",\"5\",\"6\",\"7\",\"8\",\"9\",\"10\",\"11\",\"12\",\"13\",\"14\",\"15\",\"16\",\"17\",\"18\",\"19\",\"20\",\"21\",\"22\",\"23\",\"24\",\"25\",\"26\",\"27\"],\"z\":[[0.8722732006642835,0.03986404706279731,0.019520364792974358,0.010382948180257269,0.0017486700256143216,0.030107383117065893,0.0018225574914853492,8.444281813831734e-05,0.011698848762912713,0.0004257325414473499,5.629521209221156e-05,0.008433726461564444,0.0,0.0,0.0,0.0,0.0,0.0,0.0,0.0029379063810622908,3.5184507557632225e-06,0.0,0.0002498100036591888,0.0003131421172629268,3.5184507557632225e-06,7.036901511526445e-06,0.0,6.685056435950123e-05],[0.04851951676415491,0.9137133463317659,0.007732155828267768,0.006967542149329052,7.646136789387162e-05,0.0046880376189930035,0.00015292273578774323,0.0,4.7788354933669766e-05,0.0,1.9115341973467904e-05,0.008988989563023282,0.0,0.0,0.0,0.0,0.0,0.0,0.0,0.005682035401613335,0.0,0.0,0.00035363382650915626,0.0012902855832090836,0.0002198264326948809,0.0,0.0,0.0015483426998509004],[0.02409235685639609,0.0028655174967990435,0.8587536903590363,1.0581674655831032e-05,0.016151868194660485,0.020655428928182173,0.0007153212067341777,4.2326698623324125e-06,0.0028464704824185476,0.0165455064918574,0.00012698009586997237,0.050169835878226085,0.0,1.4814344518163444e-05,0.0,0.0,0.0,4.2326698623324125e-06,0.0,0.00588552744357322,0.0,0.0006222024697628647,0.0005015713786863909,1.693067944932965e-05,0.0,1.2698009586997238e-05,0.0,4.2326698623324125e-06],[0.02847243662310041,0.001109167209815558,6.860828101951906e-05,0.8911586795192846,0.014847975483974249,0.015316798737607629,0.030473511486169714,0.009147770802602541,0.004665363109327296,0.001011972145037906,5.145621076463929e-05,0.0,0.0,0.0,0.0,0.0,0.0,0.0,0.0,0.002801504808297028,0.0,0.0,1.1434713503253177e-05,0.0006860828101951905,0.0,9.7195064777652e-05,0.0,8.004299452277223e-05],[0.00674493544528493,4.469663753581052e-05,0.012014881851888114,0.0021390533677852178,0.9111856528050333,0.0018304337276570022,0.0017538109204527556,0.0009513998561193953,0.004761256103219435,0.013936837265927966,0.0001851717840769293,0.0,7.449439589301753e-05,2.1284113112290723e-06,0.0,0.0,0.0,1.915570180106165e-05,0.0,0.005899956154726989,0.0,0.03794957367921436,8.51364524491629e-06,0.0,0.0,0.0004980482468276029,0.0,0.0],[0.043462248982757024,0.004880371027961831,0.01680284798093362,0.002230599028117524,0.004206700180543787,0.8718648107284328,0.0029641517286393944,0.001461117215733358,0.004024060528577117,0.01786275678087134,8.08405016901653e-05,0.027443853277483526,0.0,0.0,0.0,0.0,0.0,0.0,0.0,0.0025150378303606985,0.0,0.0,0.00018862783727705237,8.982277965573923e-06,2.9940926551913075e-06,0.0,0.0,0.0],[0.011380759634827594,0.0,0.009415152466889929,0.038578128473778374,0.0852798255303081,0.02354141008494105,0.6750960747848243,0.04069195018579752,0.02292032056688534,0.07852194810373607,4.940484802715855e-05,8.116510747318905e-05,6.704943660828661e-05,1.7644588581128052e-05,3.5289177162256107e-06,0.0,0.0,0.0036136117414150254,0.0,0.0036877190134557633,1.0586753148676832e-05,0.00013762779093279883,2.1173506297353663e-05,0.0009739812896782685,0.0,0.005879176915231868,2.4702424013579275e-05,7.0578354324512214e-06],[3.23240681779246e-05,0.0,0.0,0.011070993350939176,0.0184344160818704,0.0019814653793067782,0.018583106795488854,0.924009348120517,0.0010149757407868325,0.01977586491125427,4.202128863130198e-05,0.0,3.23240681779246e-06,0.0,0.0,0.0,0.0,0.00030384624087249126,0.0,5.495091590247182e-05,0.0,0.0002424305113344345,0.0,1.292962727116984e-05,0.0,0.004438094560829047,0.0,0.0],[0.049238308414464534,5.432892906815021e-06,0.03494980006954103,0.006992133171070932,0.13221488178025034,0.009627086230876217,0.04546788073713491,0.005644775730180807,0.672934414116829,0.03702516515994437,4.3463143254520165e-05,0.00015212100139082058,2.7164464534075106e-05,0.0,0.0,0.0,0.0,2.7164464534075106e-05,0.0,0.000793202364394993,0.0,0.0012549982614742698,1.0865785813630041e-05,0.00011952364394993046,0.0,0.0034716185674547985,0.0,0.0],[8.050089445438283e-05,0.0,0.009035778175313059,0.00013059033989266548,0.04591234347048301,0.02950268336314848,0.0012325581395348838,0.014338103756708407,0.003148479427549195,0.8810214669051878,0.0004257602862254025,0.00047584973166368513,1.7889087656529517e-06,1.7889087656529517e-06,0.0,0.0,0.0,3.0411449016100178e-05,0.0,0.00032737030411449016,0.0,0.014162790697674418,2.325581395348837e-05,0.0,0.0,0.000148479427549195,0.0,0.0],[0.00021323585408575127,0.00027416038382453733,0.0015916533394257863,0.00020562028786840302,0.005323280785926434,0.0004493184068235473,0.0001523113243469652,0.0009824080420379256,0.0006092452973878608,0.004150483588454801,0.9618003198537811,0.00012184905947757215,0.00033508491356332344,7.6155662173482594e-06,0.0,0.0,0.0,0.0010052547406899702,0.0,0.00015992689056431347,0.0,0.003845860939760871,0.0,0.0008377122839083085,7.6155662173482594e-06,0.012146828116670474,1.5231132434696519e-05,0.005764983626532633],[0.008122694401915025,0.01340823364704392,0.015207937918939048,2.1841071260863205e-06,0.0,0.04960980926192468,0.00028611803351730793,1.528874988260424e-05,0.0002599087480042721,0.00804188243824983,7.207553516084857e-05,0.9043994469840757,0.0,0.0,0.0,0.0,2.1841071260863205e-06,4.368214252172641e-06,0.0,0.0,2.1841071260863205e-06,0.0,0.00014196696319561082,0.00031451142615643014,3.27616068912948e-05,1.528874988260424e-05,0.0,6.115499953041696e-05],[0.0,0.0,3.167213010911049e-05,0.0,0.0011401966839279776,0.0,0.0003642294962547706,6.334426021822098e-05,0.000419655723945714,0.0003167213010911049,0.0010293442285460909,0.0,0.9771881482889132,2.3754097581832866e-05,7.918032527277622e-06,0.0,0.0,0.0019636720667648502,0.0,0.0,0.0,0.0018369835463284082,0.0,0.0003325573661456601,0.0,0.015163032289736646,0.00011877048790916433,0.0],[0.0,1.0597373970730053e-05,0.0015154244778143977,1.0597373970730053e-05,0.00040270021088774203,0.0,0.00034971334103409173,0.0003179212191219016,0.0012822822504583364,0.0014624376079607473,0.0033487701747506966,0.0030944331994531755,0.0015154244778143977,0.9368290537604782,1.0597373970730053e-05,0.0,0.004302533832116402,0.014698557697402583,0.002363214395472802,0.0,4.238949588292021e-05,0.0003391159670633617,4.238949588292021e-05,0.0033381728007799666,0.0,0.005457647594925978,0.01605502156565603,0.0032110043131312062],[0.0,0.0,0.0,0.0,5.7434954913560395e-05,0.0,0.0,0.0,8.615243237034059e-05,0.0,0.0,0.0,0.0,0.0,0.9987651484693585,0.0002584572971110218,0.0,0.0,0.0,0.0,0.00011486990982712079,0.0006605019815059445,0.0,0.0,0.0,5.7434954913560395e-05,0.0,0.0],[0.0,0.0,7.207466935745433e-05,0.0,3.603733467872716e-05,0.0,0.0,0.0,3.603733467872716e-05,3.603733467872716e-05,0.0,0.0,0.0,0.0,0.02198277415402357,0.9728638869869185,0.0026307254315470828,3.603733467872716e-05,0.00018018667339363581,0.0,0.0005405600201809074,0.0015135680565065408,0.0,0.0,0.0,3.603733467872716e-05,3.603733467872716e-05,0.0],[0.0,0.00034444750620005513,0.00013777900248002206,0.0,0.00020666850372003307,6.888950124001103e-05,6.888950124001103e-05,0.0,0.0006888950124001103,0.00013777900248002206,0.0006888950124001103,0.0011022320198401765,0.00048222650868007716,0.00013777900248002206,0.00013777900248002206,0.0005511160099200882,0.9798842656379168,0.0010333425186001654,0.003306696059520529,0.0,0.00034444750620005513,0.003788922568200606,0.0,0.002755580049600441,0.0,0.0017222375310002756,0.0013089005235602095,0.0011022320198401765],[7.693491306354824e-05,7.693491306354824e-05,0.0,7.693491306354824e-05,0.007578088936759502,0.0,0.003231266348669026,0.0027696568702877365,7.693491306354824e-05,0.0018079704569933836,0.00011540236959532236,0.00026927219572241883,0.0027696568702877365,0.00011540236959532236,7.693491306354824e-05,3.846745653177412e-05,3.846745653177412e-05,0.8662101861824896,7.693491306354824e-05,0.0,0.0,0.09232189567625788,0.0014617633482074165,0.0007693491306354824,0.0002308047391906447,0.012771195568549007,0.006462532697338052,0.0005770118479766118],[0.00027329871549603714,0.00040994807324405577,0.00013664935774801857,0.0,0.00040994807324405577,0.0,0.0008198961464881115,0.0,0.00027329871549603714,0.0,0.000683246788740093,0.0009565455042361301,0.00040994807324405577,0.0,0.0,0.00013664935774801857,0.0034162339437004644,0.0031429352282044275,0.9641978682700191,0.0,0.0008198961464881115,0.003006285870456409,0.0031429352282044275,0.0012298442197321673,0.0,0.0012298442197321673,0.01352828641705384,0.0017764416507242415],[0.01096322666774546,0.001294550750434888,0.07540758121283224,0.0012540960394837979,0.11040090618552531,0.03390104777701363,0.0009304583518750758,0.000647275375217444,0.00020227355475545126,0.03462923257413326,8.09094219021805e-05,0.00020227355475545126,0.0,0.0,0.0,0.0,0.0,0.0,0.0,0.7253125126420972,0.0,0.00473320118127756,4.045471095109025e-05,0.0,0.0,0.0,0.0,0.0],[0.008333333333333333,0.005416666666666667,0.00625,0.0,0.0008333333333333334,0.002916666666666667,0.0020833333333333333,0.0,0.005833333333333334,0.0004166666666666667,0.0016666666666666668,0.006666666666666667,0.0033333333333333335,0.00875,0.02875,0.0275,0.0016666666666666668,0.0004166666666666667,0.0,0.0,0.88,0.0,0.0004166666666666667,0.005416666666666667,0.0,0.0004166666666666667,0.0008333333333333334,0.0020833333333333333],[0.0,0.0,0.009316366941504901,0.0,0.015711225086022202,0.0,0.0,0.0,0.00029215087969876,0.03418165292475492,0.007336233201324417,0.0,0.00016230604427708889,0.0,0.0,0.0,0.0,0.0,3.2461208855417776e-05,6.492241771083555e-05,0.0,0.9329026812958514,0.0,0.0,0.0,0.0,0.0,0.0],[0.18315853473172214,0.09104727162182702,0.17008663930688556,0.005319957440340477,0.008815929472564219,0.09287125702994375,0.0103359173126615,0.00045599635202918376,0.01808785529715762,0.007447940416476668,0.0001519987840097279,0.06824745402036783,0.0,0.0,0.0,0.0,0.0,0.003343973248214014,0.0007599939200486396,0.003799969600243198,0.0,0.0,0.3266453868369053,0.003951968384252926,0.0003039975680194558,0.0,0.0009119927040583675,0.004255965952272382],[0.000286368843069874,0.000572737686139748,0.000286368843069874,0.000286368843069874,0.0,0.0,0.0014318442153493699,0.0,0.000572737686139748,0.0,0.001718213058419244,0.000286368843069874,0.03980526918671248,0.000572737686139748,0.0,0.0,0.0,0.0014318442153493699,0.0,0.0,0.0,0.0,0.0,0.9083619702176403,0.000572737686139748,0.0037227949599083618,0.001145475372279496,0.038946162657502864],[0.02877697841726619,0.2014388489208633,0.02158273381294964,0.0,0.0,0.0,0.0,0.0,0.0,0.0,0.0,0.07194244604316546,0.0,0.0,0.0,0.0,0.0,0.007194244604316547,0.007194244604316547,0.0,0.0,0.0,0.007194244604316547,0.014388489208633094,0.5539568345323741,0.0,0.0,0.08633093525179857],[0.0,0.0,0.0003022061045633122,0.0,0.013448171653067392,0.0,0.006497431248111212,0.006346328195829556,0.009519492293744334,0.009368389241462678,0.0001511030522816561,0.0001511030522816561,0.005741915986702931,0.0,0.0,0.0,0.0,0.0037775763070414022,0.0001511030522816561,0.0,0.0,0.0030220610456331218,0.0,0.004684194620731339,0.0,0.9344212753097613,0.0024176488365064974,0.0],[0.0,0.0,0.0,0.0,0.0,0.0,0.0,0.0,0.0,0.0,0.0,0.0,0.007173601147776184,0.0,0.0,0.0,0.0014347202295552368,0.0014347202295552368,0.0,0.0,0.0,0.0,0.0,0.0,0.0,0.0,0.9899569583931134,0.0],[0.00860832137733142,0.015781922525107604,0.01291248206599713,0.015781922525107604,0.010043041606886656,0.027259684361549498,0.0,0.010043041606886656,0.011477761836441894,0.0014347202295552368,0.010043041606886656,0.011477761836441894,0.0,0.0014347202295552368,0.0,0.0,0.0,0.0014347202295552368,0.0,0.00430416068866571,0.0,0.0,0.0,0.00430416068866571,0.0,0.0014347202295552368,0.0,0.8522238163558106]],\"type\":\"heatmap\",\"xaxis\":\"x2\",\"yaxis\":\"y2\"}],                        {\"template\":{\"data\":{\"histogram2dcontour\":[{\"type\":\"histogram2dcontour\",\"colorbar\":{\"outlinewidth\":0,\"ticks\":\"\"},\"colorscale\":[[0.0,\"#0d0887\"],[0.1111111111111111,\"#46039f\"],[0.2222222222222222,\"#7201a8\"],[0.3333333333333333,\"#9c179e\"],[0.4444444444444444,\"#bd3786\"],[0.5555555555555556,\"#d8576b\"],[0.6666666666666666,\"#ed7953\"],[0.7777777777777778,\"#fb9f3a\"],[0.8888888888888888,\"#fdca26\"],[1.0,\"#f0f921\"]]}],\"choropleth\":[{\"type\":\"choropleth\",\"colorbar\":{\"outlinewidth\":0,\"ticks\":\"\"}}],\"histogram2d\":[{\"type\":\"histogram2d\",\"colorbar\":{\"outlinewidth\":0,\"ticks\":\"\"},\"colorscale\":[[0.0,\"#0d0887\"],[0.1111111111111111,\"#46039f\"],[0.2222222222222222,\"#7201a8\"],[0.3333333333333333,\"#9c179e\"],[0.4444444444444444,\"#bd3786\"],[0.5555555555555556,\"#d8576b\"],[0.6666666666666666,\"#ed7953\"],[0.7777777777777778,\"#fb9f3a\"],[0.8888888888888888,\"#fdca26\"],[1.0,\"#f0f921\"]]}],\"heatmap\":[{\"type\":\"heatmap\",\"colorbar\":{\"outlinewidth\":0,\"ticks\":\"\"},\"colorscale\":[[0.0,\"#0d0887\"],[0.1111111111111111,\"#46039f\"],[0.2222222222222222,\"#7201a8\"],[0.3333333333333333,\"#9c179e\"],[0.4444444444444444,\"#bd3786\"],[0.5555555555555556,\"#d8576b\"],[0.6666666666666666,\"#ed7953\"],[0.7777777777777778,\"#fb9f3a\"],[0.8888888888888888,\"#fdca26\"],[1.0,\"#f0f921\"]]}],\"heatmapgl\":[{\"type\":\"heatmapgl\",\"colorbar\":{\"outlinewidth\":0,\"ticks\":\"\"},\"colorscale\":[[0.0,\"#0d0887\"],[0.1111111111111111,\"#46039f\"],[0.2222222222222222,\"#7201a8\"],[0.3333333333333333,\"#9c179e\"],[0.4444444444444444,\"#bd3786\"],[0.5555555555555556,\"#d8576b\"],[0.6666666666666666,\"#ed7953\"],[0.7777777777777778,\"#fb9f3a\"],[0.8888888888888888,\"#fdca26\"],[1.0,\"#f0f921\"]]}],\"contourcarpet\":[{\"type\":\"contourcarpet\",\"colorbar\":{\"outlinewidth\":0,\"ticks\":\"\"}}],\"contour\":[{\"type\":\"contour\",\"colorbar\":{\"outlinewidth\":0,\"ticks\":\"\"},\"colorscale\":[[0.0,\"#0d0887\"],[0.1111111111111111,\"#46039f\"],[0.2222222222222222,\"#7201a8\"],[0.3333333333333333,\"#9c179e\"],[0.4444444444444444,\"#bd3786\"],[0.5555555555555556,\"#d8576b\"],[0.6666666666666666,\"#ed7953\"],[0.7777777777777778,\"#fb9f3a\"],[0.8888888888888888,\"#fdca26\"],[1.0,\"#f0f921\"]]}],\"surface\":[{\"type\":\"surface\",\"colorbar\":{\"outlinewidth\":0,\"ticks\":\"\"},\"colorscale\":[[0.0,\"#0d0887\"],[0.1111111111111111,\"#46039f\"],[0.2222222222222222,\"#7201a8\"],[0.3333333333333333,\"#9c179e\"],[0.4444444444444444,\"#bd3786\"],[0.5555555555555556,\"#d8576b\"],[0.6666666666666666,\"#ed7953\"],[0.7777777777777778,\"#fb9f3a\"],[0.8888888888888888,\"#fdca26\"],[1.0,\"#f0f921\"]]}],\"mesh3d\":[{\"type\":\"mesh3d\",\"colorbar\":{\"outlinewidth\":0,\"ticks\":\"\"}}],\"scatter\":[{\"fillpattern\":{\"fillmode\":\"overlay\",\"size\":10,\"solidity\":0.2},\"type\":\"scatter\"}],\"parcoords\":[{\"type\":\"parcoords\",\"line\":{\"colorbar\":{\"outlinewidth\":0,\"ticks\":\"\"}}}],\"scatterpolargl\":[{\"type\":\"scatterpolargl\",\"marker\":{\"colorbar\":{\"outlinewidth\":0,\"ticks\":\"\"}}}],\"bar\":[{\"error_x\":{\"color\":\"#2a3f5f\"},\"error_y\":{\"color\":\"#2a3f5f\"},\"marker\":{\"line\":{\"color\":\"#E5ECF6\",\"width\":0.5},\"pattern\":{\"fillmode\":\"overlay\",\"size\":10,\"solidity\":0.2}},\"type\":\"bar\"}],\"scattergeo\":[{\"type\":\"scattergeo\",\"marker\":{\"colorbar\":{\"outlinewidth\":0,\"ticks\":\"\"}}}],\"scatterpolar\":[{\"type\":\"scatterpolar\",\"marker\":{\"colorbar\":{\"outlinewidth\":0,\"ticks\":\"\"}}}],\"histogram\":[{\"marker\":{\"pattern\":{\"fillmode\":\"overlay\",\"size\":10,\"solidity\":0.2}},\"type\":\"histogram\"}],\"scattergl\":[{\"type\":\"scattergl\",\"marker\":{\"colorbar\":{\"outlinewidth\":0,\"ticks\":\"\"}}}],\"scatter3d\":[{\"type\":\"scatter3d\",\"line\":{\"colorbar\":{\"outlinewidth\":0,\"ticks\":\"\"}},\"marker\":{\"colorbar\":{\"outlinewidth\":0,\"ticks\":\"\"}}}],\"scattermapbox\":[{\"type\":\"scattermapbox\",\"marker\":{\"colorbar\":{\"outlinewidth\":0,\"ticks\":\"\"}}}],\"scatterternary\":[{\"type\":\"scatterternary\",\"marker\":{\"colorbar\":{\"outlinewidth\":0,\"ticks\":\"\"}}}],\"scattercarpet\":[{\"type\":\"scattercarpet\",\"marker\":{\"colorbar\":{\"outlinewidth\":0,\"ticks\":\"\"}}}],\"carpet\":[{\"aaxis\":{\"endlinecolor\":\"#2a3f5f\",\"gridcolor\":\"white\",\"linecolor\":\"white\",\"minorgridcolor\":\"white\",\"startlinecolor\":\"#2a3f5f\"},\"baxis\":{\"endlinecolor\":\"#2a3f5f\",\"gridcolor\":\"white\",\"linecolor\":\"white\",\"minorgridcolor\":\"white\",\"startlinecolor\":\"#2a3f5f\"},\"type\":\"carpet\"}],\"table\":[{\"cells\":{\"fill\":{\"color\":\"#EBF0F8\"},\"line\":{\"color\":\"white\"}},\"header\":{\"fill\":{\"color\":\"#C8D4E3\"},\"line\":{\"color\":\"white\"}},\"type\":\"table\"}],\"barpolar\":[{\"marker\":{\"line\":{\"color\":\"#E5ECF6\",\"width\":0.5},\"pattern\":{\"fillmode\":\"overlay\",\"size\":10,\"solidity\":0.2}},\"type\":\"barpolar\"}],\"pie\":[{\"automargin\":true,\"type\":\"pie\"}]},\"layout\":{\"autotypenumbers\":\"strict\",\"colorway\":[\"#636efa\",\"#EF553B\",\"#00cc96\",\"#ab63fa\",\"#FFA15A\",\"#19d3f3\",\"#FF6692\",\"#B6E880\",\"#FF97FF\",\"#FECB52\"],\"font\":{\"color\":\"#2a3f5f\"},\"hovermode\":\"closest\",\"hoverlabel\":{\"align\":\"left\"},\"paper_bgcolor\":\"white\",\"plot_bgcolor\":\"#E5ECF6\",\"polar\":{\"bgcolor\":\"#E5ECF6\",\"angularaxis\":{\"gridcolor\":\"white\",\"linecolor\":\"white\",\"ticks\":\"\"},\"radialaxis\":{\"gridcolor\":\"white\",\"linecolor\":\"white\",\"ticks\":\"\"}},\"ternary\":{\"bgcolor\":\"#E5ECF6\",\"aaxis\":{\"gridcolor\":\"white\",\"linecolor\":\"white\",\"ticks\":\"\"},\"baxis\":{\"gridcolor\":\"white\",\"linecolor\":\"white\",\"ticks\":\"\"},\"caxis\":{\"gridcolor\":\"white\",\"linecolor\":\"white\",\"ticks\":\"\"}},\"coloraxis\":{\"colorbar\":{\"outlinewidth\":0,\"ticks\":\"\"}},\"colorscale\":{\"sequential\":[[0.0,\"#0d0887\"],[0.1111111111111111,\"#46039f\"],[0.2222222222222222,\"#7201a8\"],[0.3333333333333333,\"#9c179e\"],[0.4444444444444444,\"#bd3786\"],[0.5555555555555556,\"#d8576b\"],[0.6666666666666666,\"#ed7953\"],[0.7777777777777778,\"#fb9f3a\"],[0.8888888888888888,\"#fdca26\"],[1.0,\"#f0f921\"]],\"sequentialminus\":[[0.0,\"#0d0887\"],[0.1111111111111111,\"#46039f\"],[0.2222222222222222,\"#7201a8\"],[0.3333333333333333,\"#9c179e\"],[0.4444444444444444,\"#bd3786\"],[0.5555555555555556,\"#d8576b\"],[0.6666666666666666,\"#ed7953\"],[0.7777777777777778,\"#fb9f3a\"],[0.8888888888888888,\"#fdca26\"],[1.0,\"#f0f921\"]],\"diverging\":[[0,\"#8e0152\"],[0.1,\"#c51b7d\"],[0.2,\"#de77ae\"],[0.3,\"#f1b6da\"],[0.4,\"#fde0ef\"],[0.5,\"#f7f7f7\"],[0.6,\"#e6f5d0\"],[0.7,\"#b8e186\"],[0.8,\"#7fbc41\"],[0.9,\"#4d9221\"],[1,\"#276419\"]]},\"xaxis\":{\"gridcolor\":\"white\",\"linecolor\":\"white\",\"ticks\":\"\",\"title\":{\"standoff\":15},\"zerolinecolor\":\"white\",\"automargin\":true,\"zerolinewidth\":2},\"yaxis\":{\"gridcolor\":\"white\",\"linecolor\":\"white\",\"ticks\":\"\",\"title\":{\"standoff\":15},\"zerolinecolor\":\"white\",\"automargin\":true,\"zerolinewidth\":2},\"scene\":{\"xaxis\":{\"backgroundcolor\":\"#E5ECF6\",\"gridcolor\":\"white\",\"linecolor\":\"white\",\"showbackground\":true,\"ticks\":\"\",\"zerolinecolor\":\"white\",\"gridwidth\":2},\"yaxis\":{\"backgroundcolor\":\"#E5ECF6\",\"gridcolor\":\"white\",\"linecolor\":\"white\",\"showbackground\":true,\"ticks\":\"\",\"zerolinecolor\":\"white\",\"gridwidth\":2},\"zaxis\":{\"backgroundcolor\":\"#E5ECF6\",\"gridcolor\":\"white\",\"linecolor\":\"white\",\"showbackground\":true,\"ticks\":\"\",\"zerolinecolor\":\"white\",\"gridwidth\":2}},\"shapedefaults\":{\"line\":{\"color\":\"#2a3f5f\"}},\"annotationdefaults\":{\"arrowcolor\":\"#2a3f5f\",\"arrowhead\":0,\"arrowwidth\":1},\"geo\":{\"bgcolor\":\"white\",\"landcolor\":\"#E5ECF6\",\"subunitcolor\":\"white\",\"showland\":true,\"showlakes\":true,\"lakecolor\":\"white\"},\"title\":{\"x\":0.05},\"mapbox\":{\"style\":\"light\"}}},\"xaxis\":{\"anchor\":\"y\",\"domain\":[0.0,0.425],\"title\":{\"text\":\"Predicted Class\"}},\"yaxis\":{\"anchor\":\"x\",\"domain\":[0.0,1.0],\"title\":{\"text\":\"Actual Class\"}},\"xaxis2\":{\"anchor\":\"y2\",\"domain\":[0.575,1.0],\"title\":{\"text\":\"Predicted Class\"}},\"yaxis2\":{\"anchor\":\"x2\",\"domain\":[0.0,1.0],\"title\":{\"text\":\"Actual Class\"}},\"annotations\":[{\"font\":{\"size\":16},\"showarrow\":false,\"text\":\"Original Confusion Matrix\",\"x\":0.2125,\"xanchor\":\"center\",\"xref\":\"paper\",\"y\":1.0,\"yanchor\":\"bottom\",\"yref\":\"paper\"},{\"font\":{\"size\":16},\"showarrow\":false,\"text\":\"Normalized Confusion Matrix\",\"x\":0.7875,\"xanchor\":\"center\",\"xref\":\"paper\",\"y\":1.0,\"yanchor\":\"bottom\",\"yref\":\"paper\"}],\"title\":{\"text\":\"Confusion for the unannotated model\"}},                        {\"responsive\": true}                    ).then(function(){\n",
       "                            \n",
       "var gd = document.getElementById('57d0afef-6b42-44df-a43b-13b4a082566b');\n",
       "var x = new MutationObserver(function (mutations, observer) {{\n",
       "        var display = window.getComputedStyle(gd).display;\n",
       "        if (!display || display === 'none') {{\n",
       "            console.log([gd, 'removed!']);\n",
       "            Plotly.purge(gd);\n",
       "            observer.disconnect();\n",
       "        }}\n",
       "}});\n",
       "\n",
       "// Listen for the removal of the full notebook cells\n",
       "var notebookContainer = gd.closest('#notebook-container');\n",
       "if (notebookContainer) {{\n",
       "    x.observe(notebookContainer, {childList: true});\n",
       "}}\n",
       "\n",
       "// Listen for the clearing of the current output cell\n",
       "var outputEl = gd.closest('.output');\n",
       "if (outputEl) {{\n",
       "    x.observe(outputEl, {childList: true});\n",
       "}}\n",
       "\n",
       "                        })                };                });            </script>        </div>"
      ]
     },
     "metadata": {},
     "output_type": "display_data"
    }
   ],
   "source": [
    "import plotly.graph_objects as go\n",
    "from plotly.subplots import make_subplots\n",
    "import numpy as np\n",
    "from sklearn.metrics import confusion_matrix\n",
    "\n",
    "cm = confusion_matrix(y_test, y_pred)\n",
    "\n",
    "cm_normalized = cm.astype('float') / cm.sum(axis=1)[:, np.newaxis]\n",
    "\n",
    "fig = make_subplots(\n",
    "    rows=1, cols=2,\n",
    "    subplot_titles=(\"Original Confusion Matrix\", \"Normalized Confusion Matrix\"),\n",
    "    horizontal_spacing=0.15  \n",
    ")\n",
    "\n",
    "\n",
    "fig.add_trace(\n",
    "    go.Heatmap(\n",
    "        z=cm,\n",
    "        x=class_labels,\n",
    "        y=class_labels,\n",
    "        colorscale='Blues',\n",
    "        text=cm,\n",
    "        texttemplate=\"%{text}\",\n",
    "        showscale=True\n",
    "    ),\n",
    "    row=1, col=1\n",
    ")\n",
    "\n",
    "fig.add_trace(\n",
    "    go.Heatmap(\n",
    "        z=cm_normalized,\n",
    "        x=class_labels,\n",
    "        y=class_labels,\n",
    "        colorscale='Blues',\n",
    "        text=np.round(cm_normalized, 2),\n",
    "        texttemplate=\"%{text}\",\n",
    "        showscale=True\n",
    "    ),\n",
    "    row=1, col=2\n",
    ")\n",
    "\n",
    "fig.update_layout(\n",
    "    title_text=\"Confusion for the unannotated model\",\n",
    "    xaxis_title=\"Predicted Class\",\n",
    "    yaxis_title=\"Actual Class\",\n",
    "    xaxis2_title=\"Predicted Class\",\n",
    "    yaxis2_title=\"Actual Class\"\n",
    ")\n",
    "\n",
    "fig.show()\n"
   ]
  },
  {
   "cell_type": "code",
   "execution_count": null,
   "metadata": {},
   "outputs": [],
   "source": []
  }
 ],
 "metadata": {
  "kernelspec": {
   "display_name": "master",
   "language": "python",
   "name": "python3"
  },
  "language_info": {
   "codemirror_mode": {
    "name": "ipython",
    "version": 3
   },
   "file_extension": ".py",
   "mimetype": "text/x-python",
   "name": "python",
   "nbconvert_exporter": "python",
   "pygments_lexer": "ipython3",
   "version": "3.10.13"
  }
 },
 "nbformat": 4,
 "nbformat_minor": 2
}
