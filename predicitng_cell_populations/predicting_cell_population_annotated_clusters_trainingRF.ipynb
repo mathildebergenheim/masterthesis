{
 "cells": [
  {
   "cell_type": "code",
   "execution_count": 39,
   "metadata": {},
   "outputs": [],
   "source": [
    "import pandas as pd\n",
    "\n",
    "import numpy as np\n",
    "import pandas as pd\n",
    "from sklearn.discriminant_analysis import LinearDiscriminantAnalysis\n",
    "from sklearn.model_selection import GridSearchCV, GroupKFold, KFold\n",
    "from sklearn.metrics import accuracy_score\n",
    "from sklearn.metrics import f1_score\n",
    "from sklearn.ensemble import RandomForestClassifier\n"
   ]
  },
  {
   "cell_type": "code",
   "execution_count": 40,
   "metadata": {},
   "outputs": [
    {
     "data": {
      "text/html": [
       "<div>\n",
       "<style scoped>\n",
       "    .dataframe tbody tr th:only-of-type {\n",
       "        vertical-align: middle;\n",
       "    }\n",
       "\n",
       "    .dataframe tbody tr th {\n",
       "        vertical-align: top;\n",
       "    }\n",
       "\n",
       "    .dataframe thead th {\n",
       "        text-align: right;\n",
       "    }\n",
       "</style>\n",
       "<table border=\"1\" class=\"dataframe\">\n",
       "  <thead>\n",
       "    <tr style=\"text-align: right;\">\n",
       "      <th></th>\n",
       "      <th>89Y_CD45</th>\n",
       "      <th>111Cd_CD3</th>\n",
       "      <th>112Cd_CD34</th>\n",
       "      <th>113Cd_CD123</th>\n",
       "      <th>114Cd_CD66b</th>\n",
       "      <th>116Cd_HLA-DR</th>\n",
       "      <th>141Pr_CD38</th>\n",
       "      <th>142Nd_cCaspase3</th>\n",
       "      <th>143Nd_pCRKL Y207</th>\n",
       "      <th>144Nd_pTyr</th>\n",
       "      <th>...</th>\n",
       "      <th>173Yb_STAT3tot</th>\n",
       "      <th>174Yb_CD11c</th>\n",
       "      <th>175Lu_CXCR4</th>\n",
       "      <th>176Yb_pS6 S240244</th>\n",
       "      <th>195Pt_mBC2</th>\n",
       "      <th>209Bi_CD11b</th>\n",
       "      <th>patient_number</th>\n",
       "      <th>test_time</th>\n",
       "      <th>cluster</th>\n",
       "      <th>sample</th>\n",
       "    </tr>\n",
       "  </thead>\n",
       "  <tbody>\n",
       "    <tr>\n",
       "      <th>0</th>\n",
       "      <td>2.217051</td>\n",
       "      <td>0.113545</td>\n",
       "      <td>3.317439</td>\n",
       "      <td>0.381279</td>\n",
       "      <td>1.590146</td>\n",
       "      <td>2.885046</td>\n",
       "      <td>3.629630</td>\n",
       "      <td>0.186837</td>\n",
       "      <td>0.327056</td>\n",
       "      <td>0.842817</td>\n",
       "      <td>...</td>\n",
       "      <td>2.558300</td>\n",
       "      <td>0.000000</td>\n",
       "      <td>0.953744</td>\n",
       "      <td>0.000000</td>\n",
       "      <td>3.512650</td>\n",
       "      <td>0.531857</td>\n",
       "      <td>01</td>\n",
       "      <td>0</td>\n",
       "      <td>HSPCs</td>\n",
       "      <td>01_0</td>\n",
       "    </tr>\n",
       "    <tr>\n",
       "      <th>1</th>\n",
       "      <td>3.963797</td>\n",
       "      <td>0.000000</td>\n",
       "      <td>0.311732</td>\n",
       "      <td>0.000000</td>\n",
       "      <td>4.716617</td>\n",
       "      <td>0.714334</td>\n",
       "      <td>0.808533</td>\n",
       "      <td>0.152932</td>\n",
       "      <td>0.676452</td>\n",
       "      <td>0.183566</td>\n",
       "      <td>...</td>\n",
       "      <td>2.994078</td>\n",
       "      <td>1.007841</td>\n",
       "      <td>1.161596</td>\n",
       "      <td>0.040417</td>\n",
       "      <td>3.752279</td>\n",
       "      <td>3.391960</td>\n",
       "      <td>01</td>\n",
       "      <td>0</td>\n",
       "      <td>Neutrophils</td>\n",
       "      <td>01_0</td>\n",
       "    </tr>\n",
       "    <tr>\n",
       "      <th>2</th>\n",
       "      <td>2.961751</td>\n",
       "      <td>0.231498</td>\n",
       "      <td>0.041203</td>\n",
       "      <td>0.275047</td>\n",
       "      <td>4.226237</td>\n",
       "      <td>0.250043</td>\n",
       "      <td>0.766132</td>\n",
       "      <td>0.000000</td>\n",
       "      <td>0.075735</td>\n",
       "      <td>1.489841</td>\n",
       "      <td>...</td>\n",
       "      <td>3.148486</td>\n",
       "      <td>0.135580</td>\n",
       "      <td>0.000000</td>\n",
       "      <td>0.749384</td>\n",
       "      <td>3.559952</td>\n",
       "      <td>2.233353</td>\n",
       "      <td>01</td>\n",
       "      <td>0</td>\n",
       "      <td>Neutrophils</td>\n",
       "      <td>01_0</td>\n",
       "    </tr>\n",
       "    <tr>\n",
       "      <th>3</th>\n",
       "      <td>3.951971</td>\n",
       "      <td>0.391544</td>\n",
       "      <td>0.030235</td>\n",
       "      <td>1.911737</td>\n",
       "      <td>1.914248</td>\n",
       "      <td>0.196068</td>\n",
       "      <td>4.125344</td>\n",
       "      <td>0.238149</td>\n",
       "      <td>0.496188</td>\n",
       "      <td>0.466622</td>\n",
       "      <td>...</td>\n",
       "      <td>2.985532</td>\n",
       "      <td>0.909775</td>\n",
       "      <td>2.843206</td>\n",
       "      <td>1.296746</td>\n",
       "      <td>3.968642</td>\n",
       "      <td>0.490613</td>\n",
       "      <td>01</td>\n",
       "      <td>0</td>\n",
       "      <td>Basophils</td>\n",
       "      <td>01_0</td>\n",
       "    </tr>\n",
       "    <tr>\n",
       "      <th>4</th>\n",
       "      <td>3.204973</td>\n",
       "      <td>0.000000</td>\n",
       "      <td>0.002475</td>\n",
       "      <td>0.400668</td>\n",
       "      <td>4.130337</td>\n",
       "      <td>0.454735</td>\n",
       "      <td>0.448444</td>\n",
       "      <td>0.079543</td>\n",
       "      <td>0.328764</td>\n",
       "      <td>1.208815</td>\n",
       "      <td>...</td>\n",
       "      <td>3.489844</td>\n",
       "      <td>0.758197</td>\n",
       "      <td>0.813311</td>\n",
       "      <td>0.877981</td>\n",
       "      <td>2.142285</td>\n",
       "      <td>2.659254</td>\n",
       "      <td>01</td>\n",
       "      <td>0</td>\n",
       "      <td>Neutrophils</td>\n",
       "      <td>01_0</td>\n",
       "    </tr>\n",
       "    <tr>\n",
       "      <th>...</th>\n",
       "      <td>...</td>\n",
       "      <td>...</td>\n",
       "      <td>...</td>\n",
       "      <td>...</td>\n",
       "      <td>...</td>\n",
       "      <td>...</td>\n",
       "      <td>...</td>\n",
       "      <td>...</td>\n",
       "      <td>...</td>\n",
       "      <td>...</td>\n",
       "      <td>...</td>\n",
       "      <td>...</td>\n",
       "      <td>...</td>\n",
       "      <td>...</td>\n",
       "      <td>...</td>\n",
       "      <td>...</td>\n",
       "      <td>...</td>\n",
       "      <td>...</td>\n",
       "      <td>...</td>\n",
       "      <td>...</td>\n",
       "      <td>...</td>\n",
       "    </tr>\n",
       "    <tr>\n",
       "      <th>26288919</th>\n",
       "      <td>1.693280</td>\n",
       "      <td>0.348215</td>\n",
       "      <td>0.502324</td>\n",
       "      <td>0.185988</td>\n",
       "      <td>3.035682</td>\n",
       "      <td>0.350522</td>\n",
       "      <td>2.593030</td>\n",
       "      <td>0.211198</td>\n",
       "      <td>1.259692</td>\n",
       "      <td>0.766676</td>\n",
       "      <td>...</td>\n",
       "      <td>4.092850</td>\n",
       "      <td>0.000000</td>\n",
       "      <td>0.000000</td>\n",
       "      <td>3.178231</td>\n",
       "      <td>4.793082</td>\n",
       "      <td>0.000000</td>\n",
       "      <td>HDBM_532</td>\n",
       "      <td>None</td>\n",
       "      <td>NeutrophilCD16neg</td>\n",
       "      <td>HDBM_532_None</td>\n",
       "    </tr>\n",
       "    <tr>\n",
       "      <th>26520713</th>\n",
       "      <td>0.729598</td>\n",
       "      <td>0.485712</td>\n",
       "      <td>0.172502</td>\n",
       "      <td>0.000000</td>\n",
       "      <td>0.772020</td>\n",
       "      <td>0.000000</td>\n",
       "      <td>0.719245</td>\n",
       "      <td>0.417552</td>\n",
       "      <td>1.475494</td>\n",
       "      <td>1.154216</td>\n",
       "      <td>...</td>\n",
       "      <td>3.757267</td>\n",
       "      <td>0.099147</td>\n",
       "      <td>0.294973</td>\n",
       "      <td>0.936303</td>\n",
       "      <td>4.438051</td>\n",
       "      <td>0.384407</td>\n",
       "      <td>HDBM_630</td>\n",
       "      <td>None</td>\n",
       "      <td>NeutrophilCD16neg</td>\n",
       "      <td>HDBM_630_None</td>\n",
       "    </tr>\n",
       "    <tr>\n",
       "      <th>26031470</th>\n",
       "      <td>2.254079</td>\n",
       "      <td>0.862573</td>\n",
       "      <td>0.441509</td>\n",
       "      <td>0.498153</td>\n",
       "      <td>3.449804</td>\n",
       "      <td>0.328851</td>\n",
       "      <td>1.732715</td>\n",
       "      <td>0.144498</td>\n",
       "      <td>0.869975</td>\n",
       "      <td>1.309697</td>\n",
       "      <td>...</td>\n",
       "      <td>4.134409</td>\n",
       "      <td>0.090517</td>\n",
       "      <td>0.929077</td>\n",
       "      <td>1.499913</td>\n",
       "      <td>5.032999</td>\n",
       "      <td>1.446886</td>\n",
       "      <td>HDBM_436</td>\n",
       "      <td>None</td>\n",
       "      <td>Neutrophils</td>\n",
       "      <td>HDBM_436_None</td>\n",
       "    </tr>\n",
       "    <tr>\n",
       "      <th>27498207</th>\n",
       "      <td>4.621356</td>\n",
       "      <td>3.484828</td>\n",
       "      <td>0.077849</td>\n",
       "      <td>0.097483</td>\n",
       "      <td>0.373927</td>\n",
       "      <td>0.000000</td>\n",
       "      <td>0.195959</td>\n",
       "      <td>0.000000</td>\n",
       "      <td>0.244078</td>\n",
       "      <td>0.420155</td>\n",
       "      <td>...</td>\n",
       "      <td>1.483905</td>\n",
       "      <td>0.000000</td>\n",
       "      <td>1.437943</td>\n",
       "      <td>0.186262</td>\n",
       "      <td>3.698609</td>\n",
       "      <td>0.000000</td>\n",
       "      <td>HDPB_625</td>\n",
       "      <td>None</td>\n",
       "      <td>Th</td>\n",
       "      <td>HDPB_625_None</td>\n",
       "    </tr>\n",
       "    <tr>\n",
       "      <th>27436372</th>\n",
       "      <td>4.823808</td>\n",
       "      <td>3.420130</td>\n",
       "      <td>0.238911</td>\n",
       "      <td>0.181229</td>\n",
       "      <td>0.054774</td>\n",
       "      <td>0.000000</td>\n",
       "      <td>0.000000</td>\n",
       "      <td>0.243584</td>\n",
       "      <td>0.764766</td>\n",
       "      <td>0.069657</td>\n",
       "      <td>...</td>\n",
       "      <td>3.226203</td>\n",
       "      <td>0.000000</td>\n",
       "      <td>0.058953</td>\n",
       "      <td>1.324713</td>\n",
       "      <td>3.528227</td>\n",
       "      <td>0.068169</td>\n",
       "      <td>HDPB_597</td>\n",
       "      <td>None</td>\n",
       "      <td>Tc</td>\n",
       "      <td>HDPB_597_None</td>\n",
       "    </tr>\n",
       "  </tbody>\n",
       "</table>\n",
       "<p>20353774 rows × 48 columns</p>\n",
       "</div>"
      ],
      "text/plain": [
       "          89Y_CD45  111Cd_CD3  112Cd_CD34  113Cd_CD123  114Cd_CD66b  \\\n",
       "0         2.217051   0.113545    3.317439     0.381279     1.590146   \n",
       "1         3.963797   0.000000    0.311732     0.000000     4.716617   \n",
       "2         2.961751   0.231498    0.041203     0.275047     4.226237   \n",
       "3         3.951971   0.391544    0.030235     1.911737     1.914248   \n",
       "4         3.204973   0.000000    0.002475     0.400668     4.130337   \n",
       "...            ...        ...         ...          ...          ...   \n",
       "26288919  1.693280   0.348215    0.502324     0.185988     3.035682   \n",
       "26520713  0.729598   0.485712    0.172502     0.000000     0.772020   \n",
       "26031470  2.254079   0.862573    0.441509     0.498153     3.449804   \n",
       "27498207  4.621356   3.484828    0.077849     0.097483     0.373927   \n",
       "27436372  4.823808   3.420130    0.238911     0.181229     0.054774   \n",
       "\n",
       "          116Cd_HLA-DR  141Pr_CD38  142Nd_cCaspase3  143Nd_pCRKL Y207  \\\n",
       "0             2.885046    3.629630         0.186837          0.327056   \n",
       "1             0.714334    0.808533         0.152932          0.676452   \n",
       "2             0.250043    0.766132         0.000000          0.075735   \n",
       "3             0.196068    4.125344         0.238149          0.496188   \n",
       "4             0.454735    0.448444         0.079543          0.328764   \n",
       "...                ...         ...              ...               ...   \n",
       "26288919      0.350522    2.593030         0.211198          1.259692   \n",
       "26520713      0.000000    0.719245         0.417552          1.475494   \n",
       "26031470      0.328851    1.732715         0.144498          0.869975   \n",
       "27498207      0.000000    0.195959         0.000000          0.244078   \n",
       "27436372      0.000000    0.000000         0.243584          0.764766   \n",
       "\n",
       "          144Nd_pTyr  ...  173Yb_STAT3tot  174Yb_CD11c  175Lu_CXCR4  \\\n",
       "0           0.842817  ...        2.558300     0.000000     0.953744   \n",
       "1           0.183566  ...        2.994078     1.007841     1.161596   \n",
       "2           1.489841  ...        3.148486     0.135580     0.000000   \n",
       "3           0.466622  ...        2.985532     0.909775     2.843206   \n",
       "4           1.208815  ...        3.489844     0.758197     0.813311   \n",
       "...              ...  ...             ...          ...          ...   \n",
       "26288919    0.766676  ...        4.092850     0.000000     0.000000   \n",
       "26520713    1.154216  ...        3.757267     0.099147     0.294973   \n",
       "26031470    1.309697  ...        4.134409     0.090517     0.929077   \n",
       "27498207    0.420155  ...        1.483905     0.000000     1.437943   \n",
       "27436372    0.069657  ...        3.226203     0.000000     0.058953   \n",
       "\n",
       "          176Yb_pS6 S240244  195Pt_mBC2  209Bi_CD11b  patient_number  \\\n",
       "0                  0.000000    3.512650     0.531857              01   \n",
       "1                  0.040417    3.752279     3.391960              01   \n",
       "2                  0.749384    3.559952     2.233353              01   \n",
       "3                  1.296746    3.968642     0.490613              01   \n",
       "4                  0.877981    2.142285     2.659254              01   \n",
       "...                     ...         ...          ...             ...   \n",
       "26288919           3.178231    4.793082     0.000000        HDBM_532   \n",
       "26520713           0.936303    4.438051     0.384407        HDBM_630   \n",
       "26031470           1.499913    5.032999     1.446886        HDBM_436   \n",
       "27498207           0.186262    3.698609     0.000000        HDPB_625   \n",
       "27436372           1.324713    3.528227     0.068169        HDPB_597   \n",
       "\n",
       "          test_time            cluster         sample  \n",
       "0                 0              HSPCs           01_0  \n",
       "1                 0        Neutrophils           01_0  \n",
       "2                 0        Neutrophils           01_0  \n",
       "3                 0          Basophils           01_0  \n",
       "4                 0        Neutrophils           01_0  \n",
       "...             ...                ...            ...  \n",
       "26288919       None  NeutrophilCD16neg  HDBM_532_None  \n",
       "26520713       None  NeutrophilCD16neg  HDBM_630_None  \n",
       "26031470       None        Neutrophils  HDBM_436_None  \n",
       "27498207       None                 Th  HDPB_625_None  \n",
       "27436372       None                 Tc  HDPB_597_None  \n",
       "\n",
       "[20353774 rows x 48 columns]"
      ]
     },
     "execution_count": 40,
     "metadata": {},
     "output_type": "execute_result"
    }
   ],
   "source": [
    "data = pd.read_pickle('../cytofdata/pool1_with_annotated_clusters')\n",
    "data.drop('batch', axis=1, inplace=True)\n",
    "\n",
    "data['sample'] = data['patient_number'].astype(str) + \"_\" + data['test_time'].astype(str)\n",
    "data"
   ]
  },
  {
   "cell_type": "code",
   "execution_count": 41,
   "metadata": {},
   "outputs": [
    {
     "data": {
      "text/plain": [
       "array(['HSPCs', 'Neutrophils', 'Basophils', 'Monocytes', 'Eosinophils',\n",
       "       'NeutrophilCD16neg', 'Tc', 'Th', 'NKcells', 'PreNeu', 'PreNeu2',\n",
       "       'Bcells', 'PreNeu1', 'pDC', 'Doublets', 'PreNeu3', 'LinNeg',\n",
       "       'NeutrophilsHLA', 'NeutrophilsCD25'], dtype=object)"
      ]
     },
     "execution_count": 41,
     "metadata": {},
     "output_type": "execute_result"
    }
   ],
   "source": [
    "data['cluster'].unique()"
   ]
  },
  {
   "cell_type": "code",
   "execution_count": 42,
   "metadata": {},
   "outputs": [],
   "source": [
    "cluster_as_num = {\n",
    "    'PreNeu1'            :18,\n",
    "    'pDC'                :17,\n",
    "    'PreNeu3'            :16,\n",
    "    'NeutrophilsCD25'    :15,\n",
    "    'PreNeu2'            :14,\n",
    "    'NeutrophilsHLA'     :13,\n",
    "    'LinNeg'             :12,\n",
    "    'Doublets'           :11,\n",
    "    'Bcells'             :10,\n",
    "    'HSPCs'              :9,\n",
    "    'NKcells'            :8,\n",
    "    'Tc'                 :7,\n",
    "    'Th'                 :6,\n",
    "    'Monocytes'          :5,\n",
    "    'Basophils'          :4,\n",
    "    'Eosinophils'        :3,\n",
    "    'NeutrophilCD16neg'  :2 ,\n",
    "     'PreNeu'            :1 ,\n",
    "     'Neutrophils'       :0 \n",
    "}\n",
    "\n",
    "data['cluster'] = data['cluster'].map(cluster_as_num)"
   ]
  },
  {
   "cell_type": "code",
   "execution_count": 43,
   "metadata": {},
   "outputs": [
    {
     "data": {
      "text/html": [
       "<div>\n",
       "<style scoped>\n",
       "    .dataframe tbody tr th:only-of-type {\n",
       "        vertical-align: middle;\n",
       "    }\n",
       "\n",
       "    .dataframe tbody tr th {\n",
       "        vertical-align: top;\n",
       "    }\n",
       "\n",
       "    .dataframe thead th {\n",
       "        text-align: right;\n",
       "    }\n",
       "</style>\n",
       "<table border=\"1\" class=\"dataframe\">\n",
       "  <thead>\n",
       "    <tr style=\"text-align: right;\">\n",
       "      <th></th>\n",
       "      <th>89Y_CD45</th>\n",
       "      <th>111Cd_CD3</th>\n",
       "      <th>112Cd_CD34</th>\n",
       "      <th>113Cd_CD123</th>\n",
       "      <th>114Cd_CD66b</th>\n",
       "      <th>116Cd_HLA-DR</th>\n",
       "      <th>141Pr_CD38</th>\n",
       "      <th>142Nd_cCaspase3</th>\n",
       "      <th>143Nd_pCRKL Y207</th>\n",
       "      <th>144Nd_pTyr</th>\n",
       "      <th>...</th>\n",
       "      <th>173Yb_STAT3tot</th>\n",
       "      <th>174Yb_CD11c</th>\n",
       "      <th>175Lu_CXCR4</th>\n",
       "      <th>176Yb_pS6 S240244</th>\n",
       "      <th>195Pt_mBC2</th>\n",
       "      <th>209Bi_CD11b</th>\n",
       "      <th>patient_number</th>\n",
       "      <th>test_time</th>\n",
       "      <th>cluster</th>\n",
       "      <th>sample</th>\n",
       "    </tr>\n",
       "  </thead>\n",
       "  <tbody>\n",
       "    <tr>\n",
       "      <th>0</th>\n",
       "      <td>2.217051</td>\n",
       "      <td>0.113545</td>\n",
       "      <td>3.317439</td>\n",
       "      <td>0.381279</td>\n",
       "      <td>1.590146</td>\n",
       "      <td>2.885046</td>\n",
       "      <td>3.629630</td>\n",
       "      <td>0.186837</td>\n",
       "      <td>0.327056</td>\n",
       "      <td>0.842817</td>\n",
       "      <td>...</td>\n",
       "      <td>2.558300</td>\n",
       "      <td>0.000000</td>\n",
       "      <td>0.953744</td>\n",
       "      <td>0.000000</td>\n",
       "      <td>3.512650</td>\n",
       "      <td>0.531857</td>\n",
       "      <td>01</td>\n",
       "      <td>0</td>\n",
       "      <td>9</td>\n",
       "      <td>01_0</td>\n",
       "    </tr>\n",
       "    <tr>\n",
       "      <th>1</th>\n",
       "      <td>3.963797</td>\n",
       "      <td>0.000000</td>\n",
       "      <td>0.311732</td>\n",
       "      <td>0.000000</td>\n",
       "      <td>4.716617</td>\n",
       "      <td>0.714334</td>\n",
       "      <td>0.808533</td>\n",
       "      <td>0.152932</td>\n",
       "      <td>0.676452</td>\n",
       "      <td>0.183566</td>\n",
       "      <td>...</td>\n",
       "      <td>2.994078</td>\n",
       "      <td>1.007841</td>\n",
       "      <td>1.161596</td>\n",
       "      <td>0.040417</td>\n",
       "      <td>3.752279</td>\n",
       "      <td>3.391960</td>\n",
       "      <td>01</td>\n",
       "      <td>0</td>\n",
       "      <td>0</td>\n",
       "      <td>01_0</td>\n",
       "    </tr>\n",
       "    <tr>\n",
       "      <th>2</th>\n",
       "      <td>2.961751</td>\n",
       "      <td>0.231498</td>\n",
       "      <td>0.041203</td>\n",
       "      <td>0.275047</td>\n",
       "      <td>4.226237</td>\n",
       "      <td>0.250043</td>\n",
       "      <td>0.766132</td>\n",
       "      <td>0.000000</td>\n",
       "      <td>0.075735</td>\n",
       "      <td>1.489841</td>\n",
       "      <td>...</td>\n",
       "      <td>3.148486</td>\n",
       "      <td>0.135580</td>\n",
       "      <td>0.000000</td>\n",
       "      <td>0.749384</td>\n",
       "      <td>3.559952</td>\n",
       "      <td>2.233353</td>\n",
       "      <td>01</td>\n",
       "      <td>0</td>\n",
       "      <td>0</td>\n",
       "      <td>01_0</td>\n",
       "    </tr>\n",
       "    <tr>\n",
       "      <th>3</th>\n",
       "      <td>3.951971</td>\n",
       "      <td>0.391544</td>\n",
       "      <td>0.030235</td>\n",
       "      <td>1.911737</td>\n",
       "      <td>1.914248</td>\n",
       "      <td>0.196068</td>\n",
       "      <td>4.125344</td>\n",
       "      <td>0.238149</td>\n",
       "      <td>0.496188</td>\n",
       "      <td>0.466622</td>\n",
       "      <td>...</td>\n",
       "      <td>2.985532</td>\n",
       "      <td>0.909775</td>\n",
       "      <td>2.843206</td>\n",
       "      <td>1.296746</td>\n",
       "      <td>3.968642</td>\n",
       "      <td>0.490613</td>\n",
       "      <td>01</td>\n",
       "      <td>0</td>\n",
       "      <td>4</td>\n",
       "      <td>01_0</td>\n",
       "    </tr>\n",
       "    <tr>\n",
       "      <th>4</th>\n",
       "      <td>3.204973</td>\n",
       "      <td>0.000000</td>\n",
       "      <td>0.002475</td>\n",
       "      <td>0.400668</td>\n",
       "      <td>4.130337</td>\n",
       "      <td>0.454735</td>\n",
       "      <td>0.448444</td>\n",
       "      <td>0.079543</td>\n",
       "      <td>0.328764</td>\n",
       "      <td>1.208815</td>\n",
       "      <td>...</td>\n",
       "      <td>3.489844</td>\n",
       "      <td>0.758197</td>\n",
       "      <td>0.813311</td>\n",
       "      <td>0.877981</td>\n",
       "      <td>2.142285</td>\n",
       "      <td>2.659254</td>\n",
       "      <td>01</td>\n",
       "      <td>0</td>\n",
       "      <td>0</td>\n",
       "      <td>01_0</td>\n",
       "    </tr>\n",
       "    <tr>\n",
       "      <th>...</th>\n",
       "      <td>...</td>\n",
       "      <td>...</td>\n",
       "      <td>...</td>\n",
       "      <td>...</td>\n",
       "      <td>...</td>\n",
       "      <td>...</td>\n",
       "      <td>...</td>\n",
       "      <td>...</td>\n",
       "      <td>...</td>\n",
       "      <td>...</td>\n",
       "      <td>...</td>\n",
       "      <td>...</td>\n",
       "      <td>...</td>\n",
       "      <td>...</td>\n",
       "      <td>...</td>\n",
       "      <td>...</td>\n",
       "      <td>...</td>\n",
       "      <td>...</td>\n",
       "      <td>...</td>\n",
       "      <td>...</td>\n",
       "      <td>...</td>\n",
       "    </tr>\n",
       "    <tr>\n",
       "      <th>26288919</th>\n",
       "      <td>1.693280</td>\n",
       "      <td>0.348215</td>\n",
       "      <td>0.502324</td>\n",
       "      <td>0.185988</td>\n",
       "      <td>3.035682</td>\n",
       "      <td>0.350522</td>\n",
       "      <td>2.593030</td>\n",
       "      <td>0.211198</td>\n",
       "      <td>1.259692</td>\n",
       "      <td>0.766676</td>\n",
       "      <td>...</td>\n",
       "      <td>4.092850</td>\n",
       "      <td>0.000000</td>\n",
       "      <td>0.000000</td>\n",
       "      <td>3.178231</td>\n",
       "      <td>4.793082</td>\n",
       "      <td>0.000000</td>\n",
       "      <td>HDBM_532</td>\n",
       "      <td>None</td>\n",
       "      <td>2</td>\n",
       "      <td>HDBM_532_None</td>\n",
       "    </tr>\n",
       "    <tr>\n",
       "      <th>26520713</th>\n",
       "      <td>0.729598</td>\n",
       "      <td>0.485712</td>\n",
       "      <td>0.172502</td>\n",
       "      <td>0.000000</td>\n",
       "      <td>0.772020</td>\n",
       "      <td>0.000000</td>\n",
       "      <td>0.719245</td>\n",
       "      <td>0.417552</td>\n",
       "      <td>1.475494</td>\n",
       "      <td>1.154216</td>\n",
       "      <td>...</td>\n",
       "      <td>3.757267</td>\n",
       "      <td>0.099147</td>\n",
       "      <td>0.294973</td>\n",
       "      <td>0.936303</td>\n",
       "      <td>4.438051</td>\n",
       "      <td>0.384407</td>\n",
       "      <td>HDBM_630</td>\n",
       "      <td>None</td>\n",
       "      <td>2</td>\n",
       "      <td>HDBM_630_None</td>\n",
       "    </tr>\n",
       "    <tr>\n",
       "      <th>26031470</th>\n",
       "      <td>2.254079</td>\n",
       "      <td>0.862573</td>\n",
       "      <td>0.441509</td>\n",
       "      <td>0.498153</td>\n",
       "      <td>3.449804</td>\n",
       "      <td>0.328851</td>\n",
       "      <td>1.732715</td>\n",
       "      <td>0.144498</td>\n",
       "      <td>0.869975</td>\n",
       "      <td>1.309697</td>\n",
       "      <td>...</td>\n",
       "      <td>4.134409</td>\n",
       "      <td>0.090517</td>\n",
       "      <td>0.929077</td>\n",
       "      <td>1.499913</td>\n",
       "      <td>5.032999</td>\n",
       "      <td>1.446886</td>\n",
       "      <td>HDBM_436</td>\n",
       "      <td>None</td>\n",
       "      <td>0</td>\n",
       "      <td>HDBM_436_None</td>\n",
       "    </tr>\n",
       "    <tr>\n",
       "      <th>27498207</th>\n",
       "      <td>4.621356</td>\n",
       "      <td>3.484828</td>\n",
       "      <td>0.077849</td>\n",
       "      <td>0.097483</td>\n",
       "      <td>0.373927</td>\n",
       "      <td>0.000000</td>\n",
       "      <td>0.195959</td>\n",
       "      <td>0.000000</td>\n",
       "      <td>0.244078</td>\n",
       "      <td>0.420155</td>\n",
       "      <td>...</td>\n",
       "      <td>1.483905</td>\n",
       "      <td>0.000000</td>\n",
       "      <td>1.437943</td>\n",
       "      <td>0.186262</td>\n",
       "      <td>3.698609</td>\n",
       "      <td>0.000000</td>\n",
       "      <td>HDPB_625</td>\n",
       "      <td>None</td>\n",
       "      <td>6</td>\n",
       "      <td>HDPB_625_None</td>\n",
       "    </tr>\n",
       "    <tr>\n",
       "      <th>27436372</th>\n",
       "      <td>4.823808</td>\n",
       "      <td>3.420130</td>\n",
       "      <td>0.238911</td>\n",
       "      <td>0.181229</td>\n",
       "      <td>0.054774</td>\n",
       "      <td>0.000000</td>\n",
       "      <td>0.000000</td>\n",
       "      <td>0.243584</td>\n",
       "      <td>0.764766</td>\n",
       "      <td>0.069657</td>\n",
       "      <td>...</td>\n",
       "      <td>3.226203</td>\n",
       "      <td>0.000000</td>\n",
       "      <td>0.058953</td>\n",
       "      <td>1.324713</td>\n",
       "      <td>3.528227</td>\n",
       "      <td>0.068169</td>\n",
       "      <td>HDPB_597</td>\n",
       "      <td>None</td>\n",
       "      <td>7</td>\n",
       "      <td>HDPB_597_None</td>\n",
       "    </tr>\n",
       "  </tbody>\n",
       "</table>\n",
       "<p>20353774 rows × 48 columns</p>\n",
       "</div>"
      ],
      "text/plain": [
       "          89Y_CD45  111Cd_CD3  112Cd_CD34  113Cd_CD123  114Cd_CD66b  \\\n",
       "0         2.217051   0.113545    3.317439     0.381279     1.590146   \n",
       "1         3.963797   0.000000    0.311732     0.000000     4.716617   \n",
       "2         2.961751   0.231498    0.041203     0.275047     4.226237   \n",
       "3         3.951971   0.391544    0.030235     1.911737     1.914248   \n",
       "4         3.204973   0.000000    0.002475     0.400668     4.130337   \n",
       "...            ...        ...         ...          ...          ...   \n",
       "26288919  1.693280   0.348215    0.502324     0.185988     3.035682   \n",
       "26520713  0.729598   0.485712    0.172502     0.000000     0.772020   \n",
       "26031470  2.254079   0.862573    0.441509     0.498153     3.449804   \n",
       "27498207  4.621356   3.484828    0.077849     0.097483     0.373927   \n",
       "27436372  4.823808   3.420130    0.238911     0.181229     0.054774   \n",
       "\n",
       "          116Cd_HLA-DR  141Pr_CD38  142Nd_cCaspase3  143Nd_pCRKL Y207  \\\n",
       "0             2.885046    3.629630         0.186837          0.327056   \n",
       "1             0.714334    0.808533         0.152932          0.676452   \n",
       "2             0.250043    0.766132         0.000000          0.075735   \n",
       "3             0.196068    4.125344         0.238149          0.496188   \n",
       "4             0.454735    0.448444         0.079543          0.328764   \n",
       "...                ...         ...              ...               ...   \n",
       "26288919      0.350522    2.593030         0.211198          1.259692   \n",
       "26520713      0.000000    0.719245         0.417552          1.475494   \n",
       "26031470      0.328851    1.732715         0.144498          0.869975   \n",
       "27498207      0.000000    0.195959         0.000000          0.244078   \n",
       "27436372      0.000000    0.000000         0.243584          0.764766   \n",
       "\n",
       "          144Nd_pTyr  ...  173Yb_STAT3tot  174Yb_CD11c  175Lu_CXCR4  \\\n",
       "0           0.842817  ...        2.558300     0.000000     0.953744   \n",
       "1           0.183566  ...        2.994078     1.007841     1.161596   \n",
       "2           1.489841  ...        3.148486     0.135580     0.000000   \n",
       "3           0.466622  ...        2.985532     0.909775     2.843206   \n",
       "4           1.208815  ...        3.489844     0.758197     0.813311   \n",
       "...              ...  ...             ...          ...          ...   \n",
       "26288919    0.766676  ...        4.092850     0.000000     0.000000   \n",
       "26520713    1.154216  ...        3.757267     0.099147     0.294973   \n",
       "26031470    1.309697  ...        4.134409     0.090517     0.929077   \n",
       "27498207    0.420155  ...        1.483905     0.000000     1.437943   \n",
       "27436372    0.069657  ...        3.226203     0.000000     0.058953   \n",
       "\n",
       "          176Yb_pS6 S240244  195Pt_mBC2  209Bi_CD11b  patient_number  \\\n",
       "0                  0.000000    3.512650     0.531857              01   \n",
       "1                  0.040417    3.752279     3.391960              01   \n",
       "2                  0.749384    3.559952     2.233353              01   \n",
       "3                  1.296746    3.968642     0.490613              01   \n",
       "4                  0.877981    2.142285     2.659254              01   \n",
       "...                     ...         ...          ...             ...   \n",
       "26288919           3.178231    4.793082     0.000000        HDBM_532   \n",
       "26520713           0.936303    4.438051     0.384407        HDBM_630   \n",
       "26031470           1.499913    5.032999     1.446886        HDBM_436   \n",
       "27498207           0.186262    3.698609     0.000000        HDPB_625   \n",
       "27436372           1.324713    3.528227     0.068169        HDPB_597   \n",
       "\n",
       "          test_time  cluster         sample  \n",
       "0                 0        9           01_0  \n",
       "1                 0        0           01_0  \n",
       "2                 0        0           01_0  \n",
       "3                 0        4           01_0  \n",
       "4                 0        0           01_0  \n",
       "...             ...      ...            ...  \n",
       "26288919       None        2  HDBM_532_None  \n",
       "26520713       None        2  HDBM_630_None  \n",
       "26031470       None        0  HDBM_436_None  \n",
       "27498207       None        6  HDPB_625_None  \n",
       "27436372       None        7  HDPB_597_None  \n",
       "\n",
       "[20353774 rows x 48 columns]"
      ]
     },
     "execution_count": 43,
     "metadata": {},
     "output_type": "execute_result"
    }
   ],
   "source": [
    "data"
   ]
  },
  {
   "cell_type": "code",
   "execution_count": 44,
   "metadata": {},
   "outputs": [],
   "source": [
    "\n",
    "internal_and_external = ['89Y_CD45', \n",
    "                '111Cd_CD3', \n",
    "                '112Cd_CD34',\n",
    "                '113Cd_CD123', \n",
    "                '114Cd_CD66b', \n",
    "                '116Cd_HLA-DR', \n",
    "                '141Pr_CD38', \n",
    "                '142Nd_cCaspase3', \n",
    "                '143Nd_pCRKL Y207', \n",
    "                '144Nd_pTyr',\n",
    "                '145Nd_CD4', \n",
    "                '146Nd_CD49d', \n",
    "                '147Sm_CD20', \n",
    "                '148Nd_CD16', \n",
    "                '149Sm_CD25',\n",
    "                '150Nd_pSTAT5 Y694', \n",
    "                '151Eu_pSTAT3 S727', \n",
    "                '152Sm_CD13',\n",
    "                '153Eu_pSTAT1 Y701', \n",
    "                '154Sm_CD45RA', \n",
    "                '155Gd_CD27',\n",
    "                '156Gd_pp38 T180Y182', \n",
    "                '157Gd_CD8a', \n",
    "                '158Gd_pSTAT3 Y705',\n",
    "                '159Tb_pMAPKAPK T334', \n",
    "                '160Gd_CD14', \n",
    "                '161Dy_CD26', \n",
    "                '162Dy_FoxP3',\n",
    "                '163Dy_CD56', \n",
    "                '164Dy_CD15', \n",
    "                '165Ho_pCREB S133', \n",
    "                '166Er_MPO',\n",
    "                '167Er_IL1-RAP', \n",
    "                '168Er_CD117', \n",
    "                '169Tm_CD33', \n",
    "                '170Er_pSRC Y418',\n",
    "                '171Yb_pERK T202Y204', \n",
    "                '172Yb_pS6 S235S236', \n",
    "                '173Yb_STAT3tot',\n",
    "                '174Yb_CD11c', \n",
    "                '175Lu_CXCR4', \n",
    "                '176Yb_pS6 S240244', \n",
    "                '195Pt_mBC2', \n",
    "                '209Bi_CD11b']    \n",
    "        \n",
    "\n",
    "external = ['89Y_CD45', \n",
    "                '111Cd_CD3', \n",
    "                '112Cd_CD34',\n",
    "                '113Cd_CD123', \n",
    "                '114Cd_CD66b', \n",
    "                '116Cd_HLA-DR', \n",
    "                '141Pr_CD38', \n",
    "                '145Nd_CD4', \n",
    "                '146Nd_CD49d', \n",
    "                '147Sm_CD20', \n",
    "                '148Nd_CD16', \n",
    "                '149Sm_CD25',\n",
    "                '152Sm_CD13',\n",
    "                '154Sm_CD45RA', \n",
    "                '155Gd_CD27',\n",
    "                '157Gd_CD8a', \n",
    "                '160Gd_CD14', \n",
    "                '161Dy_CD26', \n",
    "                '162Dy_FoxP3',\n",
    "                '163Dy_CD56', \n",
    "                '164Dy_CD15', \n",
    "                '166Er_MPO',\n",
    "                '167Er_IL1-RAP', \n",
    "                '168Er_CD117', \n",
    "                '169Tm_CD33', \n",
    "                '174Yb_CD11c', \n",
    "                '175Lu_CXCR4', \n",
    "                '195Pt_mBC2', \n",
    "                '209Bi_CD11b']\n",
    "\n",
    "internal = list(set(internal_and_external) - set(external))"
   ]
  },
  {
   "cell_type": "code",
   "execution_count": 45,
   "metadata": {},
   "outputs": [],
   "source": [
    "X = data[external]\n",
    "y = data['cluster']\n",
    "groups = data['sample']"
   ]
  },
  {
   "cell_type": "code",
   "execution_count": null,
   "metadata": {},
   "outputs": [
    {
     "name": "stdout",
     "output_type": "stream",
     "text": [
      "One round completed\n",
      "One round completed\n",
      "One round completed\n",
      "One round completed\n",
      "One round completed\n",
      "   accuracy  median_f1  max_diff      rsse       est  \\\n",
      "0  0.847269   0.818825  0.031361  0.037088  0.861587   \n",
      "1  0.852001   0.818077  0.023391  0.030414  0.861839   \n",
      "2  0.877614   0.851668  0.020094  0.025817  0.857399   \n",
      "3  0.879104   0.793562  0.009104  0.012259  0.856130   \n",
      "4  0.846435   0.819311  0.053775  0.068130  0.863747   \n",
      "\n",
      "                                    cfg  \n",
      "0  {'shrinkage': 0.5, 'solver': 'lsqr'}  \n",
      "1  {'shrinkage': 0.5, 'solver': 'lsqr'}  \n",
      "2  {'shrinkage': 0.5, 'solver': 'lsqr'}  \n",
      "3  {'shrinkage': 0.5, 'solver': 'lsqr'}  \n",
      "4  {'shrinkage': 0.5, 'solver': 'lsqr'}  \n"
     ]
    }
   ],
   "source": [
    "model = LinearDiscriminantAnalysis()\n",
    "\n",
    "param_grid = [\n",
    "    {'solver': ['svd'], 'shrinkage': [None]},  \n",
    "    {'solver': ['lsqr', 'eigen'], 'shrinkage': [None, 'auto', 0.1, 0.5, 0.9]}\n",
    "]\n",
    "\n",
    "\n",
    "outer_cv = GroupKFold(n_splits=5)\n",
    "inner_cv = GroupKFold(n_splits=3)\n",
    "\n",
    "results = []\n",
    "\n",
    "for train_idx, test_idx in outer_cv.split(X, y, groups):\n",
    "    X_train, X_test = X.iloc[train_idx], X.iloc[test_idx]\n",
    "    y_train, y_test = y.iloc[train_idx], y.iloc[test_idx]\n",
    "    groups_train = groups.iloc[train_idx]\n",
    "\n",
    "    grid_search = GridSearchCV(\n",
    "        estimator=model,\n",
    "        param_grid=param_grid,\n",
    "        cv=inner_cv,\n",
    "        scoring='accuracy'\n",
    "    )\n",
    "\n",
    "    grid_search.fit(X_train, y_train, groups=groups_train)\n",
    "    best_model = grid_search.best_estimator_\n",
    "    predictions = best_model.predict(X_test)\n",
    "    accuracy = accuracy_score(y_test, predictions)\n",
    "    f1_scores = f1_score(y_test, predictions, average=None)\n",
    "    median_f1 = np.median(f1_scores)\n",
    "\n",
    "    \n",
    "\n",
    "    true_frequencies = np.bincount(y_test) / len(y_test)\n",
    "    predicted_frequencies = np.bincount(predictions, minlength=len(np.unique(y))) / len(predictions)\n",
    "    max_diff = np.max(np.abs(true_frequencies - predicted_frequencies))\n",
    "    rsse = np.sqrt(np.sum((true_frequencies - predicted_frequencies) ** 2))\n",
    "\n",
    "    results.append({\n",
    "        'accuracy': accuracy,\n",
    "        'median_f1': median_f1,\n",
    "        'max_diff': max_diff,\n",
    "        'rsse': rsse,\n",
    "        'est': grid_search.best_score_,\n",
    "        'cfg': grid_search.best_params_\n",
    "    })\n",
    "\n",
    "    print('One round completed')\n",
    "\n",
    "results_df = pd.DataFrame(results)\n",
    "print(results_df)\n"
   ]
  },
  {
   "cell_type": "code",
   "execution_count": null,
   "metadata": {},
   "outputs": [],
   "source": [
    "\n",
    "\n",
    "model_1 = RandomForestClassifier(n_estimators=100)\n",
    "\n",
    "outer_cv = GroupKFold(n_splits=5)\n",
    "\n",
    "results_1 = []\n",
    "\n",
    "for train_idx, test_idx in outer_cv.split(X, y, groups):\n",
    "    X_train, X_test = X.iloc[train_idx], X.iloc[test_idx]\n",
    "    y_train, y_test = y.iloc[train_idx], y.iloc[test_idx]\n",
    "    groups_train = groups.iloc[train_idx]\n",
    "\n",
    "    model_1.fit(X_train, y_train)\n",
    "    predictions = model_1.predict(X_test)\n",
    "    accuracy = accuracy_score(y_test, predictions)\n",
    "    f1_scores = f1_score(y_test, predictions, average=None)\n",
    "    median_f1 = np.median(f1_scores)\n",
    "\n",
    "    true_frequencies = np.bincount(y_test) / len(y_test)\n",
    "    predicted_frequencies = np.bincount(predictions, minlength=len(np.unique(y))) / len(predictions)\n",
    "    max_diff = np.max(np.abs(true_frequencies - predicted_frequencies))\n",
    "    rsse = np.sqrt(np.sum((true_frequencies - predicted_frequencies) ** 2))\n",
    "\n",
    "    results_1.append({\n",
    "        'accuracy': accuracy,\n",
    "        'median_f1': median_f1,\n",
    "        'max_diff': max_diff,\n",
    "        'rsse': rsse\n",
    "    })\n",
    "\n",
    "    print('One round completed')\n",
    "\n",
    "# Print results\n",
    "results_df_rfc = pd.DataFrame(results_1)\n",
    "print(results_df_rfc)"
   ]
  },
  {
   "cell_type": "code",
   "execution_count": 46,
   "metadata": {},
   "outputs": [
    {
     "data": {
      "text/html": [
       "<div>\n",
       "<style scoped>\n",
       "    .dataframe tbody tr th:only-of-type {\n",
       "        vertical-align: middle;\n",
       "    }\n",
       "\n",
       "    .dataframe tbody tr th {\n",
       "        vertical-align: top;\n",
       "    }\n",
       "\n",
       "    .dataframe thead th {\n",
       "        text-align: right;\n",
       "    }\n",
       "</style>\n",
       "<table border=\"1\" class=\"dataframe\">\n",
       "  <thead>\n",
       "    <tr style=\"text-align: right;\">\n",
       "      <th></th>\n",
       "      <th>89Y_CD45</th>\n",
       "      <th>111Cd_CD3</th>\n",
       "      <th>112Cd_CD34</th>\n",
       "      <th>113Cd_CD123</th>\n",
       "      <th>114Cd_CD66b</th>\n",
       "      <th>116Cd_HLA-DR</th>\n",
       "      <th>141Pr_CD38</th>\n",
       "      <th>142Nd_cCaspase3</th>\n",
       "      <th>143Nd_pCRKL Y207</th>\n",
       "      <th>144Nd_pTyr</th>\n",
       "      <th>...</th>\n",
       "      <th>173Yb_STAT3tot</th>\n",
       "      <th>174Yb_CD11c</th>\n",
       "      <th>175Lu_CXCR4</th>\n",
       "      <th>176Yb_pS6 S240244</th>\n",
       "      <th>195Pt_mBC2</th>\n",
       "      <th>209Bi_CD11b</th>\n",
       "      <th>patient_number</th>\n",
       "      <th>test_time</th>\n",
       "      <th>cluster</th>\n",
       "      <th>sample</th>\n",
       "    </tr>\n",
       "  </thead>\n",
       "  <tbody>\n",
       "    <tr>\n",
       "      <th>0</th>\n",
       "      <td>2.217051</td>\n",
       "      <td>0.113545</td>\n",
       "      <td>3.317439</td>\n",
       "      <td>0.381279</td>\n",
       "      <td>1.590146</td>\n",
       "      <td>2.885046</td>\n",
       "      <td>3.629630</td>\n",
       "      <td>0.186837</td>\n",
       "      <td>0.327056</td>\n",
       "      <td>0.842817</td>\n",
       "      <td>...</td>\n",
       "      <td>2.558300</td>\n",
       "      <td>0.000000</td>\n",
       "      <td>0.953744</td>\n",
       "      <td>0.000000</td>\n",
       "      <td>3.512650</td>\n",
       "      <td>0.531857</td>\n",
       "      <td>01</td>\n",
       "      <td>0</td>\n",
       "      <td>9</td>\n",
       "      <td>01_0</td>\n",
       "    </tr>\n",
       "    <tr>\n",
       "      <th>1</th>\n",
       "      <td>3.963797</td>\n",
       "      <td>0.000000</td>\n",
       "      <td>0.311732</td>\n",
       "      <td>0.000000</td>\n",
       "      <td>4.716617</td>\n",
       "      <td>0.714334</td>\n",
       "      <td>0.808533</td>\n",
       "      <td>0.152932</td>\n",
       "      <td>0.676452</td>\n",
       "      <td>0.183566</td>\n",
       "      <td>...</td>\n",
       "      <td>2.994078</td>\n",
       "      <td>1.007841</td>\n",
       "      <td>1.161596</td>\n",
       "      <td>0.040417</td>\n",
       "      <td>3.752279</td>\n",
       "      <td>3.391960</td>\n",
       "      <td>01</td>\n",
       "      <td>0</td>\n",
       "      <td>0</td>\n",
       "      <td>01_0</td>\n",
       "    </tr>\n",
       "    <tr>\n",
       "      <th>2</th>\n",
       "      <td>2.961751</td>\n",
       "      <td>0.231498</td>\n",
       "      <td>0.041203</td>\n",
       "      <td>0.275047</td>\n",
       "      <td>4.226237</td>\n",
       "      <td>0.250043</td>\n",
       "      <td>0.766132</td>\n",
       "      <td>0.000000</td>\n",
       "      <td>0.075735</td>\n",
       "      <td>1.489841</td>\n",
       "      <td>...</td>\n",
       "      <td>3.148486</td>\n",
       "      <td>0.135580</td>\n",
       "      <td>0.000000</td>\n",
       "      <td>0.749384</td>\n",
       "      <td>3.559952</td>\n",
       "      <td>2.233353</td>\n",
       "      <td>01</td>\n",
       "      <td>0</td>\n",
       "      <td>0</td>\n",
       "      <td>01_0</td>\n",
       "    </tr>\n",
       "    <tr>\n",
       "      <th>3</th>\n",
       "      <td>3.951971</td>\n",
       "      <td>0.391544</td>\n",
       "      <td>0.030235</td>\n",
       "      <td>1.911737</td>\n",
       "      <td>1.914248</td>\n",
       "      <td>0.196068</td>\n",
       "      <td>4.125344</td>\n",
       "      <td>0.238149</td>\n",
       "      <td>0.496188</td>\n",
       "      <td>0.466622</td>\n",
       "      <td>...</td>\n",
       "      <td>2.985532</td>\n",
       "      <td>0.909775</td>\n",
       "      <td>2.843206</td>\n",
       "      <td>1.296746</td>\n",
       "      <td>3.968642</td>\n",
       "      <td>0.490613</td>\n",
       "      <td>01</td>\n",
       "      <td>0</td>\n",
       "      <td>4</td>\n",
       "      <td>01_0</td>\n",
       "    </tr>\n",
       "    <tr>\n",
       "      <th>4</th>\n",
       "      <td>3.204973</td>\n",
       "      <td>0.000000</td>\n",
       "      <td>0.002475</td>\n",
       "      <td>0.400668</td>\n",
       "      <td>4.130337</td>\n",
       "      <td>0.454735</td>\n",
       "      <td>0.448444</td>\n",
       "      <td>0.079543</td>\n",
       "      <td>0.328764</td>\n",
       "      <td>1.208815</td>\n",
       "      <td>...</td>\n",
       "      <td>3.489844</td>\n",
       "      <td>0.758197</td>\n",
       "      <td>0.813311</td>\n",
       "      <td>0.877981</td>\n",
       "      <td>2.142285</td>\n",
       "      <td>2.659254</td>\n",
       "      <td>01</td>\n",
       "      <td>0</td>\n",
       "      <td>0</td>\n",
       "      <td>01_0</td>\n",
       "    </tr>\n",
       "    <tr>\n",
       "      <th>...</th>\n",
       "      <td>...</td>\n",
       "      <td>...</td>\n",
       "      <td>...</td>\n",
       "      <td>...</td>\n",
       "      <td>...</td>\n",
       "      <td>...</td>\n",
       "      <td>...</td>\n",
       "      <td>...</td>\n",
       "      <td>...</td>\n",
       "      <td>...</td>\n",
       "      <td>...</td>\n",
       "      <td>...</td>\n",
       "      <td>...</td>\n",
       "      <td>...</td>\n",
       "      <td>...</td>\n",
       "      <td>...</td>\n",
       "      <td>...</td>\n",
       "      <td>...</td>\n",
       "      <td>...</td>\n",
       "      <td>...</td>\n",
       "      <td>...</td>\n",
       "    </tr>\n",
       "    <tr>\n",
       "      <th>26288919</th>\n",
       "      <td>1.693280</td>\n",
       "      <td>0.348215</td>\n",
       "      <td>0.502324</td>\n",
       "      <td>0.185988</td>\n",
       "      <td>3.035682</td>\n",
       "      <td>0.350522</td>\n",
       "      <td>2.593030</td>\n",
       "      <td>0.211198</td>\n",
       "      <td>1.259692</td>\n",
       "      <td>0.766676</td>\n",
       "      <td>...</td>\n",
       "      <td>4.092850</td>\n",
       "      <td>0.000000</td>\n",
       "      <td>0.000000</td>\n",
       "      <td>3.178231</td>\n",
       "      <td>4.793082</td>\n",
       "      <td>0.000000</td>\n",
       "      <td>HDBM_532</td>\n",
       "      <td>None</td>\n",
       "      <td>2</td>\n",
       "      <td>HDBM_532_None</td>\n",
       "    </tr>\n",
       "    <tr>\n",
       "      <th>26520713</th>\n",
       "      <td>0.729598</td>\n",
       "      <td>0.485712</td>\n",
       "      <td>0.172502</td>\n",
       "      <td>0.000000</td>\n",
       "      <td>0.772020</td>\n",
       "      <td>0.000000</td>\n",
       "      <td>0.719245</td>\n",
       "      <td>0.417552</td>\n",
       "      <td>1.475494</td>\n",
       "      <td>1.154216</td>\n",
       "      <td>...</td>\n",
       "      <td>3.757267</td>\n",
       "      <td>0.099147</td>\n",
       "      <td>0.294973</td>\n",
       "      <td>0.936303</td>\n",
       "      <td>4.438051</td>\n",
       "      <td>0.384407</td>\n",
       "      <td>HDBM_630</td>\n",
       "      <td>None</td>\n",
       "      <td>2</td>\n",
       "      <td>HDBM_630_None</td>\n",
       "    </tr>\n",
       "    <tr>\n",
       "      <th>26031470</th>\n",
       "      <td>2.254079</td>\n",
       "      <td>0.862573</td>\n",
       "      <td>0.441509</td>\n",
       "      <td>0.498153</td>\n",
       "      <td>3.449804</td>\n",
       "      <td>0.328851</td>\n",
       "      <td>1.732715</td>\n",
       "      <td>0.144498</td>\n",
       "      <td>0.869975</td>\n",
       "      <td>1.309697</td>\n",
       "      <td>...</td>\n",
       "      <td>4.134409</td>\n",
       "      <td>0.090517</td>\n",
       "      <td>0.929077</td>\n",
       "      <td>1.499913</td>\n",
       "      <td>5.032999</td>\n",
       "      <td>1.446886</td>\n",
       "      <td>HDBM_436</td>\n",
       "      <td>None</td>\n",
       "      <td>0</td>\n",
       "      <td>HDBM_436_None</td>\n",
       "    </tr>\n",
       "    <tr>\n",
       "      <th>27498207</th>\n",
       "      <td>4.621356</td>\n",
       "      <td>3.484828</td>\n",
       "      <td>0.077849</td>\n",
       "      <td>0.097483</td>\n",
       "      <td>0.373927</td>\n",
       "      <td>0.000000</td>\n",
       "      <td>0.195959</td>\n",
       "      <td>0.000000</td>\n",
       "      <td>0.244078</td>\n",
       "      <td>0.420155</td>\n",
       "      <td>...</td>\n",
       "      <td>1.483905</td>\n",
       "      <td>0.000000</td>\n",
       "      <td>1.437943</td>\n",
       "      <td>0.186262</td>\n",
       "      <td>3.698609</td>\n",
       "      <td>0.000000</td>\n",
       "      <td>HDPB_625</td>\n",
       "      <td>None</td>\n",
       "      <td>6</td>\n",
       "      <td>HDPB_625_None</td>\n",
       "    </tr>\n",
       "    <tr>\n",
       "      <th>27436372</th>\n",
       "      <td>4.823808</td>\n",
       "      <td>3.420130</td>\n",
       "      <td>0.238911</td>\n",
       "      <td>0.181229</td>\n",
       "      <td>0.054774</td>\n",
       "      <td>0.000000</td>\n",
       "      <td>0.000000</td>\n",
       "      <td>0.243584</td>\n",
       "      <td>0.764766</td>\n",
       "      <td>0.069657</td>\n",
       "      <td>...</td>\n",
       "      <td>3.226203</td>\n",
       "      <td>0.000000</td>\n",
       "      <td>0.058953</td>\n",
       "      <td>1.324713</td>\n",
       "      <td>3.528227</td>\n",
       "      <td>0.068169</td>\n",
       "      <td>HDPB_597</td>\n",
       "      <td>None</td>\n",
       "      <td>7</td>\n",
       "      <td>HDPB_597_None</td>\n",
       "    </tr>\n",
       "  </tbody>\n",
       "</table>\n",
       "<p>20353774 rows × 48 columns</p>\n",
       "</div>"
      ],
      "text/plain": [
       "          89Y_CD45  111Cd_CD3  112Cd_CD34  113Cd_CD123  114Cd_CD66b  \\\n",
       "0         2.217051   0.113545    3.317439     0.381279     1.590146   \n",
       "1         3.963797   0.000000    0.311732     0.000000     4.716617   \n",
       "2         2.961751   0.231498    0.041203     0.275047     4.226237   \n",
       "3         3.951971   0.391544    0.030235     1.911737     1.914248   \n",
       "4         3.204973   0.000000    0.002475     0.400668     4.130337   \n",
       "...            ...        ...         ...          ...          ...   \n",
       "26288919  1.693280   0.348215    0.502324     0.185988     3.035682   \n",
       "26520713  0.729598   0.485712    0.172502     0.000000     0.772020   \n",
       "26031470  2.254079   0.862573    0.441509     0.498153     3.449804   \n",
       "27498207  4.621356   3.484828    0.077849     0.097483     0.373927   \n",
       "27436372  4.823808   3.420130    0.238911     0.181229     0.054774   \n",
       "\n",
       "          116Cd_HLA-DR  141Pr_CD38  142Nd_cCaspase3  143Nd_pCRKL Y207  \\\n",
       "0             2.885046    3.629630         0.186837          0.327056   \n",
       "1             0.714334    0.808533         0.152932          0.676452   \n",
       "2             0.250043    0.766132         0.000000          0.075735   \n",
       "3             0.196068    4.125344         0.238149          0.496188   \n",
       "4             0.454735    0.448444         0.079543          0.328764   \n",
       "...                ...         ...              ...               ...   \n",
       "26288919      0.350522    2.593030         0.211198          1.259692   \n",
       "26520713      0.000000    0.719245         0.417552          1.475494   \n",
       "26031470      0.328851    1.732715         0.144498          0.869975   \n",
       "27498207      0.000000    0.195959         0.000000          0.244078   \n",
       "27436372      0.000000    0.000000         0.243584          0.764766   \n",
       "\n",
       "          144Nd_pTyr  ...  173Yb_STAT3tot  174Yb_CD11c  175Lu_CXCR4  \\\n",
       "0           0.842817  ...        2.558300     0.000000     0.953744   \n",
       "1           0.183566  ...        2.994078     1.007841     1.161596   \n",
       "2           1.489841  ...        3.148486     0.135580     0.000000   \n",
       "3           0.466622  ...        2.985532     0.909775     2.843206   \n",
       "4           1.208815  ...        3.489844     0.758197     0.813311   \n",
       "...              ...  ...             ...          ...          ...   \n",
       "26288919    0.766676  ...        4.092850     0.000000     0.000000   \n",
       "26520713    1.154216  ...        3.757267     0.099147     0.294973   \n",
       "26031470    1.309697  ...        4.134409     0.090517     0.929077   \n",
       "27498207    0.420155  ...        1.483905     0.000000     1.437943   \n",
       "27436372    0.069657  ...        3.226203     0.000000     0.058953   \n",
       "\n",
       "          176Yb_pS6 S240244  195Pt_mBC2  209Bi_CD11b  patient_number  \\\n",
       "0                  0.000000    3.512650     0.531857              01   \n",
       "1                  0.040417    3.752279     3.391960              01   \n",
       "2                  0.749384    3.559952     2.233353              01   \n",
       "3                  1.296746    3.968642     0.490613              01   \n",
       "4                  0.877981    2.142285     2.659254              01   \n",
       "...                     ...         ...          ...             ...   \n",
       "26288919           3.178231    4.793082     0.000000        HDBM_532   \n",
       "26520713           0.936303    4.438051     0.384407        HDBM_630   \n",
       "26031470           1.499913    5.032999     1.446886        HDBM_436   \n",
       "27498207           0.186262    3.698609     0.000000        HDPB_625   \n",
       "27436372           1.324713    3.528227     0.068169        HDPB_597   \n",
       "\n",
       "          test_time  cluster         sample  \n",
       "0                 0        9           01_0  \n",
       "1                 0        0           01_0  \n",
       "2                 0        0           01_0  \n",
       "3                 0        4           01_0  \n",
       "4                 0        0           01_0  \n",
       "...             ...      ...            ...  \n",
       "26288919       None        2  HDBM_532_None  \n",
       "26520713       None        2  HDBM_630_None  \n",
       "26031470       None        0  HDBM_436_None  \n",
       "27498207       None        6  HDPB_625_None  \n",
       "27436372       None        7  HDPB_597_None  \n",
       "\n",
       "[20353774 rows x 48 columns]"
      ]
     },
     "execution_count": 46,
     "metadata": {},
     "output_type": "execute_result"
    }
   ],
   "source": [
    "data"
   ]
  },
  {
   "cell_type": "code",
   "execution_count": 47,
   "metadata": {},
   "outputs": [
    {
     "data": {
      "text/plain": [
       "array(['01_0', '02_0', '03_0', '04_0', '05_0', '06_0', '07_0', '08_0',\n",
       "       '09_0', '11_0', '12_0', '13_0', '14_0', '15_0', '16_0', '17_0',\n",
       "       '18_0', '19_0', '20_0', '21_0', '22_0', '23_0', '24_0', '25_0',\n",
       "       '26_0', '27_0', '28_0', '29_0', '30_0', '31_0', '32_0', '33_0',\n",
       "       '34_0', '35_0', '36_0', '37_0', '38_0', '43_0', 'HDBM_578_None',\n",
       "       'HDBM_663_None', 'HDBM_630_None', 'HDBM_436_None', 'HDPB_522_None',\n",
       "       'HDPB_433_None', 'HDBM_446_None', 'HDPB_656_None', 'HDBM_532_None',\n",
       "       'HDPB_424_None', 'HDPB_597_None', 'HDPB_625_None', '01_1', '01_2',\n",
       "       '02_1', '02_2', '03_1', '03_2', '04_1', '04_2', '05_1', '05_2',\n",
       "       '06_1', '06_2', '07_1', '07_2', '08_1', '08_2', '09_1', '09_2',\n",
       "       '11_1', '11_2', '12_1', '12_2', '13_1', '13_2', '14_1', '14_2',\n",
       "       '15_1', '15_2', '16_1', '16_2', '17_1', '17_2', '18_1', '18_2',\n",
       "       '19_1', '19_2', '20_1', '20_2', '21_1', '21_2', '22_1', '22_2',\n",
       "       '23_1', '23_2', '24_1', '24_2', '25_1', '25_2', '26_1', '26_2',\n",
       "       '27_1', '27_2', '28_1', '28_2', '29_1', '29_2', '30_1', '30_2',\n",
       "       '31_1', '31_2', '32_1', '32_2', '33_1', '33_2', '34_1', '34_2',\n",
       "       '35_1', '35_2', '36_1', '36_2', '37_1', '37_2', '38_1', '38_2',\n",
       "       '43_1', '43_2'], dtype=object)"
      ]
     },
     "execution_count": 47,
     "metadata": {},
     "output_type": "execute_result"
    }
   ],
   "source": [
    "data['sample'].unique()"
   ]
  },
  {
   "cell_type": "code",
   "execution_count": 48,
   "metadata": {},
   "outputs": [],
   "source": [
    "data_test = data[data['sample'].isin(['01_0', '01_1', '01_2',\n",
    "                                   '12_0', '12_1', '12_2',\n",
    "                                   '08_0', '08_1', '08_2',\n",
    "                                   '15_0', '15_1', '15_2',\n",
    "                                   '20_0', '20_1', '20_2',\n",
    "                                   '28_0', '28_1', '28_2',\n",
    "                                   '35_0', '35_1', '35_2',\n",
    "                                   'HDBM_663_None', 'HDPB_597_None', 'HDBM_578_None',])]\n",
    "\n",
    "data_train = data[~data['sample'].isin(['01_0', '01_1', '01_2',\n",
    "                                   '12_0', '12_1', '12_2',\n",
    "                                   '08_0', '08_1', '08_2',\n",
    "                                   '15_0', '15_1', '15_2',\n",
    "                                   '20_0', '20_1', '20_2',\n",
    "                                   '28_0', '28_1', '28_2',\n",
    "                                   '35_0', '35_1', '35_2',\n",
    "                                   'HDBM_663_None', 'HDPB_597_None', 'HDBM_578_None',])]\n",
    "\n"
   ]
  },
  {
   "cell_type": "code",
   "execution_count": 74,
   "metadata": {},
   "outputs": [
    {
     "data": {
      "text/html": [
       "<div>\n",
       "<style scoped>\n",
       "    .dataframe tbody tr th:only-of-type {\n",
       "        vertical-align: middle;\n",
       "    }\n",
       "\n",
       "    .dataframe tbody tr th {\n",
       "        vertical-align: top;\n",
       "    }\n",
       "\n",
       "    .dataframe thead th {\n",
       "        text-align: right;\n",
       "    }\n",
       "</style>\n",
       "<table border=\"1\" class=\"dataframe\">\n",
       "  <thead>\n",
       "    <tr style=\"text-align: right;\">\n",
       "      <th></th>\n",
       "      <th>89Y_CD45</th>\n",
       "      <th>111Cd_CD3</th>\n",
       "      <th>112Cd_CD34</th>\n",
       "      <th>113Cd_CD123</th>\n",
       "      <th>114Cd_CD66b</th>\n",
       "      <th>116Cd_HLA-DR</th>\n",
       "      <th>141Pr_CD38</th>\n",
       "      <th>142Nd_cCaspase3</th>\n",
       "      <th>143Nd_pCRKL Y207</th>\n",
       "      <th>144Nd_pTyr</th>\n",
       "      <th>...</th>\n",
       "      <th>173Yb_STAT3tot</th>\n",
       "      <th>174Yb_CD11c</th>\n",
       "      <th>175Lu_CXCR4</th>\n",
       "      <th>176Yb_pS6 S240244</th>\n",
       "      <th>195Pt_mBC2</th>\n",
       "      <th>209Bi_CD11b</th>\n",
       "      <th>patient_number</th>\n",
       "      <th>test_time</th>\n",
       "      <th>cluster</th>\n",
       "      <th>sample</th>\n",
       "    </tr>\n",
       "  </thead>\n",
       "  <tbody>\n",
       "    <tr>\n",
       "      <th>560879</th>\n",
       "      <td>1.670344</td>\n",
       "      <td>0.000000e+00</td>\n",
       "      <td>0.000000</td>\n",
       "      <td>0.000000e+00</td>\n",
       "      <td>1.619497</td>\n",
       "      <td>0.087057</td>\n",
       "      <td>1.885950</td>\n",
       "      <td>0.000000</td>\n",
       "      <td>0.177320</td>\n",
       "      <td>0.000000</td>\n",
       "      <td>...</td>\n",
       "      <td>2.913760</td>\n",
       "      <td>0.000000</td>\n",
       "      <td>0.700987</td>\n",
       "      <td>0.155629</td>\n",
       "      <td>3.346074</td>\n",
       "      <td>0.259070</td>\n",
       "      <td>02</td>\n",
       "      <td>0</td>\n",
       "      <td>2</td>\n",
       "      <td>02_0</td>\n",
       "    </tr>\n",
       "    <tr>\n",
       "      <th>560880</th>\n",
       "      <td>3.539977</td>\n",
       "      <td>2.142803e-01</td>\n",
       "      <td>0.134097</td>\n",
       "      <td>1.160107e-02</td>\n",
       "      <td>3.746725</td>\n",
       "      <td>0.000000</td>\n",
       "      <td>0.000000</td>\n",
       "      <td>0.000000</td>\n",
       "      <td>0.446203</td>\n",
       "      <td>0.758547</td>\n",
       "      <td>...</td>\n",
       "      <td>2.572958</td>\n",
       "      <td>2.718444</td>\n",
       "      <td>0.661870</td>\n",
       "      <td>1.697639</td>\n",
       "      <td>2.850482</td>\n",
       "      <td>2.801288</td>\n",
       "      <td>02</td>\n",
       "      <td>0</td>\n",
       "      <td>0</td>\n",
       "      <td>02_0</td>\n",
       "    </tr>\n",
       "    <tr>\n",
       "      <th>560881</th>\n",
       "      <td>1.885515</td>\n",
       "      <td>1.464498e-10</td>\n",
       "      <td>0.000000</td>\n",
       "      <td>3.574960e-10</td>\n",
       "      <td>2.373047</td>\n",
       "      <td>0.000000</td>\n",
       "      <td>0.084453</td>\n",
       "      <td>0.069303</td>\n",
       "      <td>0.000000</td>\n",
       "      <td>1.342216</td>\n",
       "      <td>...</td>\n",
       "      <td>3.339220</td>\n",
       "      <td>1.635234</td>\n",
       "      <td>0.974204</td>\n",
       "      <td>0.907949</td>\n",
       "      <td>3.483692</td>\n",
       "      <td>1.487358</td>\n",
       "      <td>02</td>\n",
       "      <td>0</td>\n",
       "      <td>0</td>\n",
       "      <td>02_0</td>\n",
       "    </tr>\n",
       "    <tr>\n",
       "      <th>560882</th>\n",
       "      <td>1.611550</td>\n",
       "      <td>6.270524e-01</td>\n",
       "      <td>0.000000</td>\n",
       "      <td>0.000000e+00</td>\n",
       "      <td>3.943385</td>\n",
       "      <td>0.420081</td>\n",
       "      <td>0.390100</td>\n",
       "      <td>0.000000</td>\n",
       "      <td>0.638499</td>\n",
       "      <td>1.095954</td>\n",
       "      <td>...</td>\n",
       "      <td>3.530083</td>\n",
       "      <td>0.000000</td>\n",
       "      <td>0.548274</td>\n",
       "      <td>1.144781</td>\n",
       "      <td>3.580094</td>\n",
       "      <td>1.220637</td>\n",
       "      <td>02</td>\n",
       "      <td>0</td>\n",
       "      <td>0</td>\n",
       "      <td>02_0</td>\n",
       "    </tr>\n",
       "    <tr>\n",
       "      <th>560883</th>\n",
       "      <td>1.901668</td>\n",
       "      <td>0.000000e+00</td>\n",
       "      <td>0.000000</td>\n",
       "      <td>2.606432e-01</td>\n",
       "      <td>2.794307</td>\n",
       "      <td>0.000000</td>\n",
       "      <td>0.218226</td>\n",
       "      <td>0.000000</td>\n",
       "      <td>0.431534</td>\n",
       "      <td>1.165762</td>\n",
       "      <td>...</td>\n",
       "      <td>3.511482</td>\n",
       "      <td>0.000000</td>\n",
       "      <td>1.435172</td>\n",
       "      <td>0.252553</td>\n",
       "      <td>3.602126</td>\n",
       "      <td>1.612003</td>\n",
       "      <td>02</td>\n",
       "      <td>0</td>\n",
       "      <td>0</td>\n",
       "      <td>02_0</td>\n",
       "    </tr>\n",
       "    <tr>\n",
       "      <th>...</th>\n",
       "      <td>...</td>\n",
       "      <td>...</td>\n",
       "      <td>...</td>\n",
       "      <td>...</td>\n",
       "      <td>...</td>\n",
       "      <td>...</td>\n",
       "      <td>...</td>\n",
       "      <td>...</td>\n",
       "      <td>...</td>\n",
       "      <td>...</td>\n",
       "      <td>...</td>\n",
       "      <td>...</td>\n",
       "      <td>...</td>\n",
       "      <td>...</td>\n",
       "      <td>...</td>\n",
       "      <td>...</td>\n",
       "      <td>...</td>\n",
       "      <td>...</td>\n",
       "      <td>...</td>\n",
       "      <td>...</td>\n",
       "      <td>...</td>\n",
       "    </tr>\n",
       "    <tr>\n",
       "      <th>26029571</th>\n",
       "      <td>1.913194</td>\n",
       "      <td>6.111502e-01</td>\n",
       "      <td>0.396121</td>\n",
       "      <td>1.461382e-01</td>\n",
       "      <td>3.280591</td>\n",
       "      <td>0.000000</td>\n",
       "      <td>0.508238</td>\n",
       "      <td>0.314672</td>\n",
       "      <td>1.867492</td>\n",
       "      <td>0.875840</td>\n",
       "      <td>...</td>\n",
       "      <td>3.776036</td>\n",
       "      <td>0.000000</td>\n",
       "      <td>0.657415</td>\n",
       "      <td>1.903500</td>\n",
       "      <td>4.993514</td>\n",
       "      <td>0.942108</td>\n",
       "      <td>HDBM_436</td>\n",
       "      <td>None</td>\n",
       "      <td>0</td>\n",
       "      <td>HDBM_436_None</td>\n",
       "    </tr>\n",
       "    <tr>\n",
       "      <th>26288919</th>\n",
       "      <td>1.693280</td>\n",
       "      <td>3.482150e-01</td>\n",
       "      <td>0.502324</td>\n",
       "      <td>1.859879e-01</td>\n",
       "      <td>3.035682</td>\n",
       "      <td>0.350522</td>\n",
       "      <td>2.593030</td>\n",
       "      <td>0.211198</td>\n",
       "      <td>1.259692</td>\n",
       "      <td>0.766676</td>\n",
       "      <td>...</td>\n",
       "      <td>4.092850</td>\n",
       "      <td>0.000000</td>\n",
       "      <td>0.000000</td>\n",
       "      <td>3.178231</td>\n",
       "      <td>4.793082</td>\n",
       "      <td>0.000000</td>\n",
       "      <td>HDBM_532</td>\n",
       "      <td>None</td>\n",
       "      <td>2</td>\n",
       "      <td>HDBM_532_None</td>\n",
       "    </tr>\n",
       "    <tr>\n",
       "      <th>26520713</th>\n",
       "      <td>0.729598</td>\n",
       "      <td>4.857115e-01</td>\n",
       "      <td>0.172502</td>\n",
       "      <td>0.000000e+00</td>\n",
       "      <td>0.772020</td>\n",
       "      <td>0.000000</td>\n",
       "      <td>0.719245</td>\n",
       "      <td>0.417552</td>\n",
       "      <td>1.475494</td>\n",
       "      <td>1.154216</td>\n",
       "      <td>...</td>\n",
       "      <td>3.757267</td>\n",
       "      <td>0.099147</td>\n",
       "      <td>0.294973</td>\n",
       "      <td>0.936303</td>\n",
       "      <td>4.438051</td>\n",
       "      <td>0.384407</td>\n",
       "      <td>HDBM_630</td>\n",
       "      <td>None</td>\n",
       "      <td>2</td>\n",
       "      <td>HDBM_630_None</td>\n",
       "    </tr>\n",
       "    <tr>\n",
       "      <th>26031470</th>\n",
       "      <td>2.254079</td>\n",
       "      <td>8.625727e-01</td>\n",
       "      <td>0.441509</td>\n",
       "      <td>4.981533e-01</td>\n",
       "      <td>3.449804</td>\n",
       "      <td>0.328851</td>\n",
       "      <td>1.732715</td>\n",
       "      <td>0.144498</td>\n",
       "      <td>0.869975</td>\n",
       "      <td>1.309697</td>\n",
       "      <td>...</td>\n",
       "      <td>4.134409</td>\n",
       "      <td>0.090517</td>\n",
       "      <td>0.929077</td>\n",
       "      <td>1.499913</td>\n",
       "      <td>5.032999</td>\n",
       "      <td>1.446886</td>\n",
       "      <td>HDBM_436</td>\n",
       "      <td>None</td>\n",
       "      <td>0</td>\n",
       "      <td>HDBM_436_None</td>\n",
       "    </tr>\n",
       "    <tr>\n",
       "      <th>27498207</th>\n",
       "      <td>4.621356</td>\n",
       "      <td>3.484828e+00</td>\n",
       "      <td>0.077849</td>\n",
       "      <td>9.748337e-02</td>\n",
       "      <td>0.373927</td>\n",
       "      <td>0.000000</td>\n",
       "      <td>0.195959</td>\n",
       "      <td>0.000000</td>\n",
       "      <td>0.244078</td>\n",
       "      <td>0.420155</td>\n",
       "      <td>...</td>\n",
       "      <td>1.483905</td>\n",
       "      <td>0.000000</td>\n",
       "      <td>1.437943</td>\n",
       "      <td>0.186262</td>\n",
       "      <td>3.698609</td>\n",
       "      <td>0.000000</td>\n",
       "      <td>HDPB_625</td>\n",
       "      <td>None</td>\n",
       "      <td>6</td>\n",
       "      <td>HDPB_625_None</td>\n",
       "    </tr>\n",
       "  </tbody>\n",
       "</table>\n",
       "<p>16076884 rows × 48 columns</p>\n",
       "</div>"
      ],
      "text/plain": [
       "          89Y_CD45     111Cd_CD3  112Cd_CD34   113Cd_CD123  114Cd_CD66b  \\\n",
       "560879    1.670344  0.000000e+00    0.000000  0.000000e+00     1.619497   \n",
       "560880    3.539977  2.142803e-01    0.134097  1.160107e-02     3.746725   \n",
       "560881    1.885515  1.464498e-10    0.000000  3.574960e-10     2.373047   \n",
       "560882    1.611550  6.270524e-01    0.000000  0.000000e+00     3.943385   \n",
       "560883    1.901668  0.000000e+00    0.000000  2.606432e-01     2.794307   \n",
       "...            ...           ...         ...           ...          ...   \n",
       "26029571  1.913194  6.111502e-01    0.396121  1.461382e-01     3.280591   \n",
       "26288919  1.693280  3.482150e-01    0.502324  1.859879e-01     3.035682   \n",
       "26520713  0.729598  4.857115e-01    0.172502  0.000000e+00     0.772020   \n",
       "26031470  2.254079  8.625727e-01    0.441509  4.981533e-01     3.449804   \n",
       "27498207  4.621356  3.484828e+00    0.077849  9.748337e-02     0.373927   \n",
       "\n",
       "          116Cd_HLA-DR  141Pr_CD38  142Nd_cCaspase3  143Nd_pCRKL Y207  \\\n",
       "560879        0.087057    1.885950         0.000000          0.177320   \n",
       "560880        0.000000    0.000000         0.000000          0.446203   \n",
       "560881        0.000000    0.084453         0.069303          0.000000   \n",
       "560882        0.420081    0.390100         0.000000          0.638499   \n",
       "560883        0.000000    0.218226         0.000000          0.431534   \n",
       "...                ...         ...              ...               ...   \n",
       "26029571      0.000000    0.508238         0.314672          1.867492   \n",
       "26288919      0.350522    2.593030         0.211198          1.259692   \n",
       "26520713      0.000000    0.719245         0.417552          1.475494   \n",
       "26031470      0.328851    1.732715         0.144498          0.869975   \n",
       "27498207      0.000000    0.195959         0.000000          0.244078   \n",
       "\n",
       "          144Nd_pTyr  ...  173Yb_STAT3tot  174Yb_CD11c  175Lu_CXCR4  \\\n",
       "560879      0.000000  ...        2.913760     0.000000     0.700987   \n",
       "560880      0.758547  ...        2.572958     2.718444     0.661870   \n",
       "560881      1.342216  ...        3.339220     1.635234     0.974204   \n",
       "560882      1.095954  ...        3.530083     0.000000     0.548274   \n",
       "560883      1.165762  ...        3.511482     0.000000     1.435172   \n",
       "...              ...  ...             ...          ...          ...   \n",
       "26029571    0.875840  ...        3.776036     0.000000     0.657415   \n",
       "26288919    0.766676  ...        4.092850     0.000000     0.000000   \n",
       "26520713    1.154216  ...        3.757267     0.099147     0.294973   \n",
       "26031470    1.309697  ...        4.134409     0.090517     0.929077   \n",
       "27498207    0.420155  ...        1.483905     0.000000     1.437943   \n",
       "\n",
       "          176Yb_pS6 S240244  195Pt_mBC2  209Bi_CD11b  patient_number  \\\n",
       "560879             0.155629    3.346074     0.259070              02   \n",
       "560880             1.697639    2.850482     2.801288              02   \n",
       "560881             0.907949    3.483692     1.487358              02   \n",
       "560882             1.144781    3.580094     1.220637              02   \n",
       "560883             0.252553    3.602126     1.612003              02   \n",
       "...                     ...         ...          ...             ...   \n",
       "26029571           1.903500    4.993514     0.942108        HDBM_436   \n",
       "26288919           3.178231    4.793082     0.000000        HDBM_532   \n",
       "26520713           0.936303    4.438051     0.384407        HDBM_630   \n",
       "26031470           1.499913    5.032999     1.446886        HDBM_436   \n",
       "27498207           0.186262    3.698609     0.000000        HDPB_625   \n",
       "\n",
       "          test_time  cluster         sample  \n",
       "560879            0        2           02_0  \n",
       "560880            0        0           02_0  \n",
       "560881            0        0           02_0  \n",
       "560882            0        0           02_0  \n",
       "560883            0        0           02_0  \n",
       "...             ...      ...            ...  \n",
       "26029571       None        0  HDBM_436_None  \n",
       "26288919       None        2  HDBM_532_None  \n",
       "26520713       None        2  HDBM_630_None  \n",
       "26031470       None        0  HDBM_436_None  \n",
       "27498207       None        6  HDPB_625_None  \n",
       "\n",
       "[16076884 rows x 48 columns]"
      ]
     },
     "execution_count": 74,
     "metadata": {},
     "output_type": "execute_result"
    }
   ],
   "source": [
    "data_train\n"
   ]
  },
  {
   "cell_type": "code",
   "execution_count": 75,
   "metadata": {},
   "outputs": [
    {
     "data": {
      "text/plain": [
       "cluster\n",
       "0     7719990\n",
       "2     5244406\n",
       "1     1430020\n",
       "3      448990\n",
       "4      357445\n",
       "5      323213\n",
       "6      141641\n",
       "7      104153\n",
       "8       80176\n",
       "9       44503\n",
       "12      39523\n",
       "10      38636\n",
       "13      36411\n",
       "14      20014\n",
       "16      17297\n",
       "11      14493\n",
       "15       8391\n",
       "18       5056\n",
       "17       2526\n",
       "Name: count, dtype: int64"
      ]
     },
     "execution_count": 75,
     "metadata": {},
     "output_type": "execute_result"
    }
   ],
   "source": [
    "data_train['cluster'].value_counts()"
   ]
  },
  {
   "cell_type": "code",
   "execution_count": 76,
   "metadata": {},
   "outputs": [
    {
     "data": {
      "text/html": [
       "<div>\n",
       "<style scoped>\n",
       "    .dataframe tbody tr th:only-of-type {\n",
       "        vertical-align: middle;\n",
       "    }\n",
       "\n",
       "    .dataframe tbody tr th {\n",
       "        vertical-align: top;\n",
       "    }\n",
       "\n",
       "    .dataframe thead th {\n",
       "        text-align: right;\n",
       "    }\n",
       "</style>\n",
       "<table border=\"1\" class=\"dataframe\">\n",
       "  <thead>\n",
       "    <tr style=\"text-align: right;\">\n",
       "      <th></th>\n",
       "      <th>89Y_CD45</th>\n",
       "      <th>111Cd_CD3</th>\n",
       "      <th>112Cd_CD34</th>\n",
       "      <th>113Cd_CD123</th>\n",
       "      <th>114Cd_CD66b</th>\n",
       "      <th>116Cd_HLA-DR</th>\n",
       "      <th>141Pr_CD38</th>\n",
       "      <th>142Nd_cCaspase3</th>\n",
       "      <th>143Nd_pCRKL Y207</th>\n",
       "      <th>144Nd_pTyr</th>\n",
       "      <th>...</th>\n",
       "      <th>173Yb_STAT3tot</th>\n",
       "      <th>174Yb_CD11c</th>\n",
       "      <th>175Lu_CXCR4</th>\n",
       "      <th>176Yb_pS6 S240244</th>\n",
       "      <th>195Pt_mBC2</th>\n",
       "      <th>209Bi_CD11b</th>\n",
       "      <th>patient_number</th>\n",
       "      <th>test_time</th>\n",
       "      <th>cluster</th>\n",
       "      <th>sample</th>\n",
       "    </tr>\n",
       "  </thead>\n",
       "  <tbody>\n",
       "    <tr>\n",
       "      <th>0</th>\n",
       "      <td>2.217051</td>\n",
       "      <td>0.113545</td>\n",
       "      <td>3.317439</td>\n",
       "      <td>0.381279</td>\n",
       "      <td>1.590146</td>\n",
       "      <td>2.885046</td>\n",
       "      <td>3.629630</td>\n",
       "      <td>0.186837</td>\n",
       "      <td>0.327056</td>\n",
       "      <td>0.842817</td>\n",
       "      <td>...</td>\n",
       "      <td>2.558300</td>\n",
       "      <td>0.000000</td>\n",
       "      <td>0.953744</td>\n",
       "      <td>0.000000</td>\n",
       "      <td>3.512650</td>\n",
       "      <td>0.531857</td>\n",
       "      <td>01</td>\n",
       "      <td>0</td>\n",
       "      <td>9</td>\n",
       "      <td>01_0</td>\n",
       "    </tr>\n",
       "    <tr>\n",
       "      <th>1</th>\n",
       "      <td>3.963797</td>\n",
       "      <td>0.000000</td>\n",
       "      <td>0.311732</td>\n",
       "      <td>0.000000</td>\n",
       "      <td>4.716617</td>\n",
       "      <td>0.714334</td>\n",
       "      <td>0.808533</td>\n",
       "      <td>0.152932</td>\n",
       "      <td>0.676452</td>\n",
       "      <td>0.183566</td>\n",
       "      <td>...</td>\n",
       "      <td>2.994078</td>\n",
       "      <td>1.007841</td>\n",
       "      <td>1.161596</td>\n",
       "      <td>0.040417</td>\n",
       "      <td>3.752279</td>\n",
       "      <td>3.391960</td>\n",
       "      <td>01</td>\n",
       "      <td>0</td>\n",
       "      <td>0</td>\n",
       "      <td>01_0</td>\n",
       "    </tr>\n",
       "    <tr>\n",
       "      <th>2</th>\n",
       "      <td>2.961751</td>\n",
       "      <td>0.231498</td>\n",
       "      <td>0.041203</td>\n",
       "      <td>0.275047</td>\n",
       "      <td>4.226237</td>\n",
       "      <td>0.250043</td>\n",
       "      <td>0.766132</td>\n",
       "      <td>0.000000</td>\n",
       "      <td>0.075735</td>\n",
       "      <td>1.489841</td>\n",
       "      <td>...</td>\n",
       "      <td>3.148486</td>\n",
       "      <td>0.135580</td>\n",
       "      <td>0.000000</td>\n",
       "      <td>0.749384</td>\n",
       "      <td>3.559952</td>\n",
       "      <td>2.233353</td>\n",
       "      <td>01</td>\n",
       "      <td>0</td>\n",
       "      <td>0</td>\n",
       "      <td>01_0</td>\n",
       "    </tr>\n",
       "    <tr>\n",
       "      <th>3</th>\n",
       "      <td>3.951971</td>\n",
       "      <td>0.391544</td>\n",
       "      <td>0.030235</td>\n",
       "      <td>1.911737</td>\n",
       "      <td>1.914248</td>\n",
       "      <td>0.196068</td>\n",
       "      <td>4.125344</td>\n",
       "      <td>0.238149</td>\n",
       "      <td>0.496188</td>\n",
       "      <td>0.466622</td>\n",
       "      <td>...</td>\n",
       "      <td>2.985532</td>\n",
       "      <td>0.909775</td>\n",
       "      <td>2.843206</td>\n",
       "      <td>1.296746</td>\n",
       "      <td>3.968642</td>\n",
       "      <td>0.490613</td>\n",
       "      <td>01</td>\n",
       "      <td>0</td>\n",
       "      <td>4</td>\n",
       "      <td>01_0</td>\n",
       "    </tr>\n",
       "    <tr>\n",
       "      <th>4</th>\n",
       "      <td>3.204973</td>\n",
       "      <td>0.000000</td>\n",
       "      <td>0.002475</td>\n",
       "      <td>0.400668</td>\n",
       "      <td>4.130337</td>\n",
       "      <td>0.454735</td>\n",
       "      <td>0.448444</td>\n",
       "      <td>0.079543</td>\n",
       "      <td>0.328764</td>\n",
       "      <td>1.208815</td>\n",
       "      <td>...</td>\n",
       "      <td>3.489844</td>\n",
       "      <td>0.758197</td>\n",
       "      <td>0.813311</td>\n",
       "      <td>0.877981</td>\n",
       "      <td>2.142285</td>\n",
       "      <td>2.659254</td>\n",
       "      <td>01</td>\n",
       "      <td>0</td>\n",
       "      <td>0</td>\n",
       "      <td>01_0</td>\n",
       "    </tr>\n",
       "    <tr>\n",
       "      <th>...</th>\n",
       "      <td>...</td>\n",
       "      <td>...</td>\n",
       "      <td>...</td>\n",
       "      <td>...</td>\n",
       "      <td>...</td>\n",
       "      <td>...</td>\n",
       "      <td>...</td>\n",
       "      <td>...</td>\n",
       "      <td>...</td>\n",
       "      <td>...</td>\n",
       "      <td>...</td>\n",
       "      <td>...</td>\n",
       "      <td>...</td>\n",
       "      <td>...</td>\n",
       "      <td>...</td>\n",
       "      <td>...</td>\n",
       "      <td>...</td>\n",
       "      <td>...</td>\n",
       "      <td>...</td>\n",
       "      <td>...</td>\n",
       "      <td>...</td>\n",
       "    </tr>\n",
       "    <tr>\n",
       "      <th>27445403</th>\n",
       "      <td>1.795964</td>\n",
       "      <td>0.317917</td>\n",
       "      <td>0.061669</td>\n",
       "      <td>0.000000</td>\n",
       "      <td>4.030856</td>\n",
       "      <td>0.141028</td>\n",
       "      <td>1.313184</td>\n",
       "      <td>0.373752</td>\n",
       "      <td>1.359254</td>\n",
       "      <td>0.123516</td>\n",
       "      <td>...</td>\n",
       "      <td>3.668734</td>\n",
       "      <td>0.000000</td>\n",
       "      <td>0.915739</td>\n",
       "      <td>1.549029</td>\n",
       "      <td>4.524221</td>\n",
       "      <td>1.790981</td>\n",
       "      <td>HDPB_597</td>\n",
       "      <td>None</td>\n",
       "      <td>0</td>\n",
       "      <td>HDPB_597_None</td>\n",
       "    </tr>\n",
       "    <tr>\n",
       "      <th>26434333</th>\n",
       "      <td>1.653278</td>\n",
       "      <td>0.721037</td>\n",
       "      <td>0.000000</td>\n",
       "      <td>0.244350</td>\n",
       "      <td>4.123832</td>\n",
       "      <td>0.000000</td>\n",
       "      <td>1.093431</td>\n",
       "      <td>0.557464</td>\n",
       "      <td>1.389568</td>\n",
       "      <td>0.860432</td>\n",
       "      <td>...</td>\n",
       "      <td>4.102405</td>\n",
       "      <td>0.453451</td>\n",
       "      <td>1.400038</td>\n",
       "      <td>1.406475</td>\n",
       "      <td>4.546818</td>\n",
       "      <td>1.848670</td>\n",
       "      <td>HDBM_578</td>\n",
       "      <td>None</td>\n",
       "      <td>0</td>\n",
       "      <td>HDBM_578_None</td>\n",
       "    </tr>\n",
       "    <tr>\n",
       "      <th>26638016</th>\n",
       "      <td>2.495669</td>\n",
       "      <td>0.705190</td>\n",
       "      <td>0.019936</td>\n",
       "      <td>0.746797</td>\n",
       "      <td>0.531714</td>\n",
       "      <td>4.552544</td>\n",
       "      <td>3.624877</td>\n",
       "      <td>0.128357</td>\n",
       "      <td>0.068003</td>\n",
       "      <td>1.405081</td>\n",
       "      <td>...</td>\n",
       "      <td>2.890788</td>\n",
       "      <td>0.254210</td>\n",
       "      <td>2.613148</td>\n",
       "      <td>1.328578</td>\n",
       "      <td>4.285229</td>\n",
       "      <td>0.153277</td>\n",
       "      <td>HDBM_663</td>\n",
       "      <td>None</td>\n",
       "      <td>9</td>\n",
       "      <td>HDBM_663_None</td>\n",
       "    </tr>\n",
       "    <tr>\n",
       "      <th>26437597</th>\n",
       "      <td>1.818850</td>\n",
       "      <td>0.080734</td>\n",
       "      <td>1.035536</td>\n",
       "      <td>0.029431</td>\n",
       "      <td>4.158769</td>\n",
       "      <td>0.135923</td>\n",
       "      <td>0.728520</td>\n",
       "      <td>0.126227</td>\n",
       "      <td>1.467396</td>\n",
       "      <td>1.024819</td>\n",
       "      <td>...</td>\n",
       "      <td>3.245868</td>\n",
       "      <td>0.000000</td>\n",
       "      <td>0.716784</td>\n",
       "      <td>1.692657</td>\n",
       "      <td>4.605637</td>\n",
       "      <td>1.406965</td>\n",
       "      <td>HDBM_578</td>\n",
       "      <td>None</td>\n",
       "      <td>0</td>\n",
       "      <td>HDBM_578_None</td>\n",
       "    </tr>\n",
       "    <tr>\n",
       "      <th>27436372</th>\n",
       "      <td>4.823808</td>\n",
       "      <td>3.420130</td>\n",
       "      <td>0.238911</td>\n",
       "      <td>0.181229</td>\n",
       "      <td>0.054774</td>\n",
       "      <td>0.000000</td>\n",
       "      <td>0.000000</td>\n",
       "      <td>0.243584</td>\n",
       "      <td>0.764766</td>\n",
       "      <td>0.069657</td>\n",
       "      <td>...</td>\n",
       "      <td>3.226203</td>\n",
       "      <td>0.000000</td>\n",
       "      <td>0.058953</td>\n",
       "      <td>1.324713</td>\n",
       "      <td>3.528227</td>\n",
       "      <td>0.068169</td>\n",
       "      <td>HDPB_597</td>\n",
       "      <td>None</td>\n",
       "      <td>7</td>\n",
       "      <td>HDPB_597_None</td>\n",
       "    </tr>\n",
       "  </tbody>\n",
       "</table>\n",
       "<p>4276890 rows × 48 columns</p>\n",
       "</div>"
      ],
      "text/plain": [
       "          89Y_CD45  111Cd_CD3  112Cd_CD34  113Cd_CD123  114Cd_CD66b  \\\n",
       "0         2.217051   0.113545    3.317439     0.381279     1.590146   \n",
       "1         3.963797   0.000000    0.311732     0.000000     4.716617   \n",
       "2         2.961751   0.231498    0.041203     0.275047     4.226237   \n",
       "3         3.951971   0.391544    0.030235     1.911737     1.914248   \n",
       "4         3.204973   0.000000    0.002475     0.400668     4.130337   \n",
       "...            ...        ...         ...          ...          ...   \n",
       "27445403  1.795964   0.317917    0.061669     0.000000     4.030856   \n",
       "26434333  1.653278   0.721037    0.000000     0.244350     4.123832   \n",
       "26638016  2.495669   0.705190    0.019936     0.746797     0.531714   \n",
       "26437597  1.818850   0.080734    1.035536     0.029431     4.158769   \n",
       "27436372  4.823808   3.420130    0.238911     0.181229     0.054774   \n",
       "\n",
       "          116Cd_HLA-DR  141Pr_CD38  142Nd_cCaspase3  143Nd_pCRKL Y207  \\\n",
       "0             2.885046    3.629630         0.186837          0.327056   \n",
       "1             0.714334    0.808533         0.152932          0.676452   \n",
       "2             0.250043    0.766132         0.000000          0.075735   \n",
       "3             0.196068    4.125344         0.238149          0.496188   \n",
       "4             0.454735    0.448444         0.079543          0.328764   \n",
       "...                ...         ...              ...               ...   \n",
       "27445403      0.141028    1.313184         0.373752          1.359254   \n",
       "26434333      0.000000    1.093431         0.557464          1.389568   \n",
       "26638016      4.552544    3.624877         0.128357          0.068003   \n",
       "26437597      0.135923    0.728520         0.126227          1.467396   \n",
       "27436372      0.000000    0.000000         0.243584          0.764766   \n",
       "\n",
       "          144Nd_pTyr  ...  173Yb_STAT3tot  174Yb_CD11c  175Lu_CXCR4  \\\n",
       "0           0.842817  ...        2.558300     0.000000     0.953744   \n",
       "1           0.183566  ...        2.994078     1.007841     1.161596   \n",
       "2           1.489841  ...        3.148486     0.135580     0.000000   \n",
       "3           0.466622  ...        2.985532     0.909775     2.843206   \n",
       "4           1.208815  ...        3.489844     0.758197     0.813311   \n",
       "...              ...  ...             ...          ...          ...   \n",
       "27445403    0.123516  ...        3.668734     0.000000     0.915739   \n",
       "26434333    0.860432  ...        4.102405     0.453451     1.400038   \n",
       "26638016    1.405081  ...        2.890788     0.254210     2.613148   \n",
       "26437597    1.024819  ...        3.245868     0.000000     0.716784   \n",
       "27436372    0.069657  ...        3.226203     0.000000     0.058953   \n",
       "\n",
       "          176Yb_pS6 S240244  195Pt_mBC2  209Bi_CD11b  patient_number  \\\n",
       "0                  0.000000    3.512650     0.531857              01   \n",
       "1                  0.040417    3.752279     3.391960              01   \n",
       "2                  0.749384    3.559952     2.233353              01   \n",
       "3                  1.296746    3.968642     0.490613              01   \n",
       "4                  0.877981    2.142285     2.659254              01   \n",
       "...                     ...         ...          ...             ...   \n",
       "27445403           1.549029    4.524221     1.790981        HDPB_597   \n",
       "26434333           1.406475    4.546818     1.848670        HDBM_578   \n",
       "26638016           1.328578    4.285229     0.153277        HDBM_663   \n",
       "26437597           1.692657    4.605637     1.406965        HDBM_578   \n",
       "27436372           1.324713    3.528227     0.068169        HDPB_597   \n",
       "\n",
       "          test_time  cluster         sample  \n",
       "0                 0        9           01_0  \n",
       "1                 0        0           01_0  \n",
       "2                 0        0           01_0  \n",
       "3                 0        4           01_0  \n",
       "4                 0        0           01_0  \n",
       "...             ...      ...            ...  \n",
       "27445403       None        0  HDPB_597_None  \n",
       "26434333       None        0  HDBM_578_None  \n",
       "26638016       None        9  HDBM_663_None  \n",
       "26437597       None        0  HDBM_578_None  \n",
       "27436372       None        7  HDPB_597_None  \n",
       "\n",
       "[4276890 rows x 48 columns]"
      ]
     },
     "execution_count": 76,
     "metadata": {},
     "output_type": "execute_result"
    }
   ],
   "source": [
    "data_test"
   ]
  },
  {
   "cell_type": "code",
   "execution_count": 77,
   "metadata": {},
   "outputs": [
    {
     "data": {
      "text/plain": [
       "cluster\n",
       "2     2139629\n",
       "0     1448559\n",
       "1      174906\n",
       "3      131310\n",
       "4      126294\n",
       "5       94363\n",
       "6       34822\n",
       "12      30806\n",
       "7       27749\n",
       "9       25996\n",
       "8       14516\n",
       "10       7318\n",
       "16       6618\n",
       "13       6579\n",
       "14       3492\n",
       "11       2400\n",
       "18        697\n",
       "17        697\n",
       "15        139\n",
       "Name: count, dtype: int64"
      ]
     },
     "execution_count": 77,
     "metadata": {},
     "output_type": "execute_result"
    }
   ],
   "source": [
    "data_test['cluster'].value_counts()"
   ]
  },
  {
   "cell_type": "code",
   "execution_count": 49,
   "metadata": {},
   "outputs": [
    {
     "data": {
      "text/html": [
       "<style>#sk-container-id-2 {color: black;}#sk-container-id-2 pre{padding: 0;}#sk-container-id-2 div.sk-toggleable {background-color: white;}#sk-container-id-2 label.sk-toggleable__label {cursor: pointer;display: block;width: 100%;margin-bottom: 0;padding: 0.3em;box-sizing: border-box;text-align: center;}#sk-container-id-2 label.sk-toggleable__label-arrow:before {content: \"▸\";float: left;margin-right: 0.25em;color: #696969;}#sk-container-id-2 label.sk-toggleable__label-arrow:hover:before {color: black;}#sk-container-id-2 div.sk-estimator:hover label.sk-toggleable__label-arrow:before {color: black;}#sk-container-id-2 div.sk-toggleable__content {max-height: 0;max-width: 0;overflow: hidden;text-align: left;background-color: #f0f8ff;}#sk-container-id-2 div.sk-toggleable__content pre {margin: 0.2em;color: black;border-radius: 0.25em;background-color: #f0f8ff;}#sk-container-id-2 input.sk-toggleable__control:checked~div.sk-toggleable__content {max-height: 200px;max-width: 100%;overflow: auto;}#sk-container-id-2 input.sk-toggleable__control:checked~label.sk-toggleable__label-arrow:before {content: \"▾\";}#sk-container-id-2 div.sk-estimator input.sk-toggleable__control:checked~label.sk-toggleable__label {background-color: #d4ebff;}#sk-container-id-2 div.sk-label input.sk-toggleable__control:checked~label.sk-toggleable__label {background-color: #d4ebff;}#sk-container-id-2 input.sk-hidden--visually {border: 0;clip: rect(1px 1px 1px 1px);clip: rect(1px, 1px, 1px, 1px);height: 1px;margin: -1px;overflow: hidden;padding: 0;position: absolute;width: 1px;}#sk-container-id-2 div.sk-estimator {font-family: monospace;background-color: #f0f8ff;border: 1px dotted black;border-radius: 0.25em;box-sizing: border-box;margin-bottom: 0.5em;}#sk-container-id-2 div.sk-estimator:hover {background-color: #d4ebff;}#sk-container-id-2 div.sk-parallel-item::after {content: \"\";width: 100%;border-bottom: 1px solid gray;flex-grow: 1;}#sk-container-id-2 div.sk-label:hover label.sk-toggleable__label {background-color: #d4ebff;}#sk-container-id-2 div.sk-serial::before {content: \"\";position: absolute;border-left: 1px solid gray;box-sizing: border-box;top: 0;bottom: 0;left: 50%;z-index: 0;}#sk-container-id-2 div.sk-serial {display: flex;flex-direction: column;align-items: center;background-color: white;padding-right: 0.2em;padding-left: 0.2em;position: relative;}#sk-container-id-2 div.sk-item {position: relative;z-index: 1;}#sk-container-id-2 div.sk-parallel {display: flex;align-items: stretch;justify-content: center;background-color: white;position: relative;}#sk-container-id-2 div.sk-item::before, #sk-container-id-2 div.sk-parallel-item::before {content: \"\";position: absolute;border-left: 1px solid gray;box-sizing: border-box;top: 0;bottom: 0;left: 50%;z-index: -1;}#sk-container-id-2 div.sk-parallel-item {display: flex;flex-direction: column;z-index: 1;position: relative;background-color: white;}#sk-container-id-2 div.sk-parallel-item:first-child::after {align-self: flex-end;width: 50%;}#sk-container-id-2 div.sk-parallel-item:last-child::after {align-self: flex-start;width: 50%;}#sk-container-id-2 div.sk-parallel-item:only-child::after {width: 0;}#sk-container-id-2 div.sk-dashed-wrapped {border: 1px dashed gray;margin: 0 0.4em 0.5em 0.4em;box-sizing: border-box;padding-bottom: 0.4em;background-color: white;}#sk-container-id-2 div.sk-label label {font-family: monospace;font-weight: bold;display: inline-block;line-height: 1.2em;}#sk-container-id-2 div.sk-label-container {text-align: center;}#sk-container-id-2 div.sk-container {/* jupyter's `normalize.less` sets `[hidden] { display: none; }` but bootstrap.min.css set `[hidden] { display: none !important; }` so we also need the `!important` here to be able to override the default hidden behavior on the sphinx rendered scikit-learn.org. See: https://github.com/scikit-learn/scikit-learn/issues/21755 */display: inline-block !important;position: relative;}#sk-container-id-2 div.sk-text-repr-fallback {display: none;}</style><div id=\"sk-container-id-2\" class=\"sk-top-container\"><div class=\"sk-text-repr-fallback\"><pre>RandomForestClassifier()</pre><b>In a Jupyter environment, please rerun this cell to show the HTML representation or trust the notebook. <br />On GitHub, the HTML representation is unable to render, please try loading this page with nbviewer.org.</b></div><div class=\"sk-container\" hidden><div class=\"sk-item\"><div class=\"sk-estimator sk-toggleable\"><input class=\"sk-toggleable__control sk-hidden--visually\" id=\"sk-estimator-id-2\" type=\"checkbox\" checked><label for=\"sk-estimator-id-2\" class=\"sk-toggleable__label sk-toggleable__label-arrow\">RandomForestClassifier</label><div class=\"sk-toggleable__content\"><pre>RandomForestClassifier()</pre></div></div></div></div></div>"
      ],
      "text/plain": [
       "RandomForestClassifier()"
      ]
     },
     "execution_count": 49,
     "metadata": {},
     "output_type": "execute_result"
    }
   ],
   "source": [
    "model_1 = RandomForestClassifier(n_estimators=100)\n",
    "\n",
    "X = data_train[external]\n",
    "y = data_train['cluster']\n",
    "\n",
    "model_1.fit(X, y)"
   ]
  },
  {
   "cell_type": "code",
   "execution_count": 50,
   "metadata": {},
   "outputs": [],
   "source": [
    "X_test = data_test[external]\n",
    "y_test = data_test['cluster']"
   ]
  },
  {
   "cell_type": "code",
   "execution_count": 51,
   "metadata": {},
   "outputs": [
    {
     "data": {
      "text/plain": [
       "0.9359875984652399"
      ]
     },
     "execution_count": 51,
     "metadata": {},
     "output_type": "execute_result"
    }
   ],
   "source": [
    "model_1.score(X_test, y_test)"
   ]
  },
  {
   "cell_type": "code",
   "execution_count": 58,
   "metadata": {},
   "outputs": [],
   "source": [
    "import plotly.express as px\n",
    "from sklearn.metrics import confusion_matrix\n",
    "\n",
    "y_pred = model_1.predict(X_test)"
   ]
  },
  {
   "cell_type": "code",
   "execution_count": 64,
   "metadata": {},
   "outputs": [],
   "source": [
    "cm = confusion_matrix(y_test, y_pred)\n",
    "\n",
    "cm_normalized = cm.astype('float') / cm.sum(axis=1)[:, np.newaxis]\n",
    "\n",
    "class_labels = [str(i) for i in range(19)]"
   ]
  },
  {
   "cell_type": "code",
   "execution_count": 70,
   "metadata": {},
   "outputs": [
    {
     "data": {
      "application/vnd.plotly.v1+json": {
       "config": {
        "plotlyServerURL": "https://plot.ly"
       },
       "data": [
        {
         "coloraxis": "coloraxis",
         "hovertemplate": "Predicted Class: %{x}<br>Actual Class: %{y}<br>Normalized Count: %{z}<extra></extra>",
         "name": "0",
         "texttemplate": "%{z}",
         "type": "heatmap",
         "x": [
          "0",
          "1",
          "2",
          "3",
          "4",
          "5",
          "6",
          "7",
          "8",
          "9",
          "10",
          "11",
          "12",
          "13",
          "14",
          "15",
          "16",
          "17",
          "18"
         ],
         "xaxis": "x",
         "y": [
          "0",
          "1",
          "2",
          "3",
          "4",
          "5",
          "6",
          "7",
          "8",
          "9",
          "10",
          "11",
          "12",
          "13",
          "14",
          "15",
          "16",
          "17",
          "18"
         ],
         "yaxis": "y",
         "z": [
          [
           0.9425463512359524,
           0.002227731145227775,
           0.05480342878681504,
           0.00011597732643268242,
           0.000006903412287659668,
           0.00009250572465463954,
           0,
           0.0000013806824575319335,
           0.000005522729830127734,
           0,
           0,
           0.000004832388601361767,
           0.000006213071058893701,
           0.0001408296106682572,
           0.00004418183864102187,
           0.000003451706143829834,
           0,
           0,
           6.903412287659667e-7
          ],
          [
           0.04747693046550719,
           0.8076509668050267,
           0.14477490766468845,
           0.00005717356751626588,
           0,
           0,
           0,
           0,
           0,
           0,
           0.000005717356751626588,
           0.000011434713503253177,
           0,
           0,
           0.000022869427006506354,
           0,
           0,
           0,
           0
          ],
          [
           0.042741054640781186,
           0.006857263572329596,
           0.9488317834540474,
           0.0006183314957873538,
           0.0003210837018941134,
           0.00012385324745551682,
           0.000005608448941381894,
           0.000002336853725575789,
           0.000004673707451151578,
           0.0002869656375007069,
           0.000002804224470690947,
           0.000002804224470690947,
           0.00016311239004519008,
           0.0000018694829804606313,
           0.000006075819686497052,
           0,
           0.000030379098432485258,
           0,
           0
          ],
          [
           0.0054755921102733985,
           0.00019800472165105475,
           0.011309115832762166,
           0.9799862919808088,
           0.0012184905947757215,
           0.000731094356865433,
           0.0000076155662173482594,
           0,
           0.000015231132434696519,
           0.00038839387708476127,
           0.000015231132434696519,
           0.00002284669865204478,
           0.00025892925138984083,
           0,
           0.00008377122839083086,
           0,
           0.00022085142030309952,
           0,
           0.00006854009595613433
          ],
          [
           0.00008709835780005384,
           0,
           0.003689803157711372,
           0.0013460655296371957,
           0.9900470331132121,
           0.003016770392892774,
           0.000023754097581832866,
           0.000015836065054555244,
           0.00003167213010911049,
           0.0009105737406369265,
           0.000007918032527277622,
           0.00003167213010911049,
           0,
           0,
           0.00026921310592743916,
           0,
           0.0005225901468003231,
           0,
           0
          ],
          [
           0.003613704524018948,
           0.00005298686985365027,
           0.003931625743140849,
           0.00040270021088774203,
           0.0006994266820681835,
           0.9852590528067144,
           0,
           0.000010597373970730053,
           0.0007948030478047539,
           0.0038680414993164693,
           0.00022254485338533113,
           0.0002437396013267912,
           0,
           0,
           0.0006888293080974534,
           0,
           0.00006358424382438032,
           0.00012716848764876063,
           0.000021194747941460106
          ],
          [
           0,
           0,
           0.00022973981965424158,
           0,
           0.000028717477456780197,
           0.000028717477456780197,
           0.9899776003675838,
           0.00878754810177474,
           0.000028717477456780197,
           0,
           0.000028717477456780197,
           0.0008902418011601861,
           0,
           0,
           0,
           0,
           0,
           0,
           0
          ],
          [
           0.00014414933871490865,
           0,
           0.00003603733467872716,
           0,
           0,
           0,
           0.01102742441169051,
           0.9857652528019027,
           0.0013694187177916322,
           0.00003603733467872716,
           0.00007207466935745433,
           0.001333381383112905,
           0.00021622400807236298,
           0,
           0,
           0,
           0,
           0,
           0
          ],
          [
           0.0025489115458804078,
           0,
           0.0016533480297602646,
           0.0006888950124001103,
           0.0002755580049600441,
           0.027349131992284375,
           0.00020666850372003307,
           0.004477817580600716,
           0.9583907412510333,
           0.00020666850372003307,
           0.002342243042160375,
           0.00013777900248002206,
           0.00041333700744006614,
           0,
           0.0013089005235602095,
           0,
           0,
           0,
           0
          ],
          [
           0.0026927219572241883,
           0.0001923372826588706,
           0.06781812586551778,
           0.0015386982612709647,
           0.013617479612248039,
           0.029427604246807203,
           0.00007693491306354824,
           0.00007693491306354824,
           0.00003846745653177412,
           0.8506308662871211,
           0.0004231420218495153,
           0.00003846745653177412,
           0.03169718418218188,
           0.0006154793045083859,
           0.0006154793045083859,
           0,
           0.0003846745653177412,
           0.00011540236959532236,
           0
          ],
          [
           0.004099480732440558,
           0,
           0.00286963651270839,
           0.0012298442197321673,
           0.0008198961464881115,
           0.03812517081169718,
           0.0008198961464881115,
           0.0009565455042361301,
           0.008882208253621208,
           0.0019130910084722602,
           0.9349549057119432,
           0.00040994807324405577,
           0.0010931948619841486,
           0.002323039081716316,
           0.0009565455042361301,
           0,
           0.00027329871549603714,
           0.00013664935774801857,
           0.00013664935774801857
          ],
          [
           0.04416666666666667,
           0,
           0.015833333333333335,
           0.0004166666666666667,
           0.0016666666666666668,
           0.007916666666666667,
           0.0175,
           0.010833333333333334,
           0.0020833333333333333,
           0,
           0.00125,
           0.8954166666666666,
           0,
           0.0004166666666666667,
           0.0025,
           0,
           0,
           0,
           0
          ],
          [
           0.03369473479192365,
           0,
           0.6995065896253977,
           0.02307991949620204,
           0.003992728689216386,
           0.00016230604427708889,
           0.00022722846198792442,
           0.0006167629682529378,
           0.00048691813283126663,
           0.01623060442770889,
           0.00006492241771083555,
           0,
           0.22193728494449133,
           0,
           0,
           0,
           0,
           0,
           0
          ],
          [
           0.6371789025687794,
           0.005775953792369661,
           0.1828545371637027,
           0.00045599635202918376,
           0,
           0.0015199878400972793,
           0,
           0,
           0.0001519987840097279,
           0.0006079951360389116,
           0.0031919744642042863,
           0,
           0,
           0.167046663626691,
           0.0010639914880680955,
           0,
           0,
           0,
           0.0001519987840097279
          ],
          [
           0.1497709049255441,
           0.015463917525773196,
           0.06729667812142039,
           0.023195876288659795,
           0.036368843069874,
           0.04896907216494845,
           0,
           0,
           0.0057273768613974796,
           0.002290950744558992,
           0.001145475372279496,
           0.000859106529209622,
           0,
           0,
           0.6474799541809851,
           0.000572737686139748,
           0.000859106529209622,
           0,
           0
          ],
          [
           0.7985611510791367,
           0,
           0.050359712230215826,
           0,
           0,
           0.007194244604316547,
           0,
           0,
           0.007194244604316547,
           0,
           0.007194244604316547,
           0,
           0,
           0.007194244604316547,
           0.007194244604316547,
           0.1079136690647482,
           0,
           0,
           0.007194244604316547
          ],
          [
           0.00891508008461771,
           0.001964339679661529,
           0.44091870655787246,
           0.06210335448776065,
           0.128739800543971,
           0.01707464490782714,
           0.0006044122091266244,
           0.0006044122091266244,
           0.0009066183136899365,
           0.01783016016923542,
           0.00045330915684496827,
           0.00045330915684496827,
           0,
           0,
           0.0013599274705349048,
           0,
           0.3179208220006044,
           0.0001511030522816561,
           0
          ],
          [
           0,
           0,
           0.0028694404591104736,
           0,
           0.015781922525107604,
           0.43615494978479197,
           0,
           0,
           0.0028694404591104736,
           0.035868005738880916,
           0.03443328550932568,
           0.0014347202295552368,
           0,
           0,
           0.0028694404591104736,
           0,
           0,
           0.46771879483500717,
           0
          ],
          [
           0.30416068866571017,
           0.02295552367288379,
           0.05738880918220947,
           0.22525107604017217,
           0,
           0.08608321377331421,
           0,
           0,
           0.005738880918220947,
           0.0014347202295552368,
           0.007173601147776184,
           0.0014347202295552368,
           0,
           0,
           0.00860832137733142,
           0,
           0,
           0,
           0.2797704447632712
          ]
         ]
        }
       ],
       "layout": {
        "coloraxis": {
         "colorbar": {
          "title": {
           "text": "Normalized Count"
          }
         },
         "colorscale": [
          [
           0,
           "rgb(247,252,245)"
          ],
          [
           0.125,
           "rgb(229,245,224)"
          ],
          [
           0.25,
           "rgb(199,233,192)"
          ],
          [
           0.375,
           "rgb(161,217,155)"
          ],
          [
           0.5,
           "rgb(116,196,118)"
          ],
          [
           0.625,
           "rgb(65,171,93)"
          ],
          [
           0.75,
           "rgb(35,139,69)"
          ],
          [
           0.875,
           "rgb(0,109,44)"
          ],
          [
           1,
           "rgb(0,68,27)"
          ]
         ]
        },
        "margin": {
         "t": 60
        },
        "template": {
         "data": {
          "bar": [
           {
            "error_x": {
             "color": "#2a3f5f"
            },
            "error_y": {
             "color": "#2a3f5f"
            },
            "marker": {
             "line": {
              "color": "#E5ECF6",
              "width": 0.5
             },
             "pattern": {
              "fillmode": "overlay",
              "size": 10,
              "solidity": 0.2
             }
            },
            "type": "bar"
           }
          ],
          "barpolar": [
           {
            "marker": {
             "line": {
              "color": "#E5ECF6",
              "width": 0.5
             },
             "pattern": {
              "fillmode": "overlay",
              "size": 10,
              "solidity": 0.2
             }
            },
            "type": "barpolar"
           }
          ],
          "carpet": [
           {
            "aaxis": {
             "endlinecolor": "#2a3f5f",
             "gridcolor": "white",
             "linecolor": "white",
             "minorgridcolor": "white",
             "startlinecolor": "#2a3f5f"
            },
            "baxis": {
             "endlinecolor": "#2a3f5f",
             "gridcolor": "white",
             "linecolor": "white",
             "minorgridcolor": "white",
             "startlinecolor": "#2a3f5f"
            },
            "type": "carpet"
           }
          ],
          "choropleth": [
           {
            "colorbar": {
             "outlinewidth": 0,
             "ticks": ""
            },
            "type": "choropleth"
           }
          ],
          "contour": [
           {
            "colorbar": {
             "outlinewidth": 0,
             "ticks": ""
            },
            "colorscale": [
             [
              0,
              "#0d0887"
             ],
             [
              0.1111111111111111,
              "#46039f"
             ],
             [
              0.2222222222222222,
              "#7201a8"
             ],
             [
              0.3333333333333333,
              "#9c179e"
             ],
             [
              0.4444444444444444,
              "#bd3786"
             ],
             [
              0.5555555555555556,
              "#d8576b"
             ],
             [
              0.6666666666666666,
              "#ed7953"
             ],
             [
              0.7777777777777778,
              "#fb9f3a"
             ],
             [
              0.8888888888888888,
              "#fdca26"
             ],
             [
              1,
              "#f0f921"
             ]
            ],
            "type": "contour"
           }
          ],
          "contourcarpet": [
           {
            "colorbar": {
             "outlinewidth": 0,
             "ticks": ""
            },
            "type": "contourcarpet"
           }
          ],
          "heatmap": [
           {
            "colorbar": {
             "outlinewidth": 0,
             "ticks": ""
            },
            "colorscale": [
             [
              0,
              "#0d0887"
             ],
             [
              0.1111111111111111,
              "#46039f"
             ],
             [
              0.2222222222222222,
              "#7201a8"
             ],
             [
              0.3333333333333333,
              "#9c179e"
             ],
             [
              0.4444444444444444,
              "#bd3786"
             ],
             [
              0.5555555555555556,
              "#d8576b"
             ],
             [
              0.6666666666666666,
              "#ed7953"
             ],
             [
              0.7777777777777778,
              "#fb9f3a"
             ],
             [
              0.8888888888888888,
              "#fdca26"
             ],
             [
              1,
              "#f0f921"
             ]
            ],
            "type": "heatmap"
           }
          ],
          "heatmapgl": [
           {
            "colorbar": {
             "outlinewidth": 0,
             "ticks": ""
            },
            "colorscale": [
             [
              0,
              "#0d0887"
             ],
             [
              0.1111111111111111,
              "#46039f"
             ],
             [
              0.2222222222222222,
              "#7201a8"
             ],
             [
              0.3333333333333333,
              "#9c179e"
             ],
             [
              0.4444444444444444,
              "#bd3786"
             ],
             [
              0.5555555555555556,
              "#d8576b"
             ],
             [
              0.6666666666666666,
              "#ed7953"
             ],
             [
              0.7777777777777778,
              "#fb9f3a"
             ],
             [
              0.8888888888888888,
              "#fdca26"
             ],
             [
              1,
              "#f0f921"
             ]
            ],
            "type": "heatmapgl"
           }
          ],
          "histogram": [
           {
            "marker": {
             "pattern": {
              "fillmode": "overlay",
              "size": 10,
              "solidity": 0.2
             }
            },
            "type": "histogram"
           }
          ],
          "histogram2d": [
           {
            "colorbar": {
             "outlinewidth": 0,
             "ticks": ""
            },
            "colorscale": [
             [
              0,
              "#0d0887"
             ],
             [
              0.1111111111111111,
              "#46039f"
             ],
             [
              0.2222222222222222,
              "#7201a8"
             ],
             [
              0.3333333333333333,
              "#9c179e"
             ],
             [
              0.4444444444444444,
              "#bd3786"
             ],
             [
              0.5555555555555556,
              "#d8576b"
             ],
             [
              0.6666666666666666,
              "#ed7953"
             ],
             [
              0.7777777777777778,
              "#fb9f3a"
             ],
             [
              0.8888888888888888,
              "#fdca26"
             ],
             [
              1,
              "#f0f921"
             ]
            ],
            "type": "histogram2d"
           }
          ],
          "histogram2dcontour": [
           {
            "colorbar": {
             "outlinewidth": 0,
             "ticks": ""
            },
            "colorscale": [
             [
              0,
              "#0d0887"
             ],
             [
              0.1111111111111111,
              "#46039f"
             ],
             [
              0.2222222222222222,
              "#7201a8"
             ],
             [
              0.3333333333333333,
              "#9c179e"
             ],
             [
              0.4444444444444444,
              "#bd3786"
             ],
             [
              0.5555555555555556,
              "#d8576b"
             ],
             [
              0.6666666666666666,
              "#ed7953"
             ],
             [
              0.7777777777777778,
              "#fb9f3a"
             ],
             [
              0.8888888888888888,
              "#fdca26"
             ],
             [
              1,
              "#f0f921"
             ]
            ],
            "type": "histogram2dcontour"
           }
          ],
          "mesh3d": [
           {
            "colorbar": {
             "outlinewidth": 0,
             "ticks": ""
            },
            "type": "mesh3d"
           }
          ],
          "parcoords": [
           {
            "line": {
             "colorbar": {
              "outlinewidth": 0,
              "ticks": ""
             }
            },
            "type": "parcoords"
           }
          ],
          "pie": [
           {
            "automargin": true,
            "type": "pie"
           }
          ],
          "scatter": [
           {
            "fillpattern": {
             "fillmode": "overlay",
             "size": 10,
             "solidity": 0.2
            },
            "type": "scatter"
           }
          ],
          "scatter3d": [
           {
            "line": {
             "colorbar": {
              "outlinewidth": 0,
              "ticks": ""
             }
            },
            "marker": {
             "colorbar": {
              "outlinewidth": 0,
              "ticks": ""
             }
            },
            "type": "scatter3d"
           }
          ],
          "scattercarpet": [
           {
            "marker": {
             "colorbar": {
              "outlinewidth": 0,
              "ticks": ""
             }
            },
            "type": "scattercarpet"
           }
          ],
          "scattergeo": [
           {
            "marker": {
             "colorbar": {
              "outlinewidth": 0,
              "ticks": ""
             }
            },
            "type": "scattergeo"
           }
          ],
          "scattergl": [
           {
            "marker": {
             "colorbar": {
              "outlinewidth": 0,
              "ticks": ""
             }
            },
            "type": "scattergl"
           }
          ],
          "scattermapbox": [
           {
            "marker": {
             "colorbar": {
              "outlinewidth": 0,
              "ticks": ""
             }
            },
            "type": "scattermapbox"
           }
          ],
          "scatterpolar": [
           {
            "marker": {
             "colorbar": {
              "outlinewidth": 0,
              "ticks": ""
             }
            },
            "type": "scatterpolar"
           }
          ],
          "scatterpolargl": [
           {
            "marker": {
             "colorbar": {
              "outlinewidth": 0,
              "ticks": ""
             }
            },
            "type": "scatterpolargl"
           }
          ],
          "scatterternary": [
           {
            "marker": {
             "colorbar": {
              "outlinewidth": 0,
              "ticks": ""
             }
            },
            "type": "scatterternary"
           }
          ],
          "surface": [
           {
            "colorbar": {
             "outlinewidth": 0,
             "ticks": ""
            },
            "colorscale": [
             [
              0,
              "#0d0887"
             ],
             [
              0.1111111111111111,
              "#46039f"
             ],
             [
              0.2222222222222222,
              "#7201a8"
             ],
             [
              0.3333333333333333,
              "#9c179e"
             ],
             [
              0.4444444444444444,
              "#bd3786"
             ],
             [
              0.5555555555555556,
              "#d8576b"
             ],
             [
              0.6666666666666666,
              "#ed7953"
             ],
             [
              0.7777777777777778,
              "#fb9f3a"
             ],
             [
              0.8888888888888888,
              "#fdca26"
             ],
             [
              1,
              "#f0f921"
             ]
            ],
            "type": "surface"
           }
          ],
          "table": [
           {
            "cells": {
             "fill": {
              "color": "#EBF0F8"
             },
             "line": {
              "color": "white"
             }
            },
            "header": {
             "fill": {
              "color": "#C8D4E3"
             },
             "line": {
              "color": "white"
             }
            },
            "type": "table"
           }
          ]
         },
         "layout": {
          "annotationdefaults": {
           "arrowcolor": "#2a3f5f",
           "arrowhead": 0,
           "arrowwidth": 1
          },
          "autotypenumbers": "strict",
          "coloraxis": {
           "colorbar": {
            "outlinewidth": 0,
            "ticks": ""
           }
          },
          "colorscale": {
           "diverging": [
            [
             0,
             "#8e0152"
            ],
            [
             0.1,
             "#c51b7d"
            ],
            [
             0.2,
             "#de77ae"
            ],
            [
             0.3,
             "#f1b6da"
            ],
            [
             0.4,
             "#fde0ef"
            ],
            [
             0.5,
             "#f7f7f7"
            ],
            [
             0.6,
             "#e6f5d0"
            ],
            [
             0.7,
             "#b8e186"
            ],
            [
             0.8,
             "#7fbc41"
            ],
            [
             0.9,
             "#4d9221"
            ],
            [
             1,
             "#276419"
            ]
           ],
           "sequential": [
            [
             0,
             "#0d0887"
            ],
            [
             0.1111111111111111,
             "#46039f"
            ],
            [
             0.2222222222222222,
             "#7201a8"
            ],
            [
             0.3333333333333333,
             "#9c179e"
            ],
            [
             0.4444444444444444,
             "#bd3786"
            ],
            [
             0.5555555555555556,
             "#d8576b"
            ],
            [
             0.6666666666666666,
             "#ed7953"
            ],
            [
             0.7777777777777778,
             "#fb9f3a"
            ],
            [
             0.8888888888888888,
             "#fdca26"
            ],
            [
             1,
             "#f0f921"
            ]
           ],
           "sequentialminus": [
            [
             0,
             "#0d0887"
            ],
            [
             0.1111111111111111,
             "#46039f"
            ],
            [
             0.2222222222222222,
             "#7201a8"
            ],
            [
             0.3333333333333333,
             "#9c179e"
            ],
            [
             0.4444444444444444,
             "#bd3786"
            ],
            [
             0.5555555555555556,
             "#d8576b"
            ],
            [
             0.6666666666666666,
             "#ed7953"
            ],
            [
             0.7777777777777778,
             "#fb9f3a"
            ],
            [
             0.8888888888888888,
             "#fdca26"
            ],
            [
             1,
             "#f0f921"
            ]
           ]
          },
          "colorway": [
           "#636efa",
           "#EF553B",
           "#00cc96",
           "#ab63fa",
           "#FFA15A",
           "#19d3f3",
           "#FF6692",
           "#B6E880",
           "#FF97FF",
           "#FECB52"
          ],
          "font": {
           "color": "#2a3f5f"
          },
          "geo": {
           "bgcolor": "white",
           "lakecolor": "white",
           "landcolor": "#E5ECF6",
           "showlakes": true,
           "showland": true,
           "subunitcolor": "white"
          },
          "hoverlabel": {
           "align": "left"
          },
          "hovermode": "closest",
          "mapbox": {
           "style": "light"
          },
          "paper_bgcolor": "white",
          "plot_bgcolor": "#E5ECF6",
          "polar": {
           "angularaxis": {
            "gridcolor": "white",
            "linecolor": "white",
            "ticks": ""
           },
           "bgcolor": "#E5ECF6",
           "radialaxis": {
            "gridcolor": "white",
            "linecolor": "white",
            "ticks": ""
           }
          },
          "scene": {
           "xaxis": {
            "backgroundcolor": "#E5ECF6",
            "gridcolor": "white",
            "gridwidth": 2,
            "linecolor": "white",
            "showbackground": true,
            "ticks": "",
            "zerolinecolor": "white"
           },
           "yaxis": {
            "backgroundcolor": "#E5ECF6",
            "gridcolor": "white",
            "gridwidth": 2,
            "linecolor": "white",
            "showbackground": true,
            "ticks": "",
            "zerolinecolor": "white"
           },
           "zaxis": {
            "backgroundcolor": "#E5ECF6",
            "gridcolor": "white",
            "gridwidth": 2,
            "linecolor": "white",
            "showbackground": true,
            "ticks": "",
            "zerolinecolor": "white"
           }
          },
          "shapedefaults": {
           "line": {
            "color": "#2a3f5f"
           }
          },
          "ternary": {
           "aaxis": {
            "gridcolor": "white",
            "linecolor": "white",
            "ticks": ""
           },
           "baxis": {
            "gridcolor": "white",
            "linecolor": "white",
            "ticks": ""
           },
           "bgcolor": "#E5ECF6",
           "caxis": {
            "gridcolor": "white",
            "linecolor": "white",
            "ticks": ""
           }
          },
          "title": {
           "x": 0.05
          },
          "xaxis": {
           "automargin": true,
           "gridcolor": "white",
           "linecolor": "white",
           "ticks": "",
           "title": {
            "standoff": 15
           },
           "zerolinecolor": "white",
           "zerolinewidth": 2
          },
          "yaxis": {
           "automargin": true,
           "gridcolor": "white",
           "linecolor": "white",
           "ticks": "",
           "title": {
            "standoff": 15
           },
           "zerolinecolor": "white",
           "zerolinewidth": 2
          }
         }
        },
        "title": {
         "text": "Normalized Confusion  for the annotated model"
        },
        "xaxis": {
         "anchor": "y",
         "constrain": "domain",
         "domain": [
          0,
          1
         ],
         "scaleanchor": "y",
         "title": {
          "text": "Predicted Class"
         }
        },
        "yaxis": {
         "anchor": "x",
         "autorange": "reversed",
         "constrain": "domain",
         "domain": [
          0,
          1
         ],
         "title": {
          "text": "Actual Class"
         }
        }
       }
      },
      "text/html": [
       "<div>                            <div id=\"e8f39474-5b00-449d-9da5-14fe789ccdd9\" class=\"plotly-graph-div\" style=\"height:525px; width:100%;\"></div>            <script type=\"text/javascript\">                require([\"plotly\"], function(Plotly) {                    window.PLOTLYENV=window.PLOTLYENV || {};                                    if (document.getElementById(\"e8f39474-5b00-449d-9da5-14fe789ccdd9\")) {                    Plotly.newPlot(                        \"e8f39474-5b00-449d-9da5-14fe789ccdd9\",                        [{\"coloraxis\":\"coloraxis\",\"name\":\"0\",\"texttemplate\":\"%{z}\",\"x\":[\"0\",\"1\",\"2\",\"3\",\"4\",\"5\",\"6\",\"7\",\"8\",\"9\",\"10\",\"11\",\"12\",\"13\",\"14\",\"15\",\"16\",\"17\",\"18\"],\"y\":[\"0\",\"1\",\"2\",\"3\",\"4\",\"5\",\"6\",\"7\",\"8\",\"9\",\"10\",\"11\",\"12\",\"13\",\"14\",\"15\",\"16\",\"17\",\"18\"],\"z\":[[0.9425463512359524,0.002227731145227775,0.05480342878681504,0.00011597732643268242,6.903412287659668e-06,9.250572465463954e-05,0.0,1.3806824575319335e-06,5.522729830127734e-06,0.0,0.0,4.832388601361767e-06,6.213071058893701e-06,0.0001408296106682572,4.418183864102187e-05,3.451706143829834e-06,0.0,0.0,6.903412287659667e-07],[0.04747693046550719,0.8076509668050267,0.14477490766468845,5.717356751626588e-05,0.0,0.0,0.0,0.0,0.0,0.0,5.717356751626588e-06,1.1434713503253177e-05,0.0,0.0,2.2869427006506354e-05,0.0,0.0,0.0,0.0],[0.042741054640781186,0.006857263572329596,0.9488317834540474,0.0006183314957873538,0.0003210837018941134,0.00012385324745551682,5.608448941381894e-06,2.336853725575789e-06,4.673707451151578e-06,0.0002869656375007069,2.804224470690947e-06,2.804224470690947e-06,0.00016311239004519008,1.8694829804606313e-06,6.075819686497052e-06,0.0,3.0379098432485258e-05,0.0,0.0],[0.0054755921102733985,0.00019800472165105475,0.011309115832762166,0.9799862919808088,0.0012184905947757215,0.000731094356865433,7.6155662173482594e-06,0.0,1.5231132434696519e-05,0.00038839387708476127,1.5231132434696519e-05,2.284669865204478e-05,0.00025892925138984083,0.0,8.377122839083086e-05,0.0,0.00022085142030309952,0.0,6.854009595613433e-05],[8.709835780005384e-05,0.0,0.003689803157711372,0.0013460655296371957,0.9900470331132121,0.003016770392892774,2.3754097581832866e-05,1.5836065054555244e-05,3.167213010911049e-05,0.0009105737406369265,7.918032527277622e-06,3.167213010911049e-05,0.0,0.0,0.00026921310592743916,0.0,0.0005225901468003231,0.0,0.0],[0.003613704524018948,5.298686985365027e-05,0.003931625743140849,0.00040270021088774203,0.0006994266820681835,0.9852590528067144,0.0,1.0597373970730053e-05,0.0007948030478047539,0.0038680414993164693,0.00022254485338533113,0.0002437396013267912,0.0,0.0,0.0006888293080974534,0.0,6.358424382438032e-05,0.00012716848764876063,2.1194747941460106e-05],[0.0,0.0,0.00022973981965424158,0.0,2.8717477456780197e-05,2.8717477456780197e-05,0.9899776003675838,0.00878754810177474,2.8717477456780197e-05,0.0,2.8717477456780197e-05,0.0008902418011601861,0.0,0.0,0.0,0.0,0.0,0.0,0.0],[0.00014414933871490865,0.0,3.603733467872716e-05,0.0,0.0,0.0,0.01102742441169051,0.9857652528019027,0.0013694187177916322,3.603733467872716e-05,7.207466935745433e-05,0.001333381383112905,0.00021622400807236298,0.0,0.0,0.0,0.0,0.0,0.0],[0.0025489115458804078,0.0,0.0016533480297602646,0.0006888950124001103,0.0002755580049600441,0.027349131992284375,0.00020666850372003307,0.004477817580600716,0.9583907412510333,0.00020666850372003307,0.002342243042160375,0.00013777900248002206,0.00041333700744006614,0.0,0.0013089005235602095,0.0,0.0,0.0,0.0],[0.0026927219572241883,0.0001923372826588706,0.06781812586551778,0.0015386982612709647,0.013617479612248039,0.029427604246807203,7.693491306354824e-05,7.693491306354824e-05,3.846745653177412e-05,0.8506308662871211,0.0004231420218495153,3.846745653177412e-05,0.03169718418218188,0.0006154793045083859,0.0006154793045083859,0.0,0.0003846745653177412,0.00011540236959532236,0.0],[0.004099480732440558,0.0,0.00286963651270839,0.0012298442197321673,0.0008198961464881115,0.03812517081169718,0.0008198961464881115,0.0009565455042361301,0.008882208253621208,0.0019130910084722602,0.9349549057119432,0.00040994807324405577,0.0010931948619841486,0.002323039081716316,0.0009565455042361301,0.0,0.00027329871549603714,0.00013664935774801857,0.00013664935774801857],[0.04416666666666667,0.0,0.015833333333333335,0.0004166666666666667,0.0016666666666666668,0.007916666666666667,0.0175,0.010833333333333334,0.0020833333333333333,0.0,0.00125,0.8954166666666666,0.0,0.0004166666666666667,0.0025,0.0,0.0,0.0,0.0],[0.03369473479192365,0.0,0.6995065896253977,0.02307991949620204,0.003992728689216386,0.00016230604427708889,0.00022722846198792442,0.0006167629682529378,0.00048691813283126663,0.01623060442770889,6.492241771083555e-05,0.0,0.22193728494449133,0.0,0.0,0.0,0.0,0.0,0.0],[0.6371789025687794,0.005775953792369661,0.1828545371637027,0.00045599635202918376,0.0,0.0015199878400972793,0.0,0.0,0.0001519987840097279,0.0006079951360389116,0.0031919744642042863,0.0,0.0,0.167046663626691,0.0010639914880680955,0.0,0.0,0.0,0.0001519987840097279],[0.1497709049255441,0.015463917525773196,0.06729667812142039,0.023195876288659795,0.036368843069874,0.04896907216494845,0.0,0.0,0.0057273768613974796,0.002290950744558992,0.001145475372279496,0.000859106529209622,0.0,0.0,0.6474799541809851,0.000572737686139748,0.000859106529209622,0.0,0.0],[0.7985611510791367,0.0,0.050359712230215826,0.0,0.0,0.007194244604316547,0.0,0.0,0.007194244604316547,0.0,0.007194244604316547,0.0,0.0,0.007194244604316547,0.007194244604316547,0.1079136690647482,0.0,0.0,0.007194244604316547],[0.00891508008461771,0.001964339679661529,0.44091870655787246,0.06210335448776065,0.128739800543971,0.01707464490782714,0.0006044122091266244,0.0006044122091266244,0.0009066183136899365,0.01783016016923542,0.00045330915684496827,0.00045330915684496827,0.0,0.0,0.0013599274705349048,0.0,0.3179208220006044,0.0001511030522816561,0.0],[0.0,0.0,0.0028694404591104736,0.0,0.015781922525107604,0.43615494978479197,0.0,0.0,0.0028694404591104736,0.035868005738880916,0.03443328550932568,0.0014347202295552368,0.0,0.0,0.0028694404591104736,0.0,0.0,0.46771879483500717,0.0],[0.30416068866571017,0.02295552367288379,0.05738880918220947,0.22525107604017217,0.0,0.08608321377331421,0.0,0.0,0.005738880918220947,0.0014347202295552368,0.007173601147776184,0.0014347202295552368,0.0,0.0,0.00860832137733142,0.0,0.0,0.0,0.2797704447632712]],\"type\":\"heatmap\",\"xaxis\":\"x\",\"yaxis\":\"y\",\"hovertemplate\":\"Predicted Class: %{x}\\u003cbr\\u003eActual Class: %{y}\\u003cbr\\u003eNormalized Count: %{z}\\u003cextra\\u003e\\u003c\\u002fextra\\u003e\"}],                        {\"template\":{\"data\":{\"histogram2dcontour\":[{\"type\":\"histogram2dcontour\",\"colorbar\":{\"outlinewidth\":0,\"ticks\":\"\"},\"colorscale\":[[0.0,\"#0d0887\"],[0.1111111111111111,\"#46039f\"],[0.2222222222222222,\"#7201a8\"],[0.3333333333333333,\"#9c179e\"],[0.4444444444444444,\"#bd3786\"],[0.5555555555555556,\"#d8576b\"],[0.6666666666666666,\"#ed7953\"],[0.7777777777777778,\"#fb9f3a\"],[0.8888888888888888,\"#fdca26\"],[1.0,\"#f0f921\"]]}],\"choropleth\":[{\"type\":\"choropleth\",\"colorbar\":{\"outlinewidth\":0,\"ticks\":\"\"}}],\"histogram2d\":[{\"type\":\"histogram2d\",\"colorbar\":{\"outlinewidth\":0,\"ticks\":\"\"},\"colorscale\":[[0.0,\"#0d0887\"],[0.1111111111111111,\"#46039f\"],[0.2222222222222222,\"#7201a8\"],[0.3333333333333333,\"#9c179e\"],[0.4444444444444444,\"#bd3786\"],[0.5555555555555556,\"#d8576b\"],[0.6666666666666666,\"#ed7953\"],[0.7777777777777778,\"#fb9f3a\"],[0.8888888888888888,\"#fdca26\"],[1.0,\"#f0f921\"]]}],\"heatmap\":[{\"type\":\"heatmap\",\"colorbar\":{\"outlinewidth\":0,\"ticks\":\"\"},\"colorscale\":[[0.0,\"#0d0887\"],[0.1111111111111111,\"#46039f\"],[0.2222222222222222,\"#7201a8\"],[0.3333333333333333,\"#9c179e\"],[0.4444444444444444,\"#bd3786\"],[0.5555555555555556,\"#d8576b\"],[0.6666666666666666,\"#ed7953\"],[0.7777777777777778,\"#fb9f3a\"],[0.8888888888888888,\"#fdca26\"],[1.0,\"#f0f921\"]]}],\"heatmapgl\":[{\"type\":\"heatmapgl\",\"colorbar\":{\"outlinewidth\":0,\"ticks\":\"\"},\"colorscale\":[[0.0,\"#0d0887\"],[0.1111111111111111,\"#46039f\"],[0.2222222222222222,\"#7201a8\"],[0.3333333333333333,\"#9c179e\"],[0.4444444444444444,\"#bd3786\"],[0.5555555555555556,\"#d8576b\"],[0.6666666666666666,\"#ed7953\"],[0.7777777777777778,\"#fb9f3a\"],[0.8888888888888888,\"#fdca26\"],[1.0,\"#f0f921\"]]}],\"contourcarpet\":[{\"type\":\"contourcarpet\",\"colorbar\":{\"outlinewidth\":0,\"ticks\":\"\"}}],\"contour\":[{\"type\":\"contour\",\"colorbar\":{\"outlinewidth\":0,\"ticks\":\"\"},\"colorscale\":[[0.0,\"#0d0887\"],[0.1111111111111111,\"#46039f\"],[0.2222222222222222,\"#7201a8\"],[0.3333333333333333,\"#9c179e\"],[0.4444444444444444,\"#bd3786\"],[0.5555555555555556,\"#d8576b\"],[0.6666666666666666,\"#ed7953\"],[0.7777777777777778,\"#fb9f3a\"],[0.8888888888888888,\"#fdca26\"],[1.0,\"#f0f921\"]]}],\"surface\":[{\"type\":\"surface\",\"colorbar\":{\"outlinewidth\":0,\"ticks\":\"\"},\"colorscale\":[[0.0,\"#0d0887\"],[0.1111111111111111,\"#46039f\"],[0.2222222222222222,\"#7201a8\"],[0.3333333333333333,\"#9c179e\"],[0.4444444444444444,\"#bd3786\"],[0.5555555555555556,\"#d8576b\"],[0.6666666666666666,\"#ed7953\"],[0.7777777777777778,\"#fb9f3a\"],[0.8888888888888888,\"#fdca26\"],[1.0,\"#f0f921\"]]}],\"mesh3d\":[{\"type\":\"mesh3d\",\"colorbar\":{\"outlinewidth\":0,\"ticks\":\"\"}}],\"scatter\":[{\"fillpattern\":{\"fillmode\":\"overlay\",\"size\":10,\"solidity\":0.2},\"type\":\"scatter\"}],\"parcoords\":[{\"type\":\"parcoords\",\"line\":{\"colorbar\":{\"outlinewidth\":0,\"ticks\":\"\"}}}],\"scatterpolargl\":[{\"type\":\"scatterpolargl\",\"marker\":{\"colorbar\":{\"outlinewidth\":0,\"ticks\":\"\"}}}],\"bar\":[{\"error_x\":{\"color\":\"#2a3f5f\"},\"error_y\":{\"color\":\"#2a3f5f\"},\"marker\":{\"line\":{\"color\":\"#E5ECF6\",\"width\":0.5},\"pattern\":{\"fillmode\":\"overlay\",\"size\":10,\"solidity\":0.2}},\"type\":\"bar\"}],\"scattergeo\":[{\"type\":\"scattergeo\",\"marker\":{\"colorbar\":{\"outlinewidth\":0,\"ticks\":\"\"}}}],\"scatterpolar\":[{\"type\":\"scatterpolar\",\"marker\":{\"colorbar\":{\"outlinewidth\":0,\"ticks\":\"\"}}}],\"histogram\":[{\"marker\":{\"pattern\":{\"fillmode\":\"overlay\",\"size\":10,\"solidity\":0.2}},\"type\":\"histogram\"}],\"scattergl\":[{\"type\":\"scattergl\",\"marker\":{\"colorbar\":{\"outlinewidth\":0,\"ticks\":\"\"}}}],\"scatter3d\":[{\"type\":\"scatter3d\",\"line\":{\"colorbar\":{\"outlinewidth\":0,\"ticks\":\"\"}},\"marker\":{\"colorbar\":{\"outlinewidth\":0,\"ticks\":\"\"}}}],\"scattermapbox\":[{\"type\":\"scattermapbox\",\"marker\":{\"colorbar\":{\"outlinewidth\":0,\"ticks\":\"\"}}}],\"scatterternary\":[{\"type\":\"scatterternary\",\"marker\":{\"colorbar\":{\"outlinewidth\":0,\"ticks\":\"\"}}}],\"scattercarpet\":[{\"type\":\"scattercarpet\",\"marker\":{\"colorbar\":{\"outlinewidth\":0,\"ticks\":\"\"}}}],\"carpet\":[{\"aaxis\":{\"endlinecolor\":\"#2a3f5f\",\"gridcolor\":\"white\",\"linecolor\":\"white\",\"minorgridcolor\":\"white\",\"startlinecolor\":\"#2a3f5f\"},\"baxis\":{\"endlinecolor\":\"#2a3f5f\",\"gridcolor\":\"white\",\"linecolor\":\"white\",\"minorgridcolor\":\"white\",\"startlinecolor\":\"#2a3f5f\"},\"type\":\"carpet\"}],\"table\":[{\"cells\":{\"fill\":{\"color\":\"#EBF0F8\"},\"line\":{\"color\":\"white\"}},\"header\":{\"fill\":{\"color\":\"#C8D4E3\"},\"line\":{\"color\":\"white\"}},\"type\":\"table\"}],\"barpolar\":[{\"marker\":{\"line\":{\"color\":\"#E5ECF6\",\"width\":0.5},\"pattern\":{\"fillmode\":\"overlay\",\"size\":10,\"solidity\":0.2}},\"type\":\"barpolar\"}],\"pie\":[{\"automargin\":true,\"type\":\"pie\"}]},\"layout\":{\"autotypenumbers\":\"strict\",\"colorway\":[\"#636efa\",\"#EF553B\",\"#00cc96\",\"#ab63fa\",\"#FFA15A\",\"#19d3f3\",\"#FF6692\",\"#B6E880\",\"#FF97FF\",\"#FECB52\"],\"font\":{\"color\":\"#2a3f5f\"},\"hovermode\":\"closest\",\"hoverlabel\":{\"align\":\"left\"},\"paper_bgcolor\":\"white\",\"plot_bgcolor\":\"#E5ECF6\",\"polar\":{\"bgcolor\":\"#E5ECF6\",\"angularaxis\":{\"gridcolor\":\"white\",\"linecolor\":\"white\",\"ticks\":\"\"},\"radialaxis\":{\"gridcolor\":\"white\",\"linecolor\":\"white\",\"ticks\":\"\"}},\"ternary\":{\"bgcolor\":\"#E5ECF6\",\"aaxis\":{\"gridcolor\":\"white\",\"linecolor\":\"white\",\"ticks\":\"\"},\"baxis\":{\"gridcolor\":\"white\",\"linecolor\":\"white\",\"ticks\":\"\"},\"caxis\":{\"gridcolor\":\"white\",\"linecolor\":\"white\",\"ticks\":\"\"}},\"coloraxis\":{\"colorbar\":{\"outlinewidth\":0,\"ticks\":\"\"}},\"colorscale\":{\"sequential\":[[0.0,\"#0d0887\"],[0.1111111111111111,\"#46039f\"],[0.2222222222222222,\"#7201a8\"],[0.3333333333333333,\"#9c179e\"],[0.4444444444444444,\"#bd3786\"],[0.5555555555555556,\"#d8576b\"],[0.6666666666666666,\"#ed7953\"],[0.7777777777777778,\"#fb9f3a\"],[0.8888888888888888,\"#fdca26\"],[1.0,\"#f0f921\"]],\"sequentialminus\":[[0.0,\"#0d0887\"],[0.1111111111111111,\"#46039f\"],[0.2222222222222222,\"#7201a8\"],[0.3333333333333333,\"#9c179e\"],[0.4444444444444444,\"#bd3786\"],[0.5555555555555556,\"#d8576b\"],[0.6666666666666666,\"#ed7953\"],[0.7777777777777778,\"#fb9f3a\"],[0.8888888888888888,\"#fdca26\"],[1.0,\"#f0f921\"]],\"diverging\":[[0,\"#8e0152\"],[0.1,\"#c51b7d\"],[0.2,\"#de77ae\"],[0.3,\"#f1b6da\"],[0.4,\"#fde0ef\"],[0.5,\"#f7f7f7\"],[0.6,\"#e6f5d0\"],[0.7,\"#b8e186\"],[0.8,\"#7fbc41\"],[0.9,\"#4d9221\"],[1,\"#276419\"]]},\"xaxis\":{\"gridcolor\":\"white\",\"linecolor\":\"white\",\"ticks\":\"\",\"title\":{\"standoff\":15},\"zerolinecolor\":\"white\",\"automargin\":true,\"zerolinewidth\":2},\"yaxis\":{\"gridcolor\":\"white\",\"linecolor\":\"white\",\"ticks\":\"\",\"title\":{\"standoff\":15},\"zerolinecolor\":\"white\",\"automargin\":true,\"zerolinewidth\":2},\"scene\":{\"xaxis\":{\"backgroundcolor\":\"#E5ECF6\",\"gridcolor\":\"white\",\"linecolor\":\"white\",\"showbackground\":true,\"ticks\":\"\",\"zerolinecolor\":\"white\",\"gridwidth\":2},\"yaxis\":{\"backgroundcolor\":\"#E5ECF6\",\"gridcolor\":\"white\",\"linecolor\":\"white\",\"showbackground\":true,\"ticks\":\"\",\"zerolinecolor\":\"white\",\"gridwidth\":2},\"zaxis\":{\"backgroundcolor\":\"#E5ECF6\",\"gridcolor\":\"white\",\"linecolor\":\"white\",\"showbackground\":true,\"ticks\":\"\",\"zerolinecolor\":\"white\",\"gridwidth\":2}},\"shapedefaults\":{\"line\":{\"color\":\"#2a3f5f\"}},\"annotationdefaults\":{\"arrowcolor\":\"#2a3f5f\",\"arrowhead\":0,\"arrowwidth\":1},\"geo\":{\"bgcolor\":\"white\",\"landcolor\":\"#E5ECF6\",\"subunitcolor\":\"white\",\"showland\":true,\"showlakes\":true,\"lakecolor\":\"white\"},\"title\":{\"x\":0.05},\"mapbox\":{\"style\":\"light\"}}},\"xaxis\":{\"anchor\":\"y\",\"domain\":[0.0,1.0],\"scaleanchor\":\"y\",\"constrain\":\"domain\",\"title\":{\"text\":\"Predicted Class\"}},\"yaxis\":{\"anchor\":\"x\",\"domain\":[0.0,1.0],\"autorange\":\"reversed\",\"constrain\":\"domain\",\"title\":{\"text\":\"Actual Class\"}},\"coloraxis\":{\"colorbar\":{\"title\":{\"text\":\"Normalized Count\"}},\"colorscale\":[[0.0,\"rgb(247,252,245)\"],[0.125,\"rgb(229,245,224)\"],[0.25,\"rgb(199,233,192)\"],[0.375,\"rgb(161,217,155)\"],[0.5,\"rgb(116,196,118)\"],[0.625,\"rgb(65,171,93)\"],[0.75,\"rgb(35,139,69)\"],[0.875,\"rgb(0,109,44)\"],[1.0,\"rgb(0,68,27)\"]]},\"margin\":{\"t\":60},\"title\":{\"text\":\"Normalized Confusion  for the annotated model\"}},                        {\"responsive\": true}                    ).then(function(){\n",
       "                            \n",
       "var gd = document.getElementById('e8f39474-5b00-449d-9da5-14fe789ccdd9');\n",
       "var x = new MutationObserver(function (mutations, observer) {{\n",
       "        var display = window.getComputedStyle(gd).display;\n",
       "        if (!display || display === 'none') {{\n",
       "            console.log([gd, 'removed!']);\n",
       "            Plotly.purge(gd);\n",
       "            observer.disconnect();\n",
       "        }}\n",
       "}});\n",
       "\n",
       "// Listen for the removal of the full notebook cells\n",
       "var notebookContainer = gd.closest('#notebook-container');\n",
       "if (notebookContainer) {{\n",
       "    x.observe(notebookContainer, {childList: true});\n",
       "}}\n",
       "\n",
       "// Listen for the clearing of the current output cell\n",
       "var outputEl = gd.closest('.output');\n",
       "if (outputEl) {{\n",
       "    x.observe(outputEl, {childList: true});\n",
       "}}\n",
       "\n",
       "                        })                };                });            </script>        </div>"
      ]
     },
     "metadata": {},
     "output_type": "display_data"
    }
   ],
   "source": [
    "import plotly.express as px\n",
    "\n",
    "fig = px.imshow(\n",
    "    cm_normalized,\n",
    "    text_auto=True,\n",
    "    labels=dict(x=\"Predicted Class\", y=\"Actual Class\", color=\"Normalized Count\"),\n",
    "    x=class_labels,\n",
    "    y=class_labels,\n",
    "    color_continuous_scale='Greens'\n",
    ")\n",
    "\n",
    "fig.update_layout(\n",
    "    title=\"Normalized Confusion  for the annotated model\",\n",
    "    xaxis_title=\"Predicted Class\",\n",
    "    yaxis_title=\"Actual Class\"\n",
    ")\n",
    "\n",
    "fig.show()\n"
   ]
  },
  {
   "cell_type": "code",
   "execution_count": 73,
   "metadata": {},
   "outputs": [
    {
     "data": {
      "application/vnd.plotly.v1+json": {
       "config": {
        "plotlyServerURL": "https://plot.ly"
       },
       "data": [
        {
         "colorscale": [
          [
           0,
           "rgb(247,252,245)"
          ],
          [
           0.125,
           "rgb(229,245,224)"
          ],
          [
           0.25,
           "rgb(199,233,192)"
          ],
          [
           0.375,
           "rgb(161,217,155)"
          ],
          [
           0.5,
           "rgb(116,196,118)"
          ],
          [
           0.625,
           "rgb(65,171,93)"
          ],
          [
           0.75,
           "rgb(35,139,69)"
          ],
          [
           0.875,
           "rgb(0,109,44)"
          ],
          [
           1,
           "rgb(0,68,27)"
          ]
         ],
         "showscale": true,
         "text": [
          [
           1365334,
           3227,
           79386,
           168,
           10,
           134,
           0,
           2,
           8,
           0,
           0,
           7,
           9,
           204,
           64,
           5,
           0,
           0,
           1
          ],
          [
           8304,
           141263,
           25322,
           10,
           0,
           0,
           0,
           0,
           0,
           0,
           1,
           2,
           0,
           0,
           4,
           0,
           0,
           0,
           0
          ],
          [
           91450,
           14672,
           2030148,
           1323,
           687,
           265,
           12,
           5,
           10,
           614,
           6,
           6,
           349,
           4,
           13,
           0,
           65,
           0,
           0
          ],
          [
           719,
           26,
           1485,
           128682,
           160,
           96,
           1,
           0,
           2,
           51,
           2,
           3,
           34,
           0,
           11,
           0,
           29,
           0,
           9
          ],
          [
           11,
           0,
           466,
           170,
           125037,
           381,
           3,
           2,
           4,
           115,
           1,
           4,
           0,
           0,
           34,
           0,
           66,
           0,
           0
          ],
          [
           341,
           5,
           371,
           38,
           66,
           92972,
           0,
           1,
           75,
           365,
           21,
           23,
           0,
           0,
           65,
           0,
           6,
           12,
           2
          ],
          [
           0,
           0,
           8,
           0,
           1,
           1,
           34473,
           306,
           1,
           0,
           1,
           31,
           0,
           0,
           0,
           0,
           0,
           0,
           0
          ],
          [
           4,
           0,
           1,
           0,
           0,
           0,
           306,
           27354,
           38,
           1,
           2,
           37,
           6,
           0,
           0,
           0,
           0,
           0,
           0
          ],
          [
           37,
           0,
           24,
           10,
           4,
           397,
           3,
           65,
           13912,
           3,
           34,
           2,
           6,
           0,
           19,
           0,
           0,
           0,
           0
          ],
          [
           70,
           5,
           1763,
           40,
           354,
           765,
           2,
           2,
           1,
           22113,
           11,
           1,
           824,
           16,
           16,
           0,
           10,
           3,
           0
          ],
          [
           30,
           0,
           21,
           9,
           6,
           279,
           6,
           7,
           65,
           14,
           6842,
           3,
           8,
           17,
           7,
           0,
           2,
           1,
           1
          ],
          [
           106,
           0,
           38,
           1,
           4,
           19,
           42,
           26,
           5,
           0,
           3,
           2149,
           0,
           1,
           6,
           0,
           0,
           0,
           0
          ],
          [
           1038,
           0,
           21549,
           711,
           123,
           5,
           7,
           19,
           15,
           500,
           2,
           0,
           6837,
           0,
           0,
           0,
           0,
           0,
           0
          ],
          [
           4192,
           38,
           1203,
           3,
           0,
           10,
           0,
           0,
           1,
           4,
           21,
           0,
           0,
           1099,
           7,
           0,
           0,
           0,
           1
          ],
          [
           523,
           54,
           235,
           81,
           127,
           171,
           0,
           0,
           20,
           8,
           4,
           3,
           0,
           0,
           2261,
           2,
           3,
           0,
           0
          ],
          [
           111,
           0,
           7,
           0,
           0,
           1,
           0,
           0,
           1,
           0,
           1,
           0,
           0,
           1,
           1,
           15,
           0,
           0,
           1
          ],
          [
           59,
           13,
           2918,
           411,
           852,
           113,
           4,
           4,
           6,
           118,
           3,
           3,
           0,
           0,
           9,
           0,
           2104,
           1,
           0
          ],
          [
           0,
           0,
           2,
           0,
           11,
           304,
           0,
           0,
           2,
           25,
           24,
           1,
           0,
           0,
           2,
           0,
           0,
           326,
           0
          ],
          [
           212,
           16,
           40,
           157,
           0,
           60,
           0,
           0,
           4,
           1,
           5,
           1,
           0,
           0,
           6,
           0,
           0,
           0,
           195
          ]
         ],
         "texttemplate": "%{text}",
         "type": "heatmap",
         "x": [
          "0",
          "1",
          "2",
          "3",
          "4",
          "5",
          "6",
          "7",
          "8",
          "9",
          "10",
          "11",
          "12",
          "13",
          "14",
          "15",
          "16",
          "17",
          "18"
         ],
         "xaxis": "x",
         "y": [
          "0",
          "1",
          "2",
          "3",
          "4",
          "5",
          "6",
          "7",
          "8",
          "9",
          "10",
          "11",
          "12",
          "13",
          "14",
          "15",
          "16",
          "17",
          "18"
         ],
         "yaxis": "y",
         "z": [
          [
           1365334,
           3227,
           79386,
           168,
           10,
           134,
           0,
           2,
           8,
           0,
           0,
           7,
           9,
           204,
           64,
           5,
           0,
           0,
           1
          ],
          [
           8304,
           141263,
           25322,
           10,
           0,
           0,
           0,
           0,
           0,
           0,
           1,
           2,
           0,
           0,
           4,
           0,
           0,
           0,
           0
          ],
          [
           91450,
           14672,
           2030148,
           1323,
           687,
           265,
           12,
           5,
           10,
           614,
           6,
           6,
           349,
           4,
           13,
           0,
           65,
           0,
           0
          ],
          [
           719,
           26,
           1485,
           128682,
           160,
           96,
           1,
           0,
           2,
           51,
           2,
           3,
           34,
           0,
           11,
           0,
           29,
           0,
           9
          ],
          [
           11,
           0,
           466,
           170,
           125037,
           381,
           3,
           2,
           4,
           115,
           1,
           4,
           0,
           0,
           34,
           0,
           66,
           0,
           0
          ],
          [
           341,
           5,
           371,
           38,
           66,
           92972,
           0,
           1,
           75,
           365,
           21,
           23,
           0,
           0,
           65,
           0,
           6,
           12,
           2
          ],
          [
           0,
           0,
           8,
           0,
           1,
           1,
           34473,
           306,
           1,
           0,
           1,
           31,
           0,
           0,
           0,
           0,
           0,
           0,
           0
          ],
          [
           4,
           0,
           1,
           0,
           0,
           0,
           306,
           27354,
           38,
           1,
           2,
           37,
           6,
           0,
           0,
           0,
           0,
           0,
           0
          ],
          [
           37,
           0,
           24,
           10,
           4,
           397,
           3,
           65,
           13912,
           3,
           34,
           2,
           6,
           0,
           19,
           0,
           0,
           0,
           0
          ],
          [
           70,
           5,
           1763,
           40,
           354,
           765,
           2,
           2,
           1,
           22113,
           11,
           1,
           824,
           16,
           16,
           0,
           10,
           3,
           0
          ],
          [
           30,
           0,
           21,
           9,
           6,
           279,
           6,
           7,
           65,
           14,
           6842,
           3,
           8,
           17,
           7,
           0,
           2,
           1,
           1
          ],
          [
           106,
           0,
           38,
           1,
           4,
           19,
           42,
           26,
           5,
           0,
           3,
           2149,
           0,
           1,
           6,
           0,
           0,
           0,
           0
          ],
          [
           1038,
           0,
           21549,
           711,
           123,
           5,
           7,
           19,
           15,
           500,
           2,
           0,
           6837,
           0,
           0,
           0,
           0,
           0,
           0
          ],
          [
           4192,
           38,
           1203,
           3,
           0,
           10,
           0,
           0,
           1,
           4,
           21,
           0,
           0,
           1099,
           7,
           0,
           0,
           0,
           1
          ],
          [
           523,
           54,
           235,
           81,
           127,
           171,
           0,
           0,
           20,
           8,
           4,
           3,
           0,
           0,
           2261,
           2,
           3,
           0,
           0
          ],
          [
           111,
           0,
           7,
           0,
           0,
           1,
           0,
           0,
           1,
           0,
           1,
           0,
           0,
           1,
           1,
           15,
           0,
           0,
           1
          ],
          [
           59,
           13,
           2918,
           411,
           852,
           113,
           4,
           4,
           6,
           118,
           3,
           3,
           0,
           0,
           9,
           0,
           2104,
           1,
           0
          ],
          [
           0,
           0,
           2,
           0,
           11,
           304,
           0,
           0,
           2,
           25,
           24,
           1,
           0,
           0,
           2,
           0,
           0,
           326,
           0
          ],
          [
           212,
           16,
           40,
           157,
           0,
           60,
           0,
           0,
           4,
           1,
           5,
           1,
           0,
           0,
           6,
           0,
           0,
           0,
           195
          ]
         ]
        },
        {
         "colorscale": [
          [
           0,
           "rgb(247,252,245)"
          ],
          [
           0.125,
           "rgb(229,245,224)"
          ],
          [
           0.25,
           "rgb(199,233,192)"
          ],
          [
           0.375,
           "rgb(161,217,155)"
          ],
          [
           0.5,
           "rgb(116,196,118)"
          ],
          [
           0.625,
           "rgb(65,171,93)"
          ],
          [
           0.75,
           "rgb(35,139,69)"
          ],
          [
           0.875,
           "rgb(0,109,44)"
          ],
          [
           1,
           "rgb(0,68,27)"
          ]
         ],
         "showscale": true,
         "text": [
          [
           0.94,
           0,
           0.05,
           0,
           0,
           0,
           0,
           0,
           0,
           0,
           0,
           0,
           0,
           0,
           0,
           0,
           0,
           0,
           0
          ],
          [
           0.05,
           0.81,
           0.14,
           0,
           0,
           0,
           0,
           0,
           0,
           0,
           0,
           0,
           0,
           0,
           0,
           0,
           0,
           0,
           0
          ],
          [
           0.04,
           0.01,
           0.95,
           0,
           0,
           0,
           0,
           0,
           0,
           0,
           0,
           0,
           0,
           0,
           0,
           0,
           0,
           0,
           0
          ],
          [
           0.01,
           0,
           0.01,
           0.98,
           0,
           0,
           0,
           0,
           0,
           0,
           0,
           0,
           0,
           0,
           0,
           0,
           0,
           0,
           0
          ],
          [
           0,
           0,
           0,
           0,
           0.99,
           0,
           0,
           0,
           0,
           0,
           0,
           0,
           0,
           0,
           0,
           0,
           0,
           0,
           0
          ],
          [
           0,
           0,
           0,
           0,
           0,
           0.99,
           0,
           0,
           0,
           0,
           0,
           0,
           0,
           0,
           0,
           0,
           0,
           0,
           0
          ],
          [
           0,
           0,
           0,
           0,
           0,
           0,
           0.99,
           0.01,
           0,
           0,
           0,
           0,
           0,
           0,
           0,
           0,
           0,
           0,
           0
          ],
          [
           0,
           0,
           0,
           0,
           0,
           0,
           0.01,
           0.99,
           0,
           0,
           0,
           0,
           0,
           0,
           0,
           0,
           0,
           0,
           0
          ],
          [
           0,
           0,
           0,
           0,
           0,
           0.03,
           0,
           0,
           0.96,
           0,
           0,
           0,
           0,
           0,
           0,
           0,
           0,
           0,
           0
          ],
          [
           0,
           0,
           0.07,
           0,
           0.01,
           0.03,
           0,
           0,
           0,
           0.85,
           0,
           0,
           0.03,
           0,
           0,
           0,
           0,
           0,
           0
          ],
          [
           0,
           0,
           0,
           0,
           0,
           0.04,
           0,
           0,
           0.01,
           0,
           0.93,
           0,
           0,
           0,
           0,
           0,
           0,
           0,
           0
          ],
          [
           0.04,
           0,
           0.02,
           0,
           0,
           0.01,
           0.02,
           0.01,
           0,
           0,
           0,
           0.9,
           0,
           0,
           0,
           0,
           0,
           0,
           0
          ],
          [
           0.03,
           0,
           0.7,
           0.02,
           0,
           0,
           0,
           0,
           0,
           0.02,
           0,
           0,
           0.22,
           0,
           0,
           0,
           0,
           0,
           0
          ],
          [
           0.64,
           0.01,
           0.18,
           0,
           0,
           0,
           0,
           0,
           0,
           0,
           0,
           0,
           0,
           0.17,
           0,
           0,
           0,
           0,
           0
          ],
          [
           0.15,
           0.02,
           0.07,
           0.02,
           0.04,
           0.05,
           0,
           0,
           0.01,
           0,
           0,
           0,
           0,
           0,
           0.65,
           0,
           0,
           0,
           0
          ],
          [
           0.8,
           0,
           0.05,
           0,
           0,
           0.01,
           0,
           0,
           0.01,
           0,
           0.01,
           0,
           0,
           0.01,
           0.01,
           0.11,
           0,
           0,
           0.01
          ],
          [
           0.01,
           0,
           0.44,
           0.06,
           0.13,
           0.02,
           0,
           0,
           0,
           0.02,
           0,
           0,
           0,
           0,
           0,
           0,
           0.32,
           0,
           0
          ],
          [
           0,
           0,
           0,
           0,
           0.02,
           0.44,
           0,
           0,
           0,
           0.04,
           0.03,
           0,
           0,
           0,
           0,
           0,
           0,
           0.47,
           0
          ],
          [
           0.3,
           0.02,
           0.06,
           0.23,
           0,
           0.09,
           0,
           0,
           0.01,
           0,
           0.01,
           0,
           0,
           0,
           0.01,
           0,
           0,
           0,
           0.28
          ]
         ],
         "texttemplate": "%{text}",
         "type": "heatmap",
         "x": [
          "0",
          "1",
          "2",
          "3",
          "4",
          "5",
          "6",
          "7",
          "8",
          "9",
          "10",
          "11",
          "12",
          "13",
          "14",
          "15",
          "16",
          "17",
          "18"
         ],
         "xaxis": "x2",
         "y": [
          "0",
          "1",
          "2",
          "3",
          "4",
          "5",
          "6",
          "7",
          "8",
          "9",
          "10",
          "11",
          "12",
          "13",
          "14",
          "15",
          "16",
          "17",
          "18"
         ],
         "yaxis": "y2",
         "z": [
          [
           0.9425463512359524,
           0.002227731145227775,
           0.05480342878681504,
           0.00011597732643268242,
           0.000006903412287659668,
           0.00009250572465463954,
           0,
           0.0000013806824575319335,
           0.000005522729830127734,
           0,
           0,
           0.000004832388601361767,
           0.000006213071058893701,
           0.0001408296106682572,
           0.00004418183864102187,
           0.000003451706143829834,
           0,
           0,
           6.903412287659667e-7
          ],
          [
           0.04747693046550719,
           0.8076509668050267,
           0.14477490766468845,
           0.00005717356751626588,
           0,
           0,
           0,
           0,
           0,
           0,
           0.000005717356751626588,
           0.000011434713503253177,
           0,
           0,
           0.000022869427006506354,
           0,
           0,
           0,
           0
          ],
          [
           0.042741054640781186,
           0.006857263572329596,
           0.9488317834540474,
           0.0006183314957873538,
           0.0003210837018941134,
           0.00012385324745551682,
           0.000005608448941381894,
           0.000002336853725575789,
           0.000004673707451151578,
           0.0002869656375007069,
           0.000002804224470690947,
           0.000002804224470690947,
           0.00016311239004519008,
           0.0000018694829804606313,
           0.000006075819686497052,
           0,
           0.000030379098432485258,
           0,
           0
          ],
          [
           0.0054755921102733985,
           0.00019800472165105475,
           0.011309115832762166,
           0.9799862919808088,
           0.0012184905947757215,
           0.000731094356865433,
           0.0000076155662173482594,
           0,
           0.000015231132434696519,
           0.00038839387708476127,
           0.000015231132434696519,
           0.00002284669865204478,
           0.00025892925138984083,
           0,
           0.00008377122839083086,
           0,
           0.00022085142030309952,
           0,
           0.00006854009595613433
          ],
          [
           0.00008709835780005384,
           0,
           0.003689803157711372,
           0.0013460655296371957,
           0.9900470331132121,
           0.003016770392892774,
           0.000023754097581832866,
           0.000015836065054555244,
           0.00003167213010911049,
           0.0009105737406369265,
           0.000007918032527277622,
           0.00003167213010911049,
           0,
           0,
           0.00026921310592743916,
           0,
           0.0005225901468003231,
           0,
           0
          ],
          [
           0.003613704524018948,
           0.00005298686985365027,
           0.003931625743140849,
           0.00040270021088774203,
           0.0006994266820681835,
           0.9852590528067144,
           0,
           0.000010597373970730053,
           0.0007948030478047539,
           0.0038680414993164693,
           0.00022254485338533113,
           0.0002437396013267912,
           0,
           0,
           0.0006888293080974534,
           0,
           0.00006358424382438032,
           0.00012716848764876063,
           0.000021194747941460106
          ],
          [
           0,
           0,
           0.00022973981965424158,
           0,
           0.000028717477456780197,
           0.000028717477456780197,
           0.9899776003675838,
           0.00878754810177474,
           0.000028717477456780197,
           0,
           0.000028717477456780197,
           0.0008902418011601861,
           0,
           0,
           0,
           0,
           0,
           0,
           0
          ],
          [
           0.00014414933871490865,
           0,
           0.00003603733467872716,
           0,
           0,
           0,
           0.01102742441169051,
           0.9857652528019027,
           0.0013694187177916322,
           0.00003603733467872716,
           0.00007207466935745433,
           0.001333381383112905,
           0.00021622400807236298,
           0,
           0,
           0,
           0,
           0,
           0
          ],
          [
           0.0025489115458804078,
           0,
           0.0016533480297602646,
           0.0006888950124001103,
           0.0002755580049600441,
           0.027349131992284375,
           0.00020666850372003307,
           0.004477817580600716,
           0.9583907412510333,
           0.00020666850372003307,
           0.002342243042160375,
           0.00013777900248002206,
           0.00041333700744006614,
           0,
           0.0013089005235602095,
           0,
           0,
           0,
           0
          ],
          [
           0.0026927219572241883,
           0.0001923372826588706,
           0.06781812586551778,
           0.0015386982612709647,
           0.013617479612248039,
           0.029427604246807203,
           0.00007693491306354824,
           0.00007693491306354824,
           0.00003846745653177412,
           0.8506308662871211,
           0.0004231420218495153,
           0.00003846745653177412,
           0.03169718418218188,
           0.0006154793045083859,
           0.0006154793045083859,
           0,
           0.0003846745653177412,
           0.00011540236959532236,
           0
          ],
          [
           0.004099480732440558,
           0,
           0.00286963651270839,
           0.0012298442197321673,
           0.0008198961464881115,
           0.03812517081169718,
           0.0008198961464881115,
           0.0009565455042361301,
           0.008882208253621208,
           0.0019130910084722602,
           0.9349549057119432,
           0.00040994807324405577,
           0.0010931948619841486,
           0.002323039081716316,
           0.0009565455042361301,
           0,
           0.00027329871549603714,
           0.00013664935774801857,
           0.00013664935774801857
          ],
          [
           0.04416666666666667,
           0,
           0.015833333333333335,
           0.0004166666666666667,
           0.0016666666666666668,
           0.007916666666666667,
           0.0175,
           0.010833333333333334,
           0.0020833333333333333,
           0,
           0.00125,
           0.8954166666666666,
           0,
           0.0004166666666666667,
           0.0025,
           0,
           0,
           0,
           0
          ],
          [
           0.03369473479192365,
           0,
           0.6995065896253977,
           0.02307991949620204,
           0.003992728689216386,
           0.00016230604427708889,
           0.00022722846198792442,
           0.0006167629682529378,
           0.00048691813283126663,
           0.01623060442770889,
           0.00006492241771083555,
           0,
           0.22193728494449133,
           0,
           0,
           0,
           0,
           0,
           0
          ],
          [
           0.6371789025687794,
           0.005775953792369661,
           0.1828545371637027,
           0.00045599635202918376,
           0,
           0.0015199878400972793,
           0,
           0,
           0.0001519987840097279,
           0.0006079951360389116,
           0.0031919744642042863,
           0,
           0,
           0.167046663626691,
           0.0010639914880680955,
           0,
           0,
           0,
           0.0001519987840097279
          ],
          [
           0.1497709049255441,
           0.015463917525773196,
           0.06729667812142039,
           0.023195876288659795,
           0.036368843069874,
           0.04896907216494845,
           0,
           0,
           0.0057273768613974796,
           0.002290950744558992,
           0.001145475372279496,
           0.000859106529209622,
           0,
           0,
           0.6474799541809851,
           0.000572737686139748,
           0.000859106529209622,
           0,
           0
          ],
          [
           0.7985611510791367,
           0,
           0.050359712230215826,
           0,
           0,
           0.007194244604316547,
           0,
           0,
           0.007194244604316547,
           0,
           0.007194244604316547,
           0,
           0,
           0.007194244604316547,
           0.007194244604316547,
           0.1079136690647482,
           0,
           0,
           0.007194244604316547
          ],
          [
           0.00891508008461771,
           0.001964339679661529,
           0.44091870655787246,
           0.06210335448776065,
           0.128739800543971,
           0.01707464490782714,
           0.0006044122091266244,
           0.0006044122091266244,
           0.0009066183136899365,
           0.01783016016923542,
           0.00045330915684496827,
           0.00045330915684496827,
           0,
           0,
           0.0013599274705349048,
           0,
           0.3179208220006044,
           0.0001511030522816561,
           0
          ],
          [
           0,
           0,
           0.0028694404591104736,
           0,
           0.015781922525107604,
           0.43615494978479197,
           0,
           0,
           0.0028694404591104736,
           0.035868005738880916,
           0.03443328550932568,
           0.0014347202295552368,
           0,
           0,
           0.0028694404591104736,
           0,
           0,
           0.46771879483500717,
           0
          ],
          [
           0.30416068866571017,
           0.02295552367288379,
           0.05738880918220947,
           0.22525107604017217,
           0,
           0.08608321377331421,
           0,
           0,
           0.005738880918220947,
           0.0014347202295552368,
           0.007173601147776184,
           0.0014347202295552368,
           0,
           0,
           0.00860832137733142,
           0,
           0,
           0,
           0.2797704447632712
          ]
         ]
        }
       ],
       "layout": {
        "annotations": [
         {
          "font": {
           "size": 16
          },
          "showarrow": false,
          "text": "Original Confusion Matrix",
          "x": 0.2125,
          "xanchor": "center",
          "xref": "paper",
          "y": 1,
          "yanchor": "bottom",
          "yref": "paper"
         },
         {
          "font": {
           "size": 16
          },
          "showarrow": false,
          "text": "Normalized Confusion Matrix",
          "x": 0.7875,
          "xanchor": "center",
          "xref": "paper",
          "y": 1,
          "yanchor": "bottom",
          "yref": "paper"
         }
        ],
        "template": {
         "data": {
          "bar": [
           {
            "error_x": {
             "color": "#2a3f5f"
            },
            "error_y": {
             "color": "#2a3f5f"
            },
            "marker": {
             "line": {
              "color": "#E5ECF6",
              "width": 0.5
             },
             "pattern": {
              "fillmode": "overlay",
              "size": 10,
              "solidity": 0.2
             }
            },
            "type": "bar"
           }
          ],
          "barpolar": [
           {
            "marker": {
             "line": {
              "color": "#E5ECF6",
              "width": 0.5
             },
             "pattern": {
              "fillmode": "overlay",
              "size": 10,
              "solidity": 0.2
             }
            },
            "type": "barpolar"
           }
          ],
          "carpet": [
           {
            "aaxis": {
             "endlinecolor": "#2a3f5f",
             "gridcolor": "white",
             "linecolor": "white",
             "minorgridcolor": "white",
             "startlinecolor": "#2a3f5f"
            },
            "baxis": {
             "endlinecolor": "#2a3f5f",
             "gridcolor": "white",
             "linecolor": "white",
             "minorgridcolor": "white",
             "startlinecolor": "#2a3f5f"
            },
            "type": "carpet"
           }
          ],
          "choropleth": [
           {
            "colorbar": {
             "outlinewidth": 0,
             "ticks": ""
            },
            "type": "choropleth"
           }
          ],
          "contour": [
           {
            "colorbar": {
             "outlinewidth": 0,
             "ticks": ""
            },
            "colorscale": [
             [
              0,
              "#0d0887"
             ],
             [
              0.1111111111111111,
              "#46039f"
             ],
             [
              0.2222222222222222,
              "#7201a8"
             ],
             [
              0.3333333333333333,
              "#9c179e"
             ],
             [
              0.4444444444444444,
              "#bd3786"
             ],
             [
              0.5555555555555556,
              "#d8576b"
             ],
             [
              0.6666666666666666,
              "#ed7953"
             ],
             [
              0.7777777777777778,
              "#fb9f3a"
             ],
             [
              0.8888888888888888,
              "#fdca26"
             ],
             [
              1,
              "#f0f921"
             ]
            ],
            "type": "contour"
           }
          ],
          "contourcarpet": [
           {
            "colorbar": {
             "outlinewidth": 0,
             "ticks": ""
            },
            "type": "contourcarpet"
           }
          ],
          "heatmap": [
           {
            "colorbar": {
             "outlinewidth": 0,
             "ticks": ""
            },
            "colorscale": [
             [
              0,
              "#0d0887"
             ],
             [
              0.1111111111111111,
              "#46039f"
             ],
             [
              0.2222222222222222,
              "#7201a8"
             ],
             [
              0.3333333333333333,
              "#9c179e"
             ],
             [
              0.4444444444444444,
              "#bd3786"
             ],
             [
              0.5555555555555556,
              "#d8576b"
             ],
             [
              0.6666666666666666,
              "#ed7953"
             ],
             [
              0.7777777777777778,
              "#fb9f3a"
             ],
             [
              0.8888888888888888,
              "#fdca26"
             ],
             [
              1,
              "#f0f921"
             ]
            ],
            "type": "heatmap"
           }
          ],
          "heatmapgl": [
           {
            "colorbar": {
             "outlinewidth": 0,
             "ticks": ""
            },
            "colorscale": [
             [
              0,
              "#0d0887"
             ],
             [
              0.1111111111111111,
              "#46039f"
             ],
             [
              0.2222222222222222,
              "#7201a8"
             ],
             [
              0.3333333333333333,
              "#9c179e"
             ],
             [
              0.4444444444444444,
              "#bd3786"
             ],
             [
              0.5555555555555556,
              "#d8576b"
             ],
             [
              0.6666666666666666,
              "#ed7953"
             ],
             [
              0.7777777777777778,
              "#fb9f3a"
             ],
             [
              0.8888888888888888,
              "#fdca26"
             ],
             [
              1,
              "#f0f921"
             ]
            ],
            "type": "heatmapgl"
           }
          ],
          "histogram": [
           {
            "marker": {
             "pattern": {
              "fillmode": "overlay",
              "size": 10,
              "solidity": 0.2
             }
            },
            "type": "histogram"
           }
          ],
          "histogram2d": [
           {
            "colorbar": {
             "outlinewidth": 0,
             "ticks": ""
            },
            "colorscale": [
             [
              0,
              "#0d0887"
             ],
             [
              0.1111111111111111,
              "#46039f"
             ],
             [
              0.2222222222222222,
              "#7201a8"
             ],
             [
              0.3333333333333333,
              "#9c179e"
             ],
             [
              0.4444444444444444,
              "#bd3786"
             ],
             [
              0.5555555555555556,
              "#d8576b"
             ],
             [
              0.6666666666666666,
              "#ed7953"
             ],
             [
              0.7777777777777778,
              "#fb9f3a"
             ],
             [
              0.8888888888888888,
              "#fdca26"
             ],
             [
              1,
              "#f0f921"
             ]
            ],
            "type": "histogram2d"
           }
          ],
          "histogram2dcontour": [
           {
            "colorbar": {
             "outlinewidth": 0,
             "ticks": ""
            },
            "colorscale": [
             [
              0,
              "#0d0887"
             ],
             [
              0.1111111111111111,
              "#46039f"
             ],
             [
              0.2222222222222222,
              "#7201a8"
             ],
             [
              0.3333333333333333,
              "#9c179e"
             ],
             [
              0.4444444444444444,
              "#bd3786"
             ],
             [
              0.5555555555555556,
              "#d8576b"
             ],
             [
              0.6666666666666666,
              "#ed7953"
             ],
             [
              0.7777777777777778,
              "#fb9f3a"
             ],
             [
              0.8888888888888888,
              "#fdca26"
             ],
             [
              1,
              "#f0f921"
             ]
            ],
            "type": "histogram2dcontour"
           }
          ],
          "mesh3d": [
           {
            "colorbar": {
             "outlinewidth": 0,
             "ticks": ""
            },
            "type": "mesh3d"
           }
          ],
          "parcoords": [
           {
            "line": {
             "colorbar": {
              "outlinewidth": 0,
              "ticks": ""
             }
            },
            "type": "parcoords"
           }
          ],
          "pie": [
           {
            "automargin": true,
            "type": "pie"
           }
          ],
          "scatter": [
           {
            "fillpattern": {
             "fillmode": "overlay",
             "size": 10,
             "solidity": 0.2
            },
            "type": "scatter"
           }
          ],
          "scatter3d": [
           {
            "line": {
             "colorbar": {
              "outlinewidth": 0,
              "ticks": ""
             }
            },
            "marker": {
             "colorbar": {
              "outlinewidth": 0,
              "ticks": ""
             }
            },
            "type": "scatter3d"
           }
          ],
          "scattercarpet": [
           {
            "marker": {
             "colorbar": {
              "outlinewidth": 0,
              "ticks": ""
             }
            },
            "type": "scattercarpet"
           }
          ],
          "scattergeo": [
           {
            "marker": {
             "colorbar": {
              "outlinewidth": 0,
              "ticks": ""
             }
            },
            "type": "scattergeo"
           }
          ],
          "scattergl": [
           {
            "marker": {
             "colorbar": {
              "outlinewidth": 0,
              "ticks": ""
             }
            },
            "type": "scattergl"
           }
          ],
          "scattermapbox": [
           {
            "marker": {
             "colorbar": {
              "outlinewidth": 0,
              "ticks": ""
             }
            },
            "type": "scattermapbox"
           }
          ],
          "scatterpolar": [
           {
            "marker": {
             "colorbar": {
              "outlinewidth": 0,
              "ticks": ""
             }
            },
            "type": "scatterpolar"
           }
          ],
          "scatterpolargl": [
           {
            "marker": {
             "colorbar": {
              "outlinewidth": 0,
              "ticks": ""
             }
            },
            "type": "scatterpolargl"
           }
          ],
          "scatterternary": [
           {
            "marker": {
             "colorbar": {
              "outlinewidth": 0,
              "ticks": ""
             }
            },
            "type": "scatterternary"
           }
          ],
          "surface": [
           {
            "colorbar": {
             "outlinewidth": 0,
             "ticks": ""
            },
            "colorscale": [
             [
              0,
              "#0d0887"
             ],
             [
              0.1111111111111111,
              "#46039f"
             ],
             [
              0.2222222222222222,
              "#7201a8"
             ],
             [
              0.3333333333333333,
              "#9c179e"
             ],
             [
              0.4444444444444444,
              "#bd3786"
             ],
             [
              0.5555555555555556,
              "#d8576b"
             ],
             [
              0.6666666666666666,
              "#ed7953"
             ],
             [
              0.7777777777777778,
              "#fb9f3a"
             ],
             [
              0.8888888888888888,
              "#fdca26"
             ],
             [
              1,
              "#f0f921"
             ]
            ],
            "type": "surface"
           }
          ],
          "table": [
           {
            "cells": {
             "fill": {
              "color": "#EBF0F8"
             },
             "line": {
              "color": "white"
             }
            },
            "header": {
             "fill": {
              "color": "#C8D4E3"
             },
             "line": {
              "color": "white"
             }
            },
            "type": "table"
           }
          ]
         },
         "layout": {
          "annotationdefaults": {
           "arrowcolor": "#2a3f5f",
           "arrowhead": 0,
           "arrowwidth": 1
          },
          "autotypenumbers": "strict",
          "coloraxis": {
           "colorbar": {
            "outlinewidth": 0,
            "ticks": ""
           }
          },
          "colorscale": {
           "diverging": [
            [
             0,
             "#8e0152"
            ],
            [
             0.1,
             "#c51b7d"
            ],
            [
             0.2,
             "#de77ae"
            ],
            [
             0.3,
             "#f1b6da"
            ],
            [
             0.4,
             "#fde0ef"
            ],
            [
             0.5,
             "#f7f7f7"
            ],
            [
             0.6,
             "#e6f5d0"
            ],
            [
             0.7,
             "#b8e186"
            ],
            [
             0.8,
             "#7fbc41"
            ],
            [
             0.9,
             "#4d9221"
            ],
            [
             1,
             "#276419"
            ]
           ],
           "sequential": [
            [
             0,
             "#0d0887"
            ],
            [
             0.1111111111111111,
             "#46039f"
            ],
            [
             0.2222222222222222,
             "#7201a8"
            ],
            [
             0.3333333333333333,
             "#9c179e"
            ],
            [
             0.4444444444444444,
             "#bd3786"
            ],
            [
             0.5555555555555556,
             "#d8576b"
            ],
            [
             0.6666666666666666,
             "#ed7953"
            ],
            [
             0.7777777777777778,
             "#fb9f3a"
            ],
            [
             0.8888888888888888,
             "#fdca26"
            ],
            [
             1,
             "#f0f921"
            ]
           ],
           "sequentialminus": [
            [
             0,
             "#0d0887"
            ],
            [
             0.1111111111111111,
             "#46039f"
            ],
            [
             0.2222222222222222,
             "#7201a8"
            ],
            [
             0.3333333333333333,
             "#9c179e"
            ],
            [
             0.4444444444444444,
             "#bd3786"
            ],
            [
             0.5555555555555556,
             "#d8576b"
            ],
            [
             0.6666666666666666,
             "#ed7953"
            ],
            [
             0.7777777777777778,
             "#fb9f3a"
            ],
            [
             0.8888888888888888,
             "#fdca26"
            ],
            [
             1,
             "#f0f921"
            ]
           ]
          },
          "colorway": [
           "#636efa",
           "#EF553B",
           "#00cc96",
           "#ab63fa",
           "#FFA15A",
           "#19d3f3",
           "#FF6692",
           "#B6E880",
           "#FF97FF",
           "#FECB52"
          ],
          "font": {
           "color": "#2a3f5f"
          },
          "geo": {
           "bgcolor": "white",
           "lakecolor": "white",
           "landcolor": "#E5ECF6",
           "showlakes": true,
           "showland": true,
           "subunitcolor": "white"
          },
          "hoverlabel": {
           "align": "left"
          },
          "hovermode": "closest",
          "mapbox": {
           "style": "light"
          },
          "paper_bgcolor": "white",
          "plot_bgcolor": "#E5ECF6",
          "polar": {
           "angularaxis": {
            "gridcolor": "white",
            "linecolor": "white",
            "ticks": ""
           },
           "bgcolor": "#E5ECF6",
           "radialaxis": {
            "gridcolor": "white",
            "linecolor": "white",
            "ticks": ""
           }
          },
          "scene": {
           "xaxis": {
            "backgroundcolor": "#E5ECF6",
            "gridcolor": "white",
            "gridwidth": 2,
            "linecolor": "white",
            "showbackground": true,
            "ticks": "",
            "zerolinecolor": "white"
           },
           "yaxis": {
            "backgroundcolor": "#E5ECF6",
            "gridcolor": "white",
            "gridwidth": 2,
            "linecolor": "white",
            "showbackground": true,
            "ticks": "",
            "zerolinecolor": "white"
           },
           "zaxis": {
            "backgroundcolor": "#E5ECF6",
            "gridcolor": "white",
            "gridwidth": 2,
            "linecolor": "white",
            "showbackground": true,
            "ticks": "",
            "zerolinecolor": "white"
           }
          },
          "shapedefaults": {
           "line": {
            "color": "#2a3f5f"
           }
          },
          "ternary": {
           "aaxis": {
            "gridcolor": "white",
            "linecolor": "white",
            "ticks": ""
           },
           "baxis": {
            "gridcolor": "white",
            "linecolor": "white",
            "ticks": ""
           },
           "bgcolor": "#E5ECF6",
           "caxis": {
            "gridcolor": "white",
            "linecolor": "white",
            "ticks": ""
           }
          },
          "title": {
           "x": 0.05
          },
          "xaxis": {
           "automargin": true,
           "gridcolor": "white",
           "linecolor": "white",
           "ticks": "",
           "title": {
            "standoff": 15
           },
           "zerolinecolor": "white",
           "zerolinewidth": 2
          },
          "yaxis": {
           "automargin": true,
           "gridcolor": "white",
           "linecolor": "white",
           "ticks": "",
           "title": {
            "standoff": 15
           },
           "zerolinecolor": "white",
           "zerolinewidth": 2
          }
         }
        },
        "title": {
         "text": "Confusion for the annotated model"
        },
        "xaxis": {
         "anchor": "y",
         "domain": [
          0,
          0.425
         ],
         "title": {
          "text": "Predicted Class"
         }
        },
        "xaxis2": {
         "anchor": "y2",
         "domain": [
          0.575,
          1
         ],
         "title": {
          "text": "Predicted Class"
         }
        },
        "yaxis": {
         "anchor": "x",
         "domain": [
          0,
          1
         ],
         "title": {
          "text": "Actual Class"
         }
        },
        "yaxis2": {
         "anchor": "x2",
         "domain": [
          0,
          1
         ],
         "title": {
          "text": "Actual Class"
         }
        }
       }
      },
      "text/html": [
       "<div>                            <div id=\"e8736380-d93b-4402-aaa1-4ede986b62e0\" class=\"plotly-graph-div\" style=\"height:525px; width:100%;\"></div>            <script type=\"text/javascript\">                require([\"plotly\"], function(Plotly) {                    window.PLOTLYENV=window.PLOTLYENV || {};                                    if (document.getElementById(\"e8736380-d93b-4402-aaa1-4ede986b62e0\")) {                    Plotly.newPlot(                        \"e8736380-d93b-4402-aaa1-4ede986b62e0\",                        [{\"colorscale\":[[0.0,\"rgb(247,252,245)\"],[0.125,\"rgb(229,245,224)\"],[0.25,\"rgb(199,233,192)\"],[0.375,\"rgb(161,217,155)\"],[0.5,\"rgb(116,196,118)\"],[0.625,\"rgb(65,171,93)\"],[0.75,\"rgb(35,139,69)\"],[0.875,\"rgb(0,109,44)\"],[1.0,\"rgb(0,68,27)\"]],\"showscale\":true,\"text\":[[1365334,3227,79386,168,10,134,0,2,8,0,0,7,9,204,64,5,0,0,1],[8304,141263,25322,10,0,0,0,0,0,0,1,2,0,0,4,0,0,0,0],[91450,14672,2030148,1323,687,265,12,5,10,614,6,6,349,4,13,0,65,0,0],[719,26,1485,128682,160,96,1,0,2,51,2,3,34,0,11,0,29,0,9],[11,0,466,170,125037,381,3,2,4,115,1,4,0,0,34,0,66,0,0],[341,5,371,38,66,92972,0,1,75,365,21,23,0,0,65,0,6,12,2],[0,0,8,0,1,1,34473,306,1,0,1,31,0,0,0,0,0,0,0],[4,0,1,0,0,0,306,27354,38,1,2,37,6,0,0,0,0,0,0],[37,0,24,10,4,397,3,65,13912,3,34,2,6,0,19,0,0,0,0],[70,5,1763,40,354,765,2,2,1,22113,11,1,824,16,16,0,10,3,0],[30,0,21,9,6,279,6,7,65,14,6842,3,8,17,7,0,2,1,1],[106,0,38,1,4,19,42,26,5,0,3,2149,0,1,6,0,0,0,0],[1038,0,21549,711,123,5,7,19,15,500,2,0,6837,0,0,0,0,0,0],[4192,38,1203,3,0,10,0,0,1,4,21,0,0,1099,7,0,0,0,1],[523,54,235,81,127,171,0,0,20,8,4,3,0,0,2261,2,3,0,0],[111,0,7,0,0,1,0,0,1,0,1,0,0,1,1,15,0,0,1],[59,13,2918,411,852,113,4,4,6,118,3,3,0,0,9,0,2104,1,0],[0,0,2,0,11,304,0,0,2,25,24,1,0,0,2,0,0,326,0],[212,16,40,157,0,60,0,0,4,1,5,1,0,0,6,0,0,0,195]],\"texttemplate\":\"%{text}\",\"x\":[\"0\",\"1\",\"2\",\"3\",\"4\",\"5\",\"6\",\"7\",\"8\",\"9\",\"10\",\"11\",\"12\",\"13\",\"14\",\"15\",\"16\",\"17\",\"18\"],\"y\":[\"0\",\"1\",\"2\",\"3\",\"4\",\"5\",\"6\",\"7\",\"8\",\"9\",\"10\",\"11\",\"12\",\"13\",\"14\",\"15\",\"16\",\"17\",\"18\"],\"z\":[[1365334,3227,79386,168,10,134,0,2,8,0,0,7,9,204,64,5,0,0,1],[8304,141263,25322,10,0,0,0,0,0,0,1,2,0,0,4,0,0,0,0],[91450,14672,2030148,1323,687,265,12,5,10,614,6,6,349,4,13,0,65,0,0],[719,26,1485,128682,160,96,1,0,2,51,2,3,34,0,11,0,29,0,9],[11,0,466,170,125037,381,3,2,4,115,1,4,0,0,34,0,66,0,0],[341,5,371,38,66,92972,0,1,75,365,21,23,0,0,65,0,6,12,2],[0,0,8,0,1,1,34473,306,1,0,1,31,0,0,0,0,0,0,0],[4,0,1,0,0,0,306,27354,38,1,2,37,6,0,0,0,0,0,0],[37,0,24,10,4,397,3,65,13912,3,34,2,6,0,19,0,0,0,0],[70,5,1763,40,354,765,2,2,1,22113,11,1,824,16,16,0,10,3,0],[30,0,21,9,6,279,6,7,65,14,6842,3,8,17,7,0,2,1,1],[106,0,38,1,4,19,42,26,5,0,3,2149,0,1,6,0,0,0,0],[1038,0,21549,711,123,5,7,19,15,500,2,0,6837,0,0,0,0,0,0],[4192,38,1203,3,0,10,0,0,1,4,21,0,0,1099,7,0,0,0,1],[523,54,235,81,127,171,0,0,20,8,4,3,0,0,2261,2,3,0,0],[111,0,7,0,0,1,0,0,1,0,1,0,0,1,1,15,0,0,1],[59,13,2918,411,852,113,4,4,6,118,3,3,0,0,9,0,2104,1,0],[0,0,2,0,11,304,0,0,2,25,24,1,0,0,2,0,0,326,0],[212,16,40,157,0,60,0,0,4,1,5,1,0,0,6,0,0,0,195]],\"type\":\"heatmap\",\"xaxis\":\"x\",\"yaxis\":\"y\"},{\"colorscale\":[[0.0,\"rgb(247,252,245)\"],[0.125,\"rgb(229,245,224)\"],[0.25,\"rgb(199,233,192)\"],[0.375,\"rgb(161,217,155)\"],[0.5,\"rgb(116,196,118)\"],[0.625,\"rgb(65,171,93)\"],[0.75,\"rgb(35,139,69)\"],[0.875,\"rgb(0,109,44)\"],[1.0,\"rgb(0,68,27)\"]],\"showscale\":true,\"text\":[[0.94,0.0,0.05,0.0,0.0,0.0,0.0,0.0,0.0,0.0,0.0,0.0,0.0,0.0,0.0,0.0,0.0,0.0,0.0],[0.05,0.81,0.14,0.0,0.0,0.0,0.0,0.0,0.0,0.0,0.0,0.0,0.0,0.0,0.0,0.0,0.0,0.0,0.0],[0.04,0.01,0.95,0.0,0.0,0.0,0.0,0.0,0.0,0.0,0.0,0.0,0.0,0.0,0.0,0.0,0.0,0.0,0.0],[0.01,0.0,0.01,0.98,0.0,0.0,0.0,0.0,0.0,0.0,0.0,0.0,0.0,0.0,0.0,0.0,0.0,0.0,0.0],[0.0,0.0,0.0,0.0,0.99,0.0,0.0,0.0,0.0,0.0,0.0,0.0,0.0,0.0,0.0,0.0,0.0,0.0,0.0],[0.0,0.0,0.0,0.0,0.0,0.99,0.0,0.0,0.0,0.0,0.0,0.0,0.0,0.0,0.0,0.0,0.0,0.0,0.0],[0.0,0.0,0.0,0.0,0.0,0.0,0.99,0.01,0.0,0.0,0.0,0.0,0.0,0.0,0.0,0.0,0.0,0.0,0.0],[0.0,0.0,0.0,0.0,0.0,0.0,0.01,0.99,0.0,0.0,0.0,0.0,0.0,0.0,0.0,0.0,0.0,0.0,0.0],[0.0,0.0,0.0,0.0,0.0,0.03,0.0,0.0,0.96,0.0,0.0,0.0,0.0,0.0,0.0,0.0,0.0,0.0,0.0],[0.0,0.0,0.07,0.0,0.01,0.03,0.0,0.0,0.0,0.85,0.0,0.0,0.03,0.0,0.0,0.0,0.0,0.0,0.0],[0.0,0.0,0.0,0.0,0.0,0.04,0.0,0.0,0.01,0.0,0.93,0.0,0.0,0.0,0.0,0.0,0.0,0.0,0.0],[0.04,0.0,0.02,0.0,0.0,0.01,0.02,0.01,0.0,0.0,0.0,0.9,0.0,0.0,0.0,0.0,0.0,0.0,0.0],[0.03,0.0,0.7,0.02,0.0,0.0,0.0,0.0,0.0,0.02,0.0,0.0,0.22,0.0,0.0,0.0,0.0,0.0,0.0],[0.64,0.01,0.18,0.0,0.0,0.0,0.0,0.0,0.0,0.0,0.0,0.0,0.0,0.17,0.0,0.0,0.0,0.0,0.0],[0.15,0.02,0.07,0.02,0.04,0.05,0.0,0.0,0.01,0.0,0.0,0.0,0.0,0.0,0.65,0.0,0.0,0.0,0.0],[0.8,0.0,0.05,0.0,0.0,0.01,0.0,0.0,0.01,0.0,0.01,0.0,0.0,0.01,0.01,0.11,0.0,0.0,0.01],[0.01,0.0,0.44,0.06,0.13,0.02,0.0,0.0,0.0,0.02,0.0,0.0,0.0,0.0,0.0,0.0,0.32,0.0,0.0],[0.0,0.0,0.0,0.0,0.02,0.44,0.0,0.0,0.0,0.04,0.03,0.0,0.0,0.0,0.0,0.0,0.0,0.47,0.0],[0.3,0.02,0.06,0.23,0.0,0.09,0.0,0.0,0.01,0.0,0.01,0.0,0.0,0.0,0.01,0.0,0.0,0.0,0.28]],\"texttemplate\":\"%{text}\",\"x\":[\"0\",\"1\",\"2\",\"3\",\"4\",\"5\",\"6\",\"7\",\"8\",\"9\",\"10\",\"11\",\"12\",\"13\",\"14\",\"15\",\"16\",\"17\",\"18\"],\"y\":[\"0\",\"1\",\"2\",\"3\",\"4\",\"5\",\"6\",\"7\",\"8\",\"9\",\"10\",\"11\",\"12\",\"13\",\"14\",\"15\",\"16\",\"17\",\"18\"],\"z\":[[0.9425463512359524,0.002227731145227775,0.05480342878681504,0.00011597732643268242,6.903412287659668e-06,9.250572465463954e-05,0.0,1.3806824575319335e-06,5.522729830127734e-06,0.0,0.0,4.832388601361767e-06,6.213071058893701e-06,0.0001408296106682572,4.418183864102187e-05,3.451706143829834e-06,0.0,0.0,6.903412287659667e-07],[0.04747693046550719,0.8076509668050267,0.14477490766468845,5.717356751626588e-05,0.0,0.0,0.0,0.0,0.0,0.0,5.717356751626588e-06,1.1434713503253177e-05,0.0,0.0,2.2869427006506354e-05,0.0,0.0,0.0,0.0],[0.042741054640781186,0.006857263572329596,0.9488317834540474,0.0006183314957873538,0.0003210837018941134,0.00012385324745551682,5.608448941381894e-06,2.336853725575789e-06,4.673707451151578e-06,0.0002869656375007069,2.804224470690947e-06,2.804224470690947e-06,0.00016311239004519008,1.8694829804606313e-06,6.075819686497052e-06,0.0,3.0379098432485258e-05,0.0,0.0],[0.0054755921102733985,0.00019800472165105475,0.011309115832762166,0.9799862919808088,0.0012184905947757215,0.000731094356865433,7.6155662173482594e-06,0.0,1.5231132434696519e-05,0.00038839387708476127,1.5231132434696519e-05,2.284669865204478e-05,0.00025892925138984083,0.0,8.377122839083086e-05,0.0,0.00022085142030309952,0.0,6.854009595613433e-05],[8.709835780005384e-05,0.0,0.003689803157711372,0.0013460655296371957,0.9900470331132121,0.003016770392892774,2.3754097581832866e-05,1.5836065054555244e-05,3.167213010911049e-05,0.0009105737406369265,7.918032527277622e-06,3.167213010911049e-05,0.0,0.0,0.00026921310592743916,0.0,0.0005225901468003231,0.0,0.0],[0.003613704524018948,5.298686985365027e-05,0.003931625743140849,0.00040270021088774203,0.0006994266820681835,0.9852590528067144,0.0,1.0597373970730053e-05,0.0007948030478047539,0.0038680414993164693,0.00022254485338533113,0.0002437396013267912,0.0,0.0,0.0006888293080974534,0.0,6.358424382438032e-05,0.00012716848764876063,2.1194747941460106e-05],[0.0,0.0,0.00022973981965424158,0.0,2.8717477456780197e-05,2.8717477456780197e-05,0.9899776003675838,0.00878754810177474,2.8717477456780197e-05,0.0,2.8717477456780197e-05,0.0008902418011601861,0.0,0.0,0.0,0.0,0.0,0.0,0.0],[0.00014414933871490865,0.0,3.603733467872716e-05,0.0,0.0,0.0,0.01102742441169051,0.9857652528019027,0.0013694187177916322,3.603733467872716e-05,7.207466935745433e-05,0.001333381383112905,0.00021622400807236298,0.0,0.0,0.0,0.0,0.0,0.0],[0.0025489115458804078,0.0,0.0016533480297602646,0.0006888950124001103,0.0002755580049600441,0.027349131992284375,0.00020666850372003307,0.004477817580600716,0.9583907412510333,0.00020666850372003307,0.002342243042160375,0.00013777900248002206,0.00041333700744006614,0.0,0.0013089005235602095,0.0,0.0,0.0,0.0],[0.0026927219572241883,0.0001923372826588706,0.06781812586551778,0.0015386982612709647,0.013617479612248039,0.029427604246807203,7.693491306354824e-05,7.693491306354824e-05,3.846745653177412e-05,0.8506308662871211,0.0004231420218495153,3.846745653177412e-05,0.03169718418218188,0.0006154793045083859,0.0006154793045083859,0.0,0.0003846745653177412,0.00011540236959532236,0.0],[0.004099480732440558,0.0,0.00286963651270839,0.0012298442197321673,0.0008198961464881115,0.03812517081169718,0.0008198961464881115,0.0009565455042361301,0.008882208253621208,0.0019130910084722602,0.9349549057119432,0.00040994807324405577,0.0010931948619841486,0.002323039081716316,0.0009565455042361301,0.0,0.00027329871549603714,0.00013664935774801857,0.00013664935774801857],[0.04416666666666667,0.0,0.015833333333333335,0.0004166666666666667,0.0016666666666666668,0.007916666666666667,0.0175,0.010833333333333334,0.0020833333333333333,0.0,0.00125,0.8954166666666666,0.0,0.0004166666666666667,0.0025,0.0,0.0,0.0,0.0],[0.03369473479192365,0.0,0.6995065896253977,0.02307991949620204,0.003992728689216386,0.00016230604427708889,0.00022722846198792442,0.0006167629682529378,0.00048691813283126663,0.01623060442770889,6.492241771083555e-05,0.0,0.22193728494449133,0.0,0.0,0.0,0.0,0.0,0.0],[0.6371789025687794,0.005775953792369661,0.1828545371637027,0.00045599635202918376,0.0,0.0015199878400972793,0.0,0.0,0.0001519987840097279,0.0006079951360389116,0.0031919744642042863,0.0,0.0,0.167046663626691,0.0010639914880680955,0.0,0.0,0.0,0.0001519987840097279],[0.1497709049255441,0.015463917525773196,0.06729667812142039,0.023195876288659795,0.036368843069874,0.04896907216494845,0.0,0.0,0.0057273768613974796,0.002290950744558992,0.001145475372279496,0.000859106529209622,0.0,0.0,0.6474799541809851,0.000572737686139748,0.000859106529209622,0.0,0.0],[0.7985611510791367,0.0,0.050359712230215826,0.0,0.0,0.007194244604316547,0.0,0.0,0.007194244604316547,0.0,0.007194244604316547,0.0,0.0,0.007194244604316547,0.007194244604316547,0.1079136690647482,0.0,0.0,0.007194244604316547],[0.00891508008461771,0.001964339679661529,0.44091870655787246,0.06210335448776065,0.128739800543971,0.01707464490782714,0.0006044122091266244,0.0006044122091266244,0.0009066183136899365,0.01783016016923542,0.00045330915684496827,0.00045330915684496827,0.0,0.0,0.0013599274705349048,0.0,0.3179208220006044,0.0001511030522816561,0.0],[0.0,0.0,0.0028694404591104736,0.0,0.015781922525107604,0.43615494978479197,0.0,0.0,0.0028694404591104736,0.035868005738880916,0.03443328550932568,0.0014347202295552368,0.0,0.0,0.0028694404591104736,0.0,0.0,0.46771879483500717,0.0],[0.30416068866571017,0.02295552367288379,0.05738880918220947,0.22525107604017217,0.0,0.08608321377331421,0.0,0.0,0.005738880918220947,0.0014347202295552368,0.007173601147776184,0.0014347202295552368,0.0,0.0,0.00860832137733142,0.0,0.0,0.0,0.2797704447632712]],\"type\":\"heatmap\",\"xaxis\":\"x2\",\"yaxis\":\"y2\"}],                        {\"template\":{\"data\":{\"histogram2dcontour\":[{\"type\":\"histogram2dcontour\",\"colorbar\":{\"outlinewidth\":0,\"ticks\":\"\"},\"colorscale\":[[0.0,\"#0d0887\"],[0.1111111111111111,\"#46039f\"],[0.2222222222222222,\"#7201a8\"],[0.3333333333333333,\"#9c179e\"],[0.4444444444444444,\"#bd3786\"],[0.5555555555555556,\"#d8576b\"],[0.6666666666666666,\"#ed7953\"],[0.7777777777777778,\"#fb9f3a\"],[0.8888888888888888,\"#fdca26\"],[1.0,\"#f0f921\"]]}],\"choropleth\":[{\"type\":\"choropleth\",\"colorbar\":{\"outlinewidth\":0,\"ticks\":\"\"}}],\"histogram2d\":[{\"type\":\"histogram2d\",\"colorbar\":{\"outlinewidth\":0,\"ticks\":\"\"},\"colorscale\":[[0.0,\"#0d0887\"],[0.1111111111111111,\"#46039f\"],[0.2222222222222222,\"#7201a8\"],[0.3333333333333333,\"#9c179e\"],[0.4444444444444444,\"#bd3786\"],[0.5555555555555556,\"#d8576b\"],[0.6666666666666666,\"#ed7953\"],[0.7777777777777778,\"#fb9f3a\"],[0.8888888888888888,\"#fdca26\"],[1.0,\"#f0f921\"]]}],\"heatmap\":[{\"type\":\"heatmap\",\"colorbar\":{\"outlinewidth\":0,\"ticks\":\"\"},\"colorscale\":[[0.0,\"#0d0887\"],[0.1111111111111111,\"#46039f\"],[0.2222222222222222,\"#7201a8\"],[0.3333333333333333,\"#9c179e\"],[0.4444444444444444,\"#bd3786\"],[0.5555555555555556,\"#d8576b\"],[0.6666666666666666,\"#ed7953\"],[0.7777777777777778,\"#fb9f3a\"],[0.8888888888888888,\"#fdca26\"],[1.0,\"#f0f921\"]]}],\"heatmapgl\":[{\"type\":\"heatmapgl\",\"colorbar\":{\"outlinewidth\":0,\"ticks\":\"\"},\"colorscale\":[[0.0,\"#0d0887\"],[0.1111111111111111,\"#46039f\"],[0.2222222222222222,\"#7201a8\"],[0.3333333333333333,\"#9c179e\"],[0.4444444444444444,\"#bd3786\"],[0.5555555555555556,\"#d8576b\"],[0.6666666666666666,\"#ed7953\"],[0.7777777777777778,\"#fb9f3a\"],[0.8888888888888888,\"#fdca26\"],[1.0,\"#f0f921\"]]}],\"contourcarpet\":[{\"type\":\"contourcarpet\",\"colorbar\":{\"outlinewidth\":0,\"ticks\":\"\"}}],\"contour\":[{\"type\":\"contour\",\"colorbar\":{\"outlinewidth\":0,\"ticks\":\"\"},\"colorscale\":[[0.0,\"#0d0887\"],[0.1111111111111111,\"#46039f\"],[0.2222222222222222,\"#7201a8\"],[0.3333333333333333,\"#9c179e\"],[0.4444444444444444,\"#bd3786\"],[0.5555555555555556,\"#d8576b\"],[0.6666666666666666,\"#ed7953\"],[0.7777777777777778,\"#fb9f3a\"],[0.8888888888888888,\"#fdca26\"],[1.0,\"#f0f921\"]]}],\"surface\":[{\"type\":\"surface\",\"colorbar\":{\"outlinewidth\":0,\"ticks\":\"\"},\"colorscale\":[[0.0,\"#0d0887\"],[0.1111111111111111,\"#46039f\"],[0.2222222222222222,\"#7201a8\"],[0.3333333333333333,\"#9c179e\"],[0.4444444444444444,\"#bd3786\"],[0.5555555555555556,\"#d8576b\"],[0.6666666666666666,\"#ed7953\"],[0.7777777777777778,\"#fb9f3a\"],[0.8888888888888888,\"#fdca26\"],[1.0,\"#f0f921\"]]}],\"mesh3d\":[{\"type\":\"mesh3d\",\"colorbar\":{\"outlinewidth\":0,\"ticks\":\"\"}}],\"scatter\":[{\"fillpattern\":{\"fillmode\":\"overlay\",\"size\":10,\"solidity\":0.2},\"type\":\"scatter\"}],\"parcoords\":[{\"type\":\"parcoords\",\"line\":{\"colorbar\":{\"outlinewidth\":0,\"ticks\":\"\"}}}],\"scatterpolargl\":[{\"type\":\"scatterpolargl\",\"marker\":{\"colorbar\":{\"outlinewidth\":0,\"ticks\":\"\"}}}],\"bar\":[{\"error_x\":{\"color\":\"#2a3f5f\"},\"error_y\":{\"color\":\"#2a3f5f\"},\"marker\":{\"line\":{\"color\":\"#E5ECF6\",\"width\":0.5},\"pattern\":{\"fillmode\":\"overlay\",\"size\":10,\"solidity\":0.2}},\"type\":\"bar\"}],\"scattergeo\":[{\"type\":\"scattergeo\",\"marker\":{\"colorbar\":{\"outlinewidth\":0,\"ticks\":\"\"}}}],\"scatterpolar\":[{\"type\":\"scatterpolar\",\"marker\":{\"colorbar\":{\"outlinewidth\":0,\"ticks\":\"\"}}}],\"histogram\":[{\"marker\":{\"pattern\":{\"fillmode\":\"overlay\",\"size\":10,\"solidity\":0.2}},\"type\":\"histogram\"}],\"scattergl\":[{\"type\":\"scattergl\",\"marker\":{\"colorbar\":{\"outlinewidth\":0,\"ticks\":\"\"}}}],\"scatter3d\":[{\"type\":\"scatter3d\",\"line\":{\"colorbar\":{\"outlinewidth\":0,\"ticks\":\"\"}},\"marker\":{\"colorbar\":{\"outlinewidth\":0,\"ticks\":\"\"}}}],\"scattermapbox\":[{\"type\":\"scattermapbox\",\"marker\":{\"colorbar\":{\"outlinewidth\":0,\"ticks\":\"\"}}}],\"scatterternary\":[{\"type\":\"scatterternary\",\"marker\":{\"colorbar\":{\"outlinewidth\":0,\"ticks\":\"\"}}}],\"scattercarpet\":[{\"type\":\"scattercarpet\",\"marker\":{\"colorbar\":{\"outlinewidth\":0,\"ticks\":\"\"}}}],\"carpet\":[{\"aaxis\":{\"endlinecolor\":\"#2a3f5f\",\"gridcolor\":\"white\",\"linecolor\":\"white\",\"minorgridcolor\":\"white\",\"startlinecolor\":\"#2a3f5f\"},\"baxis\":{\"endlinecolor\":\"#2a3f5f\",\"gridcolor\":\"white\",\"linecolor\":\"white\",\"minorgridcolor\":\"white\",\"startlinecolor\":\"#2a3f5f\"},\"type\":\"carpet\"}],\"table\":[{\"cells\":{\"fill\":{\"color\":\"#EBF0F8\"},\"line\":{\"color\":\"white\"}},\"header\":{\"fill\":{\"color\":\"#C8D4E3\"},\"line\":{\"color\":\"white\"}},\"type\":\"table\"}],\"barpolar\":[{\"marker\":{\"line\":{\"color\":\"#E5ECF6\",\"width\":0.5},\"pattern\":{\"fillmode\":\"overlay\",\"size\":10,\"solidity\":0.2}},\"type\":\"barpolar\"}],\"pie\":[{\"automargin\":true,\"type\":\"pie\"}]},\"layout\":{\"autotypenumbers\":\"strict\",\"colorway\":[\"#636efa\",\"#EF553B\",\"#00cc96\",\"#ab63fa\",\"#FFA15A\",\"#19d3f3\",\"#FF6692\",\"#B6E880\",\"#FF97FF\",\"#FECB52\"],\"font\":{\"color\":\"#2a3f5f\"},\"hovermode\":\"closest\",\"hoverlabel\":{\"align\":\"left\"},\"paper_bgcolor\":\"white\",\"plot_bgcolor\":\"#E5ECF6\",\"polar\":{\"bgcolor\":\"#E5ECF6\",\"angularaxis\":{\"gridcolor\":\"white\",\"linecolor\":\"white\",\"ticks\":\"\"},\"radialaxis\":{\"gridcolor\":\"white\",\"linecolor\":\"white\",\"ticks\":\"\"}},\"ternary\":{\"bgcolor\":\"#E5ECF6\",\"aaxis\":{\"gridcolor\":\"white\",\"linecolor\":\"white\",\"ticks\":\"\"},\"baxis\":{\"gridcolor\":\"white\",\"linecolor\":\"white\",\"ticks\":\"\"},\"caxis\":{\"gridcolor\":\"white\",\"linecolor\":\"white\",\"ticks\":\"\"}},\"coloraxis\":{\"colorbar\":{\"outlinewidth\":0,\"ticks\":\"\"}},\"colorscale\":{\"sequential\":[[0.0,\"#0d0887\"],[0.1111111111111111,\"#46039f\"],[0.2222222222222222,\"#7201a8\"],[0.3333333333333333,\"#9c179e\"],[0.4444444444444444,\"#bd3786\"],[0.5555555555555556,\"#d8576b\"],[0.6666666666666666,\"#ed7953\"],[0.7777777777777778,\"#fb9f3a\"],[0.8888888888888888,\"#fdca26\"],[1.0,\"#f0f921\"]],\"sequentialminus\":[[0.0,\"#0d0887\"],[0.1111111111111111,\"#46039f\"],[0.2222222222222222,\"#7201a8\"],[0.3333333333333333,\"#9c179e\"],[0.4444444444444444,\"#bd3786\"],[0.5555555555555556,\"#d8576b\"],[0.6666666666666666,\"#ed7953\"],[0.7777777777777778,\"#fb9f3a\"],[0.8888888888888888,\"#fdca26\"],[1.0,\"#f0f921\"]],\"diverging\":[[0,\"#8e0152\"],[0.1,\"#c51b7d\"],[0.2,\"#de77ae\"],[0.3,\"#f1b6da\"],[0.4,\"#fde0ef\"],[0.5,\"#f7f7f7\"],[0.6,\"#e6f5d0\"],[0.7,\"#b8e186\"],[0.8,\"#7fbc41\"],[0.9,\"#4d9221\"],[1,\"#276419\"]]},\"xaxis\":{\"gridcolor\":\"white\",\"linecolor\":\"white\",\"ticks\":\"\",\"title\":{\"standoff\":15},\"zerolinecolor\":\"white\",\"automargin\":true,\"zerolinewidth\":2},\"yaxis\":{\"gridcolor\":\"white\",\"linecolor\":\"white\",\"ticks\":\"\",\"title\":{\"standoff\":15},\"zerolinecolor\":\"white\",\"automargin\":true,\"zerolinewidth\":2},\"scene\":{\"xaxis\":{\"backgroundcolor\":\"#E5ECF6\",\"gridcolor\":\"white\",\"linecolor\":\"white\",\"showbackground\":true,\"ticks\":\"\",\"zerolinecolor\":\"white\",\"gridwidth\":2},\"yaxis\":{\"backgroundcolor\":\"#E5ECF6\",\"gridcolor\":\"white\",\"linecolor\":\"white\",\"showbackground\":true,\"ticks\":\"\",\"zerolinecolor\":\"white\",\"gridwidth\":2},\"zaxis\":{\"backgroundcolor\":\"#E5ECF6\",\"gridcolor\":\"white\",\"linecolor\":\"white\",\"showbackground\":true,\"ticks\":\"\",\"zerolinecolor\":\"white\",\"gridwidth\":2}},\"shapedefaults\":{\"line\":{\"color\":\"#2a3f5f\"}},\"annotationdefaults\":{\"arrowcolor\":\"#2a3f5f\",\"arrowhead\":0,\"arrowwidth\":1},\"geo\":{\"bgcolor\":\"white\",\"landcolor\":\"#E5ECF6\",\"subunitcolor\":\"white\",\"showland\":true,\"showlakes\":true,\"lakecolor\":\"white\"},\"title\":{\"x\":0.05},\"mapbox\":{\"style\":\"light\"}}},\"xaxis\":{\"anchor\":\"y\",\"domain\":[0.0,0.425],\"title\":{\"text\":\"Predicted Class\"}},\"yaxis\":{\"anchor\":\"x\",\"domain\":[0.0,1.0],\"title\":{\"text\":\"Actual Class\"}},\"xaxis2\":{\"anchor\":\"y2\",\"domain\":[0.575,1.0],\"title\":{\"text\":\"Predicted Class\"}},\"yaxis2\":{\"anchor\":\"x2\",\"domain\":[0.0,1.0],\"title\":{\"text\":\"Actual Class\"}},\"annotations\":[{\"font\":{\"size\":16},\"showarrow\":false,\"text\":\"Original Confusion Matrix\",\"x\":0.2125,\"xanchor\":\"center\",\"xref\":\"paper\",\"y\":1.0,\"yanchor\":\"bottom\",\"yref\":\"paper\"},{\"font\":{\"size\":16},\"showarrow\":false,\"text\":\"Normalized Confusion Matrix\",\"x\":0.7875,\"xanchor\":\"center\",\"xref\":\"paper\",\"y\":1.0,\"yanchor\":\"bottom\",\"yref\":\"paper\"}],\"title\":{\"text\":\"Confusion for the annotated model\"}},                        {\"responsive\": true}                    ).then(function(){\n",
       "                            \n",
       "var gd = document.getElementById('e8736380-d93b-4402-aaa1-4ede986b62e0');\n",
       "var x = new MutationObserver(function (mutations, observer) {{\n",
       "        var display = window.getComputedStyle(gd).display;\n",
       "        if (!display || display === 'none') {{\n",
       "            console.log([gd, 'removed!']);\n",
       "            Plotly.purge(gd);\n",
       "            observer.disconnect();\n",
       "        }}\n",
       "}});\n",
       "\n",
       "// Listen for the removal of the full notebook cells\n",
       "var notebookContainer = gd.closest('#notebook-container');\n",
       "if (notebookContainer) {{\n",
       "    x.observe(notebookContainer, {childList: true});\n",
       "}}\n",
       "\n",
       "// Listen for the clearing of the current output cell\n",
       "var outputEl = gd.closest('.output');\n",
       "if (outputEl) {{\n",
       "    x.observe(outputEl, {childList: true});\n",
       "}}\n",
       "\n",
       "                        })                };                });            </script>        </div>"
      ]
     },
     "metadata": {},
     "output_type": "display_data"
    }
   ],
   "source": [
    "import plotly.graph_objects as go\n",
    "from plotly.subplots import make_subplots\n",
    "import numpy as np\n",
    "from sklearn.metrics import confusion_matrix\n",
    "\n",
    "\n",
    "cm = confusion_matrix(y_test, y_pred)\n",
    "\n",
    "cm_normalized = cm.astype('float') / cm.sum(axis=1)[:, np.newaxis]\n",
    "\n",
    "fig = make_subplots(\n",
    "    rows=1, cols=2,\n",
    "    subplot_titles=(\"Original Confusion Matrix\", \"Normalized Confusion Matrix\"),\n",
    "    horizontal_spacing=0.15  \n",
    ")\n",
    "\n",
    "fig.add_trace(\n",
    "    go.Heatmap(\n",
    "        z=cm,\n",
    "        x=class_labels,\n",
    "        y=class_labels,\n",
    "        colorscale='Greens',\n",
    "        text=cm,\n",
    "        texttemplate=\"%{text}\",\n",
    "        showscale=True\n",
    "    ),\n",
    "    row=1, col=1\n",
    ")\n",
    "\n",
    "fig.add_trace(\n",
    "    go.Heatmap(\n",
    "        z=cm_normalized,\n",
    "        x=class_labels,\n",
    "        y=class_labels,\n",
    "        colorscale='Greens',\n",
    "        text=np.round(cm_normalized, 2),\n",
    "        texttemplate=\"%{text}\",\n",
    "        showscale=True\n",
    "    ),\n",
    "    row=1, col=2\n",
    ")\n",
    "\n",
    "fig.update_layout(\n",
    "    title_text=\"Confusion for the annotated model\",\n",
    "    xaxis_title=\"Predicted Class\",\n",
    "    yaxis_title=\"Actual Class\",\n",
    "    xaxis2_title=\"Predicted Class\",\n",
    "    yaxis2_title=\"Actual Class\"\n",
    ")\n",
    "\n",
    "fig.show()\n"
   ]
  },
  {
   "cell_type": "markdown",
   "metadata": {},
   "source": [
    "# Bruker trent modell til å predikere celle typene i pool2 "
   ]
  },
  {
   "cell_type": "code",
   "execution_count": 52,
   "metadata": {},
   "outputs": [],
   "source": [
    "data_pool_2 = pd.read_pickle('../cytofdata/uncorrected_batch_5_6.pkl')"
   ]
  },
  {
   "cell_type": "code",
   "execution_count": 53,
   "metadata": {},
   "outputs": [],
   "source": [
    "data_pool_2 = data_pool_2[~data_pool_2['file_id'].isin(['RT', 'RJ'])]"
   ]
  },
  {
   "cell_type": "code",
   "execution_count": 54,
   "metadata": {},
   "outputs": [],
   "source": [
    "X_pool_2 = data_pool_2[external]\n",
    "y_pool_2 = model_1.predict(X_pool_2)\n",
    "\n",
    "data_pool_2['cluster'] = y_pool_2"
   ]
  },
  {
   "cell_type": "code",
   "execution_count": 55,
   "metadata": {},
   "outputs": [
    {
     "data": {
      "text/plain": [
       "cluster\n",
       "0     3650076\n",
       "2     1930661\n",
       "5      470793\n",
       "1      413947\n",
       "3      247067\n",
       "4      192916\n",
       "6      155911\n",
       "7      116862\n",
       "8       51528\n",
       "11      41629\n",
       "10      29291\n",
       "14      16073\n",
       "15      12301\n",
       "9       11100\n",
       "16       8641\n",
       "12       8517\n",
       "13       2874\n",
       "17       2101\n",
       "18       1662\n",
       "Name: count, dtype: int64"
      ]
     },
     "execution_count": 55,
     "metadata": {},
     "output_type": "execute_result"
    }
   ],
   "source": [
    "data_pool_2['cluster'].value_counts()"
   ]
  },
  {
   "cell_type": "code",
   "execution_count": 56,
   "metadata": {},
   "outputs": [],
   "source": [
    "data_pool_2.to_pickle('../cytofdata/data_clusters_batch5_6_annotated_mode.pkl')"
   ]
  },
  {
   "cell_type": "code",
   "execution_count": null,
   "metadata": {},
   "outputs": [],
   "source": []
  }
 ],
 "metadata": {
  "kernelspec": {
   "display_name": "master",
   "language": "python",
   "name": "python3"
  },
  "language_info": {
   "codemirror_mode": {
    "name": "ipython",
    "version": 3
   },
   "file_extension": ".py",
   "mimetype": "text/x-python",
   "name": "python",
   "nbconvert_exporter": "python",
   "pygments_lexer": "ipython3",
   "version": "3.10.13"
  }
 },
 "nbformat": 4,
 "nbformat_minor": 2
}
