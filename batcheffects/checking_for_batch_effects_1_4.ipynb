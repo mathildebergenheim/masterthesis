{
 "cells": [
  {
   "cell_type": "code",
   "execution_count": null,
   "metadata": {},
   "outputs": [],
   "source": [
    "import pandas as pd \n",
    "\n",
    "import os \n",
    "\n",
    "from parc import PARC"
   ]
  },
  {
   "cell_type": "code",
   "execution_count": null,
   "metadata": {},
   "outputs": [],
   "source": [
    "\n",
    "columnvalues_to_keep = ['89Y_CD45', \n",
    "                #'102Pd_BC1', \n",
    "                #'103Rh', \n",
    "                #'104Pd_BC2', \n",
    "                #'105Pd_BC3',\n",
    "                # '106Pd_BC4', \n",
    "                # '108Pd_BC5', \n",
    "                # '110Pd_BC6', \n",
    "                '111Cd_CD3', \n",
    "                '112Cd_CD34',\n",
    "                '113Cd_CD123', \n",
    "                '114Cd_CD66b', \n",
    "                #'115In', \n",
    "                '116Cd_HLA-DR', \n",
    "                # '120Sn', \n",
    "                # '127I',\n",
    "                # '131Xe', \n",
    "                # '133Cs', \n",
    "                # '136Ba', \n",
    "                # '137Ba', \n",
    "                # '138Ba', \n",
    "                # '139La', \n",
    "                # '140Ce',\n",
    "                '141Pr_CD38', \n",
    "                '142Nd_cCaspase3', \n",
    "                '143Nd_pCRKL Y207', \n",
    "                '144Nd_pTyr',\n",
    "                '145Nd_CD4', \n",
    "                '146Nd_CD49d', \n",
    "                '147Sm_CD20', \n",
    "                '148Nd_CD16', \n",
    "                '149Sm_CD25',\n",
    "                '150Nd_pSTAT5 Y694', \n",
    "                '151Eu_pSTAT3 S727', \n",
    "                '152Sm_CD13',\n",
    "                '153Eu_pSTAT1 Y701', \n",
    "                '154Sm_CD45RA', \n",
    "                '155Gd_CD27',\n",
    "                '156Gd_pp38 T180Y182', \n",
    "                '157Gd_CD8a', \n",
    "                '158Gd_pSTAT3 Y705',\n",
    "                '159Tb_pMAPKAPK T334', \n",
    "                '160Gd_CD14', \n",
    "                '161Dy_CD26', \n",
    "                '162Dy_FoxP3',\n",
    "                '163Dy_CD56', \n",
    "                '164Dy_CD15', \n",
    "                '165Ho_pCREB S133', \n",
    "                '166Er_MPO',\n",
    "                '167Er_IL1-RAP', \n",
    "                '168Er_CD117', \n",
    "                '169Tm_CD33', \n",
    "                '170Er_pSRC Y418',\n",
    "                '171Yb_pERK T202Y204', \n",
    "                '172Yb_pS6 S235S236', \n",
    "                '173Yb_STAT3tot',\n",
    "                '174Yb_CD11c', \n",
    "                '175Lu_CXCR4', \n",
    "                '176Yb_pS6 S240244', \n",
    "                #'191Ir_DNA1',\n",
    "                #'193Ir_DNA2', \n",
    "                #'194Pt_mBC1', \n",
    "                '195Pt_mBC2', \n",
    "                #'196Pt_mBC3', \n",
    "                #'198Pt_mBC4',\n",
    "                #'208Pb', \n",
    "                '209Bi_CD11b']    \n",
    "        \n",
    "\n",
    "external = ['89Y_CD45', \n",
    "                '111Cd_CD3', \n",
    "                '112Cd_CD34',\n",
    "                '113Cd_CD123', \n",
    "                '114Cd_CD66b', \n",
    "                '116Cd_HLA-DR', \n",
    "                '141Pr_CD38', \n",
    "                '145Nd_CD4', \n",
    "                '146Nd_CD49d', \n",
    "                '147Sm_CD20', \n",
    "                '148Nd_CD16', \n",
    "                '149Sm_CD25',\n",
    "                '152Sm_CD13',\n",
    "                '154Sm_CD45RA', \n",
    "                '155Gd_CD27', \n",
    "                '157Gd_CD8a', \n",
    "                '160Gd_CD14', \n",
    "                '161Dy_CD26', \n",
    "                '162Dy_FoxP3',\n",
    "                '163Dy_CD56', \n",
    "                '164Dy_CD15', \n",
    "                '166Er_MPO',\n",
    "                '167Er_IL1-RAP', \n",
    "                '168Er_CD117', \n",
    "                '169Tm_CD33',  \n",
    "                '174Yb_CD11c', \n",
    "                '175Lu_CXCR4',\n",
    "                '195Pt_mBC2',\n",
    "                '209Bi_CD11b']"
   ]
  },
  {
   "cell_type": "markdown",
   "metadata": {},
   "source": [
    "### Foreslått test av SEG\n",
    "\n",
    "Les inn alle 12 filene og kjør clustering på interne og eksterne kanaler. (det er litt uortodoks, hva mener du? SEG VIL KLUSTRE MED DE INTRACELLULÆRE OGS, FORDI VI SKAL MÅLE CV I ALLE CLUSTRENE OG VI HAR IKKE MED DE INTRACELLULÆRE, SÅ HAR VI INGEN BATCHEFFEKT PÅ VÅR ANALYSE)\n",
    "\n",
    "La oss si dette genererer 30 clusters."
   ]
  },
  {
   "cell_type": "code",
   "execution_count": null,
   "metadata": {},
   "outputs": [],
   "source": [
    "data_batch_1_4 = pd.read_pickle('../cytofdata/uncorrected_batch_1_4.pkl')\n",
    "\n",
    "df_rt_rj = data_batch_1_4[data_batch_1_4['file_id'].isin(['RT', 'RJ'])]"
   ]
  },
  {
   "cell_type": "code",
   "execution_count": null,
   "metadata": {},
   "outputs": [],
   "source": [
    "df_rt_rj"
   ]
  },
  {
   "cell_type": "code",
   "execution_count": null,
   "metadata": {},
   "outputs": [],
   "source": [
    "clustered_data_file = 'clusters/rjrt_uncorr_1_4.pkl'\n",
    "\n",
    "if os.path.exists(clustered_data_file):\n",
    "    print('Cluster found, loading from file')\n",
    "    \n",
    "    df_rt_rj = pd.read_pickle(clustered_data_file)\n",
    "    \n",
    "else:\n",
    "    print('No saved cluster found, running PARC')\n",
    "\n",
    "    data_for_clustering = df_rt_rj[columnvalues_to_keep]\n",
    "\n",
    "    parc = PARC(data_for_clustering.values, \n",
    "                resolution_parameter=0.5,\n",
    "                knn = 30, \n",
    "                small_pop = 100,\n",
    "                hnsw_param_ef_construction = 2000)\n",
    "\n",
    "    parc.run_PARC()\n",
    "\n",
    "    clusters = parc.labels\n",
    "    df_rt_rj['cluster'] = clusters  \n",
    "\n",
    "    df_rt_rj.to_pickle(clustered_data_file)"
   ]
  },
  {
   "cell_type": "code",
   "execution_count": null,
   "metadata": {},
   "outputs": [],
   "source": [
    "\n",
    "df_rt_rj"
   ]
  },
  {
   "cell_type": "markdown",
   "metadata": {},
   "source": [
    "### Deviding the dataframe into RJ-files and RT-files"
   ]
  },
  {
   "cell_type": "code",
   "execution_count": null,
   "metadata": {},
   "outputs": [],
   "source": [
    "df_rj = df_rt_rj[df_rt_rj['file_id'] == 'RJ'].drop('file_id', axis=1)\n",
    "df_rt = df_rt_rj[df_rt_rj['file_id'] == 'RT'].drop('file_id', axis=1)"
   ]
  },
  {
   "cell_type": "markdown",
   "metadata": {},
   "source": [
    "## Calculating the CV of the percentege of each cluster in the RJ-files"
   ]
  },
  {
   "cell_type": "code",
   "execution_count": null,
   "metadata": {},
   "outputs": [],
   "source": [
    "df_rj_counts = df_rj.groupby(['batch', 'cluster']).size().reset_index(name='counts')\n",
    "\n",
    "total_counts_rj = df_rj.groupby('batch').size().reset_index(name='total_counts')\n",
    "\n",
    "merged_counts_rj = df_rj_counts.merge(total_counts_rj, on='batch')\n",
    "\n",
    "merged_counts_rj['percentage'] = merged_counts_rj['counts'] / merged_counts_rj['total_counts'] * 100\n",
    "\n",
    "pivot_data_rj = merged_counts_rj.pivot(index='cluster', columns='batch', values='percentage')\n",
    "pivot_data_rj = pivot_data_rj.fillna(0)\n",
    "\n",
    "pivot_data_rj"
   ]
  },
  {
   "cell_type": "code",
   "execution_count": null,
   "metadata": {},
   "outputs": [],
   "source": [
    "cv_clusters_rj = pd.DataFrame()\n",
    "\n",
    "cv_clusters_rj['mean'] = pivot_data_rj.mean(axis=1)\n",
    "cv_clusters_rj['std'] = pivot_data_rj.std(axis=1)\n",
    "\n",
    "cv_clusters_rj['CV'] = cv_clusters_rj['std'] / cv_clusters_rj['mean']\n",
    "\n",
    "cv_clusters_rj.describe()"
   ]
  },
  {
   "cell_type": "markdown",
   "metadata": {},
   "source": [
    "# Plotting the CV "
   ]
  },
  {
   "cell_type": "code",
   "execution_count": null,
   "metadata": {},
   "outputs": [],
   "source": [
    "import plotly.express as px\n",
    "\n",
    "fig_box_rj = px.box(cv_clusters_rj, y=\"CV\",points=\"all\")\n",
    "fig_box_rj.show()"
   ]
  },
  {
   "cell_type": "code",
   "execution_count": null,
   "metadata": {},
   "outputs": [],
   "source": [
    "total_cluster_size_rj = df_rj.groupby('cluster').size().reset_index(name='cluster_size')\n",
    "rj_box_size = total_cluster_size_rj.merge(cv_clusters_rj, on='cluster')\n",
    "rj_box_size['test'] = ['']*len(rj_box_size)"
   ]
  },
  {
   "cell_type": "code",
   "execution_count": null,
   "metadata": {},
   "outputs": [],
   "source": [
    "fig_scatter_rj = px.scatter(rj_box_size, \n",
    "                 x='test',     \n",
    "                 y='CV',         \n",
    "                 size='cluster_size', \n",
    "                 hover_name='cluster') \n",
    "\n",
    "fig_scatter_rj.update_traces(marker=dict(line=dict(width=2,\n",
    "                                        color='DarkSlateGrey')),\n",
    "                  selector=dict(mode='markers'))\n",
    "\n",
    "fig_scatter_rj.show()"
   ]
  },
  {
   "cell_type": "code",
   "execution_count": null,
   "metadata": {},
   "outputs": [],
   "source": [
    "import plotly.graph_objects as go\n",
    "\n",
    "fig_combined = go.Figure()\n",
    "\n",
    "for trace in fig_box_rj.data:\n",
    "    fig_combined.add_trace(trace)\n",
    "\n",
    "for trace in fig_scatter_rj.data:\n",
    "    fig_combined.add_trace(trace)\n",
    "\n",
    "fig_combined.update_layout(\n",
    "    title='Combined Box and Scatter Plot',\n",
    "    xaxis_title='Control Sample (RJ) in Pool 1',\n",
    "    yaxis_title='CV',\n",
    "    showlegend=False\n",
    ")\n",
    "\n",
    "\n",
    "fig_combined.show()"
   ]
  },
  {
   "cell_type": "markdown",
   "metadata": {},
   "source": [
    "# Integrating RT"
   ]
  },
  {
   "cell_type": "code",
   "execution_count": null,
   "metadata": {},
   "outputs": [],
   "source": [
    "df_rt_counts = df_rt.groupby(['batch', 'cluster']).size().reset_index(name='counts')\n",
    "\n",
    "total_counts_rt = df_rt.groupby('batch').size().reset_index(name='total_counts')\n",
    "\n",
    "merged_counts_rt = df_rt_counts.merge(total_counts_rt, on='batch')\n",
    "\n",
    "merged_counts_rt['percentage'] = merged_counts_rt['counts'] / merged_counts_rt['total_counts'] * 100\n",
    "\n",
    "pivot_data_rt = merged_counts_rt.pivot(index='cluster', columns='batch', values='percentage')\n",
    "pivot_data_rt = pivot_data_rt.fillna(0)\n",
    "\n",
    "pivot_data_rt"
   ]
  },
  {
   "cell_type": "code",
   "execution_count": null,
   "metadata": {},
   "outputs": [],
   "source": [
    "cv_clusters_rt = pd.DataFrame()\n",
    "\n",
    "cv_clusters_rt['mean'] = pivot_data_rt.mean(axis=1)\n",
    "cv_clusters_rt['std'] = pivot_data_rt.std(axis=1)\n",
    "\n",
    "cv_clusters_rt['CV'] = cv_clusters_rt['std'] / cv_clusters_rt['mean']\n",
    "\n",
    "cv_clusters_rt.describe()"
   ]
  },
  {
   "cell_type": "code",
   "execution_count": null,
   "metadata": {},
   "outputs": [],
   "source": [
    "import plotly.express as px\n",
    "\n",
    "fig_box_rt = px.box(cv_clusters_rt, y=\"CV\",points=\"all\")\n",
    "fig_box_rt.show()"
   ]
  },
  {
   "cell_type": "code",
   "execution_count": null,
   "metadata": {},
   "outputs": [],
   "source": [
    "total_cluster_size_rt = df_rt.groupby('cluster').size().reset_index(name='cluster_size')\n",
    "rt_box_size = total_cluster_size_rt.merge(cv_clusters_rt, on='cluster')\n",
    "rt_box_size['test'] = ['']*len(rt_box_size)"
   ]
  },
  {
   "cell_type": "code",
   "execution_count": null,
   "metadata": {},
   "outputs": [],
   "source": [
    "fig_scatter_rt = px.scatter(rt_box_size, \n",
    "                 x='test',     \n",
    "                 y='CV',          \n",
    "                 size='cluster_size',  \n",
    "                 hover_name='cluster')\n",
    "\n",
    "fig_scatter_rt.update_traces(marker=dict(line=dict(width=2,\n",
    "                                        color='DarkSlateGrey')),\n",
    "                  selector=dict(mode='markers'))\n",
    "\n",
    "fig_scatter_rt.show()"
   ]
  },
  {
   "cell_type": "markdown",
   "metadata": {},
   "source": [
    "# Plotting all togehter"
   ]
  },
  {
   "cell_type": "code",
   "execution_count": null,
   "metadata": {},
   "outputs": [],
   "source": [
    "import plotly.graph_objects as go\n",
    "\n",
    "\n",
    "fig_combined = go.Figure()\n",
    "\n",
    "for trace in fig_box_rj.data:\n",
    "    modified_trace = trace\n",
    "    modified_trace.x = ['RJ'] * len(trace.y) \n",
    "    fig_combined.add_trace(modified_trace)\n",
    "\n",
    "for trace in fig_box_rt.data:\n",
    "    modified_trace = trace\n",
    "    modified_trace.x = ['RT'] * len(trace.y)  \n",
    "    fig_combined.add_trace(modified_trace)\n",
    "\n",
    "fig_combined.update_layout(\n",
    "    title='Combined Box and Scatter Plot',\n",
    "    xaxis_title='Validation Sample in Pool 1',\n",
    "    yaxis_title='CV',\n",
    "    showlegend=True \n",
    ")\n",
    "\n",
    "fig_combined.show()\n"
   ]
  },
  {
   "cell_type": "code",
   "execution_count": null,
   "metadata": {},
   "outputs": [],
   "source": [
    "import plotly.graph_objects as go\n",
    "\n",
    "\n",
    "\n",
    "fig_combined = go.Figure()\n",
    "\n",
    "for trace in fig_scatter_rj.data:\n",
    "    modified_trace = trace\n",
    "    modified_trace.x = ['RJ'] * len(trace.y)  \n",
    "    fig_combined.add_trace(modified_trace)\n",
    "\n",
    "for trace in fig_scatter_rt.data:\n",
    "    modified_trace = trace\n",
    "    modified_trace.x = ['RT'] * len(trace.y) \n",
    "    fig_combined.add_trace(modified_trace)\n",
    "\n",
    "fig_combined.update_layout(\n",
    "    title='Combined scatter and Scatter Plot',\n",
    "    xaxis_title='Validation Sample in Pool 1',\n",
    "    yaxis_title='CV',\n",
    "    showlegend=True\n",
    "    )\n",
    "\n",
    "fig_combined.show()"
   ]
  },
  {
   "cell_type": "code",
   "execution_count": null,
   "metadata": {},
   "outputs": [],
   "source": [
    "import plotly.graph_objects as go\n",
    "\n",
    "\n",
    "fig_combined = go.Figure()\n",
    "\n",
    "for trace in fig_box_rj.data:\n",
    "    modified_trace = trace\n",
    "    modified_trace.x = ['RJ'] * len(trace.y)  \n",
    "    fig_combined.add_trace(modified_trace)\n",
    "\n",
    "for trace in fig_box_rt.data:\n",
    "    modified_trace = trace\n",
    "    modified_trace.x = ['RT'] * len(trace.y)  \n",
    "    modified_trace.marker.color = 'green' \n",
    "    modified_trace.line.color = 'green' \n",
    "    fig_combined.add_trace(modified_trace)\n",
    "\n",
    "for trace in fig_scatter_rj.data:\n",
    "    modified_trace = trace\n",
    "    modified_trace.x = ['RJ '] * len(trace.y)  \n",
    "    fig_combined.add_trace(modified_trace)\n",
    "\n",
    "for trace in fig_scatter_rt.data:\n",
    "    modified_trace = trace\n",
    "    modified_trace.x = ['RT '] * len(trace.y)  \n",
    "    modified_trace.marker.color = 'green'  \n",
    "    fig_combined.add_trace(modified_trace)\n",
    "\n",
    "fig_combined.update_layout(\n",
    "    title='Combined Box and Scatter Plot',\n",
    "    xaxis_title='Validation and Control Samples in Pool 1',\n",
    "    yaxis_title='Coefficient of Variation (CV)',\n",
    "    showlegend=True \n",
    ")\n",
    "\n",
    "fig_combined.show()\n"
   ]
  },
  {
   "cell_type": "code",
   "execution_count": null,
   "metadata": {},
   "outputs": [],
   "source": []
  }
 ],
 "metadata": {
  "kernelspec": {
   "display_name": "master",
   "language": "python",
   "name": "python3"
  },
  "language_info": {
   "codemirror_mode": {
    "name": "ipython",
    "version": 3
   },
   "file_extension": ".py",
   "mimetype": "text/x-python",
   "name": "python",
   "nbconvert_exporter": "python",
   "pygments_lexer": "ipython3",
   "version": "3.10.13"
  }
 },
 "nbformat": 4,
 "nbformat_minor": 2
}
